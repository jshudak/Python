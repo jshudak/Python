{
 "cells": [
  {
   "cell_type": "markdown",
   "metadata": {},
   "source": [
    "# Regression using a Neural Network (Keras)\n",
    "The data is in 'housing.csv'. <br>\n",
    "Each row in the table is a data point:  the features of an area in California <br>\n",
    "Clearly, the `median_house_value` is correlated with some other features, e.g., `median_income` and location <br>\n",
    "Thus, we can estimate `median_house_value` = regression_model(`median_income`, `longitude`, `latitude`, ...) <br>\n",
    "The taks is to build an MLP regressor to predict `median_house_value` using the other features"
   ]
  },
  {
   "cell_type": "code",
   "execution_count": 1,
   "metadata": {
    "colab": {},
    "colab_type": "code",
    "id": "7FmGucnl4Uk8"
   },
   "outputs": [],
   "source": [
    "from tensorflow.keras.models import Sequential\n",
    "from tensorflow.keras.layers import Dense\n",
    "from tensorflow.keras.optimizers import SGD, Adam\n",
    "import matplotlib.pyplot as plt\n",
    "from mpl_toolkits import mplot3d\n",
    "import numpy as np\n",
    "import pandas as pd"
   ]
  },
  {
   "cell_type": "code",
   "execution_count": 2,
   "metadata": {},
   "outputs": [
    {
     "data": {
      "text/html": [
       "<div>\n",
       "<style scoped>\n",
       "    .dataframe tbody tr th:only-of-type {\n",
       "        vertical-align: middle;\n",
       "    }\n",
       "\n",
       "    .dataframe tbody tr th {\n",
       "        vertical-align: top;\n",
       "    }\n",
       "\n",
       "    .dataframe thead th {\n",
       "        text-align: right;\n",
       "    }\n",
       "</style>\n",
       "<table border=\"1\" class=\"dataframe\">\n",
       "  <thead>\n",
       "    <tr style=\"text-align: right;\">\n",
       "      <th></th>\n",
       "      <th>longitude</th>\n",
       "      <th>latitude</th>\n",
       "      <th>housing_median_age</th>\n",
       "      <th>total_rooms</th>\n",
       "      <th>total_bedrooms</th>\n",
       "      <th>population</th>\n",
       "      <th>households</th>\n",
       "      <th>median_income</th>\n",
       "      <th>median_house_value</th>\n",
       "      <th>ocean_proximity</th>\n",
       "    </tr>\n",
       "  </thead>\n",
       "  <tbody>\n",
       "    <tr>\n",
       "      <th>0</th>\n",
       "      <td>-122.23</td>\n",
       "      <td>37.88</td>\n",
       "      <td>41.0</td>\n",
       "      <td>880.0</td>\n",
       "      <td>129.0</td>\n",
       "      <td>322.0</td>\n",
       "      <td>126.0</td>\n",
       "      <td>8.3252</td>\n",
       "      <td>452600.0</td>\n",
       "      <td>NEAR BAY</td>\n",
       "    </tr>\n",
       "    <tr>\n",
       "      <th>1</th>\n",
       "      <td>-122.22</td>\n",
       "      <td>37.86</td>\n",
       "      <td>21.0</td>\n",
       "      <td>7099.0</td>\n",
       "      <td>1106.0</td>\n",
       "      <td>2401.0</td>\n",
       "      <td>1138.0</td>\n",
       "      <td>8.3014</td>\n",
       "      <td>358500.0</td>\n",
       "      <td>NEAR BAY</td>\n",
       "    </tr>\n",
       "    <tr>\n",
       "      <th>2</th>\n",
       "      <td>-122.24</td>\n",
       "      <td>37.85</td>\n",
       "      <td>52.0</td>\n",
       "      <td>1467.0</td>\n",
       "      <td>190.0</td>\n",
       "      <td>496.0</td>\n",
       "      <td>177.0</td>\n",
       "      <td>7.2574</td>\n",
       "      <td>352100.0</td>\n",
       "      <td>NEAR BAY</td>\n",
       "    </tr>\n",
       "    <tr>\n",
       "      <th>3</th>\n",
       "      <td>-122.25</td>\n",
       "      <td>37.85</td>\n",
       "      <td>52.0</td>\n",
       "      <td>1274.0</td>\n",
       "      <td>235.0</td>\n",
       "      <td>558.0</td>\n",
       "      <td>219.0</td>\n",
       "      <td>5.6431</td>\n",
       "      <td>341300.0</td>\n",
       "      <td>NEAR BAY</td>\n",
       "    </tr>\n",
       "    <tr>\n",
       "      <th>4</th>\n",
       "      <td>-122.25</td>\n",
       "      <td>37.85</td>\n",
       "      <td>52.0</td>\n",
       "      <td>1627.0</td>\n",
       "      <td>280.0</td>\n",
       "      <td>565.0</td>\n",
       "      <td>259.0</td>\n",
       "      <td>3.8462</td>\n",
       "      <td>342200.0</td>\n",
       "      <td>NEAR BAY</td>\n",
       "    </tr>\n",
       "  </tbody>\n",
       "</table>\n",
       "</div>"
      ],
      "text/plain": [
       "   longitude  latitude  housing_median_age  total_rooms  total_bedrooms  \\\n",
       "0    -122.23     37.88                41.0        880.0           129.0   \n",
       "1    -122.22     37.86                21.0       7099.0          1106.0   \n",
       "2    -122.24     37.85                52.0       1467.0           190.0   \n",
       "3    -122.25     37.85                52.0       1274.0           235.0   \n",
       "4    -122.25     37.85                52.0       1627.0           280.0   \n",
       "\n",
       "   population  households  median_income  median_house_value ocean_proximity  \n",
       "0       322.0       126.0         8.3252            452600.0        NEAR BAY  \n",
       "1      2401.0      1138.0         8.3014            358500.0        NEAR BAY  \n",
       "2       496.0       177.0         7.2574            352100.0        NEAR BAY  \n",
       "3       558.0       219.0         5.6431            341300.0        NEAR BAY  \n",
       "4       565.0       259.0         3.8462            342200.0        NEAR BAY  "
      ]
     },
     "execution_count": 2,
     "metadata": {},
     "output_type": "execute_result"
    }
   ],
   "source": [
    "housing = pd.read_csv(\"housing.csv\")\n",
    "housing.head()"
   ]
  },
  {
   "cell_type": "code",
   "execution_count": 3,
   "metadata": {},
   "outputs": [
    {
     "data": {
      "text/plain": [
       "(20640, 10)"
      ]
     },
     "execution_count": 3,
     "metadata": {},
     "output_type": "execute_result"
    }
   ],
   "source": [
    "housing.shape"
   ]
  },
  {
   "cell_type": "markdown",
   "metadata": {},
   "source": [
    "### Data pre-processing: remove NaN"
   ]
  },
  {
   "cell_type": "code",
   "execution_count": 4,
   "metadata": {},
   "outputs": [
    {
     "data": {
      "text/plain": [
       "longitude               0\n",
       "latitude                0\n",
       "housing_median_age      0\n",
       "total_rooms             0\n",
       "total_bedrooms        207\n",
       "population              0\n",
       "households              0\n",
       "median_income           0\n",
       "median_house_value      0\n",
       "ocean_proximity         0\n",
       "dtype: int64"
      ]
     },
     "execution_count": 4,
     "metadata": {},
     "output_type": "execute_result"
    }
   ],
   "source": [
    "housing.isnull().sum()"
   ]
  },
  {
   "cell_type": "code",
   "execution_count": 5,
   "metadata": {},
   "outputs": [
    {
     "data": {
      "text/plain": [
       "longitude             0\n",
       "latitude              0\n",
       "housing_median_age    0\n",
       "total_rooms           0\n",
       "total_bedrooms        0\n",
       "population            0\n",
       "households            0\n",
       "median_income         0\n",
       "median_house_value    0\n",
       "ocean_proximity       0\n",
       "dtype: int64"
      ]
     },
     "execution_count": 5,
     "metadata": {},
     "output_type": "execute_result"
    }
   ],
   "source": [
    "# there are 207 NaN in the column 'total_bedrooms', remove them\n",
    "# check housing again using housing.isnull().sum()\n",
    "housing['total_bedrooms'].fillna((housing['total_bedrooms'].mean()), inplace=True)\n",
    "housing.isnull().sum()"
   ]
  },
  {
   "cell_type": "markdown",
   "metadata": {},
   "source": [
    "### Data pre-processing: Convert categorical data to numerical data - \"ocean_proximity\""
   ]
  },
  {
   "cell_type": "code",
   "execution_count": 6,
   "metadata": {
    "colab": {
     "base_uri": "https://localhost:8080/",
     "height": 130
    },
    "colab_type": "code",
    "id": "RXn7GRuM4vgm",
    "outputId": "ebd6f495-12a9-4b2f-8dca-ce694cc5696a",
    "scrolled": true
   },
   "outputs": [
    {
     "data": {
      "text/plain": [
       "<1H OCEAN     9136\n",
       "INLAND        6551\n",
       "NEAR OCEAN    2658\n",
       "NEAR BAY      2290\n",
       "ISLAND           5\n",
       "Name: ocean_proximity, dtype: int64"
      ]
     },
     "execution_count": 6,
     "metadata": {},
     "output_type": "execute_result"
    }
   ],
   "source": [
    "housing[\"ocean_proximity\"].value_counts()"
   ]
  },
  {
   "cell_type": "code",
   "execution_count": 7,
   "metadata": {},
   "outputs": [
    {
     "data": {
      "text/html": [
       "<div>\n",
       "<style scoped>\n",
       "    .dataframe tbody tr th:only-of-type {\n",
       "        vertical-align: middle;\n",
       "    }\n",
       "\n",
       "    .dataframe tbody tr th {\n",
       "        vertical-align: top;\n",
       "    }\n",
       "\n",
       "    .dataframe thead th {\n",
       "        text-align: right;\n",
       "    }\n",
       "</style>\n",
       "<table border=\"1\" class=\"dataframe\">\n",
       "  <thead>\n",
       "    <tr style=\"text-align: right;\">\n",
       "      <th></th>\n",
       "      <th>longitude</th>\n",
       "      <th>latitude</th>\n",
       "      <th>housing_median_age</th>\n",
       "      <th>total_rooms</th>\n",
       "      <th>total_bedrooms</th>\n",
       "      <th>population</th>\n",
       "      <th>households</th>\n",
       "      <th>median_income</th>\n",
       "      <th>median_house_value</th>\n",
       "      <th>ocean_proximity_&lt;1H OCEAN</th>\n",
       "      <th>ocean_proximity_INLAND</th>\n",
       "      <th>ocean_proximity_ISLAND</th>\n",
       "      <th>ocean_proximity_NEAR BAY</th>\n",
       "      <th>ocean_proximity_NEAR OCEAN</th>\n",
       "    </tr>\n",
       "  </thead>\n",
       "  <tbody>\n",
       "    <tr>\n",
       "      <th>0</th>\n",
       "      <td>-122.23</td>\n",
       "      <td>37.88</td>\n",
       "      <td>41.0</td>\n",
       "      <td>880.0</td>\n",
       "      <td>129.0</td>\n",
       "      <td>322.0</td>\n",
       "      <td>126.0</td>\n",
       "      <td>8.3252</td>\n",
       "      <td>452600.0</td>\n",
       "      <td>0</td>\n",
       "      <td>0</td>\n",
       "      <td>0</td>\n",
       "      <td>1</td>\n",
       "      <td>0</td>\n",
       "    </tr>\n",
       "    <tr>\n",
       "      <th>1</th>\n",
       "      <td>-122.22</td>\n",
       "      <td>37.86</td>\n",
       "      <td>21.0</td>\n",
       "      <td>7099.0</td>\n",
       "      <td>1106.0</td>\n",
       "      <td>2401.0</td>\n",
       "      <td>1138.0</td>\n",
       "      <td>8.3014</td>\n",
       "      <td>358500.0</td>\n",
       "      <td>0</td>\n",
       "      <td>0</td>\n",
       "      <td>0</td>\n",
       "      <td>1</td>\n",
       "      <td>0</td>\n",
       "    </tr>\n",
       "    <tr>\n",
       "      <th>2</th>\n",
       "      <td>-122.24</td>\n",
       "      <td>37.85</td>\n",
       "      <td>52.0</td>\n",
       "      <td>1467.0</td>\n",
       "      <td>190.0</td>\n",
       "      <td>496.0</td>\n",
       "      <td>177.0</td>\n",
       "      <td>7.2574</td>\n",
       "      <td>352100.0</td>\n",
       "      <td>0</td>\n",
       "      <td>0</td>\n",
       "      <td>0</td>\n",
       "      <td>1</td>\n",
       "      <td>0</td>\n",
       "    </tr>\n",
       "    <tr>\n",
       "      <th>3</th>\n",
       "      <td>-122.25</td>\n",
       "      <td>37.85</td>\n",
       "      <td>52.0</td>\n",
       "      <td>1274.0</td>\n",
       "      <td>235.0</td>\n",
       "      <td>558.0</td>\n",
       "      <td>219.0</td>\n",
       "      <td>5.6431</td>\n",
       "      <td>341300.0</td>\n",
       "      <td>0</td>\n",
       "      <td>0</td>\n",
       "      <td>0</td>\n",
       "      <td>1</td>\n",
       "      <td>0</td>\n",
       "    </tr>\n",
       "    <tr>\n",
       "      <th>4</th>\n",
       "      <td>-122.25</td>\n",
       "      <td>37.85</td>\n",
       "      <td>52.0</td>\n",
       "      <td>1627.0</td>\n",
       "      <td>280.0</td>\n",
       "      <td>565.0</td>\n",
       "      <td>259.0</td>\n",
       "      <td>3.8462</td>\n",
       "      <td>342200.0</td>\n",
       "      <td>0</td>\n",
       "      <td>0</td>\n",
       "      <td>0</td>\n",
       "      <td>1</td>\n",
       "      <td>0</td>\n",
       "    </tr>\n",
       "  </tbody>\n",
       "</table>\n",
       "</div>"
      ],
      "text/plain": [
       "   longitude  latitude  housing_median_age  total_rooms  total_bedrooms  \\\n",
       "0    -122.23     37.88                41.0        880.0           129.0   \n",
       "1    -122.22     37.86                21.0       7099.0          1106.0   \n",
       "2    -122.24     37.85                52.0       1467.0           190.0   \n",
       "3    -122.25     37.85                52.0       1274.0           235.0   \n",
       "4    -122.25     37.85                52.0       1627.0           280.0   \n",
       "\n",
       "   population  households  median_income  median_house_value  \\\n",
       "0       322.0       126.0         8.3252            452600.0   \n",
       "1      2401.0      1138.0         8.3014            358500.0   \n",
       "2       496.0       177.0         7.2574            352100.0   \n",
       "3       558.0       219.0         5.6431            341300.0   \n",
       "4       565.0       259.0         3.8462            342200.0   \n",
       "\n",
       "   ocean_proximity_<1H OCEAN  ocean_proximity_INLAND  ocean_proximity_ISLAND  \\\n",
       "0                          0                       0                       0   \n",
       "1                          0                       0                       0   \n",
       "2                          0                       0                       0   \n",
       "3                          0                       0                       0   \n",
       "4                          0                       0                       0   \n",
       "\n",
       "   ocean_proximity_NEAR BAY  ocean_proximity_NEAR OCEAN  \n",
       "0                         1                           0  \n",
       "1                         1                           0  \n",
       "2                         1                           0  \n",
       "3                         1                           0  \n",
       "4                         1                           0  "
      ]
     },
     "execution_count": 7,
     "metadata": {},
     "output_type": "execute_result"
    }
   ],
   "source": [
    "#We can use one-hot encoding method by calling pd.get_dummies\n",
    "categorical_columns=['ocean_proximity'] # must be a list\n",
    "housing = pd.get_dummies(housing, columns=categorical_columns)\n",
    "housing.head()"
   ]
  },
  {
   "cell_type": "markdown",
   "metadata": {},
   "source": [
    "### Visualize the data"
   ]
  },
  {
   "cell_type": "code",
   "execution_count": 8,
   "metadata": {},
   "outputs": [
    {
     "data": {
      "text/plain": [
       "Text(0.5, 1.0, 'median_income')"
      ]
     },
     "execution_count": 8,
     "metadata": {},
     "output_type": "execute_result"
    },
    {
     "data": {
      "image/png": "[encoded data removed]",
      "text/plain": [
       "<Figure size 720x504 with 4 Axes>"
      ]
     },
     "metadata": {
      "needs_background": "light"
     },
     "output_type": "display_data"
    }
   ],
   "source": [
    "from skimage.io import imread\n",
    "california_img = imread('california.png')\n",
    "x1 = min(housing[\"longitude\"].values)\n",
    "x2 = max(housing[\"longitude\"].values)\n",
    "y1 = min(housing[\"latitude\"].values)\n",
    "y2 = max(housing[\"latitude\"].values)\n",
    "#---------------------------------------------\n",
    "# the parameter c refers to color\n",
    "# thus, median_house_value is color-coded in the left plot\n",
    "fig, ax =plt.subplots(1,2)\n",
    "housing.plot(ax=ax[0], kind=\"scatter\", x=\"longitude\", y=\"latitude\",\n",
    "             s=housing['population']/100, label=\"population\",\n",
    "             c=\"median_house_value\", cmap=plt.get_cmap(\"jet\"),\n",
    "             colorbar=True, alpha=0.4, figsize=(10,7))\n",
    "#---------------------------------------------\n",
    "# the parameter c refers to color\n",
    "# thus, median_income is color-coded in the right plot\n",
    "ax[0].imshow(california_img,extent=[x1,x2,y1,y2])\n",
    "ax[0].set_title('median_house_value')\n",
    "housing.plot(ax=ax[1], kind=\"scatter\", x=\"longitude\", y=\"latitude\",\n",
    "             s=housing['population']/100, label=\"population\",\n",
    "             c=\"median_income\", cmap=plt.get_cmap(\"jet\"),\n",
    "             colorbar=True, alpha=0.4, figsize=(10,7))\n",
    "ax[1].imshow(california_img,extent=[x1,x2,y1,y2])\n",
    "ax[1].set_title('median_income')"
   ]
  },
  {
   "cell_type": "markdown",
   "metadata": {},
   "source": [
    "### Prepare the Training and Testing Datasets"
   ]
  },
  {
   "cell_type": "code",
   "execution_count": 9,
   "metadata": {},
   "outputs": [
    {
     "data": {
      "text/html": [
       "<div>\n",
       "<style scoped>\n",
       "    .dataframe tbody tr th:only-of-type {\n",
       "        vertical-align: middle;\n",
       "    }\n",
       "\n",
       "    .dataframe tbody tr th {\n",
       "        vertical-align: top;\n",
       "    }\n",
       "\n",
       "    .dataframe thead th {\n",
       "        text-align: right;\n",
       "    }\n",
       "</style>\n",
       "<table border=\"1\" class=\"dataframe\">\n",
       "  <thead>\n",
       "    <tr style=\"text-align: right;\">\n",
       "      <th></th>\n",
       "      <th>longitude</th>\n",
       "      <th>latitude</th>\n",
       "      <th>housing_median_age</th>\n",
       "      <th>total_rooms</th>\n",
       "      <th>total_bedrooms</th>\n",
       "      <th>population</th>\n",
       "      <th>households</th>\n",
       "      <th>median_income</th>\n",
       "      <th>ocean_proximity_&lt;1H OCEAN</th>\n",
       "      <th>ocean_proximity_INLAND</th>\n",
       "      <th>ocean_proximity_ISLAND</th>\n",
       "      <th>ocean_proximity_NEAR BAY</th>\n",
       "      <th>ocean_proximity_NEAR OCEAN</th>\n",
       "    </tr>\n",
       "  </thead>\n",
       "  <tbody>\n",
       "    <tr>\n",
       "      <th>0</th>\n",
       "      <td>-122.23</td>\n",
       "      <td>37.88</td>\n",
       "      <td>41.0</td>\n",
       "      <td>880.0</td>\n",
       "      <td>129.0</td>\n",
       "      <td>322.0</td>\n",
       "      <td>126.0</td>\n",
       "      <td>8.3252</td>\n",
       "      <td>0</td>\n",
       "      <td>0</td>\n",
       "      <td>0</td>\n",
       "      <td>1</td>\n",
       "      <td>0</td>\n",
       "    </tr>\n",
       "    <tr>\n",
       "      <th>1</th>\n",
       "      <td>-122.22</td>\n",
       "      <td>37.86</td>\n",
       "      <td>21.0</td>\n",
       "      <td>7099.0</td>\n",
       "      <td>1106.0</td>\n",
       "      <td>2401.0</td>\n",
       "      <td>1138.0</td>\n",
       "      <td>8.3014</td>\n",
       "      <td>0</td>\n",
       "      <td>0</td>\n",
       "      <td>0</td>\n",
       "      <td>1</td>\n",
       "      <td>0</td>\n",
       "    </tr>\n",
       "    <tr>\n",
       "      <th>2</th>\n",
       "      <td>-122.24</td>\n",
       "      <td>37.85</td>\n",
       "      <td>52.0</td>\n",
       "      <td>1467.0</td>\n",
       "      <td>190.0</td>\n",
       "      <td>496.0</td>\n",
       "      <td>177.0</td>\n",
       "      <td>7.2574</td>\n",
       "      <td>0</td>\n",
       "      <td>0</td>\n",
       "      <td>0</td>\n",
       "      <td>1</td>\n",
       "      <td>0</td>\n",
       "    </tr>\n",
       "    <tr>\n",
       "      <th>3</th>\n",
       "      <td>-122.25</td>\n",
       "      <td>37.85</td>\n",
       "      <td>52.0</td>\n",
       "      <td>1274.0</td>\n",
       "      <td>235.0</td>\n",
       "      <td>558.0</td>\n",
       "      <td>219.0</td>\n",
       "      <td>5.6431</td>\n",
       "      <td>0</td>\n",
       "      <td>0</td>\n",
       "      <td>0</td>\n",
       "      <td>1</td>\n",
       "      <td>0</td>\n",
       "    </tr>\n",
       "    <tr>\n",
       "      <th>4</th>\n",
       "      <td>-122.25</td>\n",
       "      <td>37.85</td>\n",
       "      <td>52.0</td>\n",
       "      <td>1627.0</td>\n",
       "      <td>280.0</td>\n",
       "      <td>565.0</td>\n",
       "      <td>259.0</td>\n",
       "      <td>3.8462</td>\n",
       "      <td>0</td>\n",
       "      <td>0</td>\n",
       "      <td>0</td>\n",
       "      <td>1</td>\n",
       "      <td>0</td>\n",
       "    </tr>\n",
       "  </tbody>\n",
       "</table>\n",
       "</div>"
      ],
      "text/plain": [
       "   longitude  latitude  housing_median_age  total_rooms  total_bedrooms  \\\n",
       "0    -122.23     37.88                41.0        880.0           129.0   \n",
       "1    -122.22     37.86                21.0       7099.0          1106.0   \n",
       "2    -122.24     37.85                52.0       1467.0           190.0   \n",
       "3    -122.25     37.85                52.0       1274.0           235.0   \n",
       "4    -122.25     37.85                52.0       1627.0           280.0   \n",
       "\n",
       "   population  households  median_income  ocean_proximity_<1H OCEAN  \\\n",
       "0       322.0       126.0         8.3252                          0   \n",
       "1      2401.0      1138.0         8.3014                          0   \n",
       "2       496.0       177.0         7.2574                          0   \n",
       "3       558.0       219.0         5.6431                          0   \n",
       "4       565.0       259.0         3.8462                          0   \n",
       "\n",
       "   ocean_proximity_INLAND  ocean_proximity_ISLAND  ocean_proximity_NEAR BAY  \\\n",
       "0                       0                       0                         1   \n",
       "1                       0                       0                         1   \n",
       "2                       0                       0                         1   \n",
       "3                       0                       0                         1   \n",
       "4                       0                       0                         1   \n",
       "\n",
       "   ocean_proximity_NEAR OCEAN  \n",
       "0                           0  \n",
       "1                           0  \n",
       "2                           0  \n",
       "3                           0  \n",
       "4                           0  "
      ]
     },
     "execution_count": 9,
     "metadata": {},
     "output_type": "execute_result"
    }
   ],
   "source": [
    "X=housing.drop(['median_house_value'], axis=1)\n",
    "X.head()"
   ]
  },
  {
   "cell_type": "code",
   "execution_count": 10,
   "metadata": {},
   "outputs": [
    {
     "data": {
      "text/plain": [
       "0    452600.0\n",
       "1    358500.0\n",
       "2    352100.0\n",
       "3    341300.0\n",
       "4    342200.0\n",
       "Name: median_house_value, dtype: float64"
      ]
     },
     "execution_count": 10,
     "metadata": {},
     "output_type": "execute_result"
    }
   ],
   "source": [
    "Y=housing['median_house_value']\n",
    "Y.head()"
   ]
  },
  {
   "cell_type": "code",
   "execution_count": 11,
   "metadata": {},
   "outputs": [],
   "source": [
    "# convert pandas dataframe/series to numpy array\n",
    "# sklearn functions may not work well with pandas data types\n",
    "X_columns=X.columns #store the column names\n",
    "X=X.values.astype('float32')\n",
    "Y=Y.values.astype('float32')"
   ]
  },
  {
   "cell_type": "markdown",
   "metadata": {},
   "source": [
    "### trainnig, validation, testing split"
   ]
  },
  {
   "cell_type": "code",
   "execution_count": 12,
   "metadata": {},
   "outputs": [
    {
     "name": "stdout",
     "output_type": "stream",
     "text": [
      "train: (14860, 13) (14860,)\n",
      "validation: (1652, 13) (1652,)\n",
      "test: (4128, 13) (4128,)\n"
     ]
    }
   ],
   "source": [
    "#trainnig, validation, testing split\n",
    "from sklearn.model_selection import train_test_split\n",
    "X_train, X_test, Y_train, Y_test = train_test_split(X, Y, test_size=0.2, random_state=0)\n",
    "#split X_train and Y_train into a 'pure' training set and a validation set\n",
    "X_train, X_val, Y_train, Y_val = train_test_split(X_train, Y_train, test_size=0.1, random_state=0)\n",
    "print('train:', X_train.shape, Y_train.shape)\n",
    "print('validation:', X_val.shape, Y_val.shape)\n",
    "print('test:', X_test.shape, Y_test.shape)"
   ]
  },
  {
   "cell_type": "code",
   "execution_count": 13,
   "metadata": {},
   "outputs": [],
   "source": [
    "#apply feature normalization to training, validation and test sets\n",
    "from sklearn.preprocessing import MinMaxScaler\n",
    "scalerX=MinMaxScaler()\n",
    "scalerX.fit(X_train) # think about why fit to X_train, not X ?\n",
    "X_train=scalerX.transform(X_train)\n",
    "X_val=scalerX.transform(X_val)\n",
    "X_test=scalerX.transform(X_test)"
   ]
  },
  {
   "cell_type": "code",
   "execution_count": 14,
   "metadata": {},
   "outputs": [
    {
     "data": {
      "text/plain": [
       "array([0.5786848 , 0.38044596, 0.19607843, 0.12570114, 0.13671634,\n",
       "       0.00983827, 0.02795593, 0.11055019, 0.        , 1.        ,\n",
       "       0.        , 0.        , 0.        ], dtype=float32)"
      ]
     },
     "execution_count": 14,
     "metadata": {},
     "output_type": "execute_result"
    }
   ],
   "source": [
    "X_train[0]"
   ]
  },
  {
   "cell_type": "code",
   "execution_count": 15,
   "metadata": {},
   "outputs": [],
   "source": [
    "#normalize the output to facilitate convergence\n",
    "Y_train_max=Y_train.max()\n",
    "Y_train/=Y_train_max\n",
    "Y_val/=Y_train_max\n",
    "Y_test/=Y_train_max"
   ]
  },
  {
   "cell_type": "markdown",
   "metadata": {},
   "source": [
    "### use LinearRegression as the baseline model"
   ]
  },
  {
   "cell_type": "code",
   "execution_count": 16,
   "metadata": {},
   "outputs": [],
   "source": [
    "#step1:\n",
    "from sklearn.linear_model import LinearRegression\n",
    "linear_model = LinearRegression(fit_intercept=True)"
   ]
  },
  {
   "cell_type": "code",
   "execution_count": 17,
   "metadata": {},
   "outputs": [
    {
     "data": {
      "text/plain": [
       "LinearRegression()"
      ]
     },
     "execution_count": 17,
     "metadata": {},
     "output_type": "execute_result"
    }
   ],
   "source": [
    "#step2:\n",
    "linear_model.fit(X_train, Y_train)"
   ]
  },
  {
   "cell_type": "code",
   "execution_count": 18,
   "metadata": {},
   "outputs": [
    {
     "data": {
      "text/plain": [
       "array([-0.5266764 , -0.47057727,  0.11070023, -0.31356588,  0.8725244 ,\n",
       "       -2.8026865 ,  1.009017  ,  1.1304905 , -0.0472497 , -0.12498007,\n",
       "        0.26538375, -0.05612918, -0.03702435], dtype=float32)"
      ]
     },
     "execution_count": 18,
     "metadata": {},
     "output_type": "execute_result"
    }
   ],
   "source": [
    "linear_model.coef_"
   ]
  },
  {
   "cell_type": "code",
   "execution_count": 19,
   "metadata": {},
   "outputs": [
    {
     "data": {
      "text/plain": [
       "0.5496546"
      ]
     },
     "execution_count": 19,
     "metadata": {},
     "output_type": "execute_result"
    }
   ],
   "source": [
    "linear_model.intercept_"
   ]
  },
  {
   "cell_type": "code",
   "execution_count": 20,
   "metadata": {
    "scrolled": false
   },
   "outputs": [
    {
     "name": "stdout",
     "output_type": "stream",
     "text": [
      "Evaluate model on testing set\n",
      "MSE= 0.018863905\n",
      "MAE= 0.09931181\n",
      "MAPE= 0.28951442\n"
     ]
    },
    {
     "data": {
      "text/plain": [
       "Text(0, 0.5, 'Y_test_pred')"
      ]
     },
     "execution_count": 20,
     "metadata": {},
     "output_type": "execute_result"
    },
    {
     "data": {
      "image/png": "[encoded data removed]",
      "text/plain": [
       "<Figure size 432x288 with 1 Axes>"
      ]
     },
     "metadata": {
      "needs_background": "light"
     },
     "output_type": "display_data"
    }
   ],
   "source": [
    "#step3:\n",
    "Y_train_pred = linear_model.predict(X_train)\n",
    "Y_test_pred = linear_model.predict(X_test)\n",
    "print('Evaluate model on testing set')\n",
    "MSE = np.mean((Y_test - Y_test_pred)**2)\n",
    "MAE = np.mean(np.abs(Y_test - Y_test_pred))\n",
    "MAPE =  np.mean(np.abs(Y_test - Y_test_pred)/Y_test)\n",
    "print('MSE=', MSE)\n",
    "print('MAE=', MAE)\n",
    "print('MAPE=', MAPE)\n",
    "#step6: \n",
    "# the red line is the 45-degree line\n",
    "fig, ax = plt.subplots()\n",
    "ax.set_title('Y_test_pred vs Y_test')\n",
    "ax.plot(Y_test, Y_test_pred, '.')\n",
    "ymax=np.max([Y_test.max(), Y_test_pred.max()])\n",
    "ax.plot(np.linspace(0,ymax, 3), np.linspace(0, ymax, 3), '-r')\n",
    "ax.set_xlabel('Y_test')\n",
    "ax.set_ylabel('Y_test_pred')"
   ]
  },
  {
   "cell_type": "markdown",
   "metadata": {},
   "source": [
    "## Your work begins here\n",
    "see NN_nonlinear_regression_Keras.ipynb"
   ]
  },
  {
   "cell_type": "markdown",
   "metadata": {},
   "source": [
    "#### define the model"
   ]
  },
  {
   "cell_type": "code",
   "execution_count": 21,
   "metadata": {},
   "outputs": [
    {
     "name": "stdout",
     "output_type": "stream",
     "text": [
      "Model: \"sequential\"\n",
      "_________________________________________________________________\n",
      " Layer (type)                Output Shape              Param #   \n",
      "=================================================================\n",
      " dense (Dense)               (None, 16)                224       \n",
      "                                                                 \n",
      " dense_1 (Dense)             (None, 16)                272       \n",
      "                                                                 \n",
      " dense_2 (Dense)             (None, 1)                 17        \n",
      "                                                                 \n",
      "=================================================================\n",
      "Total params: 513\n",
      "Trainable params: 513\n",
      "Non-trainable params: 0\n",
      "_________________________________________________________________\n"
     ]
    },
    {
     "name": "stderr",
     "output_type": "stream",
     "text": [
      "C:\\Users\\jshud\\anaconda3\\lib\\site-packages\\keras\\optimizer_v2\\gradient_descent.py:102: UserWarning: The `lr` argument is deprecated, use `learning_rate` instead.\n",
      "  super(SGD, self).__init__(name, **kwargs)\n"
     ]
    }
   ],
   "source": [
    "model = Sequential()\n",
    "model.add(Dense(units=16, activation='softplus', input_shape=(13,)))\n",
    "model.add(Dense(units=16, activation='softplus'))\n",
    "model.add(Dense(units=1, activation='linear'))\n",
    "model.compile(loss='mse', optimizer=SGD(learning_rate=0.01, momentum=0.9))\n",
    "model.summary()"
   ]
  },
  {
   "cell_type": "markdown",
   "metadata": {},
   "source": [
    "#### Now, let's train the model for 100 epochs"
   ]
  },
  {
   "cell_type": "code",
   "execution_count": 22,
   "metadata": {},
   "outputs": [],
   "source": [
    "loss_train_list=[]\n",
    "loss_val_list=[]"
   ]
  },
  {
   "cell_type": "code",
   "execution_count": 23,
   "metadata": {},
   "outputs": [
    {
     "name": "stdout",
     "output_type": "stream",
     "text": [
      "epoch 0\n",
      "233/233 [==============================] - 1s 2ms/step - loss: 0.0484 - val_loss: 0.0336\n",
      "epoch 1\n",
      "233/233 [==============================] - 0s 1ms/step - loss: 0.0315 - val_loss: 0.0292\n",
      "epoch 2\n",
      "233/233 [==============================] - 0s 1ms/step - loss: 0.0268 - val_loss: 0.0250\n",
      "epoch 3\n",
      "233/233 [==============================] - 0s 1ms/step - loss: 0.0238 - val_loss: 0.0231\n",
      "epoch 4\n",
      "233/233 [==============================] - 0s 1ms/step - loss: 0.0218 - val_loss: 0.0226\n",
      "epoch 5\n",
      "233/233 [==============================] - 0s 1ms/step - loss: 0.0218 - val_loss: 0.0250\n",
      "epoch 6\n",
      "233/233 [==============================] - 0s 1ms/step - loss: 0.0211 - val_loss: 0.0236\n",
      "epoch 7\n",
      "233/233 [==============================] - 0s 1ms/step - loss: 0.0212 - val_loss: 0.0237\n",
      "epoch 8\n",
      "233/233 [==============================] - 0s 1ms/step - loss: 0.0216 - val_loss: 0.0236\n",
      "epoch 9\n",
      "233/233 [==============================] - 0s 1ms/step - loss: 0.0208 - val_loss: 0.0224\n",
      "epoch 10\n",
      "233/233 [==============================] - 0s 1ms/step - loss: 0.0216 - val_loss: 0.0222\n",
      "epoch 11\n",
      "233/233 [==============================] - 0s 1ms/step - loss: 0.0209 - val_loss: 0.0221\n",
      "epoch 12\n",
      "233/233 [==============================] - 0s 1ms/step - loss: 0.0209 - val_loss: 0.0218\n",
      "epoch 13\n",
      "233/233 [==============================] - 0s 1ms/step - loss: 0.0207 - val_loss: 0.0231\n",
      "epoch 14\n",
      "233/233 [==============================] - 0s 1ms/step - loss: 0.0209 - val_loss: 0.0230\n",
      "epoch 15\n",
      "233/233 [==============================] - 0s 1ms/step - loss: 0.0206 - val_loss: 0.0233\n",
      "epoch 16\n",
      "233/233 [==============================] - 0s 1ms/step - loss: 0.0204 - val_loss: 0.0251\n",
      "epoch 17\n",
      "233/233 [==============================] - 0s 1ms/step - loss: 0.0204 - val_loss: 0.0226\n",
      "epoch 18\n",
      "233/233 [==============================] - 0s 1ms/step - loss: 0.0203 - val_loss: 0.0215\n",
      "epoch 19\n",
      "233/233 [==============================] - 0s 1ms/step - loss: 0.0203 - val_loss: 0.0214\n",
      "epoch 20\n",
      "233/233 [==============================] - 0s 1ms/step - loss: 0.0201 - val_loss: 0.0219\n",
      "epoch 21\n",
      "233/233 [==============================] - 0s 1ms/step - loss: 0.0202 - val_loss: 0.0218\n",
      "epoch 22\n",
      "233/233 [==============================] - 0s 1ms/step - loss: 0.0203 - val_loss: 0.0213\n",
      "epoch 23\n",
      "233/233 [==============================] - 0s 1ms/step - loss: 0.0200 - val_loss: 0.0221\n",
      "epoch 24\n",
      "233/233 [==============================] - 0s 1ms/step - loss: 0.0204 - val_loss: 0.0222\n",
      "epoch 25\n",
      "233/233 [==============================] - 0s 2ms/step - loss: 0.0201 - val_loss: 0.0218\n",
      "epoch 26\n",
      "233/233 [==============================] - 0s 1ms/step - loss: 0.0202 - val_loss: 0.0211\n",
      "epoch 27\n",
      "233/233 [==============================] - 0s 1ms/step - loss: 0.0201 - val_loss: 0.0217\n",
      "epoch 28\n",
      "233/233 [==============================] - 0s 1ms/step - loss: 0.0201 - val_loss: 0.0212\n",
      "epoch 29\n",
      "233/233 [==============================] - 0s 1ms/step - loss: 0.0202 - val_loss: 0.0220\n",
      "epoch 30\n",
      "233/233 [==============================] - 0s 1ms/step - loss: 0.0199 - val_loss: 0.0210\n",
      "epoch 31\n",
      "233/233 [==============================] - 0s 1ms/step - loss: 0.0199 - val_loss: 0.0214\n",
      "epoch 32\n",
      "233/233 [==============================] - 0s 1ms/step - loss: 0.0201 - val_loss: 0.0210\n",
      "epoch 33\n",
      "233/233 [==============================] - 0s 1ms/step - loss: 0.0199 - val_loss: 0.0209\n",
      "epoch 34\n",
      "233/233 [==============================] - 0s 2ms/step - loss: 0.0198 - val_loss: 0.0215\n",
      "epoch 35\n",
      "233/233 [==============================] - 0s 2ms/step - loss: 0.0197 - val_loss: 0.0226\n",
      "epoch 36\n",
      "233/233 [==============================] - 0s 2ms/step - loss: 0.0199 - val_loss: 0.0210\n",
      "epoch 37\n",
      "233/233 [==============================] - 0s 1ms/step - loss: 0.0198 - val_loss: 0.0210\n",
      "epoch 38\n",
      "233/233 [==============================] - 0s 1ms/step - loss: 0.0197 - val_loss: 0.0207\n",
      "epoch 39\n",
      "233/233 [==============================] - 0s 1ms/step - loss: 0.0197 - val_loss: 0.0209\n",
      "epoch 40\n",
      "233/233 [==============================] - 0s 1ms/step - loss: 0.0198 - val_loss: 0.0209\n",
      "epoch 41\n",
      "233/233 [==============================] - 0s 1ms/step - loss: 0.0194 - val_loss: 0.0208\n",
      "epoch 42\n",
      "233/233 [==============================] - 0s 1ms/step - loss: 0.0197 - val_loss: 0.0210\n",
      "epoch 43\n",
      "233/233 [==============================] - 0s 1ms/step - loss: 0.0197 - val_loss: 0.0235\n",
      "epoch 44\n",
      "233/233 [==============================] - 0s 1ms/step - loss: 0.0196 - val_loss: 0.0212\n",
      "epoch 45\n",
      "233/233 [==============================] - 0s 1ms/step - loss: 0.0195 - val_loss: 0.0211\n",
      "epoch 46\n",
      "233/233 [==============================] - 0s 1ms/step - loss: 0.0196 - val_loss: 0.0206\n",
      "epoch 47\n",
      "233/233 [==============================] - 0s 1ms/step - loss: 0.0195 - val_loss: 0.0210\n",
      "epoch 48\n",
      "233/233 [==============================] - 0s 1ms/step - loss: 0.0195 - val_loss: 0.0213\n",
      "epoch 49\n",
      "233/233 [==============================] - 0s 1ms/step - loss: 0.0197 - val_loss: 0.0205\n",
      "epoch 50\n",
      "233/233 [==============================] - 0s 1ms/step - loss: 0.0195 - val_loss: 0.0211\n",
      "epoch 51\n",
      "233/233 [==============================] - 0s 1ms/step - loss: 0.0195 - val_loss: 0.0210\n",
      "epoch 52\n",
      "233/233 [==============================] - 0s 1ms/step - loss: 0.0193 - val_loss: 0.0205\n",
      "epoch 53\n",
      "233/233 [==============================] - 0s 1ms/step - loss: 0.0193 - val_loss: 0.0205\n",
      "epoch 54\n",
      "233/233 [==============================] - 0s 1ms/step - loss: 0.0192 - val_loss: 0.0206\n",
      "epoch 55\n",
      "233/233 [==============================] - 0s 1ms/step - loss: 0.0195 - val_loss: 0.0203\n",
      "epoch 56\n",
      "233/233 [==============================] - 0s 1ms/step - loss: 0.0196 - val_loss: 0.0204\n",
      "epoch 57\n",
      "233/233 [==============================] - 0s 1ms/step - loss: 0.0192 - val_loss: 0.0206\n",
      "epoch 58\n",
      "233/233 [==============================] - 0s 1ms/step - loss: 0.0194 - val_loss: 0.0217\n",
      "epoch 59\n",
      "233/233 [==============================] - 0s 1ms/step - loss: 0.0194 - val_loss: 0.0210\n",
      "epoch 60\n",
      "233/233 [==============================] - 0s 1ms/step - loss: 0.0192 - val_loss: 0.0213\n",
      "epoch 61\n",
      "233/233 [==============================] - 0s 1ms/step - loss: 0.0195 - val_loss: 0.0203\n",
      "epoch 62\n",
      "233/233 [==============================] - 0s 1ms/step - loss: 0.0197 - val_loss: 0.0208\n",
      "epoch 63\n",
      "233/233 [==============================] - 0s 1ms/step - loss: 0.0193 - val_loss: 0.0224\n",
      "epoch 64\n",
      "233/233 [==============================] - 0s 1ms/step - loss: 0.0192 - val_loss: 0.0202\n",
      "epoch 65\n",
      "233/233 [==============================] - 0s 1ms/step - loss: 0.0190 - val_loss: 0.0222\n",
      "epoch 66\n",
      "233/233 [==============================] - 0s 1ms/step - loss: 0.0194 - val_loss: 0.0207\n",
      "epoch 67\n",
      "233/233 [==============================] - 0s 1ms/step - loss: 0.0192 - val_loss: 0.0204\n",
      "epoch 68\n",
      "233/233 [==============================] - 0s 1ms/step - loss: 0.0189 - val_loss: 0.0206\n",
      "epoch 69\n",
      "233/233 [==============================] - 0s 1ms/step - loss: 0.0191 - val_loss: 0.0212\n",
      "epoch 70\n",
      "233/233 [==============================] - 0s 1ms/step - loss: 0.0193 - val_loss: 0.0247\n",
      "epoch 71\n",
      "233/233 [==============================] - 0s 1ms/step - loss: 0.0190 - val_loss: 0.0214\n",
      "epoch 72\n",
      "233/233 [==============================] - 0s 1ms/step - loss: 0.0188 - val_loss: 0.0211\n",
      "epoch 73\n",
      "233/233 [==============================] - 0s 1ms/step - loss: 0.0190 - val_loss: 0.0212\n",
      "epoch 74\n",
      "233/233 [==============================] - 0s 1ms/step - loss: 0.0190 - val_loss: 0.0210\n",
      "epoch 75\n",
      "233/233 [==============================] - 0s 1ms/step - loss: 0.0188 - val_loss: 0.0201\n",
      "epoch 76\n",
      "233/233 [==============================] - 0s 1ms/step - loss: 0.0189 - val_loss: 0.0209\n",
      "epoch 77\n",
      "233/233 [==============================] - 0s 1ms/step - loss: 0.0190 - val_loss: 0.0204\n",
      "epoch 78\n",
      "233/233 [==============================] - 0s 1ms/step - loss: 0.0189 - val_loss: 0.0203\n",
      "epoch 79\n",
      "233/233 [==============================] - 0s 1ms/step - loss: 0.0191 - val_loss: 0.0204\n",
      "epoch 80\n",
      "233/233 [==============================] - 0s 1ms/step - loss: 0.0190 - val_loss: 0.0200\n",
      "epoch 81\n",
      "233/233 [==============================] - 0s 1ms/step - loss: 0.0188 - val_loss: 0.0199\n",
      "epoch 82\n",
      "233/233 [==============================] - 0s 1ms/step - loss: 0.0188 - val_loss: 0.0202\n",
      "epoch 83\n",
      "233/233 [==============================] - 0s 1ms/step - loss: 0.0189 - val_loss: 0.0198\n",
      "epoch 84\n",
      "233/233 [==============================] - 0s 1ms/step - loss: 0.0190 - val_loss: 0.0200\n",
      "epoch 85\n",
      "233/233 [==============================] - 0s 1ms/step - loss: 0.0187 - val_loss: 0.0199\n",
      "epoch 86\n",
      "233/233 [==============================] - 0s 1ms/step - loss: 0.0188 - val_loss: 0.0201\n",
      "epoch 87\n",
      "233/233 [==============================] - 0s 1ms/step - loss: 0.0189 - val_loss: 0.0203\n",
      "epoch 88\n",
      "233/233 [==============================] - 0s 2ms/step - loss: 0.0186 - val_loss: 0.0199\n",
      "epoch 89\n",
      "233/233 [==============================] - 0s 2ms/step - loss: 0.0188 - val_loss: 0.0202\n",
      "epoch 90\n",
      "233/233 [==============================] - 0s 2ms/step - loss: 0.0185 - val_loss: 0.0205\n",
      "epoch 91\n",
      "233/233 [==============================] - 0s 1ms/step - loss: 0.0190 - val_loss: 0.0198\n",
      "epoch 92\n",
      "233/233 [==============================] - 0s 1ms/step - loss: 0.0187 - val_loss: 0.0213\n",
      "epoch 93\n",
      "233/233 [==============================] - 0s 1ms/step - loss: 0.0189 - val_loss: 0.0198\n",
      "epoch 94\n",
      "233/233 [==============================] - 0s 1ms/step - loss: 0.0187 - val_loss: 0.0207\n",
      "epoch 95\n",
      "233/233 [==============================] - 0s 1ms/step - loss: 0.0186 - val_loss: 0.0198\n",
      "epoch 96\n",
      "233/233 [==============================] - 0s 1ms/step - loss: 0.0186 - val_loss: 0.0219\n",
      "epoch 97\n",
      "233/233 [==============================] - 0s 1ms/step - loss: 0.0185 - val_loss: 0.0200\n",
      "epoch 98\n",
      "233/233 [==============================] - 0s 1ms/step - loss: 0.0187 - val_loss: 0.0209\n",
      "epoch 99\n",
      "233/233 [==============================] - 0s 1ms/step - loss: 0.0187 - val_loss: 0.0197\n"
     ]
    }
   ],
   "source": [
    "for epoch in range(0, 100):\n",
    "    #set epochs=1\n",
    "    print('epoch', epoch)\n",
    "    history=model.fit(X_train, Y_train, batch_size=64, epochs=1, validation_data=(X_val, Y_val))\n",
    "    loss_train_list.extend(history.history['loss'])\n",
    "    loss_val_list.extend(history.history['val_loss'])"
   ]
  },
  {
   "cell_type": "markdown",
   "metadata": {},
   "source": [
    "plot the loss vs epoch curve"
   ]
  },
  {
   "cell_type": "code",
   "execution_count": 24,
   "metadata": {},
   "outputs": [
    {
     "data": {
      "text/plain": [
       "<matplotlib.legend.Legend at 0x1f2e3c387f0>"
      ]
     },
     "execution_count": 24,
     "metadata": {},
     "output_type": "execute_result"
    },
    {
     "data": {
      "image/png": "[encoded data removed]",
      "text/plain": [
       "<Figure size 432x288 with 1 Axes>"
      ]
     },
     "metadata": {
      "needs_background": "light"
     },
     "output_type": "display_data"
    }
   ],
   "source": [
    "fig, ax = plt.subplots()\n",
    "ax.plot(np.arange(0,len(loss_train_list)), loss_train_list, '-b', label='training loss')\n",
    "ax.plot(np.arange(0,len(loss_val_list)), loss_val_list, '-r', label='validation loss')\n",
    "ax.set_xlabel('epoch',fontsize=16)\n",
    "ax.legend(fontsize=16)"
   ]
  },
  {
   "cell_type": "markdown",
   "metadata": {},
   "source": [
    "after training, we evaluate the model on the test dataset"
   ]
  },
  {
   "cell_type": "code",
   "execution_count": 25,
   "metadata": {},
   "outputs": [
    {
     "name": "stdout",
     "output_type": "stream",
     "text": [
      "Test loss: 0.018244819715619087\n"
     ]
    }
   ],
   "source": [
    "# get the loss on test set\n",
    "score = model.evaluate(X_test, Y_test, batch_size=64, verbose=0)\n",
    "print('Test loss:', score)"
   ]
  },
  {
   "cell_type": "code",
   "execution_count": 26,
   "metadata": {},
   "outputs": [],
   "source": [
    "#get the prediction Yp_test by using model.predict\n",
    "Yp_test=model.predict(X_test, batch_size=64)"
   ]
  },
  {
   "cell_type": "code",
   "execution_count": 27,
   "metadata": {},
   "outputs": [
    {
     "data": {
      "text/plain": [
       "numpy.ndarray"
      ]
     },
     "execution_count": 27,
     "metadata": {},
     "output_type": "execute_result"
    }
   ],
   "source": [
    "type(Yp_test)"
   ]
  },
  {
   "cell_type": "code",
   "execution_count": 28,
   "metadata": {},
   "outputs": [
    {
     "data": {
      "text/plain": [
       "(4128, 1)"
      ]
     },
     "execution_count": 28,
     "metadata": {},
     "output_type": "execute_result"
    }
   ],
   "source": [
    "Yp_test.shape"
   ]
  },
  {
   "cell_type": "code",
   "execution_count": 29,
   "metadata": {},
   "outputs": [],
   "source": [
    "Yp_test=Yp_test.squeeze()"
   ]
  },
  {
   "cell_type": "code",
   "execution_count": 30,
   "metadata": {},
   "outputs": [
    {
     "data": {
      "text/plain": [
       "(4128,)"
      ]
     },
     "execution_count": 30,
     "metadata": {},
     "output_type": "execute_result"
    }
   ],
   "source": [
    "Yp_test.shape"
   ]
  },
  {
   "cell_type": "code",
   "execution_count": 31,
   "metadata": {},
   "outputs": [
    {
     "data": {
      "text/plain": [
       "(4128,)"
      ]
     },
     "execution_count": 31,
     "metadata": {},
     "output_type": "execute_result"
    }
   ],
   "source": [
    "Y_test.shape"
   ]
  },
  {
   "cell_type": "code",
   "execution_count": 32,
   "metadata": {},
   "outputs": [
    {
     "name": "stdout",
     "output_type": "stream",
     "text": [
      "MSE= 0.018244822\n",
      "MAE= 0.09714658\n",
      "MAPE= 0.27715895\n"
     ]
    }
   ],
   "source": [
    "# compute MSE, MAE and MAPE on the test set\n",
    "MSE = np.mean((Y_test - Yp_test)**2)\n",
    "MAE = np.mean(np.abs(Y_test - Yp_test))\n",
    "MAPE =  np.mean(np.abs(Y_test - Yp_test)/Y_test)\n",
    "print('MSE=', MSE)\n",
    "print('MAE=', MAE)\n",
    "print('MAPE=', MAPE)"
   ]
  },
  {
   "cell_type": "code",
   "execution_count": 33,
   "metadata": {},
   "outputs": [
    {
     "name": "stdout",
     "output_type": "stream",
     "text": [
      "Evaluate model on testing set\n"
     ]
    },
    {
     "data": {
      "text/plain": [
       "Text(0, 0.5, 'Y_ptest')"
      ]
     },
     "execution_count": 33,
     "metadata": {},
     "output_type": "execute_result"
    },
    {
     "data": {
      "image/png": "[encoded data removed]",
      "text/plain": [
       "<Figure size 432x288 with 1 Axes>"
      ]
     },
     "metadata": {
      "needs_background": "light"
     },
     "output_type": "display_data"
    }
   ],
   "source": [
    "# plot Yp_test vs Y_test\n",
    "# the red line is the 45-degree line\n",
    "print('Evaluate model on testing set')\n",
    "\n",
    "fig, ax = plt.subplots()\n",
    "ax.set_title('Y_ptest vs Y_test')\n",
    "ax.plot(Y_test, Yp_test, '.')\n",
    "ymax=np.max([Y_test.max(), Yp_test.max()])\n",
    "ax.plot(np.linspace(0,ymax, 3), np.linspace(0, ymax, 3), '-r')\n",
    "ax.set_xlabel('Y_test')\n",
    "ax.set_ylabel('Y_ptest')"
   ]
  },
  {
   "cell_type": "markdown",
   "metadata": {},
   "source": [
    "### change the structure of the MLP model and see if it can do better than XGBoost\n",
    "you will lose at least 50% of the points if you do not complete this"
   ]
  },
  {
   "cell_type": "code",
   "execution_count": 222,
   "metadata": {},
   "outputs": [
    {
     "name": "stdout",
     "output_type": "stream",
     "text": [
      "Model: \"sequential_168\"\n",
      "_________________________________________________________________\n",
      " Layer (type)                Output Shape              Param #   \n",
      "=================================================================\n",
      " dense_714 (Dense)           (None, 200)               2800      \n",
      "                                                                 \n",
      " dense_715 (Dense)           (None, 150)               30150     \n",
      "                                                                 \n",
      " dense_716 (Dense)           (None, 100)               15100     \n",
      "                                                                 \n",
      " dense_717 (Dense)           (None, 64)                6464      \n",
      "                                                                 \n",
      " dense_718 (Dense)           (None, 16)                1040      \n",
      "                                                                 \n",
      " dense_719 (Dense)           (None, 8)                 136       \n",
      "                                                                 \n",
      " dense_720 (Dense)           (None, 1)                 9         \n",
      "                                                                 \n",
      "=================================================================\n",
      "Total params: 55,699\n",
      "Trainable params: 55,699\n",
      "Non-trainable params: 0\n",
      "_________________________________________________________________\n",
      "Epoch 1/50\n",
      "233/233 [==============================] - 1s 3ms/step - loss: 26.9878 - val_loss: 22.1564\n",
      "Epoch 2/50\n",
      "233/233 [==============================] - 1s 3ms/step - loss: 22.8376 - val_loss: 22.2911\n",
      "Epoch 3/50\n",
      "233/233 [==============================] - 1s 3ms/step - loss: 21.9061 - val_loss: 21.3099\n",
      "Epoch 4/50\n",
      "233/233 [==============================] - 1s 2ms/step - loss: 21.2658 - val_loss: 20.2917\n",
      "Epoch 5/50\n",
      "233/233 [==============================] - 1s 2ms/step - loss: 20.8401 - val_loss: 20.4424\n",
      "Epoch 6/50\n",
      "233/233 [==============================] - 1s 3ms/step - loss: 20.6492 - val_loss: 19.6765\n",
      "Epoch 7/50\n",
      "233/233 [==============================] - 1s 2ms/step - loss: 20.4119 - val_loss: 20.2605\n",
      "Epoch 8/50\n",
      "233/233 [==============================] - 1s 3ms/step - loss: 20.2196 - val_loss: 19.5578\n",
      "Epoch 9/50\n",
      "233/233 [==============================] - 1s 3ms/step - loss: 19.9063 - val_loss: 19.5510\n",
      "Epoch 10/50\n",
      "233/233 [==============================] - 1s 2ms/step - loss: 19.9432 - val_loss: 19.0121\n",
      "Epoch 11/50\n",
      "233/233 [==============================] - 1s 3ms/step - loss: 19.6484 - val_loss: 19.5572\n",
      "Epoch 12/50\n",
      "233/233 [==============================] - 1s 3ms/step - loss: 19.5082 - val_loss: 19.6648\n",
      "Epoch 13/50\n",
      "233/233 [==============================] - 1s 3ms/step - loss: 19.6460 - val_loss: 19.3793\n",
      "Epoch 14/50\n",
      "233/233 [==============================] - 1s 3ms/step - loss: 19.4227 - val_loss: 19.2533\n",
      "Epoch 15/50\n",
      "233/233 [==============================] - 1s 3ms/step - loss: 19.2036 - val_loss: 19.1340\n",
      "Epoch 16/50\n",
      "233/233 [==============================] - 1s 3ms/step - loss: 19.0812 - val_loss: 18.6224\n",
      "Epoch 17/50\n",
      "233/233 [==============================] - 1s 2ms/step - loss: 18.9916 - val_loss: 19.9958\n",
      "Epoch 18/50\n",
      "233/233 [==============================] - 1s 3ms/step - loss: 19.0202 - val_loss: 18.7305\n",
      "Epoch 19/50\n",
      "233/233 [==============================] - 1s 3ms/step - loss: 18.7500 - val_loss: 18.5552\n",
      "Epoch 20/50\n",
      "233/233 [==============================] - 1s 3ms/step - loss: 18.5607 - val_loss: 18.3545\n",
      "Epoch 21/50\n",
      "233/233 [==============================] - 1s 3ms/step - loss: 18.6949 - val_loss: 18.3989\n",
      "Epoch 22/50\n",
      "233/233 [==============================] - 1s 3ms/step - loss: 18.5805 - val_loss: 18.6730\n",
      "Epoch 23/50\n",
      "233/233 [==============================] - 1s 3ms/step - loss: 18.4105 - val_loss: 18.1777\n",
      "Epoch 24/50\n",
      "233/233 [==============================] - 1s 2ms/step - loss: 18.2352 - val_loss: 18.8428\n",
      "Epoch 25/50\n",
      "233/233 [==============================] - 1s 3ms/step - loss: 18.2232 - val_loss: 19.1550\n",
      "Epoch 26/50\n",
      "233/233 [==============================] - 1s 3ms/step - loss: 18.1668 - val_loss: 17.9394\n",
      "Epoch 27/50\n",
      "233/233 [==============================] - 1s 2ms/step - loss: 18.1178 - val_loss: 18.0005\n",
      "Epoch 28/50\n",
      "233/233 [==============================] - 1s 2ms/step - loss: 17.9775 - val_loss: 18.6094\n",
      "Epoch 29/50\n",
      "233/233 [==============================] - 1s 3ms/step - loss: 18.0211 - val_loss: 18.0300\n",
      "Epoch 30/50\n",
      "233/233 [==============================] - 1s 3ms/step - loss: 17.7310 - val_loss: 18.0386\n",
      "Epoch 31/50\n",
      "233/233 [==============================] - 1s 2ms/step - loss: 17.6993 - val_loss: 17.8956\n",
      "Epoch 32/50\n",
      "233/233 [==============================] - 1s 2ms/step - loss: 17.8356 - val_loss: 18.4193\n",
      "Epoch 33/50\n",
      "233/233 [==============================] - 1s 3ms/step - loss: 17.7425 - val_loss: 17.6704\n",
      "Epoch 34/50\n",
      "233/233 [==============================] - 1s 3ms/step - loss: 17.7097 - val_loss: 18.0238\n",
      "Epoch 35/50\n",
      "233/233 [==============================] - 1s 3ms/step - loss: 17.3751 - val_loss: 17.6352\n",
      "Epoch 36/50\n",
      "233/233 [==============================] - 1s 2ms/step - loss: 17.4142 - val_loss: 18.1503\n",
      "Epoch 37/50\n",
      "233/233 [==============================] - 1s 3ms/step - loss: 17.3531 - val_loss: 17.8975\n",
      "Epoch 38/50\n",
      "233/233 [==============================] - 1s 3ms/step - loss: 17.2996 - val_loss: 17.6695\n",
      "Epoch 39/50\n",
      "233/233 [==============================] - 1s 3ms/step - loss: 17.1227 - val_loss: 18.3324\n",
      "Epoch 40/50\n",
      "233/233 [==============================] - 1s 3ms/step - loss: 17.2286 - val_loss: 17.8089\n",
      "Epoch 41/50\n",
      "233/233 [==============================] - 1s 3ms/step - loss: 17.0053 - val_loss: 17.8871\n",
      "Epoch 42/50\n",
      "233/233 [==============================] - 1s 3ms/step - loss: 17.1008 - val_loss: 17.6940\n",
      "Epoch 43/50\n",
      "233/233 [==============================] - 1s 3ms/step - loss: 17.1134 - val_loss: 17.3153\n",
      "Epoch 44/50\n",
      "233/233 [==============================] - 1s 2ms/step - loss: 16.7634 - val_loss: 17.3755\n",
      "Epoch 45/50\n",
      "233/233 [==============================] - 1s 3ms/step - loss: 16.7495 - val_loss: 17.5045\n",
      "Epoch 46/50\n",
      "233/233 [==============================] - 1s 3ms/step - loss: 16.7210 - val_loss: 17.4003\n",
      "Epoch 47/50\n",
      "233/233 [==============================] - 1s 2ms/step - loss: 16.6897 - val_loss: 18.0034\n",
      "Epoch 48/50\n",
      "233/233 [==============================] - 1s 3ms/step - loss: 16.7015 - val_loss: 17.1296\n",
      "Epoch 49/50\n",
      "233/233 [==============================] - 1s 2ms/step - loss: 16.5798 - val_loss: 17.8112\n",
      "Epoch 50/50\n",
      "233/233 [==============================] - 1s 2ms/step - loss: 16.6055 - val_loss: 17.2354\n",
      "Test loss: 17.474884033203125\n",
      "MSE= 0.012739426\n",
      "MAE= 0.07116701\n",
      "MAPE= 0.17474882\n",
      "Evaluate model on testing set\n"
     ]
    },
    {
     "data": {
      "text/plain": [
       "Text(0, 0.5, 'Y_ptest')"
      ]
     },
     "execution_count": 222,
     "metadata": {},
     "output_type": "execute_result"
    },
    {
     "data": {
      "image/png": "[encoded data removed]",
      "text/plain": [
       "<Figure size 432x288 with 1 Axes>"
      ]
     },
     "metadata": {
      "needs_background": "light"
     },
     "output_type": "display_data"
    }
   ],
   "source": [
    "#define a new model\n",
    "#train, validate and test the model\n",
    "#compare it with XGBoost in homework #3\n",
    "    \n",
    "modelBest = Sequential()\n",
    "modelBest.add(Dense(units=200, activation='relu', input_shape=(13,)))\n",
    "modelBest.add(Dense(units=150, activation='relu'))\n",
    "modelBest.add(Dense(units=100, activation='relu'))\n",
    "modelBest.add(Dense(units=64, activation='relu'))\n",
    "modelBest.add(Dense(units=16, activation='relu'))\n",
    "modelBest.add(Dense(units=8, activation='relu'))\n",
    "modelBest.add(Dense(units=1, activation='linear'))\n",
    "modelBest.compile(loss='mean_absolute_percentage_error', optimizer=Adam(learning_rate=.001, decay=1e-4))\n",
    "modelBest.summary()\n",
    "\n",
    "loss_train_list=[]\n",
    "loss_val_list=[]\n",
    "\n",
    "\n",
    "history=modelBest.fit(X_train, Y_train, batch_size=64, epochs=50, validation_data=(X_val, Y_val))\n",
    "loss_train_list.extend(history.history['loss'])\n",
    "loss_val_list.extend(history.history['val_loss'])\n",
    "    \n",
    "# get the loss on test set\n",
    "score = modelBest.evaluate(X_test, Y_test, batch_size=64, verbose=0)\n",
    "print('Test loss:', score)\n",
    "\n",
    "#get the prediction Yp_test by using model.predict\n",
    "Yp_test=modelBest.predict(X_test, batch_size=64)\n",
    "Yp_test=Yp_test.squeeze()\n",
    "\n",
    "# compute MSE, MAE and MAPE on the test set\n",
    "MSE = np.mean((Y_test - Yp_test)**2)\n",
    "MAE = np.mean(np.abs(Y_test - Yp_test))\n",
    "MAPE =  np.mean(np.abs(Y_test - Yp_test)/Y_test)\n",
    "print('MSE=', MSE)\n",
    "print('MAE=', MAE)\n",
    "print('MAPE=', MAPE)\n",
    "\n",
    "# plot Yp_test vs Y_test\n",
    "# the red line is the 45-degree line\n",
    "print('Evaluate model on testing set')\n",
    "\n",
    "fig, ax = plt.subplots()\n",
    "ax.set_title('Y_test vs Yp_test')\n",
    "ax.plot(Y_test, Yp_test, '.')\n",
    "ymax=np.max([Y_test.max(), Yp_test.max()])\n",
    "ax.plot(np.linspace(0,ymax, 3), np.linspace(0, ymax, 3), '-r')\n",
    "ax.set_xlabel('Y_test')\n",
    "ax.set_ylabel('Y_ptest')"
   ]
  },
  {
   "cell_type": "code",
   "execution_count": 225,
   "metadata": {},
   "outputs": [
    {
     "name": "stdout",
     "output_type": "stream",
     "text": [
      "Keras MAPE= 0.17474882    vs XGB MAPE=0.1788979\n"
     ]
    }
   ],
   "source": [
    "print('Keras MAPE=', MAPE, '   vs   XGB MAPE=0.1788979')"
   ]
  }
 ],
 "metadata": {
  "colab": {
   "name": "Untitled4.ipynb",
   "provenance": []
  },
  "kernelspec": {
   "display_name": "Python 3",
   "language": "python",
   "name": "python3"
  },
  "language_info": {
   "codemirror_mode": {
    "name": "ipython",
    "version": 3
   },
   "file_extension": ".py",
   "mimetype": "text/x-python",
   "name": "python",
   "nbconvert_exporter": "python",
   "pygments_lexer": "ipython3",
   "version": "3.8.5"
  }
 },
 "nbformat": 4,
 "nbformat_minor": 1
}
