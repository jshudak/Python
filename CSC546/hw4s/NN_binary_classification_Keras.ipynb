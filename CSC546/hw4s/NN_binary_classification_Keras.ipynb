{
  "cells": [
    {
      "cell_type": "markdown",
      "metadata": {
        "id": "_HLbjnNJVWWG"
      },
      "source": [
        "## Binary Classification using a neural network with Keras\n",
        "using binary_crossentropy loss in Keras"
      ]
    },
    {
      "cell_type": "code",
      "execution_count": 1,
      "metadata": {
        "id": "5RVwHZStVWWJ"
      },
      "outputs": [],
      "source": [
        "from tensorflow.keras.models import Sequential\n",
        "from tensorflow.keras.layers import Dense\n",
        "from tensorflow.keras.optimizers import SGD\n",
        "from tensorflow.keras.datasets import mnist\n",
        "import matplotlib.pyplot as plt\n",
        "from IPython import display\n",
        "import numpy as np"
      ]
    },
    {
      "cell_type": "markdown",
      "metadata": {
        "id": "E_OYXT-tVWWN"
      },
      "source": [
        "### Load the data"
      ]
    },
    {
      "cell_type": "code",
      "execution_count": 2,
      "metadata": {
        "colab": {
          "base_uri": "https://localhost:8080/"
        },
        "id": "3glTYfiPVWWO",
        "outputId": "79ee73eb-50dd-44ba-8368-2838dab6b3d4"
      },
      "outputs": [
        {
          "output_type": "stream",
          "name": "stdout",
          "text": [
            "Downloading data from https://storage.googleapis.com/tensorflow/tf-keras-datasets/mnist.npz\n",
            "11493376/11490434 [==============================] - 0s 0us/step\n",
            "11501568/11490434 [==============================] - 0s 0us/step\n"
          ]
        }
      ],
      "source": [
        "(x_train, y_train), (x_test, y_test) = mnist.load_data()"
      ]
    },
    {
      "cell_type": "code",
      "execution_count": 3,
      "metadata": {
        "colab": {
          "base_uri": "https://localhost:8080/"
        },
        "id": "5hNw93LDVWWO",
        "outputId": "9c102e90-279e-4121-fc63-c2d01a0064a5"
      },
      "outputs": [
        {
          "output_type": "execute_result",
          "data": {
            "text/plain": [
              "(28, 28)"
            ]
          },
          "metadata": {},
          "execution_count": 3
        }
      ],
      "source": [
        "x_train[0].shape"
      ]
    },
    {
      "cell_type": "code",
      "execution_count": 4,
      "metadata": {
        "colab": {
          "base_uri": "https://localhost:8080/"
        },
        "id": "hJBj0gaBVWWP",
        "outputId": "2b3eccb5-dc34-4c31-bcda-798e1f2ed164"
      },
      "outputs": [
        {
          "output_type": "execute_result",
          "data": {
            "text/plain": [
              "255"
            ]
          },
          "metadata": {},
          "execution_count": 4
        }
      ],
      "source": [
        "x_train[0].max()"
      ]
    },
    {
      "cell_type": "code",
      "execution_count": 5,
      "metadata": {
        "colab": {
          "base_uri": "https://localhost:8080/"
        },
        "id": "u1DmGIMiVWWQ",
        "outputId": "987ebd0f-5a1a-4520-fd09-cf7dca6ef591"
      },
      "outputs": [
        {
          "output_type": "stream",
          "name": "stdout",
          "text": [
            "60000 training samples\n",
            "10000 test samples\n"
          ]
        }
      ],
      "source": [
        "#reshape\n",
        "x_train = x_train.reshape(60000, 784)\n",
        "x_test = x_test.reshape(10000, 784)\n",
        "x_train = x_train.astype('float32')\n",
        "x_test = x_test.astype('float32')\n",
        "#normalize the value of every pixel into the range of 0 to 1\n",
        "x_train /= 255\n",
        "x_test /= 255\n",
        "print(x_train.shape[0], 'training samples')\n",
        "print(x_test.shape[0], 'test samples')"
      ]
    },
    {
      "cell_type": "markdown",
      "metadata": {
        "id": "WqjekZ6EVWWQ"
      },
      "source": [
        "We choose class-0 and class-1 for binary classification"
      ]
    },
    {
      "cell_type": "code",
      "execution_count": 6,
      "metadata": {
        "id": "wJc_RAkEVWWR"
      },
      "outputs": [],
      "source": [
        "x_train=x_train[(y_train==0)|(y_train==1)]\n",
        "y_train=y_train[(y_train==0)|(y_train==1)]\n",
        "x_test=x_test[(y_test==0)|(y_test==1)]\n",
        "y_test=y_test[(y_test==0)|(y_test==1)]"
      ]
    },
    {
      "cell_type": "code",
      "execution_count": 7,
      "metadata": {
        "colab": {
          "base_uri": "https://localhost:8080/"
        },
        "id": "ReMpl-xgVWWS",
        "outputId": "6fb6cd8a-8645-4297-9ab0-661994a6b5b0"
      },
      "outputs": [
        {
          "output_type": "execute_result",
          "data": {
            "text/plain": [
              "(12665, 784)"
            ]
          },
          "metadata": {},
          "execution_count": 7
        }
      ],
      "source": [
        "x_train.shape"
      ]
    },
    {
      "cell_type": "code",
      "execution_count": 8,
      "metadata": {
        "colab": {
          "base_uri": "https://localhost:8080/"
        },
        "id": "oTTrKcmdVWWS",
        "outputId": "bf4eb55a-d8ec-48e2-f4f9-039a37f4146b"
      },
      "outputs": [
        {
          "output_type": "execute_result",
          "data": {
            "text/plain": [
              "(2115, 784)"
            ]
          },
          "metadata": {},
          "execution_count": 8
        }
      ],
      "source": [
        "x_test.shape"
      ]
    },
    {
      "cell_type": "markdown",
      "metadata": {
        "id": "-858ToftVWWT"
      },
      "source": [
        "create a validation set"
      ]
    },
    {
      "cell_type": "code",
      "execution_count": 9,
      "metadata": {
        "colab": {
          "base_uri": "https://localhost:8080/"
        },
        "id": "OMsAZzSBVWWT",
        "outputId": "abb88326-aa7e-446c-d9c1-ce3bd9b8871c"
      },
      "outputs": [
        {
          "output_type": "stream",
          "name": "stdout",
          "text": [
            "train: (11398, 784) (11398,)\n",
            "validation: (1267, 784) (1267,)\n",
            "test: (2115, 784) (2115,)\n"
          ]
        }
      ],
      "source": [
        "from sklearn.model_selection import train_test_split\n",
        "x_train, x_val, y_train, y_val = train_test_split(x_train, y_train, test_size=0.1, random_state=0)\n",
        "print('train:', x_train.shape, y_train.shape)\n",
        "print('validation:', x_val.shape, y_val.shape)\n",
        "print('test:', x_test.shape, y_test.shape)"
      ]
    },
    {
      "cell_type": "markdown",
      "metadata": {
        "id": "Do4romjkVWWU"
      },
      "source": [
        "### Show the digit images"
      ]
    },
    {
      "cell_type": "code",
      "execution_count": 10,
      "metadata": {
        "colab": {
          "base_uri": "https://localhost:8080/",
          "height": 230
        },
        "id": "U9pY7RxWVWWU",
        "outputId": "59c7f08a-d2dc-4689-c774-5eadda4d284b"
      },
      "outputs": [
        {
          "output_type": "display_data",
          "data": {
            "text/plain": [
              "<Figure size 216x216 with 1 Axes>"
            ],
            "image/png": "[encoded data removed]"
          },
          "metadata": {}
        },
        {
          "output_type": "display_data",
          "data": {
            "text/plain": [
              "<Figure size 432x288 with 0 Axes>"
            ]
          },
          "metadata": {}
        }
      ],
      "source": [
        "fig, ax = plt.subplots(figsize=(3, 3))\n",
        "for n in range(0, x_train.shape[0], 1000):\n",
        "    I = x_train[n,:].reshape(28,28)\n",
        "    ax.imshow(I, cmap='gray')\n",
        "    ax.set_title('label: ' + str(int(y_train[n])), fontsize=16)\n",
        "    ax.axis('off')\n",
        "    plt.draw()\n",
        "    display.clear_output(wait=True)\n",
        "    display.display(fig)\n",
        "    plt.pause(0.1) "
      ]
    },
    {
      "cell_type": "code",
      "execution_count": 11,
      "metadata": {
        "colab": {
          "base_uri": "https://localhost:8080/",
          "height": 283
        },
        "id": "wzxTEC58VWWV",
        "outputId": "644b0573-f600-419d-be39-2a994f246316"
      },
      "outputs": [
        {
          "output_type": "execute_result",
          "data": {
            "text/plain": [
              "<matplotlib.image.AxesImage at 0x7fadca8d6f50>"
            ]
          },
          "metadata": {},
          "execution_count": 11
        },
        {
          "output_type": "display_data",
          "data": {
            "text/plain": [
              "<Figure size 432x288 with 1 Axes>"
            ],
            "image/png": "[encoded data removed]"
          },
          "metadata": {
            "needs_background": "light"
          }
        }
      ],
      "source": [
        "#the first image in the training set\n",
        "plt.imshow(x_train[0].reshape(28,28), cmap='gray')"
      ]
    },
    {
      "cell_type": "code",
      "execution_count": 12,
      "metadata": {
        "colab": {
          "base_uri": "https://localhost:8080/"
        },
        "id": "gmTY-3WQVWWW",
        "outputId": "230bd22d-7905-47d1-89f5-6437d89d8067"
      },
      "outputs": [
        {
          "output_type": "execute_result",
          "data": {
            "text/plain": [
              "0"
            ]
          },
          "metadata": {},
          "execution_count": 12
        }
      ],
      "source": [
        "#the class label of the first training sample\n",
        "y_train[0]"
      ]
    },
    {
      "cell_type": "markdown",
      "metadata": {
        "id": "VKo5qKbdVWWX"
      },
      "source": [
        "### Define the MLP model\n",
        "https://github.com/keras-team/keras/issues/7678 <br>\n",
        "we do not need to set the parameter \"from_logits\" for binary_crossentropy"
      ]
    },
    {
      "cell_type": "code",
      "execution_count": 13,
      "metadata": {
        "colab": {
          "base_uri": "https://localhost:8080/"
        },
        "id": "WzARjcJ8VWWX",
        "outputId": "af78e2cc-66b6-46d2-d37a-f8c931cbc239"
      },
      "outputs": [
        {
          "output_type": "stream",
          "name": "stdout",
          "text": [
            "Model: \"sequential\"\n",
            "_________________________________________________________________\n",
            " Layer (type)                Output Shape              Param #   \n",
            "=================================================================\n",
            " dense (Dense)               (None, 256)               200960    \n",
            "                                                                 \n",
            " dense_1 (Dense)             (None, 256)               65792     \n",
            "                                                                 \n",
            " dense_2 (Dense)             (None, 1)                 257       \n",
            "                                                                 \n",
            "=================================================================\n",
            "Total params: 267,009\n",
            "Trainable params: 267,009\n",
            "Non-trainable params: 0\n",
            "_________________________________________________________________\n"
          ]
        },
        {
          "output_type": "stream",
          "name": "stderr",
          "text": [
            "/usr/local/lib/python3.7/dist-packages/keras/optimizer_v2/gradient_descent.py:102: UserWarning: The `lr` argument is deprecated, use `learning_rate` instead.\n",
            "  super(SGD, self).__init__(name, **kwargs)\n"
          ]
        }
      ],
      "source": [
        "model = Sequential()\n",
        "model.add(Dense(units=256, activation='relu', input_shape=(784,)))\n",
        "model.add(Dense(units=256, activation='relu'))\n",
        "model.add(Dense(units=1,  activation='sigmoid'))\n",
        "model.compile(loss='binary_crossentropy', optimizer=SGD(lr=0.01, momentum=0.9),\n",
        "              metrics=['accuracy'])\n",
        "model.summary()"
      ]
    },
    {
      "cell_type": "code",
      "execution_count": 14,
      "metadata": {
        "id": "6JeuelnbVWWY"
      },
      "outputs": [],
      "source": [
        "loss_train_list=[]\n",
        "loss_val_list=[]\n",
        "acc_train_list=[]\n",
        "acc_val_list=[]"
      ]
    },
    {
      "cell_type": "markdown",
      "metadata": {
        "id": "UTwO9rNqVWWZ"
      },
      "source": [
        "### Train the model\n",
        "https://keras.io/getting-started/faq/#how-can-i-save-a-keras-model"
      ]
    },
    {
      "cell_type": "code",
      "execution_count": 15,
      "metadata": {
        "scrolled": false,
        "colab": {
          "base_uri": "https://localhost:8080/"
        },
        "id": "YftfB0WmVWWZ",
        "outputId": "9e9ce440-39fc-4188-9bc4-5abafadfcd80"
      },
      "outputs": [
        {
          "output_type": "stream",
          "name": "stdout",
          "text": [
            "epoch 0\n",
            "179/179 [==============================] - 2s 7ms/step - loss: 0.0521 - accuracy: 0.9824 - val_loss: 0.0056 - val_accuracy: 0.9984\n",
            "epoch 1\n",
            "179/179 [==============================] - 1s 7ms/step - loss: 0.0056 - accuracy: 0.9988 - val_loss: 0.0047 - val_accuracy: 0.9984\n",
            "epoch 2\n",
            "179/179 [==============================] - 1s 6ms/step - loss: 0.0041 - accuracy: 0.9990 - val_loss: 0.0044 - val_accuracy: 0.9984\n",
            "epoch 3\n",
            "179/179 [==============================] - 1s 7ms/step - loss: 0.0033 - accuracy: 0.9991 - val_loss: 0.0042 - val_accuracy: 0.9992\n",
            "epoch 4\n",
            "179/179 [==============================] - 1s 6ms/step - loss: 0.0028 - accuracy: 0.9994 - val_loss: 0.0041 - val_accuracy: 0.9992\n",
            "epoch 5\n",
            "179/179 [==============================] - 1s 6ms/step - loss: 0.0025 - accuracy: 0.9994 - val_loss: 0.0040 - val_accuracy: 0.9992\n",
            "epoch 6\n",
            "179/179 [==============================] - 1s 7ms/step - loss: 0.0021 - accuracy: 0.9996 - val_loss: 0.0040 - val_accuracy: 0.9984\n",
            "epoch 7\n",
            "179/179 [==============================] - 1s 6ms/step - loss: 0.0019 - accuracy: 0.9995 - val_loss: 0.0038 - val_accuracy: 0.9992\n",
            "epoch 8\n",
            "179/179 [==============================] - 1s 6ms/step - loss: 0.0017 - accuracy: 0.9996 - val_loss: 0.0039 - val_accuracy: 0.9992\n",
            "epoch 9\n",
            "179/179 [==============================] - 1s 7ms/step - loss: 0.0017 - accuracy: 0.9996 - val_loss: 0.0037 - val_accuracy: 0.9992\n"
          ]
        }
      ],
      "source": [
        "for epoch in range(0, 10):   \n",
        "    print('epoch', epoch)\n",
        "    #set epochs=1\n",
        "    history=model.fit(x_train, y_train, batch_size=64, epochs=1, validation_data=(x_val, y_val))\n",
        "    loss_train_list.extend(history.history['loss'])\n",
        "    loss_val_list.extend(history.history['val_loss'])\n",
        "    acc_train_list.extend(history.history['accuracy'])\n",
        "    acc_val_list.extend(history.history['val_accuracy'])\n",
        "    #save the model to a a HDF5 file \n",
        "    model.save('NN_binary_classification_Keras_e'+str(epoch)+'.h5')"
      ]
    },
    {
      "cell_type": "markdown",
      "metadata": {
        "id": "ooz8c3o4VWWb"
      },
      "source": [
        "### Plot training histroy: loss vs epoch and accuracy vs epoch"
      ]
    },
    {
      "cell_type": "code",
      "execution_count": 16,
      "metadata": {
        "colab": {
          "base_uri": "https://localhost:8080/"
        },
        "id": "mFjCRT9HVWWc",
        "outputId": "92e204c4-7562-4744-aa7d-e9e6e5190328"
      },
      "outputs": [
        {
          "output_type": "execute_result",
          "data": {
            "text/plain": [
              "dict_keys(['loss', 'accuracy', 'val_loss', 'val_accuracy'])"
            ]
          },
          "metadata": {},
          "execution_count": 16
        }
      ],
      "source": [
        "history.history.keys()"
      ]
    },
    {
      "cell_type": "code",
      "execution_count": 17,
      "metadata": {
        "colab": {
          "base_uri": "https://localhost:8080/",
          "height": 393
        },
        "id": "56-I7XesVWWc",
        "outputId": "9b3941a3-e6b4-4242-a2a8-239a3b6330b0"
      },
      "outputs": [
        {
          "output_type": "display_data",
          "data": {
            "text/plain": [
              "<Figure size 864x432 with 2 Axes>"
            ],
            "image/png": "[encoded data removed]"
          },
          "metadata": {
            "needs_background": "light"
          }
        }
      ],
      "source": [
        "fig, ax = plt.subplots(1, 2, figsize=(12,6))\n",
        "ax[0].plot(np.arange(0,len(loss_train_list)), loss_train_list, '-b', label='training loss')\n",
        "ax[0].plot(np.arange(0,len(loss_val_list)), loss_val_list, '-r', label='validation loss')\n",
        "ax[0].set_xlabel('epoch',fontsize=16)\n",
        "ax[0].legend(fontsize=16)\n",
        "ax[0].grid(True)\n",
        "ax[1].plot(np.arange(0,len(acc_train_list)), acc_train_list, '-b', label='training accuracy')\n",
        "ax[1].plot(np.arange(0,len(acc_val_list)), acc_val_list, '-r', label='validation accuracy')\n",
        "ax[1].set_xlabel('epoch',fontsize=16)\n",
        "ax[1].legend(fontsize=16)\n",
        "ax[1].grid(True)"
      ]
    },
    {
      "cell_type": "markdown",
      "metadata": {
        "id": "IBWKYozhVWWc"
      },
      "source": [
        "after training, we load the best model"
      ]
    },
    {
      "cell_type": "code",
      "source": [
        "np.argmax(acc_val_list)"
      ],
      "metadata": {
        "colab": {
          "base_uri": "https://localhost:8080/"
        },
        "id": "oHwOCDUIV7rd",
        "outputId": "70fa98de-decd-493f-e097-152ead5579e2"
      },
      "execution_count": 24,
      "outputs": [
        {
          "output_type": "execute_result",
          "data": {
            "text/plain": [
              "3"
            ]
          },
          "metadata": {},
          "execution_count": 24
        }
      ]
    },
    {
      "cell_type": "code",
      "execution_count": 25,
      "metadata": {
        "id": "w_SwsZBUVWWd"
      },
      "outputs": [],
      "source": [
        "from tensorflow.keras.models import load_model\n",
        "model = load_model('NN_binary_classification_Keras_e3.h5')"
      ]
    },
    {
      "cell_type": "markdown",
      "metadata": {
        "id": "JnltxhurVWWd"
      },
      "source": [
        "### Test the model"
      ]
    },
    {
      "cell_type": "code",
      "execution_count": 26,
      "metadata": {
        "colab": {
          "base_uri": "https://localhost:8080/"
        },
        "id": "hSe_PM_GVWWd",
        "outputId": "d2b57cd9-7ed5-471a-a945-9f8f002246cd"
      },
      "outputs": [
        {
          "output_type": "stream",
          "name": "stdout",
          "text": [
            "Test loss: 0.002283829730004072\n",
            "Test accuracy: 0.9990543723106384\n"
          ]
        }
      ],
      "source": [
        "score = model.evaluate(x_test, y_test, batch_size=64, verbose=0)\n",
        "print('Test loss:', score[0])\n",
        "print('Test accuracy:', score[1])"
      ]
    },
    {
      "cell_type": "markdown",
      "metadata": {
        "id": "TU5PDtTLVWWe"
      },
      "source": [
        "### Make Prediction on the test set"
      ]
    },
    {
      "cell_type": "code",
      "execution_count": 27,
      "metadata": {
        "id": "ZQ3uPwluVWWe"
      },
      "outputs": [],
      "source": [
        "y_test_pred=model.predict(x_test, batch_size=64)"
      ]
    },
    {
      "cell_type": "code",
      "execution_count": 28,
      "metadata": {
        "colab": {
          "base_uri": "https://localhost:8080/",
          "height": 283
        },
        "id": "SMyKkwj8VWWe",
        "outputId": "6c963ea9-bc29-48bf-f649-d7d84d0fc13a"
      },
      "outputs": [
        {
          "output_type": "execute_result",
          "data": {
            "text/plain": [
              "<matplotlib.image.AxesImage at 0x7fadc4d95bd0>"
            ]
          },
          "metadata": {},
          "execution_count": 28
        },
        {
          "output_type": "display_data",
          "data": {
            "text/plain": [
              "<Figure size 432x288 with 1 Axes>"
            ],
            "image/png": "[encoded data removed]"
          },
          "metadata": {
            "needs_background": "light"
          }
        }
      ],
      "source": [
        "#the first image in the test set\n",
        "plt.imshow(x_test[0].reshape(28,28), cmap='gray')"
      ]
    },
    {
      "cell_type": "code",
      "execution_count": 29,
      "metadata": {
        "colab": {
          "base_uri": "https://localhost:8080/"
        },
        "id": "itqiY3qNVWWe",
        "outputId": "fb512c09-19e5-46df-9908-fa1bbe47f1d7"
      },
      "outputs": [
        {
          "output_type": "execute_result",
          "data": {
            "text/plain": [
              "array([0.9996128], dtype=float32)"
            ]
          },
          "metadata": {},
          "execution_count": 29
        }
      ],
      "source": [
        "y_test_pred[0]"
      ]
    },
    {
      "cell_type": "code",
      "execution_count": 30,
      "metadata": {
        "colab": {
          "base_uri": "https://localhost:8080/"
        },
        "id": "E92O2fSuVWWf",
        "outputId": "211e8311-6cd5-4f0c-ca56-049e798e246f"
      },
      "outputs": [
        {
          "output_type": "execute_result",
          "data": {
            "text/plain": [
              "1"
            ]
          },
          "metadata": {},
          "execution_count": 30
        }
      ],
      "source": [
        "y_test[0]"
      ]
    }
  ],
  "metadata": {
    "kernelspec": {
      "display_name": "Python 3",
      "language": "python",
      "name": "python3"
    },
    "language_info": {
      "codemirror_mode": {
        "name": "ipython",
        "version": 3
      },
      "file_extension": ".py",
      "mimetype": "text/x-python",
      "name": "python",
      "nbconvert_exporter": "python",
      "pygments_lexer": "ipython3",
      "version": "3.8.5"
    },
    "colab": {
      "name": "NN_binary_classification_Keras.ipynb",
      "provenance": []
    }
  },
  "nbformat": 4,
  "nbformat_minor": 0
}