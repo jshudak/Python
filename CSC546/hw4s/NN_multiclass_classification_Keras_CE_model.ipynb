{
 "cells": [
  {
   "cell_type": "markdown",
   "metadata": {
    "id": "b5YAQ4TIXtUp"
   },
   "source": [
    "## Multiclass Classification using a neural network with Keras\n",
    "using categorical_crossentropy loss in Keras <br>\n",
    "use sub-class https://keras.io/models/about-keras-models/"
   ]
  },
  {
   "cell_type": "code",
   "execution_count": 1,
   "metadata": {
    "id": "5BRbDBUPXtUy"
   },
   "outputs": [],
   "source": [
    "from tensorflow.keras.models import Sequential\n",
    "from tensorflow.keras.layers import Dense\n",
    "from tensorflow.keras.optimizers import SGD\n",
    "from tensorflow.keras.datasets import mnist\n",
    "import matplotlib.pyplot as plt\n",
    "from IPython import display\n",
    "import numpy as np"
   ]
  },
  {
   "cell_type": "markdown",
   "metadata": {
    "id": "tTHHIf2VXtU-"
   },
   "source": [
    "### Load the data"
   ]
  },
  {
   "cell_type": "code",
   "execution_count": 2,
   "metadata": {
    "colab": {
     "base_uri": "https://localhost:8080/"
    },
    "id": "MFma3sFTXtVD",
    "outputId": "a751d214-b25e-4735-d94d-66dca2861028"
   },
   "outputs": [
    {
     "name": "stdout",
     "output_type": "stream",
     "text": [
      "Downloading data from https://storage.googleapis.com/tensorflow/tf-keras-datasets/mnist.npz\n",
      "11493376/11490434 [==============================] - 0s 0us/step\n",
      "11501568/11490434 [==============================] - 0s 0us/step\n"
     ]
    }
   ],
   "source": [
    "(x_train, y_train), (x_test, y_test) = mnist.load_data()"
   ]
  },
  {
   "cell_type": "code",
   "execution_count": 3,
   "metadata": {
    "colab": {
     "base_uri": "https://localhost:8080/"
    },
    "id": "eTAN8ymlXtVI",
    "outputId": "8ed105c1-e597-448e-c5f6-aa8d760e8823"
   },
   "outputs": [
    {
     "data": {
      "text/plain": [
       "(28, 28)"
      ]
     },
     "execution_count": 3,
     "metadata": {},
     "output_type": "execute_result"
    }
   ],
   "source": [
    "x_train[0].shape"
   ]
  },
  {
   "cell_type": "code",
   "execution_count": 4,
   "metadata": {
    "colab": {
     "base_uri": "https://localhost:8080/"
    },
    "id": "E9TZGknZXtVN",
    "outputId": "34a591c7-184c-4f85-f49a-261a5bce6a2d"
   },
   "outputs": [
    {
     "data": {
      "text/plain": [
       "255"
      ]
     },
     "execution_count": 4,
     "metadata": {},
     "output_type": "execute_result"
    }
   ],
   "source": [
    "x_train[0].max()"
   ]
  },
  {
   "cell_type": "code",
   "execution_count": 5,
   "metadata": {
    "colab": {
     "base_uri": "https://localhost:8080/"
    },
    "id": "tiim_QlFXtVR",
    "outputId": "d0cf5572-99ce-45cd-8440-f9df2f856f86"
   },
   "outputs": [
    {
     "name": "stdout",
     "output_type": "stream",
     "text": [
      "60000 training samples\n",
      "10000 test samples\n"
     ]
    }
   ],
   "source": [
    "#reshape\n",
    "x_train = x_train.reshape(60000, 784)\n",
    "x_test = x_test.reshape(10000, 784)\n",
    "x_train = x_train.astype('float32')\n",
    "x_test = x_test.astype('float32')\n",
    "#normalize the value of every pixel into the range of 0 to 1\n",
    "x_train /= 255\n",
    "x_test /= 255\n",
    "print(x_train.shape[0], 'training samples')\n",
    "print(x_test.shape[0], 'test samples')"
   ]
  },
  {
   "cell_type": "markdown",
   "metadata": {
    "id": "iYzQUJOsXtVU"
   },
   "source": [
    "create a validation set"
   ]
  },
  {
   "cell_type": "code",
   "execution_count": 6,
   "metadata": {
    "colab": {
     "base_uri": "https://localhost:8080/"
    },
    "id": "d3IhbsunXtVZ",
    "outputId": "5e35823d-ca0c-4516-d44d-a60d022c842f"
   },
   "outputs": [
    {
     "name": "stdout",
     "output_type": "stream",
     "text": [
      "train: (54000, 784) (54000,)\n",
      "validation: (6000, 784) (6000,)\n",
      "test: (10000, 784) (10000,)\n"
     ]
    }
   ],
   "source": [
    "from sklearn.model_selection import train_test_split\n",
    "x_train, x_val, y_train, y_val = train_test_split(x_train, y_train, test_size=0.1, random_state=0)\n",
    "print('train:', x_train.shape, y_train.shape)\n",
    "print('validation:', x_val.shape, y_val.shape)\n",
    "print('test:', x_test.shape, y_test.shape)"
   ]
  },
  {
   "cell_type": "markdown",
   "metadata": {
    "id": "igR7DCXXXtVf"
   },
   "source": [
    "### Show the digit images"
   ]
  },
  {
   "cell_type": "code",
   "execution_count": 7,
   "metadata": {
    "colab": {
     "base_uri": "https://localhost:8080/",
     "height": 230
    },
    "id": "1Vt_snUtXtVh",
    "outputId": "3cf7d21c-9e84-4d2f-8c7e-2a3857db681b"
   },
   "outputs": [
    {
     "data": {
      "image/png": "[encoded data removed]",
      "text/plain": [
       "<Figure size 216x216 with 1 Axes>"
      ]
     },
     "metadata": {},
     "output_type": "display_data"
    },
    {
     "data": {
      "text/plain": [
       "<Figure size 432x288 with 0 Axes>"
      ]
     },
     "metadata": {},
     "output_type": "display_data"
    }
   ],
   "source": [
    "fig, ax = plt.subplots(figsize=(3, 3))\n",
    "for n in range(0, x_train.shape[0], 1000):\n",
    "    I = x_train[n,:].reshape(28,28)\n",
    "    ax.imshow(I, cmap='gray')\n",
    "    ax.set_title('label: ' + str(int(y_train[n])), fontsize=16)\n",
    "    ax.axis('off')\n",
    "    plt.draw()\n",
    "    display.clear_output(wait=True)\n",
    "    display.display(fig)\n",
    "    plt.pause(0.1) "
   ]
  },
  {
   "cell_type": "code",
   "execution_count": 8,
   "metadata": {
    "colab": {
     "base_uri": "https://localhost:8080/",
     "height": 283
    },
    "id": "FhbMae9VXtVk",
    "outputId": "16b8cc75-7aa0-4202-ea78-99ee1bfdab4c"
   },
   "outputs": [
    {
     "data": {
      "text/plain": [
       "<matplotlib.image.AxesImage at 0x7f0d47ead490>"
      ]
     },
     "execution_count": 8,
     "metadata": {},
     "output_type": "execute_result"
    },
    {
     "data": {
      "image/png": "[encoded data removed]",
      "text/plain": [
       "<Figure size 432x288 with 1 Axes>"
      ]
     },
     "metadata": {
      "needs_background": "light"
     },
     "output_type": "display_data"
    }
   ],
   "source": [
    "#the first image in the training set\n",
    "plt.imshow(x_train[0].reshape(28,28), cmap='gray')"
   ]
  },
  {
   "cell_type": "code",
   "execution_count": 9,
   "metadata": {
    "colab": {
     "base_uri": "https://localhost:8080/"
    },
    "id": "o3edJ-BfXtVp",
    "outputId": "642b44c6-ef9a-4a25-c022-be122e626b36"
   },
   "outputs": [
    {
     "data": {
      "text/plain": [
       "7"
      ]
     },
     "execution_count": 9,
     "metadata": {},
     "output_type": "execute_result"
    }
   ],
   "source": [
    "#the class label of the first training sample\n",
    "y_train[0]"
   ]
  },
  {
   "cell_type": "code",
   "execution_count": 11,
   "metadata": {
    "id": "T3BK2gYGXtVr"
   },
   "outputs": [],
   "source": [
    "# apply one-hot encoding to the training, validation, and test set\n",
    "import tensorflow.keras as keras\n",
    "y_train = keras.utils.to_categorical(y_train, 10)\n",
    "y_val = keras.utils.to_categorical(y_val, 10)\n",
    "y_test = keras.utils.to_categorical(y_test, 10)"
   ]
  },
  {
   "cell_type": "code",
   "execution_count": 12,
   "metadata": {
    "colab": {
     "base_uri": "https://localhost:8080/"
    },
    "id": "UaVxs4uaXtVt",
    "outputId": "fdf86476-d693-4dbb-aea0-48ebbc473104"
   },
   "outputs": [
    {
     "data": {
      "text/plain": [
       "array([0., 0., 0., 0., 0., 0., 0., 1., 0., 0.], dtype=float32)"
      ]
     },
     "execution_count": 12,
     "metadata": {},
     "output_type": "execute_result"
    }
   ],
   "source": [
    "# to use categorical_crossentropy loss in Keras\n",
    "# we convert every class label into a one-hot vector of 10 elements (there are 10 classes)\n",
    "y_train[0]"
   ]
  },
  {
   "cell_type": "markdown",
   "metadata": {
    "id": "UGGQuwhTXtVu"
   },
   "source": [
    "### Define the MLP model"
   ]
  },
  {
   "cell_type": "code",
   "execution_count": 13,
   "metadata": {
    "colab": {
     "base_uri": "https://localhost:8080/"
    },
    "id": "KSWJsDSdXtVw",
    "outputId": "49bc7ac5-b3a3-49b6-d4eb-41c5cbb27073"
   },
   "outputs": [
    {
     "name": "stderr",
     "output_type": "stream",
     "text": [
      "/usr/local/lib/python3.7/dist-packages/keras/optimizer_v2/gradient_descent.py:102: UserWarning: The `lr` argument is deprecated, use `learning_rate` instead.\n",
      "  super(SGD, self).__init__(name, **kwargs)\n"
     ]
    }
   ],
   "source": [
    "class MLP(keras.Model):\n",
    "\n",
    "    def __init__(self):\n",
    "        super().__init__()\n",
    "        self.dense1 = keras.layers.Dense(256, activation='relu', input_shape=(784,))\n",
    "        self.dense2 = keras.layers.Dense(256, activation='relu')\n",
    "        self.dense3 = keras.layers.Dense(10, activation='softmax')\n",
    "    #call is similar to forward in Pytorch\n",
    "    def call(self, x):\n",
    "        x = self.dense1(x)\n",
    "        #print(x.shape)\n",
    "        x = self.dense2(x)\n",
    "        y = self.dense3(x)        \n",
    "        return y\n",
    "model=MLP()    \n",
    "model.compile(loss='categorical_crossentropy', optimizer=SGD(lr=0.01, momentum=0.9),\n",
    "              metrics=['accuracy'])\n",
    "#we cannot use this\n",
    "#model.summary()"
   ]
  },
  {
   "cell_type": "code",
   "execution_count": 14,
   "metadata": {
    "id": "eWeGaxR2XtVx"
   },
   "outputs": [],
   "source": [
    "loss_train_list=[]\n",
    "loss_val_list=[]\n",
    "acc_train_list=[]\n",
    "acc_val_list=[]"
   ]
  },
  {
   "cell_type": "markdown",
   "metadata": {
    "id": "N50X5u4GXtVy"
   },
   "source": [
    "### Train the model"
   ]
  },
  {
   "cell_type": "code",
   "execution_count": 15,
   "metadata": {
    "colab": {
     "base_uri": "https://localhost:8080/"
    },
    "id": "_llALs8QXtVz",
    "outputId": "e788417e-1679-44e2-ba63-10986e5fa25f",
    "scrolled": false
   },
   "outputs": [
    {
     "name": "stdout",
     "output_type": "stream",
     "text": [
      "epoch 0\n",
      "(None, 256)\n",
      "(None, 256)\n",
      "843/844 [============================>.] - ETA: 0s - loss: 0.3703 - accuracy: 0.8931(None, 256)\n",
      "844/844 [==============================] - 5s 5ms/step - loss: 0.3700 - accuracy: 0.8931 - val_loss: 0.1912 - val_accuracy: 0.9455\n",
      "epoch 1\n",
      "844/844 [==============================] - 4s 5ms/step - loss: 0.1585 - accuracy: 0.9542 - val_loss: 0.1240 - val_accuracy: 0.9622\n",
      "epoch 2\n",
      "844/844 [==============================] - 4s 5ms/step - loss: 0.1098 - accuracy: 0.9689 - val_loss: 0.1012 - val_accuracy: 0.9678\n",
      "epoch 3\n",
      "844/844 [==============================] - 4s 5ms/step - loss: 0.0835 - accuracy: 0.9756 - val_loss: 0.0883 - val_accuracy: 0.9732\n",
      "epoch 4\n",
      "844/844 [==============================] - 4s 5ms/step - loss: 0.0660 - accuracy: 0.9803 - val_loss: 0.0733 - val_accuracy: 0.9787\n",
      "epoch 5\n",
      "844/844 [==============================] - 4s 5ms/step - loss: 0.0540 - accuracy: 0.9842 - val_loss: 0.0711 - val_accuracy: 0.9773\n",
      "epoch 6\n",
      "844/844 [==============================] - 4s 5ms/step - loss: 0.0433 - accuracy: 0.9875 - val_loss: 0.0733 - val_accuracy: 0.9778\n",
      "epoch 7\n",
      "844/844 [==============================] - 4s 5ms/step - loss: 0.0368 - accuracy: 0.9898 - val_loss: 0.0721 - val_accuracy: 0.9772\n",
      "epoch 8\n",
      "844/844 [==============================] - 4s 5ms/step - loss: 0.0310 - accuracy: 0.9911 - val_loss: 0.0652 - val_accuracy: 0.9797\n",
      "epoch 9\n",
      "844/844 [==============================] - 4s 4ms/step - loss: 0.0248 - accuracy: 0.9932 - val_loss: 0.0726 - val_accuracy: 0.9770\n"
     ]
    }
   ],
   "source": [
    "for epoch in range(0, 10):   \n",
    "    print('epoch', epoch)\n",
    "    #set epochs=1\n",
    "    history=model.fit(x_train, y_train, batch_size=64, epochs=1, validation_data=(x_val, y_val))\n",
    "    loss_train_list.extend(history.history['loss'])\n",
    "    loss_val_list.extend(history.history['val_loss'])\n",
    "    acc_train_list.extend(history.history['accuracy'])\n",
    "    acc_val_list.extend(history.history['val_accuracy'])\n",
    "    #we cannot use this one\n",
    "    #model.save('NN_multiclass_classification_Keras_CE_model_e'+str(epoch)+'.h5')\n",
    "    model.save_weights('NN_multiclass_classification_Keras_CE_model_e'+str(epoch)+'.h5')"
   ]
  },
  {
   "cell_type": "markdown",
   "metadata": {
    "id": "AxJscKeNXtV2"
   },
   "source": [
    "### Plot training histroy: loss vs epoch and accuracy vs epoch"
   ]
  },
  {
   "cell_type": "code",
   "execution_count": 16,
   "metadata": {
    "colab": {
     "base_uri": "https://localhost:8080/"
    },
    "id": "GqhVK3R0XtV3",
    "outputId": "899fed73-196a-458c-b9e4-156e6555f390"
   },
   "outputs": [
    {
     "data": {
      "text/plain": [
       "dict_keys(['loss', 'accuracy', 'val_loss', 'val_accuracy'])"
      ]
     },
     "execution_count": 16,
     "metadata": {},
     "output_type": "execute_result"
    }
   ],
   "source": [
    "history.history.keys()"
   ]
  },
  {
   "cell_type": "code",
   "execution_count": 17,
   "metadata": {
    "colab": {
     "base_uri": "https://localhost:8080/",
     "height": 393
    },
    "id": "YZSa-OB5XtV4",
    "outputId": "c6fea413-1994-427d-d6c6-b1ee2a8cdeda"
   },
   "outputs": [
    {
     "data": {
      "image/png": "[encoded data removed]",
      "text/plain": [
       "<Figure size 864x432 with 2 Axes>"
      ]
     },
     "metadata": {
      "needs_background": "light"
     },
     "output_type": "display_data"
    }
   ],
   "source": [
    "fig, ax = plt.subplots(1, 2, figsize=(12,6))\n",
    "ax[0].plot(np.arange(0,len(loss_train_list)), loss_train_list, '-b', label='training loss')\n",
    "ax[0].plot(np.arange(0,len(loss_val_list)), loss_val_list, '-r', label='validation loss')\n",
    "ax[0].set_xlabel('epoch',fontsize=16)\n",
    "ax[0].legend(fontsize=16)\n",
    "ax[0].grid(True)\n",
    "ax[1].plot(np.arange(0,len(acc_train_list)), acc_train_list, '-b', label='training accuracy')\n",
    "ax[1].plot(np.arange(0,len(acc_val_list)), acc_val_list, '-r', label='validation accuracy')\n",
    "ax[1].set_xlabel('epoch',fontsize=16)\n",
    "ax[1].legend(fontsize=16)\n",
    "ax[1].grid(True)"
   ]
  },
  {
   "cell_type": "markdown",
   "metadata": {
    "id": "v9x2rGi2XtV6"
   },
   "source": [
    "after training, we load the best model"
   ]
  },
  {
   "cell_type": "code",
   "execution_count": 26,
   "metadata": {
    "colab": {
     "base_uri": "https://localhost:8080/"
    },
    "id": "r7VqXZjOYOMF",
    "outputId": "debfc3f6-36c1-48f9-d1fc-38230f4b60b5"
   },
   "outputs": [
    {
     "data": {
      "text/plain": [
       "8"
      ]
     },
     "execution_count": 26,
     "metadata": {},
     "output_type": "execute_result"
    }
   ],
   "source": [
    "np.argmax(acc_val_list)"
   ]
  },
  {
   "cell_type": "code",
   "execution_count": 27,
   "metadata": {
    "id": "TSnmeQ8dXtV6"
   },
   "outputs": [],
   "source": [
    "#we cannot use this one\n",
    "#from tensorflow.keras.models import load_model\n",
    "#model = load_model('NN_multiclass_classification_Keras_CE_model_e8.h5')\n",
    "model.load_weights('NN_multiclass_classification_Keras_CE_model_e8.h5')"
   ]
  },
  {
   "cell_type": "markdown",
   "metadata": {
    "id": "hLLNNIm4XtV8"
   },
   "source": [
    "### Test the model"
   ]
  },
  {
   "cell_type": "code",
   "execution_count": 28,
   "metadata": {
    "colab": {
     "base_uri": "https://localhost:8080/"
    },
    "id": "golMOrXOXtV8",
    "outputId": "b9851f89-ac0f-47f5-beb5-fac6e77d1d97"
   },
   "outputs": [
    {
     "name": "stdout",
     "output_type": "stream",
     "text": [
      "Test loss: 0.07070997357368469\n",
      "Test accuracy: 0.9785000085830688\n"
     ]
    }
   ],
   "source": [
    "score = model.evaluate(x_test, y_test, batch_size=64, verbose=0)\n",
    "print('Test loss:', score[0])\n",
    "print('Test accuracy:', score[1])"
   ]
  },
  {
   "cell_type": "markdown",
   "metadata": {
    "id": "joAQeNW3XtV9"
   },
   "source": [
    "### Make Prediction on the test set"
   ]
  },
  {
   "cell_type": "code",
   "execution_count": 29,
   "metadata": {
    "id": "E8D0drhvXtV-"
   },
   "outputs": [],
   "source": [
    "y_test_pred=model.predict(x_test, batch_size=64)"
   ]
  },
  {
   "cell_type": "code",
   "execution_count": 30,
   "metadata": {
    "colab": {
     "base_uri": "https://localhost:8080/",
     "height": 283
    },
    "id": "aVsKj3IEXtV-",
    "outputId": "e15727f4-4ab3-4ba1-a798-716a9f6eccaa"
   },
   "outputs": [
    {
     "data": {
      "text/plain": [
       "<matplotlib.image.AxesImage at 0x7f0d438c1ad0>"
      ]
     },
     "execution_count": 30,
     "metadata": {},
     "output_type": "execute_result"
    },
    {
     "data": {
      "image/png": "[encoded data removed]",
      "text/plain": [
       "<Figure size 432x288 with 1 Axes>"
      ]
     },
     "metadata": {
      "needs_background": "light"
     },
     "output_type": "display_data"
    }
   ],
   "source": [
    "#the first image in the test set\n",
    "plt.imshow(x_test[0].reshape(28,28), cmap='gray')"
   ]
  },
  {
   "cell_type": "code",
   "execution_count": 31,
   "metadata": {
    "colab": {
     "base_uri": "https://localhost:8080/"
    },
    "id": "yiipXkaZXtV_",
    "outputId": "20e10c8d-47b3-4c9b-8047-3414e72d0bb0"
   },
   "outputs": [
    {
     "data": {
      "text/plain": [
       "array([3.3792600e-07, 4.2308130e-08, 3.8923486e-06, 1.6074071e-05,\n",
       "       2.0374480e-09, 1.7060319e-08, 6.8707063e-12, 9.9997735e-01,\n",
       "       1.8479469e-07, 2.1245360e-06], dtype=float32)"
      ]
     },
     "execution_count": 31,
     "metadata": {},
     "output_type": "execute_result"
    }
   ],
   "source": [
    "y_test_pred[0]"
   ]
  },
  {
   "cell_type": "code",
   "execution_count": 32,
   "metadata": {
    "colab": {
     "base_uri": "https://localhost:8080/"
    },
    "id": "hwVDWbJFXtWA",
    "outputId": "46e20cd0-1140-497a-a800-7bb24705491d"
   },
   "outputs": [
    {
     "data": {
      "text/plain": [
       "7"
      ]
     },
     "execution_count": 32,
     "metadata": {},
     "output_type": "execute_result"
    }
   ],
   "source": [
    "np.argmax(y_test_pred[0])"
   ]
  },
  {
   "cell_type": "code",
   "execution_count": 33,
   "metadata": {
    "colab": {
     "base_uri": "https://localhost:8080/"
    },
    "id": "Vko1n3fJXtWB",
    "outputId": "d5f83e55-960d-431e-eb75-21dfbff57a88"
   },
   "outputs": [
    {
     "data": {
      "text/plain": [
       "array([0., 0., 0., 0., 0., 0., 0., 1., 0., 0.], dtype=float32)"
      ]
     },
     "execution_count": 33,
     "metadata": {},
     "output_type": "execute_result"
    }
   ],
   "source": [
    "y_test[0]"
   ]
  },
  {
   "cell_type": "code",
   "execution_count": 34,
   "metadata": {
    "colab": {
     "base_uri": "https://localhost:8080/"
    },
    "id": "h3NbCxRDXtWC",
    "outputId": "2ca1236e-09af-4df6-b9ad-f03d728b66f8"
   },
   "outputs": [
    {
     "data": {
      "text/plain": [
       "7"
      ]
     },
     "execution_count": 34,
     "metadata": {},
     "output_type": "execute_result"
    }
   ],
   "source": [
    "np.argmax(y_test[0])"
   ]
  },
  {
   "cell_type": "code",
   "execution_count": 25,
   "metadata": {
    "id": "GNA-0-uHXtWD"
   },
   "outputs": [],
   "source": [
    ""
   ]
  }
 ],
 "metadata": {
  "colab": {
   "name": "NN_multiclass_classification_Keras_CE_model.ipynb",
   "provenance": []
  },
  "kernelspec": {
   "display_name": "Python 3",
   "language": "python",
   "name": "python3"
  },
  "language_info": {
   "codemirror_mode": {
    "name": "ipython",
    "version": 3
   },
   "file_extension": ".py",
   "mimetype": "text/x-python",
   "name": "python",
   "nbconvert_exporter": "python",
   "pygments_lexer": "ipython3",
   "version": "3.8.5"
  }
 },
 "nbformat": 4,
 "nbformat_minor": 0
}
