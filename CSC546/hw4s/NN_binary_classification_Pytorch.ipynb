{
 "cells": [
  {
   "cell_type": "markdown",
   "metadata": {
    "id": "aZ4LWpNiZvJX"
   },
   "source": [
    "## Binary Classification using a neural network with Pytorch"
   ]
  },
  {
   "cell_type": "code",
   "execution_count": 1,
   "metadata": {
    "id": "LUUh5pO5ZvJe"
   },
   "outputs": [],
   "source": [
    "%matplotlib inline\n",
    "from IPython import display\n",
    "import matplotlib.pyplot as plt\n",
    "import numpy as np\n",
    "import torch # this is the Pytorch pakcage\n",
    "from torch.utils.data import Dataset as torch_dataset\n",
    "from torch.utils.data import DataLoader as torch_dataloader\n",
    "#we only need the mnist data from Keras\n",
    "from tensorflow.keras.datasets import mnist"
   ]
  },
  {
   "cell_type": "markdown",
   "metadata": {
    "id": "g3ylgDgYZvJi"
   },
   "source": [
    "### Load the data"
   ]
  },
  {
   "cell_type": "code",
   "execution_count": 2,
   "metadata": {
    "id": "WzlX-PVqZvJl"
   },
   "outputs": [
    {
     "name": "stdout",
     "output_type": "stream",
     "text": [
      "Downloading data from https://storage.googleapis.com/tensorflow/tf-keras-datasets/mnist.npz\n",
      "11493376/11490434 [==============================] - 4s 0us/step\n",
      "11501568/11490434 [==============================] - 4s 0us/step\n"
     ]
    }
   ],
   "source": [
    "(x_train, y_train), (x_test, y_test) = mnist.load_data()"
   ]
  },
  {
   "cell_type": "code",
   "execution_count": 3,
   "metadata": {
    "colab": {
     "base_uri": "https://localhost:8080/"
    },
    "id": "42HBQp1uZvJm",
    "outputId": "2d6f163f-8fd6-4d2d-a7d5-ec04d7e1f973"
   },
   "outputs": [
    {
     "name": "stdout",
     "output_type": "stream",
     "text": [
      "60000 training samples\n",
      "10000 test samples\n"
     ]
    }
   ],
   "source": [
    "#reshape\n",
    "x_train = x_train.reshape(60000, 784)\n",
    "x_test = x_test.reshape(10000, 784)\n",
    "x_train = x_train.astype('float32')\n",
    "x_test = x_test.astype('float32')\n",
    "#normalize the value of every pixel into the range of 0 to 1\n",
    "x_train /= 255\n",
    "x_test /= 255\n",
    "print(x_train.shape[0], 'training samples')\n",
    "print(x_test.shape[0], 'test samples')"
   ]
  },
  {
   "cell_type": "markdown",
   "metadata": {
    "id": "HRgktInFZvJo"
   },
   "source": [
    "We choose class-0 and class-1 for binary classification"
   ]
  },
  {
   "cell_type": "code",
   "execution_count": 4,
   "metadata": {
    "id": "XxFl8KEiZvJp"
   },
   "outputs": [],
   "source": [
    "x_train=x_train[(y_train==0)|(y_train==1)]\n",
    "y_train=y_train[(y_train==0)|(y_train==1)]\n",
    "x_test=x_test[(y_test==0)|(y_test==1)]\n",
    "y_test=y_test[(y_test==0)|(y_test==1)]"
   ]
  },
  {
   "cell_type": "markdown",
   "metadata": {
    "id": "mfX-Xs_cZvJq"
   },
   "source": [
    "create a validation set"
   ]
  },
  {
   "cell_type": "code",
   "execution_count": 5,
   "metadata": {
    "colab": {
     "base_uri": "https://localhost:8080/"
    },
    "id": "56IxWRRnZvJr",
    "outputId": "3a394cb1-91ba-42fa-88b6-2ff2167f9937"
   },
   "outputs": [
    {
     "name": "stdout",
     "output_type": "stream",
     "text": [
      "train: (11398, 784) (11398,)\n",
      "validation: (1267, 784) (1267,)\n",
      "test: (2115, 784) (2115,)\n"
     ]
    }
   ],
   "source": [
    "from sklearn.model_selection import train_test_split\n",
    "x_train, x_val, y_train, y_val = train_test_split(x_train, y_train, test_size=0.1, random_state=0)\n",
    "print('train:', x_train.shape, y_train.shape)\n",
    "print('validation:', x_val.shape, y_val.shape)\n",
    "print('test:', x_test.shape, y_test.shape)"
   ]
  },
  {
   "cell_type": "markdown",
   "metadata": {
    "id": "5Iy2PIWiZvJt"
   },
   "source": [
    "show the images"
   ]
  },
  {
   "cell_type": "code",
   "execution_count": 6,
   "metadata": {
    "colab": {
     "base_uri": "https://localhost:8080/",
     "height": 230
    },
    "id": "kQ9f-b6zZvJu",
    "outputId": "e10d96e9-d3f1-449c-e162-93365d150dd4"
   },
   "outputs": [
    {
     "data": {
      "image/png": "[encoded data removed]",
      "text/plain": [
       "<Figure size 216x216 with 1 Axes>"
      ]
     },
     "metadata": {},
     "output_type": "display_data"
    },
    {
     "data": {
      "text/plain": [
       "<Figure size 432x288 with 0 Axes>"
      ]
     },
     "metadata": {},
     "output_type": "display_data"
    }
   ],
   "source": [
    "fig, ax = plt.subplots(figsize=(3, 3))\n",
    "for n in range(0, x_train.shape[0], 1000):\n",
    "    I = x_train[n,:].reshape(28,28)\n",
    "    ax.imshow(I, cmap='gray')\n",
    "    ax.set_title('label: ' + str(int(y_train[n])), fontsize=16)\n",
    "    ax.axis('off')\n",
    "    plt.draw()\n",
    "    display.clear_output(wait=True)\n",
    "    display.display(fig)\n",
    "    plt.pause(0.1) "
   ]
  },
  {
   "cell_type": "markdown",
   "metadata": {
    "id": "jyjk3mQTZvJw"
   },
   "source": [
    "### define a dataset to hold/represent the data\n",
    "`MyDataset` is a Python class, derived from `torch_dataset`"
   ]
  },
  {
   "cell_type": "code",
   "execution_count": 7,
   "metadata": {
    "id": "KGQPeMofZvJx"
   },
   "outputs": [],
   "source": [
    "class MyDataset(torch_dataset):\n",
    "    def __init__(self, X, Y):\n",
    "        self.X=X\n",
    "        self.Y=Y\n",
    "    def __len__(self):\n",
    "        #return the number of data points\n",
    "        return self.X.shape[0]\n",
    "    def __getitem__(self, idx):\n",
    "        # self.X[idx] is numpy array, we need to convert it to torch tensor\n",
    "        x = torch.tensor(self.X[idx], dtype=torch.float32)\n",
    "        y = torch.tensor(self.Y[idx], dtype=torch.float32) #it needs to be float, not int\n",
    "        return x, y"
   ]
  },
  {
   "cell_type": "markdown",
   "metadata": {
    "id": "_MFCg6ZvZvJz"
   },
   "source": [
    "Create instance objects of the `MyDataset` class <br>\n",
    "a training dataset `dataset_train` <br>\n",
    "a validation dataset `dataset_val` <br>\n",
    "a testing dataset `dataset_test` <br>"
   ]
  },
  {
   "cell_type": "code",
   "execution_count": 8,
   "metadata": {
    "id": "lWie5QCEZvJz"
   },
   "outputs": [],
   "source": [
    "dataset_train = MyDataset(x_train, y_train)\n",
    "dataset_val = MyDataset(x_val, y_val)\n",
    "dataset_test = MyDataset(x_test, y_test)"
   ]
  },
  {
   "cell_type": "code",
   "execution_count": 9,
   "metadata": {
    "colab": {
     "base_uri": "https://localhost:8080/"
    },
    "id": "DmXqvaUaZvJz",
    "outputId": "50f3b16a-8cd5-41ae-9e28-afd8665648f5"
   },
   "outputs": [
    {
     "data": {
      "text/plain": [
       "torch.Size([784])"
      ]
     },
     "execution_count": 9,
     "metadata": {},
     "output_type": "execute_result"
    }
   ],
   "source": [
    "# get the first data point in the training set\n",
    "# dataset_train[0][0] is x0\n",
    "# dataset_train[0][1] is y0\n",
    "dataset_train[0][0].shape"
   ]
  },
  {
   "cell_type": "code",
   "execution_count": 10,
   "metadata": {
    "colab": {
     "base_uri": "https://localhost:8080/"
    },
    "id": "fjBRMrRWZvJ0",
    "outputId": "942035b1-650a-44b1-b940-1a00bdfe331d"
   },
   "outputs": [
    {
     "data": {
      "text/plain": [
       "tensor(0.)"
      ]
     },
     "execution_count": 10,
     "metadata": {},
     "output_type": "execute_result"
    }
   ],
   "source": [
    "# the class label of the first training sample x0\n",
    "dataset_train[0][1]"
   ]
  },
  {
   "cell_type": "code",
   "execution_count": 11,
   "metadata": {
    "colab": {
     "base_uri": "https://localhost:8080/"
    },
    "id": "R5BHolrAZvJ1",
    "outputId": "20dfbf4b-64ed-4923-a5e3-45ba9d944bcc"
   },
   "outputs": [
    {
     "data": {
      "text/plain": [
       "11398"
      ]
     },
     "execution_count": 11,
     "metadata": {},
     "output_type": "execute_result"
    }
   ],
   "source": [
    "len(dataset_train) # get the number of data points in the training set"
   ]
  },
  {
   "cell_type": "markdown",
   "metadata": {
    "id": "MNUf5AJ3ZvJ2"
   },
   "source": [
    "### Create dataloaders which will be used to generate minibatches\n",
    "batch_size=64 means each minibatch contains 64 data points  <br>\n",
    "note: the last minibatch may contain less than 64 data points"
   ]
  },
  {
   "cell_type": "code",
   "execution_count": 12,
   "metadata": {
    "id": "TgdGigzmZvJ2"
   },
   "outputs": [],
   "source": [
    "#we must shuffle data points in the training set, set shuffle=True\n",
    "dataloader_train = torch_dataloader(dataset_train, batch_size=64, shuffle=True, num_workers=0)\n",
    "dataloader_val = torch_dataloader(dataset_val, batch_size=64, shuffle=False, num_workers=0) \n",
    "dataloader_test = torch_dataloader(dataset_test, batch_size=64, shuffle=False, num_workers=0) "
   ]
  },
  {
   "cell_type": "code",
   "execution_count": 13,
   "metadata": {
    "colab": {
     "base_uri": "https://localhost:8080/"
    },
    "id": "W-Y7rFy-ZvJ4",
    "outputId": "f39f61f9-5c34-4d90-fdbf-be3c003f57ac"
   },
   "outputs": [
    {
     "data": {
      "text/plain": [
       "(tensor([0.0000, 0.0000, 0.0000, 0.0000, 0.0000, 0.0000, 0.0000, 0.0000, 0.0000,\n",
       "         0.0000, 0.0000, 0.0000, 0.0000, 0.0000, 0.0000, 0.0000, 0.0000, 0.0000,\n",
       "         0.0000, 0.0000, 0.0000, 0.0000, 0.0000, 0.0000, 0.0000, 0.0000, 0.0000,\n",
       "         0.0000, 0.0000, 0.0000, 0.0000, 0.0000, 0.0000, 0.0000, 0.0000, 0.0000,\n",
       "         0.0000, 0.0000, 0.0000, 0.0000, 0.0000, 0.0000, 0.0000, 0.0000, 0.0000,\n",
       "         0.0000, 0.0000, 0.0000, 0.0000, 0.0000, 0.0000, 0.0000, 0.0000, 0.0000,\n",
       "         0.0000, 0.0000, 0.0000, 0.0000, 0.0000, 0.0000, 0.0000, 0.0000, 0.0000,\n",
       "         0.0000, 0.0000, 0.0000, 0.0000, 0.0000, 0.0000, 0.0000, 0.0000, 0.0000,\n",
       "         0.0000, 0.0000, 0.0000, 0.0000, 0.0000, 0.0000, 0.0000, 0.0000, 0.0000,\n",
       "         0.0000, 0.0000, 0.0000, 0.0000, 0.0000, 0.0000, 0.0000, 0.0000, 0.0000,\n",
       "         0.0000, 0.0000, 0.0000, 0.0000, 0.0000, 0.0000, 0.0000, 0.0000, 0.0000,\n",
       "         0.0000, 0.0000, 0.0000, 0.0000, 0.0000, 0.0000, 0.0000, 0.0000, 0.0000,\n",
       "         0.0000, 0.0000, 0.0000, 0.0000, 0.0000, 0.0000, 0.0000, 0.0000, 0.0000,\n",
       "         0.0000, 0.0000, 0.0000, 0.0000, 0.0000, 0.0000, 0.0000, 0.0000, 0.0000,\n",
       "         0.0000, 0.0000, 0.0000, 0.0000, 0.0000, 0.0000, 0.0000, 0.0000, 0.0000,\n",
       "         0.0000, 0.0000, 0.0000, 0.0000, 0.0000, 0.0000, 0.0000, 0.0000, 0.0000,\n",
       "         0.0000, 0.0000, 0.0000, 0.0000, 0.0000, 0.0000, 0.0000, 0.0000, 0.1020,\n",
       "         0.1137, 0.4078, 0.6980, 0.6000, 1.0000, 0.6980, 0.2078, 0.0157, 0.0000,\n",
       "         0.0000, 0.0000, 0.0000, 0.0000, 0.0000, 0.0000, 0.0000, 0.0000, 0.0000,\n",
       "         0.0000, 0.0000, 0.0000, 0.0000, 0.0000, 0.0000, 0.0000, 0.0510, 0.5647,\n",
       "         0.9529, 0.9922, 0.9882, 0.9882, 0.9882, 0.9922, 0.9882, 0.9882, 0.6980,\n",
       "         0.1020, 0.0000, 0.0000, 0.0000, 0.0000, 0.0000, 0.0000, 0.0000, 0.0000,\n",
       "         0.0000, 0.0000, 0.0000, 0.0000, 0.0000, 0.0000, 0.0000, 0.3373, 0.6745,\n",
       "         0.9882, 0.9882, 0.9922, 0.9882, 0.8784, 0.6588, 0.6588, 0.6588, 0.9176,\n",
       "         0.9882, 0.8745, 0.4078, 0.0000, 0.0000, 0.0000, 0.0000, 0.0000, 0.0000,\n",
       "         0.0000, 0.0000, 0.0000, 0.0000, 0.0000, 0.0000, 0.0000, 0.2000, 0.9922,\n",
       "         0.9882, 0.9882, 0.9882, 0.9922, 0.4000, 0.0745, 0.0000, 0.0000, 0.0000,\n",
       "         0.2314, 0.9412, 0.9922, 0.9647, 0.3922, 0.0000, 0.0000, 0.0000, 0.0000,\n",
       "         0.0000, 0.0000, 0.0000, 0.0000, 0.0000, 0.0000, 0.0000, 0.0000, 0.6902,\n",
       "         1.0000, 0.9176, 0.9686, 0.9922, 0.6392, 0.0000, 0.0000, 0.0000, 0.0000,\n",
       "         0.0000, 0.0000, 0.2000, 0.7020, 0.9922, 0.8471, 0.1098, 0.0000, 0.0000,\n",
       "         0.0000, 0.0000, 0.0000, 0.0000, 0.0000, 0.0000, 0.0000, 0.0000, 0.2235,\n",
       "         0.9529, 0.9922, 0.3294, 0.6745, 0.9882, 0.1490, 0.0000, 0.0000, 0.0000,\n",
       "         0.0000, 0.0000, 0.0000, 0.0000, 0.0863, 0.9176, 0.9882, 0.5451, 0.0000,\n",
       "         0.0000, 0.0000, 0.0000, 0.0000, 0.0000, 0.0000, 0.0000, 0.0000, 0.0000,\n",
       "         0.6745, 0.9882, 0.9569, 0.2196, 0.3333, 0.9882, 0.0000, 0.0000, 0.0000,\n",
       "         0.0000, 0.0000, 0.0000, 0.0000, 0.0000, 0.0000, 0.6627, 0.9882, 0.8941,\n",
       "         0.0000, 0.0000, 0.0000, 0.0000, 0.0000, 0.0000, 0.0000, 0.0000, 0.0000,\n",
       "         0.0000, 0.7725, 0.9882, 0.6863, 0.0000, 0.3333, 0.9882, 0.0000, 0.0000,\n",
       "         0.0000, 0.0000, 0.0000, 0.0000, 0.0000, 0.0000, 0.0000, 0.6627, 0.9882,\n",
       "         0.9882, 0.0000, 0.0000, 0.0000, 0.0000, 0.0000, 0.0000, 0.0000, 0.0000,\n",
       "         0.0000, 0.2745, 0.9922, 0.9922, 0.2000, 0.0000, 0.0000, 0.5922, 0.0000,\n",
       "         0.0000, 0.0000, 0.0000, 0.0000, 0.0000, 0.0000, 0.0000, 0.0000, 0.6627,\n",
       "         0.9922, 0.9922, 0.0000, 0.0000, 0.0000, 0.0000, 0.0000, 0.0000, 0.0000,\n",
       "         0.0000, 0.0000, 0.6627, 0.9882, 0.9882, 0.0000, 0.0000, 0.0000, 0.0000,\n",
       "         0.0000, 0.0000, 0.0000, 0.0000, 0.0000, 0.0000, 0.0000, 0.0000, 0.0000,\n",
       "         0.6627, 0.9882, 0.9882, 0.0000, 0.0000, 0.0000, 0.0000, 0.0000, 0.0000,\n",
       "         0.0000, 0.0000, 0.0000, 0.6627, 0.9882, 0.6431, 0.0000, 0.0000, 0.0000,\n",
       "         0.0000, 0.0000, 0.0000, 0.0000, 0.0000, 0.0000, 0.0000, 0.0000, 0.0000,\n",
       "         0.0392, 0.7725, 0.9882, 0.9882, 0.0000, 0.0000, 0.0000, 0.0000, 0.0000,\n",
       "         0.0000, 0.0000, 0.0000, 0.1020, 0.9529, 0.9882, 0.3529, 0.0000, 0.0000,\n",
       "         0.0000, 0.0000, 0.0000, 0.0000, 0.0000, 0.0000, 0.0000, 0.0000, 0.0000,\n",
       "         0.0000, 0.7020, 0.9882, 0.9882, 0.7922, 0.0000, 0.0000, 0.0000, 0.0000,\n",
       "         0.0000, 0.0000, 0.0000, 0.0000, 0.5529, 0.9922, 0.6588, 0.0000, 0.0000,\n",
       "         0.0000, 0.0000, 0.0000, 0.0000, 0.0000, 0.0000, 0.0000, 0.0000, 0.0000,\n",
       "         0.2353, 0.7490, 0.9961, 0.9922, 0.8078, 0.0510, 0.0000, 0.0000, 0.0000,\n",
       "         0.0000, 0.0000, 0.0000, 0.0000, 0.0000, 0.8471, 0.9882, 0.6588, 0.0000,\n",
       "         0.0000, 0.0000, 0.0000, 0.0000, 0.0000, 0.0000, 0.0000, 0.0000, 0.1255,\n",
       "         0.5137, 0.9176, 0.9882, 0.9922, 0.8392, 0.3176, 0.0000, 0.0000, 0.0000,\n",
       "         0.0000, 0.0000, 0.0000, 0.0000, 0.0000, 0.0000, 0.9922, 0.9882, 0.6588,\n",
       "         0.0000, 0.0000, 0.0000, 0.0000, 0.0000, 0.0000, 0.0000, 0.0000, 0.2980,\n",
       "         0.8980, 0.9882, 0.9882, 0.9882, 0.8078, 0.2196, 0.0000, 0.0000, 0.0000,\n",
       "         0.0000, 0.0000, 0.0000, 0.0000, 0.0000, 0.0000, 0.0000, 0.9922, 0.9882,\n",
       "         0.6588, 0.0000, 0.0000, 0.0000, 0.0000, 0.0000, 0.2471, 0.7373, 0.8824,\n",
       "         0.9765, 0.9922, 0.9882, 0.9882, 0.5922, 0.0510, 0.0000, 0.0000, 0.0000,\n",
       "         0.0000, 0.0000, 0.0000, 0.0000, 0.0000, 0.0000, 0.0000, 0.0000, 0.5529,\n",
       "         0.9922, 0.6980, 0.1137, 0.1137, 0.1137, 0.4588, 0.7490, 0.9961, 0.9922,\n",
       "         0.9922, 0.9922, 0.9373, 0.5882, 0.0980, 0.0000, 0.0000, 0.0000, 0.0000,\n",
       "         0.0000, 0.0000, 0.0000, 0.0000, 0.0000, 0.0000, 0.0000, 0.0000, 0.0000,\n",
       "         0.2588, 0.9882, 0.9882, 0.9882, 0.9922, 0.9882, 0.9882, 0.9882, 0.9922,\n",
       "         0.9412, 0.7686, 0.5686, 0.1490, 0.0000, 0.0000, 0.0000, 0.0000, 0.0000,\n",
       "         0.0000, 0.0000, 0.0000, 0.0000, 0.0000, 0.0000, 0.0000, 0.0000, 0.0000,\n",
       "         0.0000, 0.0275, 0.5843, 0.9882, 0.9882, 0.9922, 0.9882, 0.9882, 0.8392,\n",
       "         0.6118, 0.1686, 0.0000, 0.0000, 0.0000, 0.0000, 0.0000, 0.0000, 0.0000,\n",
       "         0.0000, 0.0000, 0.0000, 0.0000, 0.0000, 0.0000, 0.0000, 0.0000, 0.0000,\n",
       "         0.0000, 0.0000, 0.0000, 0.0275, 0.2549, 0.5451, 0.5490, 0.4510, 0.1098,\n",
       "         0.0588, 0.0000, 0.0000, 0.0000, 0.0000, 0.0000, 0.0000, 0.0000, 0.0000,\n",
       "         0.0000, 0.0000, 0.0000, 0.0000, 0.0000, 0.0000, 0.0000, 0.0000, 0.0000,\n",
       "         0.0000, 0.0000, 0.0000, 0.0000, 0.0000, 0.0000, 0.0000, 0.0000, 0.0000,\n",
       "         0.0000, 0.0000, 0.0000, 0.0000, 0.0000, 0.0000, 0.0000, 0.0000, 0.0000,\n",
       "         0.0000, 0.0000, 0.0000, 0.0000, 0.0000, 0.0000, 0.0000, 0.0000, 0.0000,\n",
       "         0.0000, 0.0000, 0.0000, 0.0000, 0.0000, 0.0000, 0.0000, 0.0000, 0.0000,\n",
       "         0.0000, 0.0000, 0.0000, 0.0000, 0.0000, 0.0000, 0.0000, 0.0000, 0.0000,\n",
       "         0.0000, 0.0000, 0.0000, 0.0000, 0.0000, 0.0000, 0.0000, 0.0000, 0.0000,\n",
       "         0.0000, 0.0000, 0.0000, 0.0000, 0.0000, 0.0000, 0.0000, 0.0000, 0.0000,\n",
       "         0.0000, 0.0000, 0.0000, 0.0000, 0.0000, 0.0000, 0.0000, 0.0000, 0.0000,\n",
       "         0.0000, 0.0000, 0.0000, 0.0000, 0.0000, 0.0000, 0.0000, 0.0000, 0.0000,\n",
       "         0.0000]),\n",
       " tensor(0.))"
      ]
     },
     "execution_count": 13,
     "metadata": {},
     "output_type": "execute_result"
    }
   ],
   "source": [
    "dataloader_train.dataset[0] # get the first data point in the training set"
   ]
  },
  {
   "cell_type": "markdown",
   "metadata": {
    "id": "r3fM3k5vZvJ5"
   },
   "source": [
    "We can use a dataloader to generate minibatches "
   ]
  },
  {
   "cell_type": "code",
   "execution_count": 14,
   "metadata": {
    "colab": {
     "base_uri": "https://localhost:8080/"
    },
    "id": "clNJFCFVZvJ5",
    "outputId": "26ded1a5-d449-419e-9997-72c1a21b1ac4",
    "scrolled": false
   },
   "outputs": [
    {
     "name": "stdout",
     "output_type": "stream",
     "text": [
      "0 torch.Size([64, 784]) torch.Size([64])\n",
      "1 torch.Size([64, 784]) torch.Size([64])\n",
      "2 torch.Size([64, 784]) torch.Size([64])\n",
      "3 torch.Size([64, 784]) torch.Size([64])\n",
      "4 torch.Size([64, 784]) torch.Size([64])\n",
      "5 torch.Size([64, 784]) torch.Size([64])\n",
      "6 torch.Size([64, 784]) torch.Size([64])\n",
      "7 torch.Size([64, 784]) torch.Size([64])\n",
      "8 torch.Size([64, 784]) torch.Size([64])\n",
      "9 torch.Size([64, 784]) torch.Size([64])\n",
      "10 torch.Size([64, 784]) torch.Size([64])\n",
      "11 torch.Size([64, 784]) torch.Size([64])\n",
      "12 torch.Size([64, 784]) torch.Size([64])\n",
      "13 torch.Size([64, 784]) torch.Size([64])\n",
      "14 torch.Size([64, 784]) torch.Size([64])\n",
      "15 torch.Size([64, 784]) torch.Size([64])\n",
      "16 torch.Size([64, 784]) torch.Size([64])\n",
      "17 torch.Size([64, 784]) torch.Size([64])\n",
      "18 torch.Size([64, 784]) torch.Size([64])\n",
      "19 torch.Size([64, 784]) torch.Size([64])\n",
      "20 torch.Size([64, 784]) torch.Size([64])\n",
      "21 torch.Size([64, 784]) torch.Size([64])\n",
      "22 torch.Size([64, 784]) torch.Size([64])\n",
      "23 torch.Size([64, 784]) torch.Size([64])\n",
      "24 torch.Size([64, 784]) torch.Size([64])\n",
      "25 torch.Size([64, 784]) torch.Size([64])\n",
      "26 torch.Size([64, 784]) torch.Size([64])\n",
      "27 torch.Size([64, 784]) torch.Size([64])\n",
      "28 torch.Size([64, 784]) torch.Size([64])\n",
      "29 torch.Size([64, 784]) torch.Size([64])\n",
      "30 torch.Size([64, 784]) torch.Size([64])\n",
      "31 torch.Size([64, 784]) torch.Size([64])\n",
      "32 torch.Size([64, 784]) torch.Size([64])\n",
      "33 torch.Size([64, 784]) torch.Size([64])\n",
      "34 torch.Size([64, 784]) torch.Size([64])\n",
      "35 torch.Size([64, 784]) torch.Size([64])\n",
      "36 torch.Size([64, 784]) torch.Size([64])\n",
      "37 torch.Size([64, 784]) torch.Size([64])\n",
      "38 torch.Size([64, 784]) torch.Size([64])\n",
      "39 torch.Size([64, 784]) torch.Size([64])\n",
      "40 torch.Size([64, 784]) torch.Size([64])\n",
      "41 torch.Size([64, 784]) torch.Size([64])\n",
      "42 torch.Size([64, 784]) torch.Size([64])\n",
      "43 torch.Size([64, 784]) torch.Size([64])\n",
      "44 torch.Size([64, 784]) torch.Size([64])\n",
      "45 torch.Size([64, 784]) torch.Size([64])\n",
      "46 torch.Size([64, 784]) torch.Size([64])\n",
      "47 torch.Size([64, 784]) torch.Size([64])\n",
      "48 torch.Size([64, 784]) torch.Size([64])\n",
      "49 torch.Size([64, 784]) torch.Size([64])\n",
      "50 torch.Size([64, 784]) torch.Size([64])\n",
      "51 torch.Size([64, 784]) torch.Size([64])\n",
      "52 torch.Size([64, 784]) torch.Size([64])\n",
      "53 torch.Size([64, 784]) torch.Size([64])\n",
      "54 torch.Size([64, 784]) torch.Size([64])\n",
      "55 torch.Size([64, 784]) torch.Size([64])\n",
      "56 torch.Size([64, 784]) torch.Size([64])\n",
      "57 torch.Size([64, 784]) torch.Size([64])\n",
      "58 torch.Size([64, 784]) torch.Size([64])\n",
      "59 torch.Size([64, 784]) torch.Size([64])\n",
      "60 torch.Size([64, 784]) torch.Size([64])\n",
      "61 torch.Size([64, 784]) torch.Size([64])\n",
      "62 torch.Size([64, 784]) torch.Size([64])\n",
      "63 torch.Size([64, 784]) torch.Size([64])\n",
      "64 torch.Size([64, 784]) torch.Size([64])\n",
      "65 torch.Size([64, 784]) torch.Size([64])\n",
      "66 torch.Size([64, 784]) torch.Size([64])\n",
      "67 torch.Size([64, 784]) torch.Size([64])\n",
      "68 torch.Size([64, 784]) torch.Size([64])\n",
      "69 torch.Size([64, 784]) torch.Size([64])\n",
      "70 torch.Size([64, 784]) torch.Size([64])\n",
      "71 torch.Size([64, 784]) torch.Size([64])\n",
      "72 torch.Size([64, 784]) torch.Size([64])\n",
      "73 torch.Size([64, 784]) torch.Size([64])\n",
      "74 torch.Size([64, 784]) torch.Size([64])\n",
      "75 torch.Size([64, 784]) torch.Size([64])\n",
      "76 torch.Size([64, 784]) torch.Size([64])\n",
      "77 torch.Size([64, 784]) torch.Size([64])\n",
      "78 torch.Size([64, 784]) torch.Size([64])\n",
      "79 torch.Size([64, 784]) torch.Size([64])\n",
      "80 torch.Size([64, 784]) torch.Size([64])\n",
      "81 torch.Size([64, 784]) torch.Size([64])\n",
      "82 torch.Size([64, 784]) torch.Size([64])\n",
      "83 torch.Size([64, 784]) torch.Size([64])\n",
      "84 torch.Size([64, 784]) torch.Size([64])\n",
      "85 torch.Size([64, 784]) torch.Size([64])\n",
      "86 torch.Size([64, 784]) torch.Size([64])\n",
      "87 torch.Size([64, 784]) torch.Size([64])\n",
      "88 torch.Size([64, 784]) torch.Size([64])\n",
      "89 torch.Size([64, 784]) torch.Size([64])\n",
      "90 torch.Size([64, 784]) torch.Size([64])\n",
      "91 torch.Size([64, 784]) torch.Size([64])\n",
      "92 torch.Size([64, 784]) torch.Size([64])\n",
      "93 torch.Size([64, 784]) torch.Size([64])\n",
      "94 torch.Size([64, 784]) torch.Size([64])\n",
      "95 torch.Size([64, 784]) torch.Size([64])\n",
      "96 torch.Size([64, 784]) torch.Size([64])\n",
      "97 torch.Size([64, 784]) torch.Size([64])\n",
      "98 torch.Size([64, 784]) torch.Size([64])\n",
      "99 torch.Size([64, 784]) torch.Size([64])\n",
      "100 torch.Size([64, 784]) torch.Size([64])\n",
      "101 torch.Size([64, 784]) torch.Size([64])\n",
      "102 torch.Size([64, 784]) torch.Size([64])\n",
      "103 torch.Size([64, 784]) torch.Size([64])\n",
      "104 torch.Size([64, 784]) torch.Size([64])\n",
      "105 torch.Size([64, 784]) torch.Size([64])\n",
      "106 torch.Size([64, 784]) torch.Size([64])\n",
      "107 torch.Size([64, 784]) torch.Size([64])\n",
      "108 torch.Size([64, 784]) torch.Size([64])\n",
      "109 torch.Size([64, 784]) torch.Size([64])\n",
      "110 torch.Size([64, 784]) torch.Size([64])\n",
      "111 torch.Size([64, 784]) torch.Size([64])\n",
      "112 torch.Size([64, 784]) torch.Size([64])\n",
      "113 torch.Size([64, 784]) torch.Size([64])\n",
      "114 torch.Size([64, 784]) torch.Size([64])\n",
      "115 torch.Size([64, 784]) torch.Size([64])\n",
      "116 torch.Size([64, 784]) torch.Size([64])\n",
      "117 torch.Size([64, 784]) torch.Size([64])\n",
      "118 torch.Size([64, 784]) torch.Size([64])\n",
      "119 torch.Size([64, 784]) torch.Size([64])\n",
      "120 torch.Size([64, 784]) torch.Size([64])\n",
      "121 torch.Size([64, 784]) torch.Size([64])\n",
      "122 torch.Size([64, 784]) torch.Size([64])\n",
      "123 torch.Size([64, 784]) torch.Size([64])\n",
      "124 torch.Size([64, 784]) torch.Size([64])\n",
      "125 torch.Size([64, 784]) torch.Size([64])\n",
      "126 torch.Size([64, 784]) torch.Size([64])\n",
      "127 torch.Size([64, 784]) torch.Size([64])\n",
      "128 torch.Size([64, 784]) torch.Size([64])\n",
      "129 torch.Size([64, 784]) torch.Size([64])\n",
      "130 torch.Size([64, 784]) torch.Size([64])\n",
      "131 torch.Size([64, 784]) torch.Size([64])\n",
      "132 torch.Size([64, 784]) torch.Size([64])\n",
      "133 torch.Size([64, 784]) torch.Size([64])\n",
      "134 torch.Size([64, 784]) torch.Size([64])\n",
      "135 torch.Size([64, 784]) torch.Size([64])\n",
      "136 torch.Size([64, 784]) torch.Size([64])\n",
      "137 torch.Size([64, 784]) torch.Size([64])\n",
      "138 torch.Size([64, 784]) torch.Size([64])\n",
      "139 torch.Size([64, 784]) torch.Size([64])\n",
      "140 torch.Size([64, 784]) torch.Size([64])\n",
      "141 torch.Size([64, 784]) torch.Size([64])\n",
      "142 torch.Size([64, 784]) torch.Size([64])\n",
      "143 torch.Size([64, 784]) torch.Size([64])\n",
      "144 torch.Size([64, 784]) torch.Size([64])\n",
      "145 torch.Size([64, 784]) torch.Size([64])\n",
      "146 torch.Size([64, 784]) torch.Size([64])\n",
      "147 torch.Size([64, 784]) torch.Size([64])\n",
      "148 torch.Size([64, 784]) torch.Size([64])\n",
      "149 torch.Size([64, 784]) torch.Size([64])\n",
      "150 torch.Size([64, 784]) torch.Size([64])\n",
      "151 torch.Size([64, 784]) torch.Size([64])\n",
      "152 torch.Size([64, 784]) torch.Size([64])\n",
      "153 torch.Size([64, 784]) torch.Size([64])\n",
      "154 torch.Size([64, 784]) torch.Size([64])\n",
      "155 torch.Size([64, 784]) torch.Size([64])\n",
      "156 torch.Size([64, 784]) torch.Size([64])\n",
      "157 torch.Size([64, 784]) torch.Size([64])\n",
      "158 torch.Size([64, 784]) torch.Size([64])\n",
      "159 torch.Size([64, 784]) torch.Size([64])\n",
      "160 torch.Size([64, 784]) torch.Size([64])\n",
      "161 torch.Size([64, 784]) torch.Size([64])\n",
      "162 torch.Size([64, 784]) torch.Size([64])\n",
      "163 torch.Size([64, 784]) torch.Size([64])\n",
      "164 torch.Size([64, 784]) torch.Size([64])\n",
      "165 torch.Size([64, 784]) torch.Size([64])\n",
      "166 torch.Size([64, 784]) torch.Size([64])\n",
      "167 torch.Size([64, 784]) torch.Size([64])\n",
      "168 torch.Size([64, 784]) torch.Size([64])\n",
      "169 torch.Size([64, 784]) torch.Size([64])\n",
      "170 torch.Size([64, 784]) torch.Size([64])\n",
      "171 torch.Size([64, 784]) torch.Size([64])\n",
      "172 torch.Size([64, 784]) torch.Size([64])\n",
      "173 torch.Size([64, 784]) torch.Size([64])\n",
      "174 torch.Size([64, 784]) torch.Size([64])\n",
      "175 torch.Size([64, 784]) torch.Size([64])\n",
      "176 torch.Size([64, 784]) torch.Size([64])\n",
      "177 torch.Size([64, 784]) torch.Size([64])\n",
      "178 torch.Size([6, 784]) torch.Size([6])\n"
     ]
    }
   ],
   "source": [
    "for epoch in range(0, 1): # change 1 to 100 if we need to train the model for 100 epochs\n",
    "    for batch_idx, (X, Y) in enumerate(dataloader_train):\n",
    "        # X contain the data samples in a mini-batch\n",
    "        # Y contain the class lables of these samples\n",
    "        print(batch_idx, X.size(), Y.size())"
   ]
  },
  {
   "cell_type": "code",
   "execution_count": 15,
   "metadata": {
    "colab": {
     "base_uri": "https://localhost:8080/"
    },
    "id": "Fos27mLYZvJ6",
    "outputId": "0d8f819a-6fb7-431a-d380-157f9072c47c"
   },
   "outputs": [
    {
     "data": {
      "text/plain": [
       "179"
      ]
     },
     "execution_count": 15,
     "metadata": {},
     "output_type": "execute_result"
    }
   ],
   "source": [
    "len(dataloader_train) # get the number of minibatches"
   ]
  },
  {
   "cell_type": "markdown",
   "metadata": {
    "id": "oWhhirVaZvJ7"
   },
   "source": [
    "### Now, let's build a neural network that does binary classification"
   ]
  },
  {
   "cell_type": "code",
   "execution_count": 16,
   "metadata": {
    "id": "eDIOmhFwZvJ7"
   },
   "outputs": [],
   "source": [
    "import torch.nn as nn\n",
    "import torch.nn.functional as nnF\n",
    "class Net(nn.Module):\n",
    "    def __init__(self, input_dim, n_units):\n",
    "        super().__init__()\n",
    "        self.layer1 = nn.Linear(input_dim, n_units)\n",
    "        self.layer2 = nn.Linear(n_units, n_units)\n",
    "        self.layer3 = nn.Linear(n_units, 1)\n",
    "    def forward(self, x):\n",
    "        x=nnF.relu(self.layer1(x)) # same as x=self.layer1(x); x=nnF.relu(x)\n",
    "        x=nnF.relu(self.layer2(x))\n",
    "        z=self.layer3(x)\n",
    "        # we need to do this\n",
    "        z=z.view(-1) \n",
    "        #do not use sigmoid if we use binary_cross_entropy_with_logits loss in pytorch\n",
    "        #z is called logits\n",
    "        #y=nnF.sigmoid(z) \n",
    "        return z"
   ]
  },
  {
   "cell_type": "markdown",
   "metadata": {
    "id": "ZaTHK834ZvJ7"
   },
   "source": [
    "create an instance object of the class"
   ]
  },
  {
   "cell_type": "code",
   "execution_count": 17,
   "metadata": {
    "id": "-O8d9Y4FZvJ7"
   },
   "outputs": [],
   "source": [
    "model=Net(input_dim=784, n_units=256)"
   ]
  },
  {
   "cell_type": "code",
   "execution_count": 18,
   "metadata": {
    "colab": {
     "base_uri": "https://localhost:8080/"
    },
    "id": "67qWFgxbZvJ8",
    "outputId": "4b52286c-81a7-48e7-d93b-ec1a6f48d565"
   },
   "outputs": [
    {
     "data": {
      "text/plain": [
       "Net(\n",
       "  (layer1): Linear(in_features=784, out_features=256, bias=True)\n",
       "  (layer2): Linear(in_features=256, out_features=256, bias=True)\n",
       "  (layer3): Linear(in_features=256, out_features=1, bias=True)\n",
       ")"
      ]
     },
     "execution_count": 18,
     "metadata": {},
     "output_type": "execute_result"
    }
   ],
   "source": [
    "#move the model to GPU if you have a GPU\n",
    "device=torch.device(\"cuda:0\" if torch.cuda.is_available() else \"cpu\")\n",
    "model.to(device)"
   ]
  },
  {
   "cell_type": "markdown",
   "metadata": {
    "id": "7UhLkfWRZvJ9"
   },
   "source": [
    "create an optimizer that does stochastic gradient descent <br>\n",
    "send the parameters of the model to the optimizer"
   ]
  },
  {
   "cell_type": "code",
   "execution_count": 19,
   "metadata": {
    "id": "_7PtQhmqZvJ9"
   },
   "outputs": [],
   "source": [
    "import torch.optim as optim\n",
    "optimizer = optim.SGD(model.parameters(), lr=0.01, momentum=0.9)"
   ]
  },
  {
   "cell_type": "markdown",
   "metadata": {
    "id": "SVJwhhvVZvJ-"
   },
   "source": [
    "define a function to train the neural network in one epoch"
   ]
  },
  {
   "cell_type": "code",
   "execution_count": 20,
   "metadata": {
    "id": "lrZBDwZNZvJ-"
   },
   "outputs": [],
   "source": [
    "def train(model, optimizer, dataloader, device, epoch):    \n",
    "    model.train()#set model to train mode\n",
    "    loss_train=0\n",
    "    acc_train =0 \n",
    "    for batch_idx, (X, Y) in enumerate(dataloader):\n",
    "        X, Y = X.to(device), Y.to(device)\n",
    "        optimizer.zero_grad()#clear the grad of each parameter\n",
    "        Z = model(X) #forward pass\n",
    "        loss = nnF.binary_cross_entropy_with_logits(Z, Y) #compute loss\n",
    "        loss.backward() #backward pass\n",
    "        optimizer.step() #update parameters\n",
    "        loss_train+=loss.item() #record the loss\n",
    "        #make prediction, do not need sigmoid\n",
    "        Yp = (Z.data>0).to(torch.int64)    \n",
    "        #measure accuracy on this batch\n",
    "        acc_train+= torch.sum(Yp==Y).item()\n",
    "        if batch_idx % 100 == 0:\n",
    "            print('Train Epoch: {} [{}/{} ({:.0f}%)]\\tLoss: {:.6f}'.format(\n",
    "                    epoch, batch_idx * X.size(0), len(dataloader.dataset),\n",
    "                    100. * batch_idx / len(dataloader), loss.item()))\n",
    "    loss_train/=len(dataloader)\n",
    "    acc_train/=len(dataloader.dataset)\n",
    "    return loss_train, acc_train"
   ]
  },
  {
   "cell_type": "markdown",
   "metadata": {
    "id": "iOPeJ6CyZvKA"
   },
   "source": [
    "define a function to evaluate the neural network on the validation set or the testing set"
   ]
  },
  {
   "cell_type": "code",
   "execution_count": 21,
   "metadata": {
    "id": "m68PXgVPZvKA"
   },
   "outputs": [],
   "source": [
    "def test(model, dataloader, device):\n",
    "    model.eval()#set model to evaluation mode\n",
    "    loss_test=0\n",
    "    acc_test =0 \n",
    "    with torch.no_grad(): # tell Pytorch not to build graph in this section\n",
    "        for batch_idx, (X, Y) in enumerate(dataloader):\n",
    "            X, Y = X.to(device), Y.to(device)\n",
    "            Z = model(X)#forward pass            \n",
    "            loss = nnF.binary_cross_entropy_with_logits(Z, Y)    \n",
    "            loss_test+=loss.item()\n",
    "            #make prediction, do not need sigmoid\n",
    "            Yp = (Z.data>0).to(torch.int64) \n",
    "            acc_test+= torch.sum(Yp==Y).item()\n",
    "    loss_test/=len(dataloader)    \n",
    "    acc_test/=len(dataloader.dataset)\n",
    "    return loss_test, acc_test"
   ]
  },
  {
   "cell_type": "markdown",
   "metadata": {
    "id": "iDRXx8qsZvKB"
   },
   "source": [
    "define a function to save the model to a file"
   ]
  },
  {
   "cell_type": "code",
   "execution_count": 22,
   "metadata": {
    "id": "PBbeBK8aZvKB"
   },
   "outputs": [],
   "source": [
    "def save_checkpoint(filename, model, optimizer, epoch):\n",
    "    torch.save({'epoch': epoch,\n",
    "                'model_state_dict': model.state_dict(),\n",
    "                'optimizer_state_dict': optimizer.state_dict()},\n",
    "               filename)\n",
    "    print('saved:', filename)"
   ]
  },
  {
   "cell_type": "markdown",
   "metadata": {
    "id": "Rk9S3f8jZvKB"
   },
   "source": [
    "define a function to load the model from a file"
   ]
  },
  {
   "cell_type": "code",
   "execution_count": 23,
   "metadata": {
    "id": "bHpEm7l2ZvKC"
   },
   "outputs": [],
   "source": [
    "def load_checkpoint(filename, model, optimizer, device):\n",
    "    checkpoint=torch.load(filename, map_location=device)\n",
    "    model.load_state_dict(checkpoint['model_state_dict'])    \n",
    "    optimizer.load_state_dict(checkpoint['optimizer_state_dict'])"
   ]
  },
  {
   "cell_type": "markdown",
   "metadata": {
    "id": "0-9jahW-ZvKC"
   },
   "source": [
    "train the neural network model for many epochs"
   ]
  },
  {
   "cell_type": "code",
   "execution_count": 24,
   "metadata": {
    "id": "t4tR7LcQZvKC"
   },
   "outputs": [],
   "source": [
    "loss_train_list=[]\n",
    "loss_val_list=[]\n",
    "acc_train_list=[]\n",
    "acc_val_list=[]"
   ]
  },
  {
   "cell_type": "code",
   "execution_count": 25,
   "metadata": {
    "colab": {
     "base_uri": "https://localhost:8080/"
    },
    "id": "3_8C6DjIZvKC",
    "outputId": "6ebe5999-39aa-461a-c517-c3a3dc41b428",
    "scrolled": false
   },
   "outputs": [
    {
     "name": "stdout",
     "output_type": "stream",
     "text": [
      "Train Epoch: 0 [0/11398 (0%)]\tLoss: 0.690732\n",
      "Train Epoch: 0 [6400/11398 (56%)]\tLoss: 0.004947\n",
      "epoch 0 training loss: 0.1257992847351092 acc: 0.9772767152131953\n",
      "epoch 0 validation loss: 0.005916624015662819 acc: 0.9992107340173638\n",
      "saved: NN_binary_classification_Pytorch_e0.pt\n",
      "Train Epoch: 1 [0/11398 (0%)]\tLoss: 0.002532\n",
      "Train Epoch: 1 [6400/11398 (56%)]\tLoss: 0.005075\n",
      "epoch 1 training loss: 0.006731089329745038 acc: 0.9981575715037726\n",
      "epoch 1 validation loss: 0.004163743666140363 acc: 0.9992107340173638\n",
      "saved: NN_binary_classification_Pytorch_e1.pt\n",
      "Train Epoch: 2 [0/11398 (0%)]\tLoss: 0.001813\n",
      "Train Epoch: 2 [6400/11398 (56%)]\tLoss: 0.000599\n",
      "epoch 2 training loss: 0.004709107238752507 acc: 0.9986839796455519\n",
      "epoch 2 validation loss: 0.004025648755487055 acc: 0.9984214680347278\n",
      "saved: NN_binary_classification_Pytorch_e2.pt\n",
      "Train Epoch: 3 [0/11398 (0%)]\tLoss: 0.000878\n",
      "Train Epoch: 3 [6400/11398 (56%)]\tLoss: 0.000670\n",
      "epoch 3 training loss: 0.0039441447682918036 acc: 0.998859449026145\n",
      "epoch 3 validation loss: 0.003915874217636883 acc: 0.9992107340173638\n",
      "saved: NN_binary_classification_Pytorch_e3.pt\n",
      "Train Epoch: 4 [0/11398 (0%)]\tLoss: 0.002192\n",
      "Train Epoch: 4 [6400/11398 (56%)]\tLoss: 0.000680\n",
      "epoch 4 training loss: 0.003377370417635763 acc: 0.999034918406738\n",
      "epoch 4 validation loss: 0.003819345645752037 acc: 0.9992107340173638\n",
      "saved: NN_binary_classification_Pytorch_e4.pt\n",
      "Train Epoch: 5 [0/11398 (0%)]\tLoss: 0.000506\n",
      "Train Epoch: 5 [6400/11398 (56%)]\tLoss: 0.043648\n",
      "epoch 5 training loss: 0.002937518816419185 acc: 0.9992103877873311\n",
      "epoch 5 validation loss: 0.0038099354547739494 acc: 0.9992107340173638\n",
      "saved: NN_binary_classification_Pytorch_e5.pt\n",
      "Train Epoch: 6 [0/11398 (0%)]\tLoss: 0.002284\n",
      "Train Epoch: 6 [6400/11398 (56%)]\tLoss: 0.000671\n",
      "epoch 6 training loss: 0.002580521631349846 acc: 0.9992981224776276\n",
      "epoch 6 validation loss: 0.0039943131487234496 acc: 0.9984214680347278\n",
      "saved: NN_binary_classification_Pytorch_e6.pt\n",
      "Train Epoch: 7 [0/11398 (0%)]\tLoss: 0.000466\n",
      "Train Epoch: 7 [6400/11398 (56%)]\tLoss: 0.000149\n",
      "epoch 7 training loss: 0.002450854083156999 acc: 0.9992981224776276\n",
      "epoch 7 validation loss: 0.0037907471392827573 acc: 0.9992107340173638\n",
      "saved: NN_binary_classification_Pytorch_e7.pt\n",
      "Train Epoch: 8 [0/11398 (0%)]\tLoss: 0.000146\n",
      "Train Epoch: 8 [6400/11398 (56%)]\tLoss: 0.009378\n",
      "epoch 8 training loss: 0.002232057539725516 acc: 0.9994735918582207\n",
      "epoch 8 validation loss: 0.003750808406039141 acc: 0.9992107340173638\n",
      "saved: NN_binary_classification_Pytorch_e8.pt\n",
      "Train Epoch: 9 [0/11398 (0%)]\tLoss: 0.000416\n",
      "Train Epoch: 9 [6400/11398 (56%)]\tLoss: 0.000086\n",
      "epoch 9 training loss: 0.002122302425019807 acc: 0.9994735918582207\n",
      "epoch 9 validation loss: 0.003784065608488163 acc: 0.9992107340173638\n",
      "saved: NN_binary_classification_Pytorch_e9.pt\n"
     ]
    }
   ],
   "source": [
    "for epoch in range(0, 10):    \n",
    "    #-------- perform training --------------------------------\n",
    "    loss_train, acc_train =train(model, optimizer, dataloader_train, device, epoch)    \n",
    "    loss_train_list.append(loss_train)\n",
    "    acc_train_list.append(acc_train)\n",
    "    print('epoch', epoch, 'training loss:', loss_train, 'acc:', acc_train)\n",
    "    #-------- perform validation --------------------------------\n",
    "    loss_val, acc_val = test(model, dataloader_val, device)\n",
    "    loss_val_list.append(loss_val)\n",
    "    acc_val_list.append(acc_val)\n",
    "    print('epoch', epoch, 'validation loss:', loss_val, 'acc:', acc_val)\n",
    "    #------ save model ------------------\n",
    "    #you can choose to save model every 10 epochs\n",
    "    #if epoch %10 == 0\n",
    "    filename='NN_binary_classification_Pytorch_e'+str(epoch)+'.pt'\n",
    "    save_checkpoint(filename, model, optimizer, epoch)"
   ]
  },
  {
   "cell_type": "markdown",
   "metadata": {
    "id": "-zPDtaZEZvKE"
   },
   "source": [
    "draw the curves of loss vs epoch"
   ]
  },
  {
   "cell_type": "code",
   "execution_count": 26,
   "metadata": {
    "colab": {
     "base_uri": "https://localhost:8080/",
     "height": 393
    },
    "id": "b9n6yryiZvKE",
    "outputId": "3d3d0152-1a7c-4479-f060-2fd99c5645a0"
   },
   "outputs": [
    {
     "data": {
      "image/png": "[encoded data removed]",
      "text/plain": [
       "<Figure size 864x432 with 2 Axes>"
      ]
     },
     "metadata": {
      "needs_background": "light"
     },
     "output_type": "display_data"
    }
   ],
   "source": [
    "fig, ax = plt.subplots(1, 2, figsize=(12,6))\n",
    "ax[0].plot(np.arange(0,len(loss_train_list)), loss_train_list, '-b', label='training loss')\n",
    "ax[0].plot(np.arange(0,len(loss_val_list)), loss_val_list, '-r', label='validation loss')\n",
    "ax[0].set_xlabel('epoch',fontsize=16)\n",
    "ax[0].legend(fontsize=16)\n",
    "ax[0].grid(True)\n",
    "ax[1].plot(np.arange(0,len(acc_train_list)), acc_train_list, '-b', label='training accuracy')\n",
    "ax[1].plot(np.arange(0,len(acc_val_list)), acc_val_list, '-r', label='validation accuracy')\n",
    "ax[1].set_xlabel('epoch',fontsize=16)\n",
    "ax[1].legend(fontsize=16)\n",
    "ax[1].grid(True)"
   ]
  },
  {
   "cell_type": "markdown",
   "metadata": {
    "id": "k2Aj7Mo5ZvKF"
   },
   "source": [
    "Usually, we need to tune the hyperparameters of a neural network, <br>\n",
    "such as the number of layers, the number of units in each layer <br>\n",
    "For this simple example, we can skip this step"
   ]
  },
  {
   "cell_type": "code",
   "execution_count": 27,
   "metadata": {
    "id": "uC-zowPAZvKF"
   },
   "outputs": [],
   "source": [
    "#to change the learning rate during traning, we may do this\n",
    "for g in optimizer.param_groups:\n",
    "    g['lr']=0.001"
   ]
  },
  {
   "cell_type": "markdown",
   "metadata": {
    "id": "wf_StSZlZvKG"
   },
   "source": [
    "after training, we load the best model and evaluate the model on the test set"
   ]
  },
  {
   "cell_type": "code",
   "execution_count": 28,
   "metadata": {
    "colab": {
     "base_uri": "https://localhost:8080/"
    },
    "id": "Vgj6pUg0aJnK",
    "outputId": "bb5a54ff-26ea-46be-d091-8c251efe2242"
   },
   "outputs": [
    {
     "data": {
      "text/plain": [
       "0"
      ]
     },
     "execution_count": 28,
     "metadata": {},
     "output_type": "execute_result"
    }
   ],
   "source": [
    "np.argmax(acc_val_list)"
   ]
  },
  {
   "cell_type": "code",
   "execution_count": 29,
   "metadata": {
    "id": "mHjk-IbUZvKG"
   },
   "outputs": [],
   "source": [
    "filename_best='NN_binary_classification_Pytorch_e5.pt'\n",
    "load_checkpoint(filename_best, model, optimizer, device)"
   ]
  },
  {
   "cell_type": "code",
   "execution_count": 30,
   "metadata": {
    "colab": {
     "base_uri": "https://localhost:8080/"
    },
    "id": "MSP14iCzZvKG",
    "outputId": "79ee8c54-74fa-4e4f-cfd7-e6429004796a"
   },
   "outputs": [
    {
     "name": "stdout",
     "output_type": "stream",
     "text": [
      "test loss: 0.002097995301215526\n",
      "test accuracy 0.9990543735224586\n"
     ]
    }
   ],
   "source": [
    "loss_test, acc_test = test(model, dataloader_test, device)\n",
    "print('test loss:', loss_test)\n",
    "print('test accuracy', acc_test)"
   ]
  },
  {
   "cell_type": "markdown",
   "metadata": {
    "id": "9e7zGl4aZvKH"
   },
   "source": [
    "apply the model to some data points in the test set"
   ]
  },
  {
   "cell_type": "code",
   "execution_count": 31,
   "metadata": {
    "colab": {
     "base_uri": "https://localhost:8080/"
    },
    "id": "k8tJVO6bZvKI",
    "outputId": "b7e64c39-c417-4676-ac16-93ab4b3b52ee"
   },
   "outputs": [
    {
     "data": {
      "text/plain": [
       "torch.Size([1])"
      ]
     },
     "execution_count": 31,
     "metadata": {},
     "output_type": "execute_result"
    }
   ],
   "source": [
    "x=dataloader_test.dataset[0][0]\n",
    "x=x.view(1,784).to(device)\n",
    "z=model(x)\n",
    "z.size()"
   ]
  },
  {
   "cell_type": "code",
   "execution_count": 32,
   "metadata": {
    "colab": {
     "base_uri": "https://localhost:8080/"
    },
    "id": "tJwXgjXkZvKI",
    "outputId": "69e50bcd-0f99-4bb4-8fac-59cfbfa0f961"
   },
   "outputs": [
    {
     "data": {
      "text/plain": [
       "tensor([1], device='cuda:0')"
      ]
     },
     "execution_count": 32,
     "metadata": {},
     "output_type": "execute_result"
    }
   ],
   "source": [
    "yp=(z>0).to(torch.int64)\n",
    "yp"
   ]
  },
  {
   "cell_type": "code",
   "execution_count": 33,
   "metadata": {
    "colab": {
     "base_uri": "https://localhost:8080/",
     "height": 283
    },
    "id": "pWlTa15FZvKK",
    "outputId": "d9130c9e-c799-4e66-eac9-7852619e3d58"
   },
   "outputs": [
    {
     "data": {
      "text/plain": [
       "<matplotlib.image.AxesImage at 0x1d313d01fd0>"
      ]
     },
     "execution_count": 33,
     "metadata": {},
     "output_type": "execute_result"
    },
    {
     "data": {
      "image/png": "[encoded data removed]",
      "text/plain": [
       "<Figure size 432x288 with 1 Axes>"
      ]
     },
     "metadata": {
      "needs_background": "light"
     },
     "output_type": "display_data"
    }
   ],
   "source": [
    "#show the image x\n",
    "x=x.detach().cpu().numpy()\n",
    "plt.imshow(x.reshape(28,28), cmap='gray')"
   ]
  }
 ],
 "metadata": {
  "colab": {
   "name": "NN_binary_classification_Pytorch.ipynb",
   "provenance": []
  },
  "kernelspec": {
   "display_name": "Python 3",
   "language": "python",
   "name": "python3"
  },
  "language_info": {
   "codemirror_mode": {
    "name": "ipython",
    "version": 3
   },
   "file_extension": ".py",
   "mimetype": "text/x-python",
   "name": "python",
   "nbconvert_exporter": "python",
   "pygments_lexer": "ipython3",
   "version": "3.8.5"
  }
 },
 "nbformat": 4,
 "nbformat_minor": 1
}
