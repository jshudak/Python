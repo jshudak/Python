{
 "cells": [
  {
   "cell_type": "markdown",
   "metadata": {
    "id": "6lRe0pePa4cL"
   },
   "source": [
    "## Multiclass Classification using a neural network with Pytorch"
   ]
  },
  {
   "cell_type": "code",
   "execution_count": 1,
   "metadata": {
    "id": "jOJl338La4cU"
   },
   "outputs": [],
   "source": [
    "%matplotlib inline\n",
    "from IPython import display\n",
    "import matplotlib.pyplot as plt\n",
    "import numpy as np\n",
    "import torch # this is the Pytorch pakcage\n",
    "from torch.utils.data import Dataset as torch_dataset\n",
    "from torch.utils.data import DataLoader as torch_dataloader\n",
    "#we only need the mnist data from Keras\n",
    "from tensorflow.keras.datasets import mnist"
   ]
  },
  {
   "cell_type": "markdown",
   "metadata": {
    "id": "a2w3yR35a4cc"
   },
   "source": [
    "### Load the data"
   ]
  },
  {
   "cell_type": "code",
   "execution_count": 2,
   "metadata": {
    "colab": {
     "base_uri": "https://localhost:8080/"
    },
    "id": "yuc_ihxAa4cf",
    "outputId": "ab4e4d74-7ffb-4e9e-d876-3ad2fddfc1eb"
   },
   "outputs": [
    {
     "name": "stdout",
     "output_type": "stream",
     "text": [
      "Downloading data from https://storage.googleapis.com/tensorflow/tf-keras-datasets/mnist.npz\n",
      "11493376/11490434 [==============================] - 0s 0us/step\n",
      "11501568/11490434 [==============================] - 0s 0us/step\n"
     ]
    }
   ],
   "source": [
    "(x_train, y_train), (x_test, y_test) = mnist.load_data()"
   ]
  },
  {
   "cell_type": "code",
   "execution_count": 3,
   "metadata": {
    "colab": {
     "base_uri": "https://localhost:8080/"
    },
    "id": "qBllE7HTa4ci",
    "outputId": "508f2a8e-a460-4016-b935-aaa4240258bc"
   },
   "outputs": [
    {
     "name": "stdout",
     "output_type": "stream",
     "text": [
      "60000 training samples\n",
      "10000 test samples\n"
     ]
    }
   ],
   "source": [
    "#reshape\n",
    "x_train = x_train.reshape(60000, 784)\n",
    "x_test = x_test.reshape(10000, 784)\n",
    "x_train = x_train.astype('float32')\n",
    "x_test = x_test.astype('float32')\n",
    "#normalize the value of every pixel into the range of 0 to 1\n",
    "x_train /= 255\n",
    "x_test /= 255\n",
    "print(x_train.shape[0], 'training samples')\n",
    "print(x_test.shape[0], 'test samples')"
   ]
  },
  {
   "cell_type": "markdown",
   "metadata": {
    "id": "HuI7fBhaa4cl"
   },
   "source": [
    "create a validation set"
   ]
  },
  {
   "cell_type": "code",
   "execution_count": 4,
   "metadata": {
    "colab": {
     "base_uri": "https://localhost:8080/"
    },
    "id": "4ice5juda4cn",
    "outputId": "c970577f-aa5a-45bb-f64e-0821093085eb"
   },
   "outputs": [
    {
     "name": "stdout",
     "output_type": "stream",
     "text": [
      "train: (54000, 784) (54000,)\n",
      "validation: (6000, 784) (6000,)\n",
      "test: (10000, 784) (10000,)\n"
     ]
    }
   ],
   "source": [
    "from sklearn.model_selection import train_test_split\n",
    "x_train, x_val, y_train, y_val = train_test_split(x_train, y_train, test_size=0.1, random_state=0)\n",
    "print('train:', x_train.shape, y_train.shape)\n",
    "print('validation:', x_val.shape, y_val.shape)\n",
    "print('test:', x_test.shape, y_test.shape)"
   ]
  },
  {
   "cell_type": "markdown",
   "metadata": {
    "id": "IhSHmP2ua4cq"
   },
   "source": [
    "show the images"
   ]
  },
  {
   "cell_type": "code",
   "execution_count": 5,
   "metadata": {
    "colab": {
     "base_uri": "https://localhost:8080/",
     "height": 230
    },
    "id": "KGLj1vU7a4cs",
    "outputId": "9f073fcc-c259-4f97-cc2f-1fb024915e6e"
   },
   "outputs": [
    {
     "data": {
      "image/png": "[encoded data removed]",
      "text/plain": [
       "<Figure size 216x216 with 1 Axes>"
      ]
     },
     "metadata": {},
     "output_type": "display_data"
    },
    {
     "data": {
      "text/plain": [
       "<Figure size 432x288 with 0 Axes>"
      ]
     },
     "metadata": {},
     "output_type": "display_data"
    }
   ],
   "source": [
    "fig, ax = plt.subplots(figsize=(3, 3))\n",
    "for n in range(0, x_train.shape[0], 1000):\n",
    "    I = x_train[n,:].reshape(28,28)\n",
    "    ax.imshow(I, cmap='gray')\n",
    "    ax.set_title('label: ' + str(int(y_train[n])), fontsize=16)\n",
    "    ax.axis('off')\n",
    "    plt.draw()\n",
    "    display.clear_output(wait=True)\n",
    "    display.display(fig)\n",
    "    plt.pause(0.1) "
   ]
  },
  {
   "cell_type": "markdown",
   "metadata": {
    "id": "goDfiXZMa4cw"
   },
   "source": [
    "### define a dataset to hold/represent the data\n",
    "`MyDataset` is a Python class, derived from `torch_dataset`"
   ]
  },
  {
   "cell_type": "code",
   "execution_count": 6,
   "metadata": {
    "id": "ZhMMNP03a4cz"
   },
   "outputs": [],
   "source": [
    "class MyDataset(torch_dataset):\n",
    "    def __init__(self, X, Y):\n",
    "        self.X=X\n",
    "        self.Y=Y\n",
    "    def __len__(self):\n",
    "        #return the number of data points\n",
    "        return self.X.shape[0]\n",
    "    def __getitem__(self, idx):\n",
    "        # self.X[idx] is numpy array, we need to convert it to torch tensor\n",
    "        x = torch.tensor(self.X[idx], dtype=torch.float32)\n",
    "        y = torch.tensor(self.Y[idx], dtype=torch.int64)\n",
    "        return x, y"
   ]
  },
  {
   "cell_type": "markdown",
   "metadata": {
    "id": "rZlNNpR0a4c2"
   },
   "source": [
    "Create instance objects of the `MyDataset` class <br>\n",
    "a training dataset `dataset_train` <br>\n",
    "a validation dataset `dataset_val` <br>\n",
    "a testing dataset `dataset_test` <br>"
   ]
  },
  {
   "cell_type": "code",
   "execution_count": 7,
   "metadata": {
    "id": "VhfYowgNa4c4"
   },
   "outputs": [],
   "source": [
    "dataset_train = MyDataset(x_train, y_train)\n",
    "dataset_val = MyDataset(x_val, y_val)\n",
    "dataset_test = MyDataset(x_test, y_test)"
   ]
  },
  {
   "cell_type": "code",
   "execution_count": 8,
   "metadata": {
    "colab": {
     "base_uri": "https://localhost:8080/"
    },
    "id": "pKb3saXGa4c7",
    "outputId": "402b340a-3b81-4c23-ba9a-18ce067178b6"
   },
   "outputs": [
    {
     "data": {
      "text/plain": [
       "torch.Size([784])"
      ]
     },
     "execution_count": 8,
     "metadata": {},
     "output_type": "execute_result"
    }
   ],
   "source": [
    "# get the first data point in the training set\n",
    "# dataset_train[0][0] is x0\n",
    "# dataset_train[0][1] is y0\n",
    "dataset_train[0][0].shape"
   ]
  },
  {
   "cell_type": "code",
   "execution_count": 9,
   "metadata": {
    "colab": {
     "base_uri": "https://localhost:8080/"
    },
    "id": "ZIMyR4Bla4c8",
    "outputId": "0dd3d946-0d78-42ac-eacf-1ab21c1b0b1d"
   },
   "outputs": [
    {
     "data": {
      "text/plain": [
       "tensor(7)"
      ]
     },
     "execution_count": 9,
     "metadata": {},
     "output_type": "execute_result"
    }
   ],
   "source": [
    "# the class label of the first training sample x0\n",
    "dataset_train[0][1]"
   ]
  },
  {
   "cell_type": "code",
   "execution_count": 10,
   "metadata": {
    "colab": {
     "base_uri": "https://localhost:8080/"
    },
    "id": "o-hHxTU8a4c-",
    "outputId": "cb99743a-0abd-46e4-e739-6c75113d0696"
   },
   "outputs": [
    {
     "data": {
      "text/plain": [
       "54000"
      ]
     },
     "execution_count": 10,
     "metadata": {},
     "output_type": "execute_result"
    }
   ],
   "source": [
    "len(dataset_train) # get the number of data points in the training set"
   ]
  },
  {
   "cell_type": "markdown",
   "metadata": {
    "id": "JmHUGMN8a4dB"
   },
   "source": [
    "### Create dataloaders which will be used to generate minibatches\n",
    "batch_size=64 means each minibatch contains 64 data points  <br>\n",
    "note: the last minibatch may contain less than 64 data points"
   ]
  },
  {
   "cell_type": "code",
   "execution_count": 11,
   "metadata": {
    "id": "vLwbCvwDa4dD"
   },
   "outputs": [],
   "source": [
    "#we must shuffle data points in the training set, set shuffle=True\n",
    "dataloader_train = torch_dataloader(dataset_train, batch_size=64, shuffle=True, num_workers=0)\n",
    "dataloader_val = torch_dataloader(dataset_val, batch_size=64, shuffle=False, num_workers=0) \n",
    "dataloader_test = torch_dataloader(dataset_test, batch_size=64, shuffle=False, num_workers=0) "
   ]
  },
  {
   "cell_type": "code",
   "execution_count": 12,
   "metadata": {
    "colab": {
     "base_uri": "https://localhost:8080/"
    },
    "id": "RMDggdB0a4dE",
    "outputId": "00c3dec7-e104-449f-c46c-a9b2924d35fd"
   },
   "outputs": [
    {
     "data": {
      "text/plain": [
       "(tensor([0.0000, 0.0000, 0.0000, 0.0000, 0.0000, 0.0000, 0.0000, 0.0000, 0.0000,\n",
       "         0.0000, 0.0000, 0.0000, 0.0000, 0.0000, 0.0000, 0.0000, 0.0000, 0.0000,\n",
       "         0.0000, 0.0000, 0.0000, 0.0000, 0.0000, 0.0000, 0.0000, 0.0000, 0.0000,\n",
       "         0.0000, 0.0000, 0.0000, 0.0000, 0.0000, 0.0000, 0.0000, 0.0000, 0.0000,\n",
       "         0.0000, 0.0000, 0.0000, 0.0000, 0.0000, 0.0000, 0.0000, 0.0000, 0.0000,\n",
       "         0.0000, 0.0000, 0.0000, 0.0000, 0.0000, 0.0000, 0.0000, 0.0000, 0.0000,\n",
       "         0.0000, 0.0000, 0.0000, 0.0000, 0.0000, 0.0000, 0.0000, 0.0000, 0.0000,\n",
       "         0.0000, 0.0000, 0.0000, 0.0000, 0.0000, 0.0000, 0.0000, 0.0000, 0.0000,\n",
       "         0.0000, 0.0000, 0.0000, 0.0000, 0.0000, 0.0000, 0.0000, 0.0000, 0.0000,\n",
       "         0.0000, 0.0000, 0.0000, 0.0000, 0.0000, 0.0000, 0.0000, 0.0000, 0.0000,\n",
       "         0.0000, 0.0000, 0.0000, 0.0000, 0.0000, 0.0000, 0.0000, 0.0000, 0.0000,\n",
       "         0.0000, 0.0000, 0.0000, 0.0000, 0.0000, 0.0000, 0.0000, 0.0000, 0.0000,\n",
       "         0.0000, 0.0000, 0.0000, 0.0000, 0.0000, 0.0000, 0.0000, 0.0000, 0.0000,\n",
       "         0.0000, 0.0000, 0.0000, 0.0000, 0.0000, 0.0000, 0.0000, 0.0000, 0.0000,\n",
       "         0.0000, 0.0000, 0.0000, 0.0000, 0.0000, 0.0000, 0.0000, 0.0000, 0.0000,\n",
       "         0.0000, 0.0000, 0.0000, 0.0000, 0.0000, 0.0000, 0.0000, 0.0000, 0.0000,\n",
       "         0.0000, 0.0000, 0.0000, 0.0000, 0.0000, 0.0000, 0.0000, 0.0000, 0.0000,\n",
       "         0.0000, 0.0000, 0.0000, 0.0000, 0.0000, 0.0000, 0.0000, 0.0000, 0.0000,\n",
       "         0.0000, 0.0000, 0.0000, 0.0000, 0.0000, 0.0000, 0.0000, 0.0000, 0.0000,\n",
       "         0.0000, 0.0000, 0.0000, 0.0000, 0.0000, 0.0000, 0.0000, 0.0000, 0.0000,\n",
       "         0.0000, 0.0000, 0.0000, 0.0000, 0.0000, 0.0000, 0.0000, 0.0000, 0.0000,\n",
       "         0.0000, 0.0000, 0.0000, 0.0000, 0.0000, 0.0000, 0.0000, 0.0000, 0.0000,\n",
       "         0.0000, 0.0000, 0.0000, 0.0000, 0.0000, 0.0000, 0.0000, 0.0000, 0.1333,\n",
       "         0.3961, 0.3961, 0.3961, 0.8157, 0.9961, 1.0000, 1.0000, 0.7216, 0.0588,\n",
       "         0.0000, 0.0000, 0.0000, 0.0000, 0.0000, 0.0000, 0.0000, 0.0000, 0.0000,\n",
       "         0.0000, 0.0000, 0.0000, 0.0000, 0.0000, 0.0000, 0.2902, 0.7843, 0.7843,\n",
       "         0.8549, 0.9922, 0.9922, 0.9922, 0.9922, 0.9922, 0.9922, 0.9922, 0.9922,\n",
       "         0.2588, 0.0000, 0.0000, 0.0000, 0.0000, 0.0000, 0.0000, 0.0000, 0.0000,\n",
       "         0.0000, 0.0000, 0.0000, 0.0000, 0.0000, 0.0000, 0.0000, 0.3647, 0.9922,\n",
       "         0.9922, 0.9922, 0.9922, 0.9922, 0.9922, 0.9922, 0.7098, 0.5725, 0.9922,\n",
       "         0.9922, 0.4039, 0.0000, 0.0000, 0.0000, 0.0000, 0.0000, 0.0000, 0.0000,\n",
       "         0.0000, 0.0000, 0.0000, 0.0000, 0.0000, 0.0000, 0.0000, 0.0000, 0.2314,\n",
       "         0.6275, 0.6275, 0.0588, 0.0275, 0.0275, 0.0275, 0.0275, 0.0157, 0.1098,\n",
       "         0.7922, 0.9922, 0.1490, 0.0000, 0.0000, 0.0000, 0.0000, 0.0000, 0.0000,\n",
       "         0.0000, 0.0000, 0.0000, 0.0000, 0.0000, 0.0000, 0.0000, 0.0000, 0.0000,\n",
       "         0.0000, 0.0000, 0.0000, 0.0000, 0.0000, 0.0000, 0.0000, 0.0000, 0.0000,\n",
       "         0.2745, 0.9922, 0.9922, 0.1490, 0.0000, 0.0000, 0.0000, 0.0000, 0.0000,\n",
       "         0.0000, 0.0000, 0.0000, 0.0000, 0.0000, 0.0000, 0.0000, 0.0000, 0.0000,\n",
       "         0.0000, 0.0000, 0.0000, 0.0000, 0.0000, 0.0000, 0.0000, 0.0000, 0.0000,\n",
       "         0.0000, 0.6039, 0.9922, 0.9922, 0.1490, 0.0000, 0.0000, 0.0000, 0.0000,\n",
       "         0.0000, 0.0000, 0.0000, 0.0000, 0.0000, 0.0000, 0.0000, 0.0000, 0.0000,\n",
       "         0.0000, 0.0000, 0.0000, 0.0000, 0.0000, 0.0000, 0.0000, 0.0000, 0.0000,\n",
       "         0.0000, 0.4588, 0.9843, 0.9922, 0.5608, 0.0118, 0.0000, 0.0000, 0.0000,\n",
       "         0.0000, 0.0000, 0.0000, 0.0000, 0.0000, 0.0000, 0.0000, 0.0000, 0.0000,\n",
       "         0.0000, 0.0000, 0.0000, 0.0000, 0.0000, 0.0000, 0.0000, 0.0000, 0.0000,\n",
       "         0.0000, 0.0118, 0.5451, 0.9922, 0.9490, 0.1451, 0.0000, 0.0000, 0.0000,\n",
       "         0.0000, 0.0000, 0.0000, 0.0000, 0.0000, 0.0000, 0.0000, 0.0000, 0.0000,\n",
       "         0.0000, 0.0000, 0.0000, 0.0000, 0.0000, 0.0000, 0.0000, 0.0000, 0.0000,\n",
       "         0.0000, 0.0000, 0.0941, 0.9922, 0.9922, 0.6157, 0.0000, 0.0000, 0.0000,\n",
       "         0.0000, 0.0000, 0.0000, 0.0000, 0.0000, 0.0000, 0.0000, 0.0000, 0.0000,\n",
       "         0.0000, 0.0000, 0.0000, 0.0000, 0.0000, 0.0000, 0.0000, 0.0000, 0.0000,\n",
       "         0.0000, 0.0000, 0.0941, 0.7333, 0.9922, 0.9922, 0.3294, 0.0000, 0.0000,\n",
       "         0.0000, 0.0000, 0.0000, 0.0000, 0.0000, 0.0000, 0.0000, 0.0000, 0.0000,\n",
       "         0.0000, 0.0000, 0.0000, 0.0000, 0.0000, 0.0000, 0.0000, 0.0000, 0.0000,\n",
       "         0.0000, 0.0000, 0.0000, 0.3608, 0.9922, 0.9922, 0.7451, 0.0980, 0.0000,\n",
       "         0.0000, 0.0000, 0.0000, 0.0000, 0.0000, 0.0000, 0.0000, 0.0000, 0.0000,\n",
       "         0.0000, 0.0000, 0.0000, 0.0000, 0.0000, 0.0000, 0.0000, 0.0000, 0.0000,\n",
       "         0.0000, 0.0000, 0.0000, 0.0000, 0.9059, 0.9922, 0.7569, 0.0627, 0.0000,\n",
       "         0.0000, 0.0000, 0.0000, 0.0000, 0.0000, 0.0000, 0.0000, 0.0000, 0.0000,\n",
       "         0.0000, 0.0000, 0.0000, 0.0000, 0.0000, 0.0000, 0.0000, 0.0000, 0.0000,\n",
       "         0.0000, 0.0000, 0.0000, 0.0353, 0.5843, 0.9804, 0.9686, 0.3725, 0.0000,\n",
       "         0.0000, 0.0000, 0.0000, 0.0000, 0.0000, 0.0000, 0.0000, 0.0000, 0.0000,\n",
       "         0.0000, 0.0000, 0.0000, 0.0000, 0.0000, 0.0000, 0.0000, 0.0000, 0.0000,\n",
       "         0.0000, 0.0000, 0.0000, 0.0000, 0.1608, 0.9922, 0.9922, 0.8627, 0.0000,\n",
       "         0.0000, 0.0000, 0.0000, 0.0000, 0.0000, 0.0000, 0.0000, 0.0000, 0.0000,\n",
       "         0.0000, 0.0000, 0.0000, 0.0000, 0.0000, 0.0000, 0.0000, 0.0000, 0.0000,\n",
       "         0.0000, 0.0000, 0.0000, 0.0000, 0.1529, 0.8471, 0.9922, 0.8549, 0.1647,\n",
       "         0.0000, 0.0000, 0.0000, 0.0000, 0.0000, 0.0000, 0.0000, 0.0000, 0.0000,\n",
       "         0.0000, 0.0000, 0.0000, 0.0000, 0.0000, 0.0000, 0.0000, 0.0000, 0.0000,\n",
       "         0.0000, 0.0000, 0.0000, 0.0000, 0.0000, 0.8471, 0.9922, 0.9922, 0.1765,\n",
       "         0.0000, 0.0000, 0.0000, 0.0000, 0.0000, 0.0000, 0.0000, 0.0000, 0.0000,\n",
       "         0.0000, 0.0000, 0.0000, 0.0000, 0.0000, 0.0000, 0.0000, 0.0000, 0.0000,\n",
       "         0.0000, 0.0000, 0.0000, 0.0000, 0.0000, 0.0196, 0.9373, 0.9137, 0.3608,\n",
       "         0.0314, 0.0000, 0.0000, 0.0000, 0.0000, 0.0000, 0.0000, 0.0000, 0.0000,\n",
       "         0.0000, 0.0000, 0.0000, 0.0000, 0.0000, 0.0000, 0.0000, 0.0000, 0.0000,\n",
       "         0.0000, 0.0000, 0.0000, 0.0000, 0.0000, 0.0000, 0.5451, 0.9922, 0.6118,\n",
       "         0.0000, 0.0000, 0.0000, 0.0000, 0.0000, 0.0000, 0.0000, 0.0000, 0.0000,\n",
       "         0.0000, 0.0000, 0.0000, 0.0000, 0.0000, 0.0000, 0.0000, 0.0000, 0.0000,\n",
       "         0.0000, 0.0000, 0.0000, 0.0000, 0.0000, 0.0000, 0.0000, 0.5451, 0.5882,\n",
       "         0.0510, 0.0000, 0.0000, 0.0000, 0.0000, 0.0000, 0.0000, 0.0000, 0.0000,\n",
       "         0.0000, 0.0000, 0.0000, 0.0000, 0.0000, 0.0000, 0.0000, 0.0000, 0.0000,\n",
       "         0.0000, 0.0000, 0.0000, 0.0000, 0.0000, 0.0000, 0.0000, 0.0000, 0.5451,\n",
       "         0.0549, 0.0000, 0.0000, 0.0000, 0.0000, 0.0000, 0.0000, 0.0000, 0.0000,\n",
       "         0.0000, 0.0000, 0.0000, 0.0000, 0.0000, 0.0000, 0.0000, 0.0000, 0.0000,\n",
       "         0.0000, 0.0000, 0.0000, 0.0000, 0.0000, 0.0000, 0.0000, 0.0000, 0.0000,\n",
       "         0.0000, 0.0000, 0.0000, 0.0000, 0.0000, 0.0000, 0.0000, 0.0000, 0.0000,\n",
       "         0.0000, 0.0000, 0.0000, 0.0000, 0.0000, 0.0000, 0.0000, 0.0000, 0.0000,\n",
       "         0.0000]), tensor(7))"
      ]
     },
     "execution_count": 12,
     "metadata": {},
     "output_type": "execute_result"
    }
   ],
   "source": [
    "dataloader_train.dataset[0] # get the first data point in the training set"
   ]
  },
  {
   "cell_type": "code",
   "execution_count": 13,
   "metadata": {
    "colab": {
     "base_uri": "https://localhost:8080/"
    },
    "id": "P-r1ToOea4dG",
    "outputId": "cf5849a8-08f8-443a-9078-084505476b02"
   },
   "outputs": [
    {
     "data": {
      "text/plain": [
       "844"
      ]
     },
     "execution_count": 13,
     "metadata": {},
     "output_type": "execute_result"
    }
   ],
   "source": [
    "len(dataloader_train) # get the number of minibatches"
   ]
  },
  {
   "cell_type": "markdown",
   "metadata": {
    "id": "BkHab8Ana4dH"
   },
   "source": [
    "We can use a dataloader to generate minibatches "
   ]
  },
  {
   "cell_type": "code",
   "execution_count": 14,
   "metadata": {
    "colab": {
     "base_uri": "https://localhost:8080/"
    },
    "id": "V-vItQnta4dJ",
    "outputId": "36e1270e-fae4-4a70-b356-b71ade98d3e8",
    "scrolled": false
   },
   "outputs": [
    {
     "name": "stdout",
     "output_type": "stream",
     "text": [
      "0 torch.Size([64, 784]) torch.Size([64])\n",
      "1 torch.Size([64, 784]) torch.Size([64])\n",
      "2 torch.Size([64, 784]) torch.Size([64])\n",
      "3 torch.Size([64, 784]) torch.Size([64])\n",
      "4 torch.Size([64, 784]) torch.Size([64])\n",
      "5 torch.Size([64, 784]) torch.Size([64])\n",
      "6 torch.Size([64, 784]) torch.Size([64])\n",
      "7 torch.Size([64, 784]) torch.Size([64])\n",
      "8 torch.Size([64, 784]) torch.Size([64])\n",
      "9 torch.Size([64, 784]) torch.Size([64])\n",
      "10 torch.Size([64, 784]) torch.Size([64])\n",
      "11 torch.Size([64, 784]) torch.Size([64])\n",
      "12 torch.Size([64, 784]) torch.Size([64])\n",
      "13 torch.Size([64, 784]) torch.Size([64])\n",
      "14 torch.Size([64, 784]) torch.Size([64])\n",
      "15 torch.Size([64, 784]) torch.Size([64])\n",
      "16 torch.Size([64, 784]) torch.Size([64])\n",
      "17 torch.Size([64, 784]) torch.Size([64])\n",
      "18 torch.Size([64, 784]) torch.Size([64])\n",
      "19 torch.Size([64, 784]) torch.Size([64])\n",
      "20 torch.Size([64, 784]) torch.Size([64])\n",
      "21 torch.Size([64, 784]) torch.Size([64])\n",
      "22 torch.Size([64, 784]) torch.Size([64])\n",
      "23 torch.Size([64, 784]) torch.Size([64])\n",
      "24 torch.Size([64, 784]) torch.Size([64])\n",
      "25 torch.Size([64, 784]) torch.Size([64])\n",
      "26 torch.Size([64, 784]) torch.Size([64])\n",
      "27 torch.Size([64, 784]) torch.Size([64])\n",
      "28 torch.Size([64, 784]) torch.Size([64])\n",
      "29 torch.Size([64, 784]) torch.Size([64])\n",
      "30 torch.Size([64, 784]) torch.Size([64])\n",
      "31 torch.Size([64, 784]) torch.Size([64])\n",
      "32 torch.Size([64, 784]) torch.Size([64])\n",
      "33 torch.Size([64, 784]) torch.Size([64])\n",
      "34 torch.Size([64, 784]) torch.Size([64])\n",
      "35 torch.Size([64, 784]) torch.Size([64])\n",
      "36 torch.Size([64, 784]) torch.Size([64])\n",
      "37 torch.Size([64, 784]) torch.Size([64])\n",
      "38 torch.Size([64, 784]) torch.Size([64])\n",
      "39 torch.Size([64, 784]) torch.Size([64])\n",
      "40 torch.Size([64, 784]) torch.Size([64])\n",
      "41 torch.Size([64, 784]) torch.Size([64])\n",
      "42 torch.Size([64, 784]) torch.Size([64])\n",
      "43 torch.Size([64, 784]) torch.Size([64])\n",
      "44 torch.Size([64, 784]) torch.Size([64])\n",
      "45 torch.Size([64, 784]) torch.Size([64])\n",
      "46 torch.Size([64, 784]) torch.Size([64])\n",
      "47 torch.Size([64, 784]) torch.Size([64])\n",
      "48 torch.Size([64, 784]) torch.Size([64])\n",
      "49 torch.Size([64, 784]) torch.Size([64])\n",
      "50 torch.Size([64, 784]) torch.Size([64])\n",
      "51 torch.Size([64, 784]) torch.Size([64])\n",
      "52 torch.Size([64, 784]) torch.Size([64])\n",
      "53 torch.Size([64, 784]) torch.Size([64])\n",
      "54 torch.Size([64, 784]) torch.Size([64])\n",
      "55 torch.Size([64, 784]) torch.Size([64])\n",
      "56 torch.Size([64, 784]) torch.Size([64])\n",
      "57 torch.Size([64, 784]) torch.Size([64])\n",
      "58 torch.Size([64, 784]) torch.Size([64])\n",
      "59 torch.Size([64, 784]) torch.Size([64])\n",
      "60 torch.Size([64, 784]) torch.Size([64])\n",
      "61 torch.Size([64, 784]) torch.Size([64])\n",
      "62 torch.Size([64, 784]) torch.Size([64])\n",
      "63 torch.Size([64, 784]) torch.Size([64])\n",
      "64 torch.Size([64, 784]) torch.Size([64])\n",
      "65 torch.Size([64, 784]) torch.Size([64])\n",
      "66 torch.Size([64, 784]) torch.Size([64])\n",
      "67 torch.Size([64, 784]) torch.Size([64])\n",
      "68 torch.Size([64, 784]) torch.Size([64])\n",
      "69 torch.Size([64, 784]) torch.Size([64])\n",
      "70 torch.Size([64, 784]) torch.Size([64])\n",
      "71 torch.Size([64, 784]) torch.Size([64])\n",
      "72 torch.Size([64, 784]) torch.Size([64])\n",
      "73 torch.Size([64, 784]) torch.Size([64])\n",
      "74 torch.Size([64, 784]) torch.Size([64])\n",
      "75 torch.Size([64, 784]) torch.Size([64])\n",
      "76 torch.Size([64, 784]) torch.Size([64])\n",
      "77 torch.Size([64, 784]) torch.Size([64])\n",
      "78 torch.Size([64, 784]) torch.Size([64])\n",
      "79 torch.Size([64, 784]) torch.Size([64])\n",
      "80 torch.Size([64, 784]) torch.Size([64])\n",
      "81 torch.Size([64, 784]) torch.Size([64])\n",
      "82 torch.Size([64, 784]) torch.Size([64])\n",
      "83 torch.Size([64, 784]) torch.Size([64])\n",
      "84 torch.Size([64, 784]) torch.Size([64])\n",
      "85 torch.Size([64, 784]) torch.Size([64])\n",
      "86 torch.Size([64, 784]) torch.Size([64])\n",
      "87 torch.Size([64, 784]) torch.Size([64])\n",
      "88 torch.Size([64, 784]) torch.Size([64])\n",
      "89 torch.Size([64, 784]) torch.Size([64])\n",
      "90 torch.Size([64, 784]) torch.Size([64])\n",
      "91 torch.Size([64, 784]) torch.Size([64])\n",
      "92 torch.Size([64, 784]) torch.Size([64])\n",
      "93 torch.Size([64, 784]) torch.Size([64])\n",
      "94 torch.Size([64, 784]) torch.Size([64])\n",
      "95 torch.Size([64, 784]) torch.Size([64])\n",
      "96 torch.Size([64, 784]) torch.Size([64])\n",
      "97 torch.Size([64, 784]) torch.Size([64])\n",
      "98 torch.Size([64, 784]) torch.Size([64])\n",
      "99 torch.Size([64, 784]) torch.Size([64])\n",
      "100 torch.Size([64, 784]) torch.Size([64])\n",
      "101 torch.Size([64, 784]) torch.Size([64])\n",
      "102 torch.Size([64, 784]) torch.Size([64])\n",
      "103 torch.Size([64, 784]) torch.Size([64])\n",
      "104 torch.Size([64, 784]) torch.Size([64])\n",
      "105 torch.Size([64, 784]) torch.Size([64])\n",
      "106 torch.Size([64, 784]) torch.Size([64])\n",
      "107 torch.Size([64, 784]) torch.Size([64])\n",
      "108 torch.Size([64, 784]) torch.Size([64])\n",
      "109 torch.Size([64, 784]) torch.Size([64])\n",
      "110 torch.Size([64, 784]) torch.Size([64])\n",
      "111 torch.Size([64, 784]) torch.Size([64])\n",
      "112 torch.Size([64, 784]) torch.Size([64])\n",
      "113 torch.Size([64, 784]) torch.Size([64])\n",
      "114 torch.Size([64, 784]) torch.Size([64])\n",
      "115 torch.Size([64, 784]) torch.Size([64])\n",
      "116 torch.Size([64, 784]) torch.Size([64])\n",
      "117 torch.Size([64, 784]) torch.Size([64])\n",
      "118 torch.Size([64, 784]) torch.Size([64])\n",
      "119 torch.Size([64, 784]) torch.Size([64])\n",
      "120 torch.Size([64, 784]) torch.Size([64])\n",
      "121 torch.Size([64, 784]) torch.Size([64])\n",
      "122 torch.Size([64, 784]) torch.Size([64])\n",
      "123 torch.Size([64, 784]) torch.Size([64])\n",
      "124 torch.Size([64, 784]) torch.Size([64])\n",
      "125 torch.Size([64, 784]) torch.Size([64])\n",
      "126 torch.Size([64, 784]) torch.Size([64])\n",
      "127 torch.Size([64, 784]) torch.Size([64])\n",
      "128 torch.Size([64, 784]) torch.Size([64])\n",
      "129 torch.Size([64, 784]) torch.Size([64])\n",
      "130 torch.Size([64, 784]) torch.Size([64])\n",
      "131 torch.Size([64, 784]) torch.Size([64])\n",
      "132 torch.Size([64, 784]) torch.Size([64])\n",
      "133 torch.Size([64, 784]) torch.Size([64])\n",
      "134 torch.Size([64, 784]) torch.Size([64])\n",
      "135 torch.Size([64, 784]) torch.Size([64])\n",
      "136 torch.Size([64, 784]) torch.Size([64])\n",
      "137 torch.Size([64, 784]) torch.Size([64])\n",
      "138 torch.Size([64, 784]) torch.Size([64])\n",
      "139 torch.Size([64, 784]) torch.Size([64])\n",
      "140 torch.Size([64, 784]) torch.Size([64])\n",
      "141 torch.Size([64, 784]) torch.Size([64])\n",
      "142 torch.Size([64, 784]) torch.Size([64])\n",
      "143 torch.Size([64, 784]) torch.Size([64])\n",
      "144 torch.Size([64, 784]) torch.Size([64])\n",
      "145 torch.Size([64, 784]) torch.Size([64])\n",
      "146 torch.Size([64, 784]) torch.Size([64])\n",
      "147 torch.Size([64, 784]) torch.Size([64])\n",
      "148 torch.Size([64, 784]) torch.Size([64])\n",
      "149 torch.Size([64, 784]) torch.Size([64])\n",
      "150 torch.Size([64, 784]) torch.Size([64])\n",
      "151 torch.Size([64, 784]) torch.Size([64])\n",
      "152 torch.Size([64, 784]) torch.Size([64])\n",
      "153 torch.Size([64, 784]) torch.Size([64])\n",
      "154 torch.Size([64, 784]) torch.Size([64])\n",
      "155 torch.Size([64, 784]) torch.Size([64])\n",
      "156 torch.Size([64, 784]) torch.Size([64])\n",
      "157 torch.Size([64, 784]) torch.Size([64])\n",
      "158 torch.Size([64, 784]) torch.Size([64])\n",
      "159 torch.Size([64, 784]) torch.Size([64])\n",
      "160 torch.Size([64, 784]) torch.Size([64])\n",
      "161 torch.Size([64, 784]) torch.Size([64])\n",
      "162 torch.Size([64, 784]) torch.Size([64])\n",
      "163 torch.Size([64, 784]) torch.Size([64])\n",
      "164 torch.Size([64, 784]) torch.Size([64])\n",
      "165 torch.Size([64, 784]) torch.Size([64])\n",
      "166 torch.Size([64, 784]) torch.Size([64])\n",
      "167 torch.Size([64, 784]) torch.Size([64])\n",
      "168 torch.Size([64, 784]) torch.Size([64])\n",
      "169 torch.Size([64, 784]) torch.Size([64])\n",
      "170 torch.Size([64, 784]) torch.Size([64])\n",
      "171 torch.Size([64, 784]) torch.Size([64])\n",
      "172 torch.Size([64, 784]) torch.Size([64])\n",
      "173 torch.Size([64, 784]) torch.Size([64])\n",
      "174 torch.Size([64, 784]) torch.Size([64])\n",
      "175 torch.Size([64, 784]) torch.Size([64])\n",
      "176 torch.Size([64, 784]) torch.Size([64])\n",
      "177 torch.Size([64, 784]) torch.Size([64])\n",
      "178 torch.Size([64, 784]) torch.Size([64])\n",
      "179 torch.Size([64, 784]) torch.Size([64])\n",
      "180 torch.Size([64, 784]) torch.Size([64])\n",
      "181 torch.Size([64, 784]) torch.Size([64])\n",
      "182 torch.Size([64, 784]) torch.Size([64])\n",
      "183 torch.Size([64, 784]) torch.Size([64])\n",
      "184 torch.Size([64, 784]) torch.Size([64])\n",
      "185 torch.Size([64, 784]) torch.Size([64])\n",
      "186 torch.Size([64, 784]) torch.Size([64])\n",
      "187 torch.Size([64, 784]) torch.Size([64])\n",
      "188 torch.Size([64, 784]) torch.Size([64])\n",
      "189 torch.Size([64, 784]) torch.Size([64])\n",
      "190 torch.Size([64, 784]) torch.Size([64])\n",
      "191 torch.Size([64, 784]) torch.Size([64])\n",
      "192 torch.Size([64, 784]) torch.Size([64])\n",
      "193 torch.Size([64, 784]) torch.Size([64])\n",
      "194 torch.Size([64, 784]) torch.Size([64])\n",
      "195 torch.Size([64, 784]) torch.Size([64])\n",
      "196 torch.Size([64, 784]) torch.Size([64])\n",
      "197 torch.Size([64, 784]) torch.Size([64])\n",
      "198 torch.Size([64, 784]) torch.Size([64])\n",
      "199 torch.Size([64, 784]) torch.Size([64])\n",
      "200 torch.Size([64, 784]) torch.Size([64])\n",
      "201 torch.Size([64, 784]) torch.Size([64])\n",
      "202 torch.Size([64, 784]) torch.Size([64])\n",
      "203 torch.Size([64, 784]) torch.Size([64])\n",
      "204 torch.Size([64, 784]) torch.Size([64])\n",
      "205 torch.Size([64, 784]) torch.Size([64])\n",
      "206 torch.Size([64, 784]) torch.Size([64])\n",
      "207 torch.Size([64, 784]) torch.Size([64])\n",
      "208 torch.Size([64, 784]) torch.Size([64])\n",
      "209 torch.Size([64, 784]) torch.Size([64])\n",
      "210 torch.Size([64, 784]) torch.Size([64])\n",
      "211 torch.Size([64, 784]) torch.Size([64])\n",
      "212 torch.Size([64, 784]) torch.Size([64])\n",
      "213 torch.Size([64, 784]) torch.Size([64])\n",
      "214 torch.Size([64, 784]) torch.Size([64])\n",
      "215 torch.Size([64, 784]) torch.Size([64])\n",
      "216 torch.Size([64, 784]) torch.Size([64])\n",
      "217 torch.Size([64, 784]) torch.Size([64])\n",
      "218 torch.Size([64, 784]) torch.Size([64])\n",
      "219 torch.Size([64, 784]) torch.Size([64])\n",
      "220 torch.Size([64, 784]) torch.Size([64])\n",
      "221 torch.Size([64, 784]) torch.Size([64])\n",
      "222 torch.Size([64, 784]) torch.Size([64])\n",
      "223 torch.Size([64, 784]) torch.Size([64])\n",
      "224 torch.Size([64, 784]) torch.Size([64])\n",
      "225 torch.Size([64, 784]) torch.Size([64])\n",
      "226 torch.Size([64, 784]) torch.Size([64])\n",
      "227 torch.Size([64, 784]) torch.Size([64])\n",
      "228 torch.Size([64, 784]) torch.Size([64])\n",
      "229 torch.Size([64, 784]) torch.Size([64])\n",
      "230 torch.Size([64, 784]) torch.Size([64])\n",
      "231 torch.Size([64, 784]) torch.Size([64])\n",
      "232 torch.Size([64, 784]) torch.Size([64])\n",
      "233 torch.Size([64, 784]) torch.Size([64])\n",
      "234 torch.Size([64, 784]) torch.Size([64])\n",
      "235 torch.Size([64, 784]) torch.Size([64])\n",
      "236 torch.Size([64, 784]) torch.Size([64])\n",
      "237 torch.Size([64, 784]) torch.Size([64])\n",
      "238 torch.Size([64, 784]) torch.Size([64])\n",
      "239 torch.Size([64, 784]) torch.Size([64])\n",
      "240 torch.Size([64, 784]) torch.Size([64])\n",
      "241 torch.Size([64, 784]) torch.Size([64])\n",
      "242 torch.Size([64, 784]) torch.Size([64])\n",
      "243 torch.Size([64, 784]) torch.Size([64])\n",
      "244 torch.Size([64, 784]) torch.Size([64])\n",
      "245 torch.Size([64, 784]) torch.Size([64])\n",
      "246 torch.Size([64, 784]) torch.Size([64])\n",
      "247 torch.Size([64, 784]) torch.Size([64])\n",
      "248 torch.Size([64, 784]) torch.Size([64])\n",
      "249 torch.Size([64, 784]) torch.Size([64])\n",
      "250 torch.Size([64, 784]) torch.Size([64])\n",
      "251 torch.Size([64, 784]) torch.Size([64])\n",
      "252 torch.Size([64, 784]) torch.Size([64])\n",
      "253 torch.Size([64, 784]) torch.Size([64])\n",
      "254 torch.Size([64, 784]) torch.Size([64])\n",
      "255 torch.Size([64, 784]) torch.Size([64])\n",
      "256 torch.Size([64, 784]) torch.Size([64])\n",
      "257 torch.Size([64, 784]) torch.Size([64])\n",
      "258 torch.Size([64, 784]) torch.Size([64])\n",
      "259 torch.Size([64, 784]) torch.Size([64])\n",
      "260 torch.Size([64, 784]) torch.Size([64])\n",
      "261 torch.Size([64, 784]) torch.Size([64])\n",
      "262 torch.Size([64, 784]) torch.Size([64])\n",
      "263 torch.Size([64, 784]) torch.Size([64])\n",
      "264 torch.Size([64, 784]) torch.Size([64])\n",
      "265 torch.Size([64, 784]) torch.Size([64])\n",
      "266 torch.Size([64, 784]) torch.Size([64])\n",
      "267 torch.Size([64, 784]) torch.Size([64])\n",
      "268 torch.Size([64, 784]) torch.Size([64])\n",
      "269 torch.Size([64, 784]) torch.Size([64])\n",
      "270 torch.Size([64, 784]) torch.Size([64])\n",
      "271 torch.Size([64, 784]) torch.Size([64])\n",
      "272 torch.Size([64, 784]) torch.Size([64])\n",
      "273 torch.Size([64, 784]) torch.Size([64])\n",
      "274 torch.Size([64, 784]) torch.Size([64])\n",
      "275 torch.Size([64, 784]) torch.Size([64])\n",
      "276 torch.Size([64, 784]) torch.Size([64])\n",
      "277 torch.Size([64, 784]) torch.Size([64])\n",
      "278 torch.Size([64, 784]) torch.Size([64])\n",
      "279 torch.Size([64, 784]) torch.Size([64])\n",
      "280 torch.Size([64, 784]) torch.Size([64])\n",
      "281 torch.Size([64, 784]) torch.Size([64])\n",
      "282 torch.Size([64, 784]) torch.Size([64])\n",
      "283 torch.Size([64, 784]) torch.Size([64])\n",
      "284 torch.Size([64, 784]) torch.Size([64])\n",
      "285 torch.Size([64, 784]) torch.Size([64])\n",
      "286 torch.Size([64, 784]) torch.Size([64])\n",
      "287 torch.Size([64, 784]) torch.Size([64])\n",
      "288 torch.Size([64, 784]) torch.Size([64])\n",
      "289 torch.Size([64, 784]) torch.Size([64])\n",
      "290 torch.Size([64, 784]) torch.Size([64])\n",
      "291 torch.Size([64, 784]) torch.Size([64])\n",
      "292 torch.Size([64, 784]) torch.Size([64])\n",
      "293 torch.Size([64, 784]) torch.Size([64])\n",
      "294 torch.Size([64, 784]) torch.Size([64])\n",
      "295 torch.Size([64, 784]) torch.Size([64])\n",
      "296 torch.Size([64, 784]) torch.Size([64])\n",
      "297 torch.Size([64, 784]) torch.Size([64])\n",
      "298 torch.Size([64, 784]) torch.Size([64])\n",
      "299 torch.Size([64, 784]) torch.Size([64])\n",
      "300 torch.Size([64, 784]) torch.Size([64])\n",
      "301 torch.Size([64, 784]) torch.Size([64])\n",
      "302 torch.Size([64, 784]) torch.Size([64])\n",
      "303 torch.Size([64, 784]) torch.Size([64])\n",
      "304 torch.Size([64, 784]) torch.Size([64])\n",
      "305 torch.Size([64, 784]) torch.Size([64])\n",
      "306 torch.Size([64, 784]) torch.Size([64])\n",
      "307 torch.Size([64, 784]) torch.Size([64])\n",
      "308 torch.Size([64, 784]) torch.Size([64])\n",
      "309 torch.Size([64, 784]) torch.Size([64])\n",
      "310 torch.Size([64, 784]) torch.Size([64])\n",
      "311 torch.Size([64, 784]) torch.Size([64])\n",
      "312 torch.Size([64, 784]) torch.Size([64])\n",
      "313 torch.Size([64, 784]) torch.Size([64])\n",
      "314 torch.Size([64, 784]) torch.Size([64])\n",
      "315 torch.Size([64, 784]) torch.Size([64])\n",
      "316 torch.Size([64, 784]) torch.Size([64])\n",
      "317 torch.Size([64, 784]) torch.Size([64])\n",
      "318 torch.Size([64, 784]) torch.Size([64])\n",
      "319 torch.Size([64, 784]) torch.Size([64])\n",
      "320 torch.Size([64, 784]) torch.Size([64])\n",
      "321 torch.Size([64, 784]) torch.Size([64])\n",
      "322 torch.Size([64, 784]) torch.Size([64])\n",
      "323 torch.Size([64, 784]) torch.Size([64])\n",
      "324 torch.Size([64, 784]) torch.Size([64])\n",
      "325 torch.Size([64, 784]) torch.Size([64])\n",
      "326 torch.Size([64, 784]) torch.Size([64])\n",
      "327 torch.Size([64, 784]) torch.Size([64])\n",
      "328 torch.Size([64, 784]) torch.Size([64])\n",
      "329 torch.Size([64, 784]) torch.Size([64])\n",
      "330 torch.Size([64, 784]) torch.Size([64])\n",
      "331 torch.Size([64, 784]) torch.Size([64])\n",
      "332 torch.Size([64, 784]) torch.Size([64])\n",
      "333 torch.Size([64, 784]) torch.Size([64])\n",
      "334 torch.Size([64, 784]) torch.Size([64])\n",
      "335 torch.Size([64, 784]) torch.Size([64])\n",
      "336 torch.Size([64, 784]) torch.Size([64])\n",
      "337 torch.Size([64, 784]) torch.Size([64])\n",
      "338 torch.Size([64, 784]) torch.Size([64])\n",
      "339 torch.Size([64, 784]) torch.Size([64])\n",
      "340 torch.Size([64, 784]) torch.Size([64])\n",
      "341 torch.Size([64, 784]) torch.Size([64])\n",
      "342 torch.Size([64, 784]) torch.Size([64])\n",
      "343 torch.Size([64, 784]) torch.Size([64])\n",
      "344 torch.Size([64, 784]) torch.Size([64])\n",
      "345 torch.Size([64, 784]) torch.Size([64])\n",
      "346 torch.Size([64, 784]) torch.Size([64])\n",
      "347 torch.Size([64, 784]) torch.Size([64])\n",
      "348 torch.Size([64, 784]) torch.Size([64])\n",
      "349 torch.Size([64, 784]) torch.Size([64])\n",
      "350 torch.Size([64, 784]) torch.Size([64])\n",
      "351 torch.Size([64, 784]) torch.Size([64])\n",
      "352 torch.Size([64, 784]) torch.Size([64])\n",
      "353 torch.Size([64, 784]) torch.Size([64])\n",
      "354 torch.Size([64, 784]) torch.Size([64])\n",
      "355 torch.Size([64, 784]) torch.Size([64])\n",
      "356 torch.Size([64, 784]) torch.Size([64])\n",
      "357 torch.Size([64, 784]) torch.Size([64])\n",
      "358 torch.Size([64, 784]) torch.Size([64])\n",
      "359 torch.Size([64, 784]) torch.Size([64])\n",
      "360 torch.Size([64, 784]) torch.Size([64])\n",
      "361 torch.Size([64, 784]) torch.Size([64])\n",
      "362 torch.Size([64, 784]) torch.Size([64])\n",
      "363 torch.Size([64, 784]) torch.Size([64])\n",
      "364 torch.Size([64, 784]) torch.Size([64])\n",
      "365 torch.Size([64, 784]) torch.Size([64])\n",
      "366 torch.Size([64, 784]) torch.Size([64])\n",
      "367 torch.Size([64, 784]) torch.Size([64])\n",
      "368 torch.Size([64, 784]) torch.Size([64])\n",
      "369 torch.Size([64, 784]) torch.Size([64])\n",
      "370 torch.Size([64, 784]) torch.Size([64])\n",
      "371 torch.Size([64, 784]) torch.Size([64])\n",
      "372 torch.Size([64, 784]) torch.Size([64])\n",
      "373 torch.Size([64, 784]) torch.Size([64])\n",
      "374 torch.Size([64, 784]) torch.Size([64])\n",
      "375 torch.Size([64, 784]) torch.Size([64])\n",
      "376 torch.Size([64, 784]) torch.Size([64])\n",
      "377 torch.Size([64, 784]) torch.Size([64])\n",
      "378 torch.Size([64, 784]) torch.Size([64])\n",
      "379 torch.Size([64, 784]) torch.Size([64])\n",
      "380 torch.Size([64, 784]) torch.Size([64])\n",
      "381 torch.Size([64, 784]) torch.Size([64])\n",
      "382 torch.Size([64, 784]) torch.Size([64])\n",
      "383 torch.Size([64, 784]) torch.Size([64])\n",
      "384 torch.Size([64, 784]) torch.Size([64])\n",
      "385 torch.Size([64, 784]) torch.Size([64])\n",
      "386 torch.Size([64, 784]) torch.Size([64])\n",
      "387 torch.Size([64, 784]) torch.Size([64])\n",
      "388 torch.Size([64, 784]) torch.Size([64])\n",
      "389 torch.Size([64, 784]) torch.Size([64])\n",
      "390 torch.Size([64, 784]) torch.Size([64])\n",
      "391 torch.Size([64, 784]) torch.Size([64])\n",
      "392 torch.Size([64, 784]) torch.Size([64])\n",
      "393 torch.Size([64, 784]) torch.Size([64])\n",
      "394 torch.Size([64, 784]) torch.Size([64])\n",
      "395 torch.Size([64, 784]) torch.Size([64])\n",
      "396 torch.Size([64, 784]) torch.Size([64])\n",
      "397 torch.Size([64, 784]) torch.Size([64])\n",
      "398 torch.Size([64, 784]) torch.Size([64])\n",
      "399 torch.Size([64, 784]) torch.Size([64])\n",
      "400 torch.Size([64, 784]) torch.Size([64])\n",
      "401 torch.Size([64, 784]) torch.Size([64])\n",
      "402 torch.Size([64, 784]) torch.Size([64])\n",
      "403 torch.Size([64, 784]) torch.Size([64])\n",
      "404 torch.Size([64, 784]) torch.Size([64])\n",
      "405 torch.Size([64, 784]) torch.Size([64])\n",
      "406 torch.Size([64, 784]) torch.Size([64])\n",
      "407 torch.Size([64, 784]) torch.Size([64])\n",
      "408 torch.Size([64, 784]) torch.Size([64])\n",
      "409 torch.Size([64, 784]) torch.Size([64])\n",
      "410 torch.Size([64, 784]) torch.Size([64])\n",
      "411 torch.Size([64, 784]) torch.Size([64])\n",
      "412 torch.Size([64, 784]) torch.Size([64])\n",
      "413 torch.Size([64, 784]) torch.Size([64])\n",
      "414 torch.Size([64, 784]) torch.Size([64])\n",
      "415 torch.Size([64, 784]) torch.Size([64])\n",
      "416 torch.Size([64, 784]) torch.Size([64])\n",
      "417 torch.Size([64, 784]) torch.Size([64])\n",
      "418 torch.Size([64, 784]) torch.Size([64])\n",
      "419 torch.Size([64, 784]) torch.Size([64])\n",
      "420 torch.Size([64, 784]) torch.Size([64])\n",
      "421 torch.Size([64, 784]) torch.Size([64])\n",
      "422 torch.Size([64, 784]) torch.Size([64])\n",
      "423 torch.Size([64, 784]) torch.Size([64])\n",
      "424 torch.Size([64, 784]) torch.Size([64])\n",
      "425 torch.Size([64, 784]) torch.Size([64])\n",
      "426 torch.Size([64, 784]) torch.Size([64])\n",
      "427 torch.Size([64, 784]) torch.Size([64])\n",
      "428 torch.Size([64, 784]) torch.Size([64])\n",
      "429 torch.Size([64, 784]) torch.Size([64])\n",
      "430 torch.Size([64, 784]) torch.Size([64])\n",
      "431 torch.Size([64, 784]) torch.Size([64])\n",
      "432 torch.Size([64, 784]) torch.Size([64])\n",
      "433 torch.Size([64, 784]) torch.Size([64])\n",
      "434 torch.Size([64, 784]) torch.Size([64])\n",
      "435 torch.Size([64, 784]) torch.Size([64])\n",
      "436 torch.Size([64, 784]) torch.Size([64])\n",
      "437 torch.Size([64, 784]) torch.Size([64])\n",
      "438 torch.Size([64, 784]) torch.Size([64])\n",
      "439 torch.Size([64, 784]) torch.Size([64])\n",
      "440 torch.Size([64, 784]) torch.Size([64])\n",
      "441 torch.Size([64, 784]) torch.Size([64])\n",
      "442 torch.Size([64, 784]) torch.Size([64])\n",
      "443 torch.Size([64, 784]) torch.Size([64])\n",
      "444 torch.Size([64, 784]) torch.Size([64])\n",
      "445 torch.Size([64, 784]) torch.Size([64])\n",
      "446 torch.Size([64, 784]) torch.Size([64])\n",
      "447 torch.Size([64, 784]) torch.Size([64])\n",
      "448 torch.Size([64, 784]) torch.Size([64])\n",
      "449 torch.Size([64, 784]) torch.Size([64])\n",
      "450 torch.Size([64, 784]) torch.Size([64])\n",
      "451 torch.Size([64, 784]) torch.Size([64])\n",
      "452 torch.Size([64, 784]) torch.Size([64])\n",
      "453 torch.Size([64, 784]) torch.Size([64])\n",
      "454 torch.Size([64, 784]) torch.Size([64])\n",
      "455 torch.Size([64, 784]) torch.Size([64])\n",
      "456 torch.Size([64, 784]) torch.Size([64])\n",
      "457 torch.Size([64, 784]) torch.Size([64])\n",
      "458 torch.Size([64, 784]) torch.Size([64])\n",
      "459 torch.Size([64, 784]) torch.Size([64])\n",
      "460 torch.Size([64, 784]) torch.Size([64])\n",
      "461 torch.Size([64, 784]) torch.Size([64])\n",
      "462 torch.Size([64, 784]) torch.Size([64])\n",
      "463 torch.Size([64, 784]) torch.Size([64])\n",
      "464 torch.Size([64, 784]) torch.Size([64])\n",
      "465 torch.Size([64, 784]) torch.Size([64])\n",
      "466 torch.Size([64, 784]) torch.Size([64])\n",
      "467 torch.Size([64, 784]) torch.Size([64])\n",
      "468 torch.Size([64, 784]) torch.Size([64])\n",
      "469 torch.Size([64, 784]) torch.Size([64])\n",
      "470 torch.Size([64, 784]) torch.Size([64])\n",
      "471 torch.Size([64, 784]) torch.Size([64])\n",
      "472 torch.Size([64, 784]) torch.Size([64])\n",
      "473 torch.Size([64, 784]) torch.Size([64])\n",
      "474 torch.Size([64, 784]) torch.Size([64])\n",
      "475 torch.Size([64, 784]) torch.Size([64])\n",
      "476 torch.Size([64, 784]) torch.Size([64])\n",
      "477 torch.Size([64, 784]) torch.Size([64])\n",
      "478 torch.Size([64, 784]) torch.Size([64])\n",
      "479 torch.Size([64, 784]) torch.Size([64])\n",
      "480 torch.Size([64, 784]) torch.Size([64])\n",
      "481 torch.Size([64, 784]) torch.Size([64])\n",
      "482 torch.Size([64, 784]) torch.Size([64])\n",
      "483 torch.Size([64, 784]) torch.Size([64])\n",
      "484 torch.Size([64, 784]) torch.Size([64])\n",
      "485 torch.Size([64, 784]) torch.Size([64])\n",
      "486 torch.Size([64, 784]) torch.Size([64])\n",
      "487 torch.Size([64, 784]) torch.Size([64])\n",
      "488 torch.Size([64, 784]) torch.Size([64])\n",
      "489 torch.Size([64, 784]) torch.Size([64])\n",
      "490 torch.Size([64, 784]) torch.Size([64])\n",
      "491 torch.Size([64, 784]) torch.Size([64])\n",
      "492 torch.Size([64, 784]) torch.Size([64])\n",
      "493 torch.Size([64, 784]) torch.Size([64])\n",
      "494 torch.Size([64, 784]) torch.Size([64])\n",
      "495 torch.Size([64, 784]) torch.Size([64])\n",
      "496 torch.Size([64, 784]) torch.Size([64])\n",
      "497 torch.Size([64, 784]) torch.Size([64])\n",
      "498 torch.Size([64, 784]) torch.Size([64])\n",
      "499 torch.Size([64, 784]) torch.Size([64])\n",
      "500 torch.Size([64, 784]) torch.Size([64])\n",
      "501 torch.Size([64, 784]) torch.Size([64])\n",
      "502 torch.Size([64, 784]) torch.Size([64])\n",
      "503 torch.Size([64, 784]) torch.Size([64])\n",
      "504 torch.Size([64, 784]) torch.Size([64])\n",
      "505 torch.Size([64, 784]) torch.Size([64])\n",
      "506 torch.Size([64, 784]) torch.Size([64])\n",
      "507 torch.Size([64, 784]) torch.Size([64])\n",
      "508 torch.Size([64, 784]) torch.Size([64])\n",
      "509 torch.Size([64, 784]) torch.Size([64])\n",
      "510 torch.Size([64, 784]) torch.Size([64])\n",
      "511 torch.Size([64, 784]) torch.Size([64])\n",
      "512 torch.Size([64, 784]) torch.Size([64])\n",
      "513 torch.Size([64, 784]) torch.Size([64])\n",
      "514 torch.Size([64, 784]) torch.Size([64])\n",
      "515 torch.Size([64, 784]) torch.Size([64])\n",
      "516 torch.Size([64, 784]) torch.Size([64])\n",
      "517 torch.Size([64, 784]) torch.Size([64])\n",
      "518 torch.Size([64, 784]) torch.Size([64])\n",
      "519 torch.Size([64, 784]) torch.Size([64])\n",
      "520 torch.Size([64, 784]) torch.Size([64])\n",
      "521 torch.Size([64, 784]) torch.Size([64])\n",
      "522 torch.Size([64, 784]) torch.Size([64])\n",
      "523 torch.Size([64, 784]) torch.Size([64])\n",
      "524 torch.Size([64, 784]) torch.Size([64])\n",
      "525 torch.Size([64, 784]) torch.Size([64])\n",
      "526 torch.Size([64, 784]) torch.Size([64])\n",
      "527 torch.Size([64, 784]) torch.Size([64])\n",
      "528 torch.Size([64, 784]) torch.Size([64])\n",
      "529 torch.Size([64, 784]) torch.Size([64])\n",
      "530 torch.Size([64, 784]) torch.Size([64])\n",
      "531 torch.Size([64, 784]) torch.Size([64])\n",
      "532 torch.Size([64, 784]) torch.Size([64])\n",
      "533 torch.Size([64, 784]) torch.Size([64])\n",
      "534 torch.Size([64, 784]) torch.Size([64])\n",
      "535 torch.Size([64, 784]) torch.Size([64])\n",
      "536 torch.Size([64, 784]) torch.Size([64])\n",
      "537 torch.Size([64, 784]) torch.Size([64])\n",
      "538 torch.Size([64, 784]) torch.Size([64])\n",
      "539 torch.Size([64, 784]) torch.Size([64])\n",
      "540 torch.Size([64, 784]) torch.Size([64])\n",
      "541 torch.Size([64, 784]) torch.Size([64])\n",
      "542 torch.Size([64, 784]) torch.Size([64])\n",
      "543 torch.Size([64, 784]) torch.Size([64])\n",
      "544 torch.Size([64, 784]) torch.Size([64])\n",
      "545 torch.Size([64, 784]) torch.Size([64])\n",
      "546 torch.Size([64, 784]) torch.Size([64])\n",
      "547 torch.Size([64, 784]) torch.Size([64])\n",
      "548 torch.Size([64, 784]) torch.Size([64])\n",
      "549 torch.Size([64, 784]) torch.Size([64])\n",
      "550 torch.Size([64, 784]) torch.Size([64])\n",
      "551 torch.Size([64, 784]) torch.Size([64])\n",
      "552 torch.Size([64, 784]) torch.Size([64])\n",
      "553 torch.Size([64, 784]) torch.Size([64])\n",
      "554 torch.Size([64, 784]) torch.Size([64])\n",
      "555 torch.Size([64, 784]) torch.Size([64])\n",
      "556 torch.Size([64, 784]) torch.Size([64])\n",
      "557 torch.Size([64, 784]) torch.Size([64])\n",
      "558 torch.Size([64, 784]) torch.Size([64])\n",
      "559 torch.Size([64, 784]) torch.Size([64])\n",
      "560 torch.Size([64, 784]) torch.Size([64])\n",
      "561 torch.Size([64, 784]) torch.Size([64])\n",
      "562 torch.Size([64, 784]) torch.Size([64])\n",
      "563 torch.Size([64, 784]) torch.Size([64])\n",
      "564 torch.Size([64, 784]) torch.Size([64])\n",
      "565 torch.Size([64, 784]) torch.Size([64])\n",
      "566 torch.Size([64, 784]) torch.Size([64])\n",
      "567 torch.Size([64, 784]) torch.Size([64])\n",
      "568 torch.Size([64, 784]) torch.Size([64])\n",
      "569 torch.Size([64, 784]) torch.Size([64])\n",
      "570 torch.Size([64, 784]) torch.Size([64])\n",
      "571 torch.Size([64, 784]) torch.Size([64])\n",
      "572 torch.Size([64, 784]) torch.Size([64])\n",
      "573 torch.Size([64, 784]) torch.Size([64])\n",
      "574 torch.Size([64, 784]) torch.Size([64])\n",
      "575 torch.Size([64, 784]) torch.Size([64])\n",
      "576 torch.Size([64, 784]) torch.Size([64])\n",
      "577 torch.Size([64, 784]) torch.Size([64])\n",
      "578 torch.Size([64, 784]) torch.Size([64])\n",
      "579 torch.Size([64, 784]) torch.Size([64])\n",
      "580 torch.Size([64, 784]) torch.Size([64])\n",
      "581 torch.Size([64, 784]) torch.Size([64])\n",
      "582 torch.Size([64, 784]) torch.Size([64])\n",
      "583 torch.Size([64, 784]) torch.Size([64])\n",
      "584 torch.Size([64, 784]) torch.Size([64])\n",
      "585 torch.Size([64, 784]) torch.Size([64])\n",
      "586 torch.Size([64, 784]) torch.Size([64])\n",
      "587 torch.Size([64, 784]) torch.Size([64])\n",
      "588 torch.Size([64, 784]) torch.Size([64])\n",
      "589 torch.Size([64, 784]) torch.Size([64])\n",
      "590 torch.Size([64, 784]) torch.Size([64])\n",
      "591 torch.Size([64, 784]) torch.Size([64])\n",
      "592 torch.Size([64, 784]) torch.Size([64])\n",
      "593 torch.Size([64, 784]) torch.Size([64])\n",
      "594 torch.Size([64, 784]) torch.Size([64])\n",
      "595 torch.Size([64, 784]) torch.Size([64])\n",
      "596 torch.Size([64, 784]) torch.Size([64])\n",
      "597 torch.Size([64, 784]) torch.Size([64])\n",
      "598 torch.Size([64, 784]) torch.Size([64])\n",
      "599 torch.Size([64, 784]) torch.Size([64])\n",
      "600 torch.Size([64, 784]) torch.Size([64])\n",
      "601 torch.Size([64, 784]) torch.Size([64])\n",
      "602 torch.Size([64, 784]) torch.Size([64])\n",
      "603 torch.Size([64, 784]) torch.Size([64])\n",
      "604 torch.Size([64, 784]) torch.Size([64])\n",
      "605 torch.Size([64, 784]) torch.Size([64])\n",
      "606 torch.Size([64, 784]) torch.Size([64])\n",
      "607 torch.Size([64, 784]) torch.Size([64])\n",
      "608 torch.Size([64, 784]) torch.Size([64])\n",
      "609 torch.Size([64, 784]) torch.Size([64])\n",
      "610 torch.Size([64, 784]) torch.Size([64])\n",
      "611 torch.Size([64, 784]) torch.Size([64])\n",
      "612 torch.Size([64, 784]) torch.Size([64])\n",
      "613 torch.Size([64, 784]) torch.Size([64])\n",
      "614 torch.Size([64, 784]) torch.Size([64])\n",
      "615 torch.Size([64, 784]) torch.Size([64])\n",
      "616 torch.Size([64, 784]) torch.Size([64])\n",
      "617 torch.Size([64, 784]) torch.Size([64])\n",
      "618 torch.Size([64, 784]) torch.Size([64])\n",
      "619 torch.Size([64, 784]) torch.Size([64])\n",
      "620 torch.Size([64, 784]) torch.Size([64])\n",
      "621 torch.Size([64, 784]) torch.Size([64])\n",
      "622 torch.Size([64, 784]) torch.Size([64])\n",
      "623 torch.Size([64, 784]) torch.Size([64])\n",
      "624 torch.Size([64, 784]) torch.Size([64])\n",
      "625 torch.Size([64, 784]) torch.Size([64])\n",
      "626 torch.Size([64, 784]) torch.Size([64])\n",
      "627 torch.Size([64, 784]) torch.Size([64])\n",
      "628 torch.Size([64, 784]) torch.Size([64])\n",
      "629 torch.Size([64, 784]) torch.Size([64])\n",
      "630 torch.Size([64, 784]) torch.Size([64])\n",
      "631 torch.Size([64, 784]) torch.Size([64])\n",
      "632 torch.Size([64, 784]) torch.Size([64])\n",
      "633 torch.Size([64, 784]) torch.Size([64])\n",
      "634 torch.Size([64, 784]) torch.Size([64])\n",
      "635 torch.Size([64, 784]) torch.Size([64])\n",
      "636 torch.Size([64, 784]) torch.Size([64])\n",
      "637 torch.Size([64, 784]) torch.Size([64])\n",
      "638 torch.Size([64, 784]) torch.Size([64])\n",
      "639 torch.Size([64, 784]) torch.Size([64])\n",
      "640 torch.Size([64, 784]) torch.Size([64])\n",
      "641 torch.Size([64, 784]) torch.Size([64])\n",
      "642 torch.Size([64, 784]) torch.Size([64])\n",
      "643 torch.Size([64, 784]) torch.Size([64])\n",
      "644 torch.Size([64, 784]) torch.Size([64])\n",
      "645 torch.Size([64, 784]) torch.Size([64])\n",
      "646 torch.Size([64, 784]) torch.Size([64])\n",
      "647 torch.Size([64, 784]) torch.Size([64])\n",
      "648 torch.Size([64, 784]) torch.Size([64])\n",
      "649 torch.Size([64, 784]) torch.Size([64])\n",
      "650 torch.Size([64, 784]) torch.Size([64])\n",
      "651 torch.Size([64, 784]) torch.Size([64])\n",
      "652 torch.Size([64, 784]) torch.Size([64])\n",
      "653 torch.Size([64, 784]) torch.Size([64])\n",
      "654 torch.Size([64, 784]) torch.Size([64])\n",
      "655 torch.Size([64, 784]) torch.Size([64])\n",
      "656 torch.Size([64, 784]) torch.Size([64])\n",
      "657 torch.Size([64, 784]) torch.Size([64])\n",
      "658 torch.Size([64, 784]) torch.Size([64])\n",
      "659 torch.Size([64, 784]) torch.Size([64])\n",
      "660 torch.Size([64, 784]) torch.Size([64])\n",
      "661 torch.Size([64, 784]) torch.Size([64])\n",
      "662 torch.Size([64, 784]) torch.Size([64])\n",
      "663 torch.Size([64, 784]) torch.Size([64])\n",
      "664 torch.Size([64, 784]) torch.Size([64])\n",
      "665 torch.Size([64, 784]) torch.Size([64])\n",
      "666 torch.Size([64, 784]) torch.Size([64])\n",
      "667 torch.Size([64, 784]) torch.Size([64])\n",
      "668 torch.Size([64, 784]) torch.Size([64])\n",
      "669 torch.Size([64, 784]) torch.Size([64])\n",
      "670 torch.Size([64, 784]) torch.Size([64])\n",
      "671 torch.Size([64, 784]) torch.Size([64])\n",
      "672 torch.Size([64, 784]) torch.Size([64])\n",
      "673 torch.Size([64, 784]) torch.Size([64])\n",
      "674 torch.Size([64, 784]) torch.Size([64])\n",
      "675 torch.Size([64, 784]) torch.Size([64])\n",
      "676 torch.Size([64, 784]) torch.Size([64])\n",
      "677 torch.Size([64, 784]) torch.Size([64])\n",
      "678 torch.Size([64, 784]) torch.Size([64])\n",
      "679 torch.Size([64, 784]) torch.Size([64])\n",
      "680 torch.Size([64, 784]) torch.Size([64])\n",
      "681 torch.Size([64, 784]) torch.Size([64])\n",
      "682 torch.Size([64, 784]) torch.Size([64])\n",
      "683 torch.Size([64, 784]) torch.Size([64])\n",
      "684 torch.Size([64, 784]) torch.Size([64])\n",
      "685 torch.Size([64, 784]) torch.Size([64])\n",
      "686 torch.Size([64, 784]) torch.Size([64])\n",
      "687 torch.Size([64, 784]) torch.Size([64])\n",
      "688 torch.Size([64, 784]) torch.Size([64])\n",
      "689 torch.Size([64, 784]) torch.Size([64])\n",
      "690 torch.Size([64, 784]) torch.Size([64])\n",
      "691 torch.Size([64, 784]) torch.Size([64])\n",
      "692 torch.Size([64, 784]) torch.Size([64])\n",
      "693 torch.Size([64, 784]) torch.Size([64])\n",
      "694 torch.Size([64, 784]) torch.Size([64])\n",
      "695 torch.Size([64, 784]) torch.Size([64])\n",
      "696 torch.Size([64, 784]) torch.Size([64])\n",
      "697 torch.Size([64, 784]) torch.Size([64])\n",
      "698 torch.Size([64, 784]) torch.Size([64])\n",
      "699 torch.Size([64, 784]) torch.Size([64])\n",
      "700 torch.Size([64, 784]) torch.Size([64])\n",
      "701 torch.Size([64, 784]) torch.Size([64])\n",
      "702 torch.Size([64, 784]) torch.Size([64])\n",
      "703 torch.Size([64, 784]) torch.Size([64])\n",
      "704 torch.Size([64, 784]) torch.Size([64])\n",
      "705 torch.Size([64, 784]) torch.Size([64])\n",
      "706 torch.Size([64, 784]) torch.Size([64])\n",
      "707 torch.Size([64, 784]) torch.Size([64])\n",
      "708 torch.Size([64, 784]) torch.Size([64])\n",
      "709 torch.Size([64, 784]) torch.Size([64])\n",
      "710 torch.Size([64, 784]) torch.Size([64])\n",
      "711 torch.Size([64, 784]) torch.Size([64])\n",
      "712 torch.Size([64, 784]) torch.Size([64])\n",
      "713 torch.Size([64, 784]) torch.Size([64])\n",
      "714 torch.Size([64, 784]) torch.Size([64])\n",
      "715 torch.Size([64, 784]) torch.Size([64])\n",
      "716 torch.Size([64, 784]) torch.Size([64])\n",
      "717 torch.Size([64, 784]) torch.Size([64])\n",
      "718 torch.Size([64, 784]) torch.Size([64])\n",
      "719 torch.Size([64, 784]) torch.Size([64])\n",
      "720 torch.Size([64, 784]) torch.Size([64])\n",
      "721 torch.Size([64, 784]) torch.Size([64])\n",
      "722 torch.Size([64, 784]) torch.Size([64])\n",
      "723 torch.Size([64, 784]) torch.Size([64])\n",
      "724 torch.Size([64, 784]) torch.Size([64])\n",
      "725 torch.Size([64, 784]) torch.Size([64])\n",
      "726 torch.Size([64, 784]) torch.Size([64])\n",
      "727 torch.Size([64, 784]) torch.Size([64])\n",
      "728 torch.Size([64, 784]) torch.Size([64])\n",
      "729 torch.Size([64, 784]) torch.Size([64])\n",
      "730 torch.Size([64, 784]) torch.Size([64])\n",
      "731 torch.Size([64, 784]) torch.Size([64])\n",
      "732 torch.Size([64, 784]) torch.Size([64])\n",
      "733 torch.Size([64, 784]) torch.Size([64])\n",
      "734 torch.Size([64, 784]) torch.Size([64])\n",
      "735 torch.Size([64, 784]) torch.Size([64])\n",
      "736 torch.Size([64, 784]) torch.Size([64])\n",
      "737 torch.Size([64, 784]) torch.Size([64])\n",
      "738 torch.Size([64, 784]) torch.Size([64])\n",
      "739 torch.Size([64, 784]) torch.Size([64])\n",
      "740 torch.Size([64, 784]) torch.Size([64])\n",
      "741 torch.Size([64, 784]) torch.Size([64])\n",
      "742 torch.Size([64, 784]) torch.Size([64])\n",
      "743 torch.Size([64, 784]) torch.Size([64])\n",
      "744 torch.Size([64, 784]) torch.Size([64])\n",
      "745 torch.Size([64, 784]) torch.Size([64])\n",
      "746 torch.Size([64, 784]) torch.Size([64])\n",
      "747 torch.Size([64, 784]) torch.Size([64])\n",
      "748 torch.Size([64, 784]) torch.Size([64])\n",
      "749 torch.Size([64, 784]) torch.Size([64])\n",
      "750 torch.Size([64, 784]) torch.Size([64])\n",
      "751 torch.Size([64, 784]) torch.Size([64])\n",
      "752 torch.Size([64, 784]) torch.Size([64])\n",
      "753 torch.Size([64, 784]) torch.Size([64])\n",
      "754 torch.Size([64, 784]) torch.Size([64])\n",
      "755 torch.Size([64, 784]) torch.Size([64])\n",
      "756 torch.Size([64, 784]) torch.Size([64])\n",
      "757 torch.Size([64, 784]) torch.Size([64])\n",
      "758 torch.Size([64, 784]) torch.Size([64])\n",
      "759 torch.Size([64, 784]) torch.Size([64])\n",
      "760 torch.Size([64, 784]) torch.Size([64])\n",
      "761 torch.Size([64, 784]) torch.Size([64])\n",
      "762 torch.Size([64, 784]) torch.Size([64])\n",
      "763 torch.Size([64, 784]) torch.Size([64])\n",
      "764 torch.Size([64, 784]) torch.Size([64])\n",
      "765 torch.Size([64, 784]) torch.Size([64])\n",
      "766 torch.Size([64, 784]) torch.Size([64])\n",
      "767 torch.Size([64, 784]) torch.Size([64])\n",
      "768 torch.Size([64, 784]) torch.Size([64])\n",
      "769 torch.Size([64, 784]) torch.Size([64])\n",
      "770 torch.Size([64, 784]) torch.Size([64])\n",
      "771 torch.Size([64, 784]) torch.Size([64])\n",
      "772 torch.Size([64, 784]) torch.Size([64])\n",
      "773 torch.Size([64, 784]) torch.Size([64])\n",
      "774 torch.Size([64, 784]) torch.Size([64])\n",
      "775 torch.Size([64, 784]) torch.Size([64])\n",
      "776 torch.Size([64, 784]) torch.Size([64])\n",
      "777 torch.Size([64, 784]) torch.Size([64])\n",
      "778 torch.Size([64, 784]) torch.Size([64])\n",
      "779 torch.Size([64, 784]) torch.Size([64])\n",
      "780 torch.Size([64, 784]) torch.Size([64])\n",
      "781 torch.Size([64, 784]) torch.Size([64])\n",
      "782 torch.Size([64, 784]) torch.Size([64])\n",
      "783 torch.Size([64, 784]) torch.Size([64])\n",
      "784 torch.Size([64, 784]) torch.Size([64])\n",
      "785 torch.Size([64, 784]) torch.Size([64])\n",
      "786 torch.Size([64, 784]) torch.Size([64])\n",
      "787 torch.Size([64, 784]) torch.Size([64])\n",
      "788 torch.Size([64, 784]) torch.Size([64])\n",
      "789 torch.Size([64, 784]) torch.Size([64])\n",
      "790 torch.Size([64, 784]) torch.Size([64])\n",
      "791 torch.Size([64, 784]) torch.Size([64])\n",
      "792 torch.Size([64, 784]) torch.Size([64])\n",
      "793 torch.Size([64, 784]) torch.Size([64])\n",
      "794 torch.Size([64, 784]) torch.Size([64])\n",
      "795 torch.Size([64, 784]) torch.Size([64])\n",
      "796 torch.Size([64, 784]) torch.Size([64])\n",
      "797 torch.Size([64, 784]) torch.Size([64])\n",
      "798 torch.Size([64, 784]) torch.Size([64])\n",
      "799 torch.Size([64, 784]) torch.Size([64])\n",
      "800 torch.Size([64, 784]) torch.Size([64])\n",
      "801 torch.Size([64, 784]) torch.Size([64])\n",
      "802 torch.Size([64, 784]) torch.Size([64])\n",
      "803 torch.Size([64, 784]) torch.Size([64])\n",
      "804 torch.Size([64, 784]) torch.Size([64])\n",
      "805 torch.Size([64, 784]) torch.Size([64])\n",
      "806 torch.Size([64, 784]) torch.Size([64])\n",
      "807 torch.Size([64, 784]) torch.Size([64])\n",
      "808 torch.Size([64, 784]) torch.Size([64])\n",
      "809 torch.Size([64, 784]) torch.Size([64])\n",
      "810 torch.Size([64, 784]) torch.Size([64])\n",
      "811 torch.Size([64, 784]) torch.Size([64])\n",
      "812 torch.Size([64, 784]) torch.Size([64])\n",
      "813 torch.Size([64, 784]) torch.Size([64])\n",
      "814 torch.Size([64, 784]) torch.Size([64])\n",
      "815 torch.Size([64, 784]) torch.Size([64])\n",
      "816 torch.Size([64, 784]) torch.Size([64])\n",
      "817 torch.Size([64, 784]) torch.Size([64])\n",
      "818 torch.Size([64, 784]) torch.Size([64])\n",
      "819 torch.Size([64, 784]) torch.Size([64])\n",
      "820 torch.Size([64, 784]) torch.Size([64])\n",
      "821 torch.Size([64, 784]) torch.Size([64])\n",
      "822 torch.Size([64, 784]) torch.Size([64])\n",
      "823 torch.Size([64, 784]) torch.Size([64])\n",
      "824 torch.Size([64, 784]) torch.Size([64])\n",
      "825 torch.Size([64, 784]) torch.Size([64])\n",
      "826 torch.Size([64, 784]) torch.Size([64])\n",
      "827 torch.Size([64, 784]) torch.Size([64])\n",
      "828 torch.Size([64, 784]) torch.Size([64])\n",
      "829 torch.Size([64, 784]) torch.Size([64])\n",
      "830 torch.Size([64, 784]) torch.Size([64])\n",
      "831 torch.Size([64, 784]) torch.Size([64])\n",
      "832 torch.Size([64, 784]) torch.Size([64])\n",
      "833 torch.Size([64, 784]) torch.Size([64])\n",
      "834 torch.Size([64, 784]) torch.Size([64])\n",
      "835 torch.Size([64, 784]) torch.Size([64])\n",
      "836 torch.Size([64, 784]) torch.Size([64])\n",
      "837 torch.Size([64, 784]) torch.Size([64])\n",
      "838 torch.Size([64, 784]) torch.Size([64])\n",
      "839 torch.Size([64, 784]) torch.Size([64])\n",
      "840 torch.Size([64, 784]) torch.Size([64])\n",
      "841 torch.Size([64, 784]) torch.Size([64])\n",
      "842 torch.Size([64, 784]) torch.Size([64])\n",
      "843 torch.Size([48, 784]) torch.Size([48])\n"
     ]
    }
   ],
   "source": [
    "for epoch in range(0, 1): # change 1 to 100 if we need to train the model for 100 epochs\n",
    "    for batch_idx, (X, Y) in enumerate(dataloader_train):\n",
    "        # X contain the data samples in a mini-batch\n",
    "        # Y contain the class lables of these samples\n",
    "        print(batch_idx, X.size(), Y.size())"
   ]
  },
  {
   "cell_type": "markdown",
   "metadata": {
    "id": "acxl_s1Ia4dL"
   },
   "source": [
    "### Now, let's build a neural network that does multiclass classification"
   ]
  },
  {
   "cell_type": "code",
   "execution_count": 15,
   "metadata": {
    "id": "WfzqNCnMa4dM"
   },
   "outputs": [],
   "source": [
    "import torch.nn as nn\n",
    "import torch.nn.functional as nnF\n",
    "class Net(nn.Module):\n",
    "    def __init__(self, input_dim, output_dim, n_units):\n",
    "        super().__init__()\n",
    "        self.layer1 = nn.Linear(input_dim, n_units)\n",
    "        self.layer2 = nn.Linear(n_units, n_units)\n",
    "        self.layer3 = nn.Linear(n_units, output_dim)\n",
    "    def forward(self, x):\n",
    "        x=nnF.relu(self.layer1(x)) # same as x=self.layer1(x); x=nnF.relu(x)\n",
    "        x=nnF.relu(self.layer2(x))\n",
    "        z=self.layer3(x)\n",
    "        # do not use softmax if we use cross_entropy loss in pytorch\n",
    "        #y=nnF.softmax(z,dim=1) \n",
    "        return z"
   ]
  },
  {
   "cell_type": "markdown",
   "metadata": {
    "id": "il-0tR7-a4dO"
   },
   "source": [
    "create an instance object of the class"
   ]
  },
  {
   "cell_type": "code",
   "execution_count": 16,
   "metadata": {
    "id": "qGE0FDyZa4dP"
   },
   "outputs": [],
   "source": [
    "model=Net(input_dim=784, output_dim=10, n_units=256)"
   ]
  },
  {
   "cell_type": "code",
   "execution_count": 17,
   "metadata": {
    "colab": {
     "base_uri": "https://localhost:8080/"
    },
    "id": "XEt3IGpna4dR",
    "outputId": "5bf811f8-928b-48b8-84f8-ec3baebdb76a"
   },
   "outputs": [
    {
     "data": {
      "text/plain": [
       "Net(\n",
       "  (layer1): Linear(in_features=784, out_features=256, bias=True)\n",
       "  (layer2): Linear(in_features=256, out_features=256, bias=True)\n",
       "  (layer3): Linear(in_features=256, out_features=10, bias=True)\n",
       ")"
      ]
     },
     "execution_count": 17,
     "metadata": {},
     "output_type": "execute_result"
    }
   ],
   "source": [
    "#move the model to GPU if you have a GPU\n",
    "device=torch.device(\"cuda:0\" if torch.cuda.is_available() else \"cpu\")\n",
    "model.to(device)"
   ]
  },
  {
   "cell_type": "markdown",
   "metadata": {
    "id": "efKmewtka4dS"
   },
   "source": [
    "create an optimizer that does stochastic gradient descent <br>\n",
    "send the parameters of the model to the optimizer"
   ]
  },
  {
   "cell_type": "code",
   "execution_count": 18,
   "metadata": {
    "id": "GtrYh1Iza4dT"
   },
   "outputs": [],
   "source": [
    "import torch.optim as optim\n",
    "optimizer = optim.SGD(model.parameters(), lr=0.01, momentum=0.9)"
   ]
  },
  {
   "cell_type": "markdown",
   "metadata": {
    "id": "j1udpoNfa4dU"
   },
   "source": [
    "define a function to train the neural network in one epoch"
   ]
  },
  {
   "cell_type": "code",
   "execution_count": 19,
   "metadata": {
    "id": "RfBYcsCta4dV"
   },
   "outputs": [],
   "source": [
    "def train(model, optimizer, dataloader, device, epoch):    \n",
    "    model.train()#set model to train mode\n",
    "    loss_train=0\n",
    "    acc_train =0 \n",
    "    for batch_idx, (X, Y) in enumerate(dataloader):\n",
    "        X, Y = X.to(device), Y.to(device)\n",
    "        optimizer.zero_grad()#clear the grad of each parameter\n",
    "        Z = model(X) #forward pass\n",
    "        loss = nnF.cross_entropy(Z, Y) #compute loss\n",
    "        loss.backward() #backward pass\n",
    "        optimizer.step() #update parameters\n",
    "        loss_train+=loss.item() #record the loss\n",
    "        #make prediction\n",
    "        Yp = Z.data.max(dim=1)[1] # get the index of the max    \n",
    "        #measure accuracy on this batch\n",
    "        acc_train+= torch.sum(Yp==Y).item()\n",
    "        if batch_idx % 100 == 0:\n",
    "            print('Train Epoch: {} [{}/{} ({:.0f}%)]\\tLoss: {:.6f}'.format(\n",
    "                    epoch, batch_idx * X.size(0), len(dataloader.dataset),\n",
    "                    100. * batch_idx / len(dataloader), loss.item()))\n",
    "    loss_train/=len(dataloader)\n",
    "    acc_train/=len(dataloader.dataset)\n",
    "    return loss_train, acc_train"
   ]
  },
  {
   "cell_type": "markdown",
   "metadata": {
    "id": "c6PQZW6Qa4dW"
   },
   "source": [
    "define a function to evaluate the neural network on the validation set or the testing set"
   ]
  },
  {
   "cell_type": "code",
   "execution_count": 20,
   "metadata": {
    "id": "P0_984afa4dX"
   },
   "outputs": [],
   "source": [
    "def test(model, dataloader, device):\n",
    "    model.eval()#set model to evaluation mode\n",
    "    loss_test=0\n",
    "    acc_test =0 \n",
    "    with torch.no_grad(): # tell Pytorch not to build graph in this section\n",
    "        for batch_idx, (X, Y) in enumerate(dataloader):\n",
    "            X, Y = X.to(device), Y.to(device)\n",
    "            Z = model(X)#forward pass            \n",
    "            loss = nnF.cross_entropy(Z, Y)    \n",
    "            loss_test+=loss.item()\n",
    "            #make prediction, do not need softmax\n",
    "            Yp = Z.data.max(dim=1)[1]  # get the index of the max \n",
    "            acc_test+= torch.sum(Yp==Y).item()\n",
    "    loss_test/=len(dataloader)    \n",
    "    acc_test/=len(dataloader.dataset)\n",
    "    return loss_test, acc_test"
   ]
  },
  {
   "cell_type": "markdown",
   "metadata": {
    "id": "qIdBJ1gza4dY"
   },
   "source": [
    "define a function to save the model to a file"
   ]
  },
  {
   "cell_type": "code",
   "execution_count": 21,
   "metadata": {
    "id": "A2kgc5T2a4dZ"
   },
   "outputs": [],
   "source": [
    "def save_checkpoint(filename, model, optimizer, epoch):\n",
    "    torch.save({'epoch': epoch,\n",
    "                'model_state_dict': model.state_dict(),\n",
    "                'optimizer_state_dict': optimizer.state_dict()},\n",
    "               filename)\n",
    "    print('saved:', filename)"
   ]
  },
  {
   "cell_type": "markdown",
   "metadata": {
    "id": "Aa9K5fF4a4da"
   },
   "source": [
    "define a function to load the model from a file"
   ]
  },
  {
   "cell_type": "code",
   "execution_count": 22,
   "metadata": {
    "id": "OhWgbSioa4db"
   },
   "outputs": [],
   "source": [
    "def load_checkpoint(filename, model, optimizer, device):\n",
    "    checkpoint=torch.load(filename, map_location=device)\n",
    "    model.load_state_dict(checkpoint['model_state_dict'])\n",
    "    model.to(device)\n",
    "    optimizer.load_state_dict(checkpoint['optimizer_state_dict'])"
   ]
  },
  {
   "cell_type": "markdown",
   "metadata": {
    "id": "LDKE_DaZa4db"
   },
   "source": [
    "train the neural network model for many epochs"
   ]
  },
  {
   "cell_type": "code",
   "execution_count": 23,
   "metadata": {
    "id": "XnqJxkn-a4dc"
   },
   "outputs": [],
   "source": [
    "loss_train_list=[]\n",
    "loss_val_list=[]\n",
    "acc_train_list=[]\n",
    "acc_val_list=[]"
   ]
  },
  {
   "cell_type": "code",
   "execution_count": 24,
   "metadata": {
    "colab": {
     "base_uri": "https://localhost:8080/"
    },
    "id": "YM2QnPDIa4dc",
    "outputId": "a6bdad6a-b8d9-4a4e-8450-6c63e91a141c",
    "scrolled": false
   },
   "outputs": [
    {
     "name": "stdout",
     "output_type": "stream",
     "text": [
      "Train Epoch: 0 [0/54000 (0%)]\tLoss: 2.306849\n",
      "Train Epoch: 0 [6400/54000 (12%)]\tLoss: 1.033321\n",
      "Train Epoch: 0 [12800/54000 (24%)]\tLoss: 0.530310\n",
      "Train Epoch: 0 [19200/54000 (36%)]\tLoss: 0.334341\n",
      "Train Epoch: 0 [25600/54000 (47%)]\tLoss: 0.332592\n",
      "Train Epoch: 0 [32000/54000 (59%)]\tLoss: 0.271465\n",
      "Train Epoch: 0 [38400/54000 (71%)]\tLoss: 0.200078\n",
      "Train Epoch: 0 [44800/54000 (83%)]\tLoss: 0.262866\n",
      "Train Epoch: 0 [51200/54000 (95%)]\tLoss: 0.170134\n",
      "epoch 0 training loss: 0.5492726993963334 acc: 0.8428888888888889\n",
      "epoch 0 validation loss: 0.2257181350538071 acc: 0.9335\n",
      "saved: NN_multiclass_classification_Pytorch_e0.pt\n",
      "Train Epoch: 1 [0/54000 (0%)]\tLoss: 0.245740\n",
      "Train Epoch: 1 [6400/54000 (12%)]\tLoss: 0.249513\n",
      "Train Epoch: 1 [12800/54000 (24%)]\tLoss: 0.233661\n",
      "Train Epoch: 1 [19200/54000 (36%)]\tLoss: 0.131433\n",
      "Train Epoch: 1 [25600/54000 (47%)]\tLoss: 0.225700\n",
      "Train Epoch: 1 [32000/54000 (59%)]\tLoss: 0.136635\n",
      "Train Epoch: 1 [38400/54000 (71%)]\tLoss: 0.122148\n",
      "Train Epoch: 1 [44800/54000 (83%)]\tLoss: 0.204996\n",
      "Train Epoch: 1 [51200/54000 (95%)]\tLoss: 0.085186\n",
      "epoch 1 training loss: 0.19707459350165105 acc: 0.9423333333333334\n",
      "epoch 1 validation loss: 0.1455084027999893 acc: 0.9601666666666666\n",
      "saved: NN_multiclass_classification_Pytorch_e1.pt\n",
      "Train Epoch: 2 [0/54000 (0%)]\tLoss: 0.210488\n",
      "Train Epoch: 2 [6400/54000 (12%)]\tLoss: 0.173160\n",
      "Train Epoch: 2 [12800/54000 (24%)]\tLoss: 0.154681\n",
      "Train Epoch: 2 [19200/54000 (36%)]\tLoss: 0.080764\n",
      "Train Epoch: 2 [25600/54000 (47%)]\tLoss: 0.136066\n",
      "Train Epoch: 2 [32000/54000 (59%)]\tLoss: 0.103381\n",
      "Train Epoch: 2 [38400/54000 (71%)]\tLoss: 0.034685\n",
      "Train Epoch: 2 [44800/54000 (83%)]\tLoss: 0.049878\n",
      "Train Epoch: 2 [51200/54000 (95%)]\tLoss: 0.133832\n",
      "epoch 2 training loss: 0.1321607928753994 acc: 0.9602777777777778\n",
      "epoch 2 validation loss: 0.10789319722259298 acc: 0.9661666666666666\n",
      "saved: NN_multiclass_classification_Pytorch_e2.pt\n",
      "Train Epoch: 3 [0/54000 (0%)]\tLoss: 0.112186\n",
      "Train Epoch: 3 [6400/54000 (12%)]\tLoss: 0.060145\n",
      "Train Epoch: 3 [12800/54000 (24%)]\tLoss: 0.047709\n",
      "Train Epoch: 3 [19200/54000 (36%)]\tLoss: 0.043142\n",
      "Train Epoch: 3 [25600/54000 (47%)]\tLoss: 0.062242\n",
      "Train Epoch: 3 [32000/54000 (59%)]\tLoss: 0.069390\n",
      "Train Epoch: 3 [38400/54000 (71%)]\tLoss: 0.066060\n",
      "Train Epoch: 3 [44800/54000 (83%)]\tLoss: 0.027740\n",
      "Train Epoch: 3 [51200/54000 (95%)]\tLoss: 0.149113\n",
      "epoch 3 training loss: 0.09904789429387492 acc: 0.9707222222222223\n",
      "epoch 3 validation loss: 0.09116520835681165 acc: 0.9721666666666666\n",
      "saved: NN_multiclass_classification_Pytorch_e3.pt\n",
      "Train Epoch: 4 [0/54000 (0%)]\tLoss: 0.170695\n",
      "Train Epoch: 4 [6400/54000 (12%)]\tLoss: 0.061526\n",
      "Train Epoch: 4 [12800/54000 (24%)]\tLoss: 0.056056\n",
      "Train Epoch: 4 [19200/54000 (36%)]\tLoss: 0.023074\n",
      "Train Epoch: 4 [25600/54000 (47%)]\tLoss: 0.084273\n",
      "Train Epoch: 4 [32000/54000 (59%)]\tLoss: 0.280547\n",
      "Train Epoch: 4 [38400/54000 (71%)]\tLoss: 0.076355\n",
      "Train Epoch: 4 [44800/54000 (83%)]\tLoss: 0.031452\n",
      "Train Epoch: 4 [51200/54000 (95%)]\tLoss: 0.042403\n",
      "epoch 4 training loss: 0.07649283494272874 acc: 0.9772407407407407\n",
      "epoch 4 validation loss: 0.07557894217167446 acc: 0.9775\n",
      "saved: NN_multiclass_classification_Pytorch_e4.pt\n",
      "Train Epoch: 5 [0/54000 (0%)]\tLoss: 0.064066\n",
      "Train Epoch: 5 [6400/54000 (12%)]\tLoss: 0.061822\n",
      "Train Epoch: 5 [12800/54000 (24%)]\tLoss: 0.040457\n",
      "Train Epoch: 5 [19200/54000 (36%)]\tLoss: 0.092666\n",
      "Train Epoch: 5 [25600/54000 (47%)]\tLoss: 0.032153\n",
      "Train Epoch: 5 [32000/54000 (59%)]\tLoss: 0.103308\n",
      "Train Epoch: 5 [38400/54000 (71%)]\tLoss: 0.039305\n",
      "Train Epoch: 5 [44800/54000 (83%)]\tLoss: 0.020574\n",
      "Train Epoch: 5 [51200/54000 (95%)]\tLoss: 0.022911\n",
      "epoch 5 training loss: 0.062124225116220094 acc: 0.9818333333333333\n",
      "epoch 5 validation loss: 0.07384678935433955 acc: 0.9785\n",
      "saved: NN_multiclass_classification_Pytorch_e5.pt\n",
      "Train Epoch: 6 [0/54000 (0%)]\tLoss: 0.142018\n",
      "Train Epoch: 6 [6400/54000 (12%)]\tLoss: 0.016012\n",
      "Train Epoch: 6 [12800/54000 (24%)]\tLoss: 0.041503\n",
      "Train Epoch: 6 [19200/54000 (36%)]\tLoss: 0.079514\n",
      "Train Epoch: 6 [25600/54000 (47%)]\tLoss: 0.043901\n",
      "Train Epoch: 6 [32000/54000 (59%)]\tLoss: 0.039011\n",
      "Train Epoch: 6 [38400/54000 (71%)]\tLoss: 0.054293\n",
      "Train Epoch: 6 [44800/54000 (83%)]\tLoss: 0.111069\n",
      "Train Epoch: 6 [51200/54000 (95%)]\tLoss: 0.018027\n",
      "epoch 6 training loss: 0.05079400136441178 acc: 0.9848703703703704\n",
      "epoch 6 validation loss: 0.06917834090703029 acc: 0.9796666666666667\n",
      "saved: NN_multiclass_classification_Pytorch_e6.pt\n",
      "Train Epoch: 7 [0/54000 (0%)]\tLoss: 0.068540\n",
      "Train Epoch: 7 [6400/54000 (12%)]\tLoss: 0.034936\n",
      "Train Epoch: 7 [12800/54000 (24%)]\tLoss: 0.038308\n",
      "Train Epoch: 7 [19200/54000 (36%)]\tLoss: 0.036742\n",
      "Train Epoch: 7 [25600/54000 (47%)]\tLoss: 0.104189\n",
      "Train Epoch: 7 [32000/54000 (59%)]\tLoss: 0.016468\n",
      "Train Epoch: 7 [38400/54000 (71%)]\tLoss: 0.143254\n",
      "Train Epoch: 7 [44800/54000 (83%)]\tLoss: 0.060939\n",
      "Train Epoch: 7 [51200/54000 (95%)]\tLoss: 0.010690\n",
      "epoch 7 training loss: 0.04212377084197335 acc: 0.9879629629629629\n",
      "epoch 7 validation loss: 0.06634026715294161 acc: 0.98\n",
      "saved: NN_multiclass_classification_Pytorch_e7.pt\n",
      "Train Epoch: 8 [0/54000 (0%)]\tLoss: 0.045507\n",
      "Train Epoch: 8 [6400/54000 (12%)]\tLoss: 0.040711\n",
      "Train Epoch: 8 [12800/54000 (24%)]\tLoss: 0.048700\n",
      "Train Epoch: 8 [19200/54000 (36%)]\tLoss: 0.056843\n",
      "Train Epoch: 8 [25600/54000 (47%)]\tLoss: 0.023627\n",
      "Train Epoch: 8 [32000/54000 (59%)]\tLoss: 0.032596\n",
      "Train Epoch: 8 [38400/54000 (71%)]\tLoss: 0.011945\n",
      "Train Epoch: 8 [44800/54000 (83%)]\tLoss: 0.045467\n",
      "Train Epoch: 8 [51200/54000 (95%)]\tLoss: 0.012345\n",
      "epoch 8 training loss: 0.03530158765900381 acc: 0.9899629629629629\n",
      "epoch 8 validation loss: 0.06699188346875475 acc: 0.9793333333333333\n",
      "saved: NN_multiclass_classification_Pytorch_e8.pt\n",
      "Train Epoch: 9 [0/54000 (0%)]\tLoss: 0.009407\n",
      "Train Epoch: 9 [6400/54000 (12%)]\tLoss: 0.022844\n",
      "Train Epoch: 9 [12800/54000 (24%)]\tLoss: 0.014134\n",
      "Train Epoch: 9 [19200/54000 (36%)]\tLoss: 0.025544\n",
      "Train Epoch: 9 [25600/54000 (47%)]\tLoss: 0.017012\n",
      "Train Epoch: 9 [32000/54000 (59%)]\tLoss: 0.004031\n",
      "Train Epoch: 9 [38400/54000 (71%)]\tLoss: 0.044034\n",
      "Train Epoch: 9 [44800/54000 (83%)]\tLoss: 0.004353\n",
      "Train Epoch: 9 [51200/54000 (95%)]\tLoss: 0.012953\n",
      "epoch 9 training loss: 0.02919388824554659 acc: 0.9917407407407407\n",
      "epoch 9 validation loss: 0.05915332631643941 acc: 0.9801666666666666\n",
      "saved: NN_multiclass_classification_Pytorch_e9.pt\n"
     ]
    }
   ],
   "source": [
    "for epoch in range(0, 10):    \n",
    "    #-------- perform training --------------------------------\n",
    "    loss_train, acc_train =train(model, optimizer, dataloader_train, device, epoch)    \n",
    "    loss_train_list.append(loss_train)\n",
    "    acc_train_list.append(acc_train)\n",
    "    print('epoch', epoch, 'training loss:', loss_train, 'acc:', acc_train)\n",
    "    #-------- perform validation --------------------------------\n",
    "    loss_val, acc_val = test(model, dataloader_val, device)\n",
    "    loss_val_list.append(loss_val)\n",
    "    acc_val_list.append(acc_val)\n",
    "    print('epoch', epoch, 'validation loss:', loss_val, 'acc:', acc_val)\n",
    "    #---------save model --------\n",
    "    #you can choose to save model every 10 epochs\n",
    "    #if epoch %10 == 0\n",
    "    filename='NN_multiclass_classification_Pytorch_e'+str(epoch)+'.pt'\n",
    "    save_checkpoint(filename, model, optimizer, epoch)"
   ]
  },
  {
   "cell_type": "markdown",
   "metadata": {
    "id": "ngEoIz2ea4dd"
   },
   "source": [
    "draw the curves of loss vs epoch"
   ]
  },
  {
   "cell_type": "code",
   "execution_count": 25,
   "metadata": {
    "colab": {
     "base_uri": "https://localhost:8080/",
     "height": 393
    },
    "id": "NnMABmy2a4de",
    "outputId": "3f2f54b7-bd78-448c-d3a2-f11134ac1eb4"
   },
   "outputs": [
    {
     "data": {
      "image/png": "[encoded data removed]",
      "text/plain": [
       "<Figure size 864x432 with 2 Axes>"
      ]
     },
     "metadata": {
      "needs_background": "light"
     },
     "output_type": "display_data"
    }
   ],
   "source": [
    "fig, ax = plt.subplots(1, 2, figsize=(12,6))\n",
    "ax[0].plot(np.arange(0,len(loss_train_list)), loss_train_list, '-b', label='training loss')\n",
    "ax[0].plot(np.arange(0,len(loss_val_list)), loss_val_list, '-r', label='validation loss')\n",
    "ax[0].set_xlabel('epoch',fontsize=16)\n",
    "ax[0].legend(fontsize=16)\n",
    "ax[0].grid(True)\n",
    "ax[1].plot(np.arange(0,len(acc_train_list)), acc_train_list, '-b', label='training accuracy')\n",
    "ax[1].plot(np.arange(0,len(acc_val_list)), acc_val_list, '-r', label='validation accuracy')\n",
    "ax[1].set_xlabel('epoch',fontsize=16)\n",
    "ax[1].legend(fontsize=16)\n",
    "ax[1].grid(True)"
   ]
  },
  {
   "cell_type": "markdown",
   "metadata": {
    "id": "2rbxEvYja4de"
   },
   "source": [
    "Usually, we need to tune the hyperparameters of a neural network, <br>\n",
    "such as the number of layers, the number of units in each layer <br>\n",
    "For this simple example, we can skip this step"
   ]
  },
  {
   "cell_type": "code",
   "execution_count": 26,
   "metadata": {
    "id": "SK-M-0Y8a4df"
   },
   "outputs": [],
   "source": [
    "#to change the learning rate during traning, we may do this\n",
    "for g in optimizer.param_groups:\n",
    "    g['lr']=0.001"
   ]
  },
  {
   "cell_type": "markdown",
   "metadata": {
    "id": "Oad-ReI4a4dh"
   },
   "source": [
    "after training, we load the best model and evaluate the model on the test set"
   ]
  },
  {
   "cell_type": "code",
   "execution_count": 33,
   "metadata": {
    "colab": {
     "base_uri": "https://localhost:8080/"
    },
    "id": "p4hJvo0pbPgr",
    "outputId": "30d7f73a-3207-408f-8ee8-667faf9a850a"
   },
   "outputs": [
    {
     "data": {
      "text/plain": [
       "9"
      ]
     },
     "execution_count": 33,
     "metadata": {},
     "output_type": "execute_result"
    }
   ],
   "source": [
    "np.argmax(acc_val_list)"
   ]
  },
  {
   "cell_type": "code",
   "execution_count": 34,
   "metadata": {
    "id": "ODZHdANEa4dh"
   },
   "outputs": [],
   "source": [
    "filename_best='NN_multiclass_classification_Pytorch_e9.pt'\n",
    "load_checkpoint(filename_best, model, optimizer, device=device)"
   ]
  },
  {
   "cell_type": "code",
   "execution_count": 35,
   "metadata": {
    "colab": {
     "base_uri": "https://localhost:8080/"
    },
    "id": "Ccz5TSbTa4di",
    "outputId": "86be23fe-a165-4b0e-af49-65c1530c002f"
   },
   "outputs": [
    {
     "name": "stdout",
     "output_type": "stream",
     "text": [
      "test loss: 0.06519220771833774\n",
      "test accuracy 0.9785\n"
     ]
    }
   ],
   "source": [
    "loss_test, acc_test = test(model, dataloader_test, device)\n",
    "print('test loss:', loss_test)\n",
    "print('test accuracy', acc_test)"
   ]
  },
  {
   "cell_type": "markdown",
   "metadata": {
    "id": "xzMCz4uFa4di"
   },
   "source": [
    "apply the model to some data points in the test set"
   ]
  },
  {
   "cell_type": "code",
   "execution_count": 36,
   "metadata": {
    "colab": {
     "base_uri": "https://localhost:8080/"
    },
    "id": "tqLbAN5ea4dj",
    "outputId": "6e69b51e-a9b5-420e-a31e-edbdd9ff0749"
   },
   "outputs": [
    {
     "data": {
      "text/plain": [
       "torch.Size([1, 10])"
      ]
     },
     "execution_count": 36,
     "metadata": {},
     "output_type": "execute_result"
    }
   ],
   "source": [
    "x=dataloader_test.dataset[0][0]\n",
    "x=x.view(1,784).to(device)\n",
    "z=model(x)\n",
    "z.size()"
   ]
  },
  {
   "cell_type": "code",
   "execution_count": 37,
   "metadata": {
    "colab": {
     "base_uri": "https://localhost:8080/"
    },
    "id": "Y1L2_Ei5a4dk",
    "outputId": "d5d11c9f-36e3-493f-86dc-929d07f5bac8"
   },
   "outputs": [
    {
     "data": {
      "text/plain": [
       "tensor([[1.3459e-07, 5.2759e-08, 4.6949e-05, 7.8708e-04, 2.0881e-09, 1.0937e-06,\n",
       "         1.1930e-12, 9.9914e-01, 1.0651e-06, 2.7613e-05]],\n",
       "       grad_fn=<SoftmaxBackward0>)"
      ]
     },
     "execution_count": 37,
     "metadata": {},
     "output_type": "execute_result"
    }
   ],
   "source": [
    "yp=nnF.softmax(z,dim=1) # convert z to 'probability' output\n",
    "yp"
   ]
  },
  {
   "cell_type": "code",
   "execution_count": 38,
   "metadata": {
    "colab": {
     "base_uri": "https://localhost:8080/"
    },
    "id": "lox0D3dza4dm",
    "outputId": "48a96f70-92f5-4e99-db2c-1b5665debc78"
   },
   "outputs": [
    {
     "data": {
      "text/plain": [
       "tensor([7])"
      ]
     },
     "execution_count": 38,
     "metadata": {},
     "output_type": "execute_result"
    }
   ],
   "source": [
    "yp = z.data.max(dim=1)[1] # get the index of the max, the predicted class label\n",
    "yp"
   ]
  },
  {
   "cell_type": "code",
   "execution_count": 39,
   "metadata": {
    "colab": {
     "base_uri": "https://localhost:8080/",
     "height": 283
    },
    "id": "wo_s4y5pa4dm",
    "outputId": "af93cfac-e603-4ac5-b7d4-fa259549a65f"
   },
   "outputs": [
    {
     "data": {
      "text/plain": [
       "<matplotlib.image.AxesImage at 0x7fda23b4a110>"
      ]
     },
     "execution_count": 39,
     "metadata": {},
     "output_type": "execute_result"
    },
    {
     "data": {
      "image/png": "[encoded data removed]",
      "text/plain": [
       "<Figure size 432x288 with 1 Axes>"
      ]
     },
     "metadata": {
      "needs_background": "light"
     },
     "output_type": "display_data"
    }
   ],
   "source": [
    "#show the image x\n",
    "x=x.detach().cpu().numpy()\n",
    "plt.imshow(x.reshape(28,28), cmap='gray')"
   ]
  }
 ],
 "metadata": {
  "colab": {
   "name": "NN_multiclass_classification_Pytorch.ipynb",
   "provenance": []
  },
  "kernelspec": {
   "display_name": "Python 3",
   "language": "python",
   "name": "python3"
  },
  "language_info": {
   "codemirror_mode": {
    "name": "ipython",
    "version": 3
   },
   "file_extension": ".py",
   "mimetype": "text/x-python",
   "name": "python",
   "nbconvert_exporter": "python",
   "pygments_lexer": "ipython3",
   "version": "3.8.3"
  }
 },
 "nbformat": 4,
 "nbformat_minor": 0
}
