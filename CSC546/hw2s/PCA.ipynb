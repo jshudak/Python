{
 "cells": [
  {
   "cell_type": "markdown",
   "metadata": {},
   "source": [
    "#  Principal Component Analysis (PCA)"
   ]
  },
  {
   "cell_type": "code",
   "execution_count": 1,
   "metadata": {},
   "outputs": [],
   "source": [
    "%matplotlib inline\n",
    "import numpy as np\n",
    "import matplotlib.pyplot as plt\n",
    "import seaborn as sns; sns.set()"
   ]
  },
  {
   "cell_type": "markdown",
   "metadata": {},
   "source": [
    "## PCA on two-dimensional (2D) data\n",
    "It will be easy to show what PCA does by using a 2D dataset.\n",
    "Consider the following 200 points:"
   ]
  },
  {
   "cell_type": "code",
   "execution_count": 2,
   "metadata": {
    "scrolled": true
   },
   "outputs": [
    {
     "data": {
      "text/plain": [
       "Text(0.5, 1.0, '200 data points in 2D space')"
      ]
     },
     "execution_count": 2,
     "metadata": {},
     "output_type": "execute_result"
    },
    {
     "data": {
      "image/png": "[encoded data removed]",
      "text/plain": [
       "<Figure size 432x288 with 1 Axes>"
      ]
     },
     "metadata": {},
     "output_type": "display_data"
    }
   ],
   "source": [
    "rng = np.random.RandomState(1)\n",
    "X = np.dot(rng.rand(2, 2), rng.randn(2, 200)).T\n",
    "fig, ax = plt.subplots()\n",
    "ax.plot(X[:, 0], X[:, 1],'.')\n",
    "ax.axis('equal')\n",
    "ax.set_title('200 data points in 2D space', fontsize=16)\n",
    "#each row of X is a data point"
   ]
  },
  {
   "cell_type": "code",
   "execution_count": 3,
   "metadata": {
    "collapsed": true
   },
   "outputs": [
    {
     "name": "stdout",
     "output_type": "stream",
     "text": [
      "[[-6.25301618e-01 -1.70063657e-01]\n",
      " [ 9.60695033e-01  5.90900597e-01]\n",
      " [-5.98543385e-01 -4.02593393e-01]\n",
      " [-2.22805938e+00 -5.32576740e-01]\n",
      " [-4.61430060e-01 -4.98867244e-01]\n",
      " [-9.58929028e-01 -2.69331024e-01]\n",
      " [-6.73079909e-01 -3.38308547e-01]\n",
      " [ 1.30501861e+00  5.91357846e-01]\n",
      " [ 3.74545597e-01 -9.85442049e-02]\n",
      " [-1.82628627e+00 -4.06170254e-01]\n",
      " [ 6.68262284e-01  3.36877396e-01]\n",
      " [-5.82646676e-01 -1.77369217e-01]\n",
      " [-4.18128976e-01 -3.73811389e-01]\n",
      " [ 1.72209371e-01  2.64668836e-01]\n",
      " [ 3.77116687e-01  1.88442969e-01]\n",
      " [-6.79396230e-01 -1.31601978e-01]\n",
      " [ 1.03148960e+00  4.25550018e-01]\n",
      " [ 3.36041799e-01  3.90982721e-02]\n",
      " [ 7.05745985e-01  4.88730649e-01]\n",
      " [ 8.39511547e-01  1.52125872e-01]\n",
      " [ 1.49882898e+00  4.71380809e-01]\n",
      " [ 2.88356638e-01  3.31334714e-02]\n",
      " [-5.02935011e-01 -3.68665426e-01]\n",
      " [ 1.47921067e+00  7.40445724e-01]\n",
      " [-4.44382429e-01 -1.65019364e-01]\n",
      " [-5.33464228e-01 -6.02221911e-02]\n",
      " [-6.16229422e-01 -2.11783922e-01]\n",
      " [ 7.46598965e-02 -6.14321077e-02]\n",
      " [-1.13637011e-01  7.32877678e-02]\n",
      " [-2.00717298e-02  6.09744586e-02]\n",
      " [ 1.89582967e-01  1.99769369e-01]\n",
      " [ 9.38466103e-01  5.41731132e-01]\n",
      " [-3.66697989e-01 -3.64971376e-02]\n",
      " [-8.93528486e-01 -3.72814013e-01]\n",
      " [-1.31759571e+00 -3.57581073e-01]\n",
      " [-3.81802782e-01 -2.01252465e-01]\n",
      " [-5.13790216e-01 -5.05974086e-01]\n",
      " [ 9.03737934e-01  2.49518260e-01]\n",
      " [-4.38875079e-01 -1.50648130e-01]\n",
      " [-5.94170907e-01 -9.41224109e-02]\n",
      " [-3.12943931e-01 -6.57312966e-04]\n",
      " [-3.00229089e-01 -4.22050272e-01]\n",
      " [-5.99239320e-01 -2.60398180e-01]\n",
      " [ 2.20370036e-01  2.03914415e-01]\n",
      " [ 5.25164844e-01  1.87026363e-01]\n",
      " [ 5.56625011e-01 -1.33745094e-01]\n",
      " [ 1.35428157e+00  5.47397422e-01]\n",
      " [-6.83159806e-01 -3.94693187e-01]\n",
      " [-1.23325109e-01 -1.04266539e-01]\n",
      " [-3.13175458e-01 -6.98306619e-02]\n",
      " [-2.48838277e+00 -8.44571249e-01]\n",
      " [ 1.24996586e+00  5.85738115e-01]\n",
      " [ 1.76764431e-01  1.10730208e-01]\n",
      " [-5.07808538e-01 -3.15746300e-01]\n",
      " [ 1.82738502e+00  6.20232502e-01]\n",
      " [ 8.10156740e-01  1.77171194e-01]\n",
      " [ 4.28494398e-01  1.29892407e-01]\n",
      " [-6.81124709e-02 -1.83414149e-01]\n",
      " [-2.38085712e-01  3.20283053e-02]\n",
      " [-5.76511311e-01 -4.61119558e-01]\n",
      " [ 7.86579791e-01  2.40420951e-01]\n",
      " [-3.94028364e-01 -1.13238995e-01]\n",
      " [ 3.00281016e-01  4.05830103e-02]\n",
      " [ 8.34354492e-01  3.63411695e-01]\n",
      " [ 6.77025394e-01  8.62180588e-02]\n",
      " [ 8.22858785e-01  7.95262868e-02]\n",
      " [ 1.11060226e+00  8.38447209e-02]\n",
      " [-1.11056320e+00 -2.21851614e-01]\n",
      " [-3.25581172e-05  2.52586287e-01]\n",
      " [ 9.01346004e-01  4.66550032e-01]\n",
      " [ 6.13325282e-01  2.29429972e-01]\n",
      " [ 1.00280321e+00  2.67636970e-01]\n",
      " [-5.00300647e-01 -2.65194678e-01]\n",
      " [-1.46839080e+00 -2.62591632e-01]\n",
      " [-1.16559210e+00 -4.35658777e-01]\n",
      " [ 1.23290571e+00  3.72644940e-01]\n",
      " [-8.71374166e-02 -7.68205362e-02]\n",
      " [ 1.32611731e+00  4.23305575e-01]\n",
      " [-6.55945864e-01 -2.36422799e-01]\n",
      " [-3.98868969e-01 -1.32296178e-01]\n",
      " [ 1.46537233e-01  2.88714500e-02]\n",
      " [ 8.34743614e-01  2.78631269e-01]\n",
      " [ 1.26455201e-01  1.83894435e-02]\n",
      " [ 2.01707556e-01  6.38435019e-02]\n",
      " [-2.67775720e-01  4.92011507e-03]\n",
      " [ 2.85085062e-01  5.36128031e-02]\n",
      " [-7.53418549e-01 -3.37531319e-01]\n",
      " [ 5.29313417e-01  2.45960831e-02]\n",
      " [ 3.65577719e-01 -5.62717811e-02]\n",
      " [ 3.62822350e-02 -1.71587143e-02]\n",
      " [ 1.98139998e-01  1.48806454e-01]\n",
      " [-7.56673772e-01 -2.05864228e-01]\n",
      " [ 1.15733262e-01 -2.55010922e-02]\n",
      " [-1.81944537e-01 -8.98933373e-02]\n",
      " [ 1.57198306e-01  1.26124661e-01]\n",
      " [ 5.83470370e-01  2.37266716e-01]\n",
      " [-9.46770213e-01 -2.88927090e-01]\n",
      " [ 7.13140353e-01  1.77219645e-01]\n",
      " [ 1.30157187e+00  6.24502445e-01]\n",
      " [-5.49063710e-01 -4.44638605e-01]\n",
      " [-4.29728257e-01 -2.50941856e-01]\n",
      " [-3.86766308e-01 -2.66159401e-01]\n",
      " [-6.57643258e-01 -8.45055625e-02]\n",
      " [ 1.23961415e+00  4.90659512e-01]\n",
      " [ 3.18446596e-01  4.12165000e-03]\n",
      " [-8.98118949e-01 -2.10137581e-01]\n",
      " [ 3.36881319e-01  1.87961004e-01]\n",
      " [-4.18452911e-01 -1.81336717e-01]\n",
      " [ 2.36601159e-01  3.39487039e-01]\n",
      " [ 3.51319728e-01  9.23282159e-02]\n",
      " [ 1.35323942e+00  4.19970027e-01]\n",
      " [-8.34819518e-01 -2.00044213e-01]\n",
      " [ 2.32938600e+00  9.16366922e-01]\n",
      " [ 4.67174434e-02  2.49148699e-01]\n",
      " [ 4.55373238e-01  1.97896476e-01]\n",
      " [-7.10684919e-01 -1.56607387e-02]\n",
      " [-5.50095165e-02 -2.19243382e-01]\n",
      " [-4.54554511e-01 -2.62307969e-01]\n",
      " [-1.08213611e-01 -4.11131904e-02]\n",
      " [-8.97552407e-01 -2.41129284e-01]\n",
      " [ 7.34802491e-01  8.56077609e-02]\n",
      " [ 2.25266501e-01 -2.49531175e-01]\n",
      " [-3.27438240e-01  1.87561024e-01]\n",
      " [ 1.20422548e+00  2.89208121e-01]\n",
      " [ 1.70331974e-01 -2.13212414e-01]\n",
      " [ 1.00007930e+00  3.60626507e-01]\n",
      " [-6.71516563e-01 -7.20747636e-02]\n",
      " [ 1.19221616e+00  3.49379904e-01]\n",
      " [ 2.40174205e-01  1.32451266e-01]\n",
      " [ 5.56592389e-01  3.39247336e-01]\n",
      " [-1.23113909e+00 -3.01572247e-01]\n",
      " [ 1.52659926e-01 -3.22243331e-02]\n",
      " [ 1.37611796e+00  4.38905019e-01]\n",
      " [-7.05213114e-01 -1.86923986e-01]\n",
      " [-1.25035415e+00 -6.15852747e-01]\n",
      " [-1.87651011e+00 -5.87438869e-01]\n",
      " [-1.47105690e+00 -7.57686938e-01]\n",
      " [-1.50346447e+00 -6.39175291e-01]\n",
      " [-3.74317472e-01 -1.24473266e-01]\n",
      " [ 8.78524826e-01  3.86529047e-01]\n",
      " [ 4.37960653e-02 -1.33600937e-01]\n",
      " [ 5.45982844e-01  9.78986853e-02]\n",
      " [ 1.41569127e-01 -3.31934527e-02]\n",
      " [ 6.35824494e-02  2.60037422e-03]\n",
      " [-8.87046213e-02 -5.08430872e-02]\n",
      " [ 1.32411808e-01 -5.25896645e-02]\n",
      " [ 4.29143144e-01  1.39451520e-01]\n",
      " [-5.62450166e-01 -3.55459800e-01]\n",
      " [ 5.98293829e-01  3.05358879e-01]\n",
      " [-3.52669474e-01  2.77872905e-01]\n",
      " [ 2.92708138e-01 -5.88533723e-02]\n",
      " [ 1.49216325e+00  2.43746801e-01]\n",
      " [-3.21136884e-01 -2.11988784e-01]\n",
      " [-4.28741839e-01 -1.62431474e-01]\n",
      " [ 5.56602182e-02  4.72280460e-02]\n",
      " [-1.86669080e-01 -5.75236287e-02]\n",
      " [-3.15976890e-01 -1.35666133e-01]\n",
      " [-9.52287292e-01 -2.03431276e-01]\n",
      " [-6.17216871e-01 -1.68607956e-01]\n",
      " [ 2.60724124e-01  2.83827268e-01]\n",
      " [-1.29606872e+00 -5.87501508e-01]\n",
      " [ 1.30204436e-01  1.06536600e-01]\n",
      " [ 3.62026915e-02 -7.14259522e-02]\n",
      " [ 4.51406829e-01  2.20021746e-01]\n",
      " [ 7.82343617e-01  1.55836343e-01]\n",
      " [-1.91527940e+00 -8.41226381e-01]\n",
      " [ 1.33470527e+00  1.77008275e-01]\n",
      " [-5.57241554e-01  9.78217703e-02]\n",
      " [-2.54030157e-01  6.53585666e-03]\n",
      " [ 3.83426415e-02 -1.41592253e-01]\n",
      " [ 1.66900682e+00  2.58263884e-01]\n",
      " [-4.01201302e-01 -1.24900651e-01]\n",
      " [ 1.33980298e+00  5.54699895e-01]\n",
      " [ 3.12160775e-01  1.70605436e-01]\n",
      " [ 2.09517683e+00  6.46487345e-01]\n",
      " [-6.85653080e-01 -2.37525375e-01]\n",
      " [-9.81232159e-01 -5.30795733e-01]\n",
      " [ 3.81516151e-01  2.16067601e-01]\n",
      " [ 8.35386181e-02  2.57654664e-01]\n",
      " [ 1.56227043e-01  1.07263711e-02]\n",
      " [-8.98591326e-01 -4.65169769e-01]\n",
      " [ 2.16673778e-01 -1.35265391e-01]\n",
      " [ 3.99091276e-01  1.86824524e-01]\n",
      " [-3.90120284e-01 -5.57531130e-02]\n",
      " [ 1.51136791e-01 -3.50017338e-02]\n",
      " [-2.59947279e-02 -5.30194271e-02]\n",
      " [-5.55678088e-01 -2.82320719e-01]\n",
      " [-4.14437203e-01 -1.61157769e-01]\n",
      " [-5.43696094e-01 -4.31161457e-01]\n",
      " [ 1.42759145e+00  5.34554140e-01]\n",
      " [ 4.51861867e-01 -1.43502859e-01]\n",
      " [ 8.07369404e-01  1.44524192e-01]\n",
      " [-4.61251208e-01 -3.08874028e-01]\n",
      " [-1.06359448e-01  2.40025629e-01]\n",
      " [-1.09810334e+00 -5.66248687e-01]\n",
      " [ 8.38408546e-01  2.78380007e-01]\n",
      " [ 3.12708310e-01 -1.06001233e-02]\n",
      " [ 1.95587585e+00  6.38224114e-01]\n",
      " [-1.10830352e+00 -3.95053658e-01]\n",
      " [ 3.98647206e-01  2.31865526e-02]]\n"
     ]
    }
   ],
   "source": [
    "print(X)"
   ]
  },
  {
   "cell_type": "markdown",
   "metadata": {},
   "source": [
    "It seems that the data points are spread out along a principal direction. <br>\n",
    "What is that principal direction/axis ? <br>\n",
    "Now, let's use Scikit-Learn's ``PCA`` to find out ..."
   ]
  },
  {
   "cell_type": "code",
   "execution_count": 4,
   "metadata": {},
   "outputs": [
    {
     "data": {
      "text/plain": [
       "PCA(n_components=2)"
      ]
     },
     "execution_count": 4,
     "metadata": {},
     "output_type": "execute_result"
    }
   ],
   "source": [
    "from sklearn.decomposition import PCA\n",
    "pca = PCA(n_components=2, whiten=False)\n",
    "pca.fit(X)"
   ]
  },
  {
   "cell_type": "markdown",
   "metadata": {},
   "source": [
    "The line `pca.fit(X)` hides all of the details of the algorithm <br>\n",
    "It basically follows the three algorithm-steps: <br>\n",
    "(1) Estimate the mean 𝜇 and covariance matrix C <br>\n",
    "(2) Compute the eigenvectors 𝑤_1, 𝑤_2…, of 𝐶, corresponding to the largest eigenvalues 𝜆_1, the second largest 𝜆_2,… <br>\n",
    "(3) Compute the reduced representation of data"
   ]
  },
  {
   "cell_type": "markdown",
   "metadata": {},
   "source": [
    "There are many attributes of pca <br>\n",
    "https://scikit-learn.org/stable/modules/generated/sklearn.decomposition.PCA.html  <br>\n",
    "For example, `pca.explained_variance_` - what does it mean ? "
   ]
  },
  {
   "cell_type": "markdown",
   "metadata": {},
   "source": [
    "`pca.mean_` stores the sample mean 𝜇 "
   ]
  },
  {
   "cell_type": "code",
   "execution_count": 5,
   "metadata": {},
   "outputs": [
    {
     "data": {
      "text/plain": [
       "array([ 0.03351168, -0.00408072])"
      ]
     },
     "execution_count": 5,
     "metadata": {},
     "output_type": "execute_result"
    }
   ],
   "source": [
    "pca.mean_ "
   ]
  },
  {
   "cell_type": "markdown",
   "metadata": {},
   "source": [
    "`pca.get_covariance()` returns the covariance matrix C <br>\n",
    "note: if you set whiten=True in PCA(n_components=2, whiten=False), the output C is weird"
   ]
  },
  {
   "cell_type": "code",
   "execution_count": 6,
   "metadata": {},
   "outputs": [
    {
     "data": {
      "text/plain": [
       "array([[0.68217761, 0.23093475],\n",
       "       [0.23093475, 0.09883179]])"
      ]
     },
     "execution_count": 6,
     "metadata": {},
     "output_type": "execute_result"
    }
   ],
   "source": [
    "C=pca.get_covariance()\n",
    "C"
   ]
  },
  {
   "cell_type": "code",
   "execution_count": 7,
   "metadata": {},
   "outputs": [
    {
     "data": {
      "text/plain": [
       "(array([0.7625315, 0.0184779]),\n",
       " array([[ 0.94446029, -0.32862557],\n",
       "        [ 0.32862557,  0.94446029]]))"
      ]
     },
     "execution_count": 7,
     "metadata": {},
     "output_type": "execute_result"
    }
   ],
   "source": [
    "from numpy.linalg import eig\n",
    "eig(C) # column is the eigenvector"
   ]
  },
  {
   "cell_type": "markdown",
   "metadata": {},
   "source": [
    "`pca.components_` stores the eigenvectors <br>\n",
    "shape (n_components, n_features)"
   ]
  },
  {
   "cell_type": "code",
   "execution_count": 8,
   "metadata": {},
   "outputs": [
    {
     "data": {
      "text/plain": [
       "array([[-0.94446029, -0.32862557],\n",
       "       [-0.32862557,  0.94446029]])"
      ]
     },
     "execution_count": 8,
     "metadata": {},
     "output_type": "execute_result"
    }
   ],
   "source": [
    "pca.components_"
   ]
  },
  {
   "cell_type": "markdown",
   "metadata": {},
   "source": [
    "`pca.explained_variance_` stores the eigenvalues of the covariance matrix C<br>\n",
    "shape (n_components,)"
   ]
  },
  {
   "cell_type": "code",
   "execution_count": 9,
   "metadata": {},
   "outputs": [
    {
     "data": {
      "text/plain": [
       "array([0.7625315, 0.0184779])"
      ]
     },
     "execution_count": 9,
     "metadata": {},
     "output_type": "execute_result"
    }
   ],
   "source": [
    "pca.explained_variance_"
   ]
  },
  {
   "cell_type": "markdown",
   "metadata": {},
   "source": [
    "`pca.singular_values_` stores the singular values of X from SVD"
   ]
  },
  {
   "cell_type": "code",
   "execution_count": 10,
   "metadata": {},
   "outputs": [
    {
     "data": {
      "text/plain": [
       "array([12.31843207,  1.91757691])"
      ]
     },
     "execution_count": 10,
     "metadata": {},
     "output_type": "execute_result"
    }
   ],
   "source": [
    "pca.singular_values_"
   ]
  },
  {
   "cell_type": "code",
   "execution_count": 11,
   "metadata": {},
   "outputs": [
    {
     "data": {
      "text/plain": [
       "(array([[-0.05244952, -0.02305721, -0.04233593, ...,  0.16843287,\n",
       "         -0.09395918,  0.03907888],\n",
       "        [ 0.08935467, -0.12599072,  0.102587  , ..., -0.00539508,\n",
       "          0.01932218,  0.05095362],\n",
       "        [-0.05658749,  0.09536329,  0.98923274, ...,  0.00752372,\n",
       "         -0.00562738, -0.00283187],\n",
       "        ...,\n",
       "        [ 0.16688514,  0.02007339,  0.00605781, ...,  0.97313342,\n",
       "          0.01487533, -0.00659194],\n",
       "        [-0.095455  ,  0.00498227, -0.004869  , ...,  0.01511155,\n",
       "          0.99139759,  0.00295394],\n",
       "        [ 0.03116955,  0.05643868, -0.003362  , ..., -0.00583596,\n",
       "          0.00247742,  0.99615569]]),\n",
       " array([12.32588965,  1.92905448]),\n",
       " array([[ 0.94465994,  0.3280512 ],\n",
       "        [ 0.3280512 , -0.94465994]]))"
      ]
     },
     "execution_count": 11,
     "metadata": {},
     "output_type": "execute_result"
    }
   ],
   "source": [
    "from numpy.linalg import svd\n",
    "svd(X)"
   ]
  },
  {
   "cell_type": "markdown",
   "metadata": {},
   "source": [
    "Relationship between `pca.singular_values_` and `pca.explained_variance_` <br>\n",
    "see \"Singular Value Decomposition (SVD) and Eigen Decomposition\" in lecture notes"
   ]
  },
  {
   "cell_type": "code",
   "execution_count": 12,
   "metadata": {},
   "outputs": [
    {
     "data": {
      "text/plain": [
       "array([152.50630018,   3.6955791 ])"
      ]
     },
     "execution_count": 12,
     "metadata": {},
     "output_type": "execute_result"
    }
   ],
   "source": [
    "pca.explained_variance_*X.shape[0] # X.shape[0] is the number of data points"
   ]
  },
  {
   "cell_type": "code",
   "execution_count": 13,
   "metadata": {},
   "outputs": [
    {
     "data": {
      "text/plain": [
       "array([151.74376868,   3.67710121])"
      ]
     },
     "execution_count": 13,
     "metadata": {},
     "output_type": "execute_result"
    }
   ],
   "source": [
    "pca.singular_values_**2"
   ]
  },
  {
   "cell_type": "markdown",
   "metadata": {},
   "source": [
    "To 'see' what these numbers mean, let's visualize them as vectors over the input data, using the \"components\" to define the direction of the vector, and the \"explained variance\" to define the squared-length of the vector:"
   ]
  },
  {
   "cell_type": "code",
   "execution_count": 14,
   "metadata": {},
   "outputs": [
    {
     "data": {
      "image/png": "[encoded data removed]",
      "text/plain": [
       "<Figure size 432x288 with 1 Axes>"
      ]
     },
     "metadata": {},
     "output_type": "display_data"
    }
   ],
   "source": [
    "def draw_vector(v0, v1, ax=None):\n",
    "    ax = ax or plt.gca()\n",
    "    arrowprops=dict(arrowstyle='->', linewidth=2, color ='k',\n",
    "                    shrinkA=0, shrinkB=0)\n",
    "    ax.annotate('', v1, v0, arrowprops=arrowprops)\n",
    "\n",
    "# plot data\n",
    "plt.plot(X[:, 0], X[:, 1], '.')\n",
    "for length, vector in zip(pca.explained_variance_, pca.components_):\n",
    "    v = vector * 3 * np.sqrt(length)\n",
    "    draw_vector(pca.mean_, pca.mean_ + v)\n",
    "plt.axis('equal');"
   ]
  },
  {
   "cell_type": "markdown",
   "metadata": {},
   "source": [
    "These vectors represent the *principal axes/directions* of the data, and the length of the vector is an indication of how \"important\" that axis is in describing the distribution of the data—more precisely, it is a measure of the variance of the data when projected onto that axis.\n",
    "The projection of each data point onto the principal axes are the \"principal components\" of the data. <br>\n",
    "We use `pca.transform(X)` to compute the principal components of each data point"
   ]
  },
  {
   "cell_type": "code",
   "execution_count": 15,
   "metadata": {},
   "outputs": [
    {
     "data": {
      "text/plain": [
       "array([0.67676923, 0.0597386 ])"
      ]
     },
     "execution_count": 15,
     "metadata": {},
     "output_type": "execute_result"
    }
   ],
   "source": [
    "Beta = pca.transform(X)\n",
    "Beta[0,:]"
   ]
  },
  {
   "cell_type": "code",
   "execution_count": 16,
   "metadata": {},
   "outputs": [
    {
     "data": {
      "text/plain": [
       "0.676769234922681"
      ]
     },
     "execution_count": 16,
     "metadata": {},
     "output_type": "execute_result"
    }
   ],
   "source": [
    "np.sum(pca.components_[0,:]*(X[0,:]-pca.mean_))"
   ]
  },
  {
   "cell_type": "code",
   "execution_count": 17,
   "metadata": {},
   "outputs": [
    {
     "data": {
      "text/plain": [
       "0.05973860147978352"
      ]
     },
     "execution_count": 17,
     "metadata": {},
     "output_type": "execute_result"
    }
   ],
   "source": [
    "np.sum(pca.components_[1,:]*(X[0,:]-pca.mean_))"
   ]
  },
  {
   "cell_type": "markdown",
   "metadata": {},
   "source": [
    "PCA parameter `whiten=True` by default, and then `pca.transform(X)` does not perform normalization by eigenvalues <br>"
   ]
  },
  {
   "cell_type": "code",
   "execution_count": 18,
   "metadata": {},
   "outputs": [
    {
     "data": {
      "text/plain": [
       "array([0.77501786, 0.43946956])"
      ]
     },
     "execution_count": 18,
     "metadata": {},
     "output_type": "execute_result"
    }
   ],
   "source": [
    "Beta = pca.transform(X) # Beta[0,:] is beta0 in lecture notes\n",
    "Y = Beta/ np.sqrt(pca.explained_variance_) \n",
    "Y[0,:] # It is y0 in lecture notes"
   ]
  },
  {
   "cell_type": "code",
   "execution_count": 19,
   "metadata": {},
   "outputs": [
    {
     "data": {
      "text/plain": [
       "0.7750178644142619"
      ]
     },
     "execution_count": 19,
     "metadata": {},
     "output_type": "execute_result"
    }
   ],
   "source": [
    "np.sum(pca.components_[0,:]*(X[0,:]-pca.mean_))/np.sqrt(pca.explained_variance_[0])"
   ]
  },
  {
   "cell_type": "code",
   "execution_count": 20,
   "metadata": {},
   "outputs": [
    {
     "data": {
      "text/plain": [
       "0.4394695588535661"
      ]
     },
     "execution_count": 20,
     "metadata": {},
     "output_type": "execute_result"
    }
   ],
   "source": [
    "np.sum(pca.components_[1,:]*(X[0,:]-pca.mean_))/np.sqrt(pca.explained_variance_[1])"
   ]
  },
  {
   "cell_type": "markdown",
   "metadata": {},
   "source": [
    "Now, we can show the original data points X and the transformed data points Y"
   ]
  },
  {
   "cell_type": "code",
   "execution_count": 21,
   "metadata": {},
   "outputs": [
    {
     "data": {
      "text/plain": [
       "Text(0.5, 1.0, 'transformed data Y - principal components of X')"
      ]
     },
     "execution_count": 21,
     "metadata": {},
     "output_type": "execute_result"
    },
    {
     "data": {
      "image/png": "[encoded data removed]",
      "text/plain": [
       "<Figure size 1152x432 with 2 Axes>"
      ]
     },
     "metadata": {},
     "output_type": "display_data"
    }
   ],
   "source": [
    "fig, ax = plt.subplots(1, 2, figsize=(16, 6))\n",
    "fig.subplots_adjust(left=0.0625, right=0.95, wspace=0.1)\n",
    "# plot data\n",
    "ax[0].plot(X[:, 0], X[:, 1], '.')\n",
    "for length, vector in zip(pca.explained_variance_, pca.components_):\n",
    "    v = vector * 3 * np.sqrt(length)\n",
    "    draw_vector(pca.mean_, pca.mean_ + v, ax=ax[0])\n",
    "ax[0].axis('equal');\n",
    "ax[0].set(xlabel='x1', ylabel='x2')\n",
    "ax[0].set_title('original data X', fontsize=20)\n",
    "# plot principal components\n",
    "ax[1].plot(Y[:, 0], Y[:, 1], '.')\n",
    "draw_vector([0, 0], [0, 3], ax=ax[1])\n",
    "draw_vector([0, 0], [3, 0], ax=ax[1])\n",
    "ax[1].axis('equal')\n",
    "ax[1].set(xlabel='component 1', ylabel='component 2',\n",
    "          xlim=(-3.5, 3.5), ylim=(-3.5, 3.5))\n",
    "ax[1].set_title('transformed data Y - principal components of X', fontsize=20)"
   ]
  },
  {
   "cell_type": "markdown",
   "metadata": {},
   "source": [
    "This transformation from data axes to principal axes is an *affine transformation*, which basically means it is composed of a translation, rotation, and uniform scaling.\n",
    "\n",
    "Thus, PCA is a linear transform"
   ]
  },
  {
   "cell_type": "markdown",
   "metadata": {},
   "source": [
    "#### Let's  set `whiten=True` to directly get y"
   ]
  },
  {
   "cell_type": "code",
   "execution_count": 22,
   "metadata": {},
   "outputs": [],
   "source": [
    "pca_w = PCA(n_components=2, whiten=True)\n",
    "pca_w.fit(X)\n",
    "Y_w = pca_w.transform(X) # Y_w[0,:] is y0 in lecture notes"
   ]
  },
  {
   "cell_type": "code",
   "execution_count": 23,
   "metadata": {},
   "outputs": [
    {
     "data": {
      "text/plain": [
       "array([0.77501786, 0.43946956])"
      ]
     },
     "execution_count": 23,
     "metadata": {},
     "output_type": "execute_result"
    }
   ],
   "source": [
    "Y[0,:]"
   ]
  },
  {
   "cell_type": "code",
   "execution_count": 24,
   "metadata": {},
   "outputs": [
    {
     "data": {
      "text/plain": [
       "array([0.77501786, 0.43946956])"
      ]
     },
     "execution_count": 24,
     "metadata": {},
     "output_type": "execute_result"
    }
   ],
   "source": [
    "Y_w[0,:]"
   ]
  },
  {
   "cell_type": "code",
   "execution_count": 25,
   "metadata": {},
   "outputs": [
    {
     "data": {
      "text/plain": [
       "array([-1.22672528,  1.89239746])"
      ]
     },
     "execution_count": 25,
     "metadata": {},
     "output_type": "execute_result"
    }
   ],
   "source": [
    "Y[1,:]"
   ]
  },
  {
   "cell_type": "code",
   "execution_count": 26,
   "metadata": {},
   "outputs": [
    {
     "data": {
      "text/plain": [
       "array([-1.22672528,  1.89239746])"
      ]
     },
     "execution_count": 26,
     "metadata": {},
     "output_type": "execute_result"
    }
   ],
   "source": [
    "Y_w[1,:]"
   ]
  },
  {
   "cell_type": "code",
   "execution_count": 27,
   "metadata": {},
   "outputs": [
    {
     "data": {
      "text/plain": [
       "array([[0.51869714, 0.18036221],\n",
       "       [0.18036221, 0.06309858]])"
      ]
     },
     "execution_count": 27,
     "metadata": {},
     "output_type": "execute_result"
    }
   ],
   "source": [
    "#this is weird, not the original covariance matrix\n",
    "#see the code https://github.com/scikit-learn/scikit-learn/blob/b194674c4/sklearn/decomposition/_base.py#L26\n",
    "C_w=pca_w.get_covariance()\n",
    "C_w"
   ]
  },
  {
   "cell_type": "code",
   "execution_count": 28,
   "metadata": {},
   "outputs": [
    {
     "data": {
      "text/plain": [
       "array([[0.68217761, 0.23093475],\n",
       "       [0.23093475, 0.09883179]])"
      ]
     },
     "execution_count": 28,
     "metadata": {},
     "output_type": "execute_result"
    }
   ],
   "source": [
    "C"
   ]
  },
  {
   "cell_type": "markdown",
   "metadata": {},
   "source": [
    "### PCA as dimensionality reduction\n",
    "\n",
    "The data X is in 2D space, i.e., each row is a data point that has two numbers <br>\n",
    "The transformed data Y is still in 2D space. <br>\n",
    "Now, we only select the first principal component for each data point <br>"
   ]
  },
  {
   "cell_type": "code",
   "execution_count": 29,
   "metadata": {},
   "outputs": [
    {
     "name": "stdout",
     "output_type": "stream",
     "text": [
      "original shape:    (200, 2)\n",
      "transformed shape: (200, 1)\n"
     ]
    }
   ],
   "source": [
    "Y0 = Y[:,0].reshape(-1,1)\n",
    "print(\"original shape:   \", X.shape)\n",
    "print(\"transformed shape:\", Y0.shape)"
   ]
  },
  {
   "cell_type": "markdown",
   "metadata": {},
   "source": [
    "We can start from the beginning by setting n_components to 1 "
   ]
  },
  {
   "cell_type": "code",
   "execution_count": 30,
   "metadata": {},
   "outputs": [
    {
     "name": "stdout",
     "output_type": "stream",
     "text": [
      "original shape:    (200, 2)\n",
      "transformed shape: (200, 1)\n"
     ]
    }
   ],
   "source": [
    "pca1 = PCA(n_components=1, whiten=True)#set whiten=True, we get y from the pca (forward) transform\n",
    "pca1.fit(X)\n",
    "Y1d = pca1.transform(X)\n",
    "print(\"original shape:   \", X.shape)\n",
    "print(\"transformed shape:\", Y1d.shape)"
   ]
  },
  {
   "cell_type": "markdown",
   "metadata": {},
   "source": [
    "The transformed data has been reduced to a single dimension.\n",
    "To understand the effect of this dimensionality reduction, we can perform the inverse transform of this reduced data `Y1d` to obtain a reconstructed version `X_rec` of the original data `X`"
   ]
  },
  {
   "cell_type": "code",
   "execution_count": 31,
   "metadata": {},
   "outputs": [
    {
     "data": {
      "text/plain": [
       "(-2.731158226766438,\n",
       " 2.6099018832593326,\n",
       " -0.9672765706389317,\n",
       " 1.0060642308539953)"
      ]
     },
     "execution_count": 31,
     "metadata": {},
     "output_type": "execute_result"
    },
    {
     "data": {
      "image/png": "[encoded data removed]",
      "text/plain": [
       "<Figure size 432x288 with 1 Axes>"
      ]
     },
     "metadata": {},
     "output_type": "display_data"
    }
   ],
   "source": [
    "X_rec = pca1.inverse_transform(Y1d)\n",
    "fig, ax = plt.subplots()\n",
    "ax.plot(X[:, 0], X[:, 1], 'b.')\n",
    "ax.plot(X_rec[:, 0], X_rec[:, 1], 'r.')\n",
    "ax.axis('equal')"
   ]
  },
  {
   "cell_type": "markdown",
   "metadata": {},
   "source": [
    "The blue points are the original data, while the red points are the projected version.\n",
    "This makes clear what a PCA dimensionality reduction means: the information along the least important principal axis or axes is removed, leaving only the component(s) of the data with the highest variance.\n",
    "The fraction of variance that is cut out (proportional to the spread of points about the line formed in this figure) is roughly a measure of how much \"information\" is discarded in this reduction of dimensionality.\n",
    "\n",
    "This reduced-dimension dataset is in some senses \"good enough\" to encode the most important relationships between the points: the overall relationship between the data points are mostly preserved."
   ]
  }
 ],
 "metadata": {
  "anaconda-cloud": {},
  "kernelspec": {
   "display_name": "Python 3",
   "language": "python",
   "name": "python3"
  },
  "language_info": {
   "codemirror_mode": {
    "name": "ipython",
    "version": 3
   },
   "file_extension": ".py",
   "mimetype": "text/x-python",
   "name": "python",
   "nbconvert_exporter": "python",
   "pygments_lexer": "ipython3",
   "version": "3.8.5"
  }
 },
 "nbformat": 4,
 "nbformat_minor": 1
}
