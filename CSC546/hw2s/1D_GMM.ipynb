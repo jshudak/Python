{
 "cells": [
  {
   "cell_type": "markdown",
   "metadata": {},
   "source": [
    "## Gaussian Mixture Model - GMM"
   ]
  },
  {
   "cell_type": "code",
   "execution_count": 1,
   "metadata": {},
   "outputs": [],
   "source": [
    "%matplotlib inline\n",
    "from IPython import display\n",
    "import numpy as np\n",
    "import matplotlib.pyplot as plt\n",
    "import seaborn as sn\n",
    "sn.set(style='whitegrid')"
   ]
  },
  {
   "cell_type": "markdown",
   "metadata": {},
   "source": [
    "### 1.  Generate some data samples from a 1D GMM with two Gaussian Components"
   ]
  },
  {
   "cell_type": "code",
   "execution_count": 2,
   "metadata": {},
   "outputs": [],
   "source": [
    "data=np.zeros((1000,))\n",
    "for n in range(0, 1000):\n",
    "    #randomly select a Gaussian component (c0, c1) with prob of 0.5\n",
    "    r= int(np.random.rand() > 0.5)  # rand ~ uniform random distribution\n",
    "    if r == 0:\n",
    "       # randomly draw a sample from the Gaussian component (mean = 2, std=1)\n",
    "       sample =  2 + np.random.randn() \n",
    "    else:\n",
    "       # randomly draw a sample from the Gaussian component (mean = 6, std=1)\n",
    "       sample =  6 + np.random.randn() \n",
    "    data[n]=sample"
   ]
  },
  {
   "cell_type": "code",
   "execution_count": 3,
   "metadata": {},
   "outputs": [
    {
     "data": {
      "text/plain": [
       "array([ 7.11387399,  7.00686696,  2.76006349,  2.34561441,  0.97441922,\n",
       "        2.13493627,  1.56135896,  4.93896244,  2.55415309,  2.58585748,\n",
       "        2.60845879,  1.01234849,  3.7955288 ,  6.91213125,  0.81100862,\n",
       "        3.64582605,  0.95916984,  2.5033767 ,  5.56010044,  0.88437932,\n",
       "        6.30100792,  7.11948198,  6.79345508,  5.54445896,  2.4082747 ,\n",
       "        4.70454118,  2.02089668,  5.29420355,  4.56508957,  7.71800227,\n",
       "        6.34236284,  1.66728281,  5.21778995,  1.8035757 , -0.2736324 ,\n",
       "        2.60817277,  5.63282995,  5.12244552,  1.25587766,  5.2514476 ,\n",
       "        2.41284768,  3.28629361,  6.41809297,  2.4566871 ,  0.78643635,\n",
       "        2.05656536,  4.52009256,  4.31906919,  5.13933395,  6.23300449,\n",
       "        6.85200092,  0.64904893,  5.70881747,  6.92824774,  2.25406875,\n",
       "        4.50626633,  1.12737627,  6.72993318,  1.88327921,  5.66672946,\n",
       "        6.20593049,  3.9562823 ,  2.16044566,  2.1444674 ,  5.11261701,\n",
       "        1.68291948,  1.83202896,  5.97547091,  4.61725209,  5.41831353,\n",
       "        3.72368182,  6.01542269,  5.37951194,  2.15233777,  0.9643832 ,\n",
       "        6.29500546,  5.33979569,  6.41105753,  5.71863968,  6.69027923,\n",
       "        4.73933437,  6.11934425,  0.77281753,  5.85125979,  3.62290113,\n",
       "        2.71988943,  0.72068408,  6.70283564,  6.30669644,  2.74480206,\n",
       "        3.20223367,  4.75015744,  3.88526129,  7.0324052 ,  5.59262808,\n",
       "        6.02266962,  2.34747632,  1.46999193,  6.01443644,  2.75521112,\n",
       "       -0.80254941,  5.72229495,  1.22605488,  2.53551873,  6.68558717,\n",
       "        6.8668397 ,  3.40234434,  6.1007212 ,  7.51937415,  1.75342254,\n",
       "        5.71433536,  1.67889367,  1.506454  ,  6.9064606 ,  1.74108496,\n",
       "        7.93538704,  6.22521547,  2.43314761,  3.13195601,  1.42745661,\n",
       "        7.72154377,  3.10873986,  2.41932303,  2.59100727,  1.19355218,\n",
       "        7.38223227,  4.9966849 ,  6.35752413,  8.26955745,  6.8791989 ,\n",
       "        5.04254845,  1.21969329,  1.78591123,  1.67666201,  4.95576279,\n",
       "        5.08068067,  6.02125603,  2.45744578,  4.46652912,  1.43437306,\n",
       "        2.07223535,  1.06284506,  4.48261375,  6.35690763,  3.5063476 ,\n",
       "        6.18864058,  1.56272267,  5.30474221,  5.64054365,  5.87868374,\n",
       "        3.31471342,  2.86879426,  3.05627134,  6.41424933,  1.90378122,\n",
       "        2.97210353,  0.82638409,  0.69999806,  6.37018063,  2.15915641,\n",
       "        1.25958067,  5.45759893,  6.88826289,  2.96302282,  6.12138849,\n",
       "        5.41961913,  6.02217496,  7.59021079,  6.6217686 ,  2.2590841 ,\n",
       "        1.70487067,  6.02909305,  2.32949081,  5.98360766,  2.38582232,\n",
       "        0.75649878,  3.31739928,  3.29481684,  8.22195518,  1.04956188,\n",
       "        6.61092395,  5.17059197,  7.29600615,  5.38602072,  7.54064369,\n",
       "        2.0948794 ,  3.20878444,  5.74985202,  4.00679567,  2.1640702 ,\n",
       "        2.0444747 ,  4.3359818 ,  3.38675246,  3.48685621,  3.45224413,\n",
       "        5.91061744,  6.84731048,  5.69086736,  6.07285719,  6.27603346,\n",
       "        3.74460283,  2.17832066,  5.90005718,  7.88948441,  2.15411206,\n",
       "        6.04759923,  2.61910353,  4.88303079,  6.00564546,  0.64236885,\n",
       "        7.42755607,  1.86895999,  5.74345744,  7.14225224,  7.35921145,\n",
       "        2.80582772,  0.82503278,  0.4496342 ,  7.62360333,  7.42997093,\n",
       "        6.06615869,  1.92348098,  0.96926782,  3.7692118 ,  1.85456714,\n",
       "        6.31681146,  5.51097   ,  1.32349923,  6.70349385,  6.30100723,\n",
       "        5.71459988,  3.9691997 ,  6.85784382,  2.29812402,  5.20429359,\n",
       "        0.86451967,  1.8502456 ,  3.80721753,  0.61234779,  2.10066469,\n",
       "        2.97875977,  5.89151362,  0.33759756,  1.6278073 ,  6.95009772,\n",
       "        4.68190833,  4.89408894,  1.52441368,  1.42309453,  4.45328221,\n",
       "        7.47528379,  7.13772229,  8.38988848,  1.49319942,  4.02908725,\n",
       "        6.12353833,  3.02639607,  1.74830001,  6.78788136,  2.44945349,\n",
       "        6.22303623,  2.42681893,  5.60543406,  2.60938572,  2.39000924,\n",
       "        6.02678468,  7.68990194,  6.1818865 ,  1.81297861,  4.81836442,\n",
       "        2.94386185,  1.5632067 ,  5.54944472,  5.28657478,  6.5523199 ,\n",
       "        5.50459763,  2.61477727,  3.24950191,  7.35338235,  4.89482452,\n",
       "        1.62854831,  1.78490365,  5.49436683,  3.27021487,  1.16629485,\n",
       "        5.37985636,  5.13151725,  6.89771523,  3.03109628,  4.91937696,\n",
       "        3.14238457,  5.26867844,  2.39162294,  1.56521254,  7.28772727,\n",
       "        3.72345708,  5.21032163,  2.24821102,  6.39751617,  1.3590738 ,\n",
       "        5.88770318,  1.17966948,  5.59235602,  7.19342527,  3.28179942,\n",
       "        6.75726939,  2.5198946 ,  3.78291393,  6.23886234,  7.9289368 ,\n",
       "        5.94726771,  3.50694866,  1.10204623, -0.24632845,  2.63099236,\n",
       "        0.49854116,  3.59925982,  3.33279881,  6.13351286,  6.59153188,\n",
       "        5.97927   ,  5.27886065,  1.2765563 ,  1.86874021,  6.13110446,\n",
       "        4.98933641,  2.31948356,  2.45049902,  0.72424317,  5.44612176,\n",
       "        6.66794418,  1.76277349,  1.52363517,  6.59424726,  2.37409071,\n",
       "        6.85951709,  6.44156738,  6.00094769,  5.50108933,  4.65868276,\n",
       "        4.42025926,  2.02923548,  4.45919479,  1.34302444,  1.91415554,\n",
       "        1.07553712,  5.74105302,  1.81219442,  7.44119443,  6.80973123,\n",
       "        6.10282728,  1.61719458,  7.00835413,  3.61545194,  1.74457966,\n",
       "        6.81595744,  5.66148078,  0.65550225,  6.71804829,  1.88272061,\n",
       "        2.27862442,  4.84563158,  2.76482654,  5.8083706 ,  1.59932831,\n",
       "        1.75707566,  1.68291362,  1.04364482,  5.25019931,  5.37472574,\n",
       "        5.29081606,  5.08207061,  3.51192651,  1.34889798,  1.12668685,\n",
       "        6.82678623,  1.21344657,  6.21908021,  1.85131706,  5.46478789,\n",
       "        1.68483222,  2.17150473,  7.59615309,  6.70782551,  1.85852547,\n",
       "        4.89720984,  2.63155319,  0.98218099,  2.60439931,  1.41436945,\n",
       "        5.8833904 ,  6.76056931,  3.79275678,  5.39403669,  1.3146017 ,\n",
       "        4.85990311,  1.74398065,  5.91243033,  2.55102202,  1.93246806,\n",
       "        6.50046745, -0.15986759,  6.85019767,  6.65633899,  2.1168111 ,\n",
       "        2.52761217,  5.27261959,  1.07171585,  1.74731994,  0.06653744,\n",
       "        3.27812675,  2.78879737,  5.15141224,  6.64579427,  6.7581411 ,\n",
       "        2.40616281,  4.47908524,  1.28438291,  2.0687495 ,  2.6941712 ,\n",
       "        5.44682944,  5.24913853,  5.90738213,  2.52667449,  1.81789922,\n",
       "        2.66030309,  6.58807948,  5.03970473,  7.00015492,  3.80777157,\n",
       "        5.1420253 ,  7.36871727,  2.51296814,  2.60767341,  1.1327626 ,\n",
       "       -0.47046082,  2.08932103,  4.16932863,  7.2081064 ,  1.15184923,\n",
       "        5.688768  ,  6.95859305,  5.43782647,  7.21689773,  3.09864399,\n",
       "        2.33764389,  2.30113707,  6.54547219,  4.34991316,  6.1871012 ,\n",
       "        7.05457344,  1.29223856,  2.09394556,  2.16398481,  0.38004227,\n",
       "        1.20294651,  0.97878626,  2.63845924,  3.41067272,  2.14688567,\n",
       "        1.06726762,  2.01904882,  5.31524528,  3.28545436,  2.89430791,\n",
       "        2.65504056,  6.25014043,  5.40868055,  1.79504658,  6.26677678,\n",
       "        5.67480914,  4.88322493,  2.41707936,  1.51742009,  1.61273914,\n",
       "        2.38844344,  3.63684008,  0.6536689 ,  6.45224133,  5.71324133,\n",
       "        1.86733258,  1.53251326,  5.74097665,  6.8681032 ,  5.43036902,\n",
       "        5.40809953,  2.26055841,  8.2651351 ,  2.83708018,  3.77238132,\n",
       "        4.90992466,  1.08705684,  4.23741644,  1.67900257,  3.32116332,\n",
       "        3.8217461 ,  2.52646663,  5.65017915,  6.34526074,  5.66221405,\n",
       "        2.98511274,  3.91962693,  3.16460354,  4.76535038,  4.12047792,\n",
       "        1.79794681,  8.36836606,  1.50864991,  2.25008711,  1.30966303,\n",
       "        1.84979829,  1.48396462,  2.47708576,  6.23433983,  6.41389915,\n",
       "        1.84847612,  5.17051146,  1.49946624,  5.89596197,  6.77370771,\n",
       "        7.48921531,  6.96558424,  5.15506982,  2.03732811,  3.09332579,\n",
       "        1.90132756,  6.21401437,  1.67758601,  1.94221088,  6.2934748 ,\n",
       "        3.52917332,  1.91759458,  3.72104063,  5.45728036,  3.63225064,\n",
       "        4.20991842,  0.17501195,  4.95367012,  2.49722521,  0.33597265,\n",
       "        5.78681007,  0.74676107,  4.1055633 ,  5.76431711,  4.47751292,\n",
       "        6.23739576,  6.81278699,  0.59259958,  7.17693988,  1.45946426,\n",
       "        2.58907887,  3.62279724,  4.84627935,  5.1940993 ,  2.31733072,\n",
       "        5.3387129 ,  5.29454062,  6.37373698,  6.42735485,  6.95784711,\n",
       "        3.83315881,  2.81415124,  2.79379294,  0.96102343,  0.86162464,\n",
       "        4.26717021,  4.6381858 ,  1.69436375,  2.17317582,  4.70866593,\n",
       "        0.61699771,  2.23137204,  6.95215191,  5.3396983 ,  4.2948516 ,\n",
       "        2.17509905,  5.55753139,  3.96179347,  4.79311182,  5.60713122,\n",
       "        6.32081634,  3.24775312,  4.60682887,  1.47740317,  1.35002559,\n",
       "        2.63402736,  2.85424486,  7.44872364,  1.68174039,  1.48870871,\n",
       "        0.97854256,  6.01058622,  6.00823715,  5.54803389,  1.66653697,\n",
       "        7.97435348,  1.03122969,  1.64338739,  6.21642091,  4.52798712,\n",
       "        1.22420387,  1.74592597,  5.05690334,  6.0721428 ,  5.25743634,\n",
       "        2.0024845 ,  5.68970888,  1.3723717 ,  4.10293217,  1.75632214,\n",
       "        7.02297337,  0.68752882,  1.97105418,  1.90163768,  6.31323823,\n",
       "        2.1985933 ,  2.22200137,  7.28321718,  5.42416277,  7.69274647,\n",
       "        6.02105602,  5.17264064,  5.45343983,  3.04635565,  2.45679491,\n",
       "        6.0425606 ,  6.27356635,  0.35138713,  3.24435354,  5.99133242,\n",
       "        2.12484706,  6.19416934,  6.50841605,  4.70780612,  4.68961213,\n",
       "        2.50224868,  1.92281572,  1.43723885,  0.71847017,  5.31451425,\n",
       "        6.4788738 ,  6.25302504,  0.93558782,  7.23795822,  1.29044957,\n",
       "        6.13153943,  5.85204595,  7.12764998,  2.42647809,  7.39636106,\n",
       "        6.13309929,  5.96075043,  4.9779781 ,  6.25227201,  0.40737129,\n",
       "        4.38456906,  3.28677996,  6.70753172,  2.58080298,  1.99629138,\n",
       "        5.48461144,  7.4084853 ,  3.75749131,  5.44848129,  5.93666524,\n",
       "        2.23653021,  1.08369215,  1.51612962,  0.93859005,  4.65302946,\n",
       "        6.47662092,  1.39057124,  4.95819054,  5.41933181,  6.25792618,\n",
       "        1.11321093,  1.8771573 ,  5.2984166 ,  2.07882194,  5.14853421,\n",
       "        2.20715377,  3.3692081 ,  6.66498834,  6.24420442,  5.5570741 ,\n",
       "        6.76781646,  6.49289715,  1.24567368,  6.98299041,  5.90425445,\n",
       "        7.06835861,  6.36594511,  6.45752973,  2.05685   ,  2.8176117 ,\n",
       "        7.22045367,  3.87781103,  5.97456559,  3.35138519,  1.69722702,\n",
       "        5.37406505,  2.09924256,  1.8925257 ,  2.63774994,  0.98062314,\n",
       "        2.05663126,  5.51629623,  2.78078458,  1.78246804,  2.93853726,\n",
       "        6.03766232,  1.74425727,  5.16398594,  1.22903967,  3.39716142,\n",
       "        3.05962341,  2.0629683 ,  7.52631315,  4.90455199,  7.72612781,\n",
       "        2.84794069, -0.53034558,  7.48611799,  6.41463474,  2.71239372,\n",
       "        8.9619628 ,  2.27860425,  2.97127968,  3.81846121,  0.17214156,\n",
       "        5.24987672,  7.00909224,  6.83495874,  1.03395032,  6.14226482,\n",
       "        6.0766155 ,  4.63902314,  5.42233254,  6.25051084,  1.551112  ,\n",
       "        1.6432836 ,  5.75926973,  0.62494331,  2.22823909,  4.80873804,\n",
       "        6.15964733,  5.85047986,  5.532685  ,  4.64296945,  6.71758888,\n",
       "        5.8191382 ,  6.13578668,  1.68885698,  2.74610947,  2.5007312 ,\n",
       "        6.97347272,  2.5478308 ,  5.47568804,  1.66159029,  2.1821592 ,\n",
       "        5.6291457 ,  7.85218918,  0.39578953,  0.10936811,  5.97805157,\n",
       "        6.21401284,  8.80542095,  5.96000501,  4.7362224 ,  6.2426133 ,\n",
       "        5.82590596,  6.81975721,  6.39431977,  3.33016793,  1.58149623,\n",
       "        6.02757508,  6.8973513 ,  0.80529269,  2.49665332,  2.15361943,\n",
       "        2.1247076 ,  7.06910734,  2.77337668,  1.33608916,  3.14117135,\n",
       "        0.88609908,  2.12689916,  5.58690941,  6.92544278,  1.33307396,\n",
       "        5.85968036,  3.59425874,  4.91025749,  1.16211659,  6.50753403,\n",
       "        6.53894283,  3.93538653,  1.17032712,  1.65631442,  5.35896303,\n",
       "        6.8864247 ,  3.52586128,  1.3925185 ,  5.95871384,  3.41029214,\n",
       "        4.66276971,  4.86908019,  7.25007731,  4.16822949,  1.23709608,\n",
       "        6.49262865,  6.48604967,  2.64709639,  2.66664863,  5.28846784,\n",
       "        3.31336506,  3.08058804,  6.29758216,  1.5599079 ,  6.72422132,\n",
       "        6.82229701,  7.48046961,  2.58759489,  7.20051124,  4.00638719,\n",
       "        2.96442792,  3.07147917,  3.46947649,  3.21516195, -0.03142133,\n",
       "        0.92806846,  1.21318699,  9.22527134,  5.77033389,  2.82199183,\n",
       "        1.9437396 ,  6.26760218,  4.22798081,  2.67305517,  6.30829883,\n",
       "        0.7002585 ,  5.42900758,  1.86657681,  2.29657096,  0.4492188 ,\n",
       "        0.37247184,  5.89686698,  2.73690987,  1.33949552,  6.45800273,\n",
       "        7.22604784,  1.4189318 ,  0.34678225,  0.71972259,  4.45233473,\n",
       "        4.73593481,  0.75484046,  6.58298424,  2.22186851,  6.79751095,\n",
       "        2.75156156,  4.65800804,  5.37578589,  5.03317688,  0.50272077,\n",
       "        2.58154454,  6.09386413,  1.00117481,  0.31462441,  1.37715886,\n",
       "        5.42399665,  1.34713846,  5.48148635,  5.70354359,  2.99984498,\n",
       "        3.3080868 ,  1.56279394,  6.60640191,  1.41998792,  0.80212434,\n",
       "        0.75283269,  6.54027202,  2.07965544,  5.61225923,  6.3121239 ,\n",
       "        2.14229426,  3.07927631,  5.69482077,  0.74750126,  5.87258906,\n",
       "        1.06247921,  6.00123285,  6.03883632,  2.6245181 ,  3.93392322,\n",
       "        3.61997869,  2.12947075,  5.02951989,  6.77955105,  3.0255866 ,\n",
       "        3.66508091,  4.31169356,  2.4278781 ,  6.60982097,  0.64174696,\n",
       "        5.34014236,  2.79138747,  6.1396974 ,  2.24330272,  6.58758007,\n",
       "        3.35603652,  1.94504057,  6.31577467,  6.78675234,  5.84761934,\n",
       "        2.88524907,  6.53448628,  5.36070243,  5.30799503, -0.09319138,\n",
       "        5.10922056,  6.01280575,  2.65669384,  4.93532416,  7.036574  ,\n",
       "        6.40309296,  4.8907999 ,  4.83014017,  4.64919104,  2.91361195,\n",
       "        1.60634794,  2.95139238,  5.28349361,  1.21534124,  2.93354774,\n",
       "        0.87684504,  4.31022776,  7.33714496,  5.60756542,  4.20813076,\n",
       "        0.90338855,  6.54775378,  5.48204066,  8.04410788,  0.36635388,\n",
       "        6.7689558 ,  4.41307704,  5.59580106, -0.11566863,  1.63834375,\n",
       "        2.56673864,  2.42012583,  4.83652026,  4.53857651,  4.07414957,\n",
       "        5.576672  ,  5.40835557,  4.64682166,  1.97433117,  5.70633548,\n",
       "        6.57129243,  7.73149433,  4.41639443,  6.5188028 ,  5.93800195,\n",
       "        5.74368192,  5.32168735,  2.92686309,  6.04633599,  0.19506046,\n",
       "        1.54278304,  2.31657664,  0.44788839,  5.00270559,  1.24211097,\n",
       "        5.19994517,  5.93188566,  2.17346654,  1.96483164,  6.7099816 ,\n",
       "        6.59973994,  5.50435508,  6.07186123,  6.30958251,  2.87869272,\n",
       "        6.15433076,  4.18744761,  7.62430875,  1.25920816,  1.77981505,\n",
       "        4.01353645,  5.98287707,  5.34152719,  3.33418777,  6.66032412,\n",
       "        2.34232763,  1.1481169 ,  5.35589036,  5.41513833,  4.95912568])"
      ]
     },
     "execution_count": 3,
     "metadata": {},
     "output_type": "execute_result"
    }
   ],
   "source": [
    "data"
   ]
  },
  {
   "cell_type": "markdown",
   "metadata": {},
   "source": [
    "visualize the 1D data by using 1D histogram "
   ]
  },
  {
   "cell_type": "code",
   "execution_count": 4,
   "metadata": {},
   "outputs": [
    {
     "data": {
      "image/png": "[encoded data removed]",
      "text/plain": [
       "<Figure size 432x288 with 1 Axes>"
      ]
     },
     "metadata": {},
     "output_type": "display_data"
    }
   ],
   "source": [
    "fig, ax = plt.subplots()\n",
    "ax.hist(data, bins=20);"
   ]
  },
  {
   "cell_type": "markdown",
   "metadata": {},
   "source": [
    "### 2. Estimate the Parameters of the 1D GMM from  the Data Samples"
   ]
  },
  {
   "cell_type": "markdown",
   "metadata": {},
   "source": [
    "### Let's pretend that we do not know how the `data` is generated. \n",
    "### We 'guess' that the data samples are from a 1D GMM with two Gaussian components.\n",
    "### Use Maximum Likelihood (ML) method to estimate the parameters of the 1D GMM"
   ]
  },
  {
   "cell_type": "code",
   "execution_count": 5,
   "metadata": {},
   "outputs": [
    {
     "data": {
      "text/plain": [
       "GaussianMixture(covariance_type='full', init_params='kmeans', max_iter=100,\n",
       "                means_init=None, n_components=2, n_init=1, precisions_init=None,\n",
       "                random_state=None, reg_covar=1e-06, tol=0.001, verbose=0,\n",
       "                verbose_interval=10, warm_start=False, weights_init=None)"
      ]
     },
     "execution_count": 5,
     "metadata": {},
     "output_type": "execute_result"
    }
   ],
   "source": [
    "from sklearn.mixture import GaussianMixture\n",
    "GMM=GaussianMixture(2)\n",
    "#GMM.fit(data) # fit the GMM model to data -> estimate the parameters \n",
    "GMM.fit(data.reshape(-1,1)) "
   ]
  },
  {
   "cell_type": "code",
   "execution_count": 6,
   "metadata": {},
   "outputs": [
    {
     "data": {
      "text/plain": [
       "array([0.510385, 0.489615])"
      ]
     },
     "execution_count": 6,
     "metadata": {},
     "output_type": "execute_result"
    }
   ],
   "source": [
    "GMM.weights_ # prior probability of each cluster"
   ]
  },
  {
   "cell_type": "code",
   "execution_count": 7,
   "metadata": {},
   "outputs": [
    {
     "data": {
      "text/plain": [
       "array([[5.9373269 ],\n",
       "       [2.04367687]])"
      ]
     },
     "execution_count": 7,
     "metadata": {},
     "output_type": "execute_result"
    }
   ],
   "source": [
    "GMM.means_"
   ]
  },
  {
   "cell_type": "code",
   "execution_count": 8,
   "metadata": {},
   "outputs": [
    {
     "data": {
      "text/plain": [
       "array([[[0.99379627]],\n",
       "\n",
       "       [[0.99472768]]])"
      ]
     },
     "execution_count": 8,
     "metadata": {},
     "output_type": "execute_result"
    }
   ],
   "source": [
    "GMM.covariances_"
   ]
  },
  {
   "cell_type": "code",
   "execution_count": 9,
   "metadata": {},
   "outputs": [],
   "source": [
    "score=GMM.score_samples(np.linspace(0, 10, 1000).reshape(1000,1))\n",
    "pdf = np.exp(score) # pdf of the GMM"
   ]
  },
  {
   "cell_type": "code",
   "execution_count": 10,
   "metadata": {},
   "outputs": [
    {
     "data": {
      "text/plain": [
       "Text(0.5, 1.0, 'GMM pdf')"
      ]
     },
     "execution_count": 10,
     "metadata": {},
     "output_type": "execute_result"
    },
    {
     "data": {
      "image/png": "[encoded data removed]",
      "text/plain": [
       "<Figure size 432x288 with 1 Axes>"
      ]
     },
     "metadata": {},
     "output_type": "display_data"
    }
   ],
   "source": [
    "fig, ax = plt.subplots()\n",
    "ax.plot(np.linspace(0, 10, 1000), pdf)\n",
    "ax.set_title('GMM pdf', fontsize=16)"
   ]
  },
  {
   "cell_type": "markdown",
   "metadata": {},
   "source": [
    "Then, we do clustering: divide the data into two clusters corresponding to the two Gaussian components "
   ]
  },
  {
   "cell_type": "code",
   "execution_count": 11,
   "metadata": {},
   "outputs": [
    {
     "data": {
      "text/plain": [
       "array([0, 0, 1, 1, 1, 1, 1, 0, 1, 1, 1, 1, 1, 0, 1, 1, 1, 1, 0, 1, 0, 0,\n",
       "       0, 0, 1, 0, 1, 0, 0, 0, 0, 1, 0, 1, 1, 1, 0, 0, 1, 0, 1, 1, 0, 1,\n",
       "       1, 1, 0, 0, 0, 0, 0, 1, 0, 0, 1, 0, 1, 0, 1, 0, 0, 1, 1, 1, 0, 1,\n",
       "       1, 0, 0, 0, 1, 0, 0, 1, 1, 0, 0, 0, 0, 0, 0, 0, 1, 0, 1, 1, 1, 0,\n",
       "       0, 1, 1, 0, 1, 0, 0, 0, 1, 1, 0, 1, 1, 0, 1, 1, 0, 0, 1, 0, 0, 1,\n",
       "       0, 1, 1, 0, 1, 0, 0, 1, 1, 1, 0, 1, 1, 1, 1, 0, 0, 0, 0, 0, 0, 1,\n",
       "       1, 1, 0, 0, 0, 1, 0, 1, 1, 1, 0, 0, 1, 0, 1, 0, 0, 0, 1, 1, 1, 0,\n",
       "       1, 1, 1, 1, 0, 1, 1, 0, 0, 1, 0, 0, 0, 0, 0, 1, 1, 0, 1, 0, 1, 1,\n",
       "       1, 1, 0, 1, 0, 0, 0, 0, 0, 1, 1, 0, 0, 1, 1, 0, 1, 1, 1, 0, 0, 0,\n",
       "       0, 0, 1, 1, 0, 0, 1, 0, 1, 0, 0, 1, 0, 1, 0, 0, 0, 1, 1, 1, 0, 0,\n",
       "       0, 1, 1, 1, 1, 0, 0, 1, 0, 0, 0, 1, 0, 1, 0, 1, 1, 1, 1, 1, 1, 0,\n",
       "       1, 1, 0, 0, 0, 1, 1, 0, 0, 0, 0, 1, 0, 0, 1, 1, 0, 1, 0, 1, 0, 1,\n",
       "       1, 0, 0, 0, 1, 0, 1, 1, 0, 0, 0, 0, 1, 1, 0, 0, 1, 1, 0, 1, 1, 0,\n",
       "       0, 0, 1, 0, 1, 0, 1, 1, 0, 1, 0, 1, 0, 1, 0, 1, 0, 0, 1, 0, 1, 1,\n",
       "       0, 0, 0, 1, 1, 1, 1, 1, 1, 1, 0, 0, 0, 0, 1, 1, 0, 0, 1, 1, 1, 0,\n",
       "       0, 1, 1, 0, 1, 0, 0, 0, 0, 0, 0, 1, 0, 1, 1, 1, 0, 1, 0, 0, 0, 1,\n",
       "       0, 1, 1, 0, 0, 1, 0, 1, 1, 0, 1, 0, 1, 1, 1, 1, 0, 0, 0, 0, 1, 1,\n",
       "       1, 0, 1, 0, 1, 0, 1, 1, 0, 0, 1, 0, 1, 1, 1, 1, 0, 0, 1, 0, 1, 0,\n",
       "       1, 0, 1, 1, 0, 1, 0, 0, 1, 1, 0, 1, 1, 1, 1, 1, 0, 0, 0, 1, 0, 1,\n",
       "       1, 1, 0, 0, 0, 1, 1, 1, 0, 0, 0, 1, 0, 0, 1, 1, 1, 1, 1, 0, 0, 1,\n",
       "       0, 0, 0, 0, 1, 1, 1, 0, 0, 0, 0, 1, 1, 1, 1, 1, 1, 1, 1, 1, 1, 1,\n",
       "       0, 1, 1, 1, 0, 0, 1, 0, 0, 0, 1, 1, 1, 1, 1, 1, 0, 0, 1, 1, 0, 0,\n",
       "       0, 0, 1, 0, 1, 1, 0, 1, 0, 1, 1, 1, 1, 0, 0, 0, 1, 1, 1, 0, 0, 1,\n",
       "       0, 1, 1, 1, 1, 1, 1, 0, 0, 1, 0, 1, 0, 0, 0, 0, 0, 1, 1, 1, 0, 1,\n",
       "       1, 0, 1, 1, 1, 0, 1, 0, 1, 0, 1, 1, 0, 1, 0, 0, 0, 0, 0, 1, 0, 1,\n",
       "       1, 1, 0, 0, 1, 0, 0, 0, 0, 0, 1, 1, 1, 1, 1, 0, 0, 1, 1, 0, 1, 1,\n",
       "       0, 0, 0, 1, 0, 1, 0, 0, 0, 1, 0, 1, 1, 1, 1, 0, 1, 1, 1, 0, 0, 0,\n",
       "       1, 0, 1, 1, 0, 0, 1, 1, 0, 0, 0, 1, 0, 1, 0, 1, 0, 1, 1, 1, 0, 1,\n",
       "       1, 0, 0, 0, 0, 0, 0, 1, 1, 0, 0, 1, 1, 0, 1, 0, 0, 0, 0, 1, 1, 1,\n",
       "       1, 0, 0, 0, 1, 0, 1, 0, 0, 0, 1, 0, 0, 0, 0, 0, 1, 0, 1, 0, 1, 1,\n",
       "       0, 0, 1, 0, 0, 1, 1, 1, 1, 0, 0, 1, 0, 0, 0, 1, 1, 0, 1, 0, 1, 1,\n",
       "       0, 0, 0, 0, 0, 1, 0, 0, 0, 0, 0, 1, 1, 0, 1, 0, 1, 1, 0, 1, 1, 1,\n",
       "       1, 1, 0, 1, 1, 1, 0, 1, 0, 1, 1, 1, 1, 0, 0, 0, 1, 1, 0, 0, 1, 0,\n",
       "       1, 1, 1, 1, 0, 0, 0, 1, 0, 0, 0, 0, 0, 1, 1, 0, 1, 1, 0, 0, 0, 0,\n",
       "       0, 0, 0, 0, 1, 1, 1, 0, 1, 0, 1, 1, 0, 0, 1, 1, 0, 0, 0, 0, 0, 0,\n",
       "       0, 0, 0, 1, 1, 0, 0, 1, 1, 1, 1, 0, 1, 1, 1, 1, 1, 0, 0, 1, 0, 1,\n",
       "       0, 1, 0, 0, 1, 1, 1, 0, 0, 1, 1, 0, 1, 0, 0, 0, 0, 1, 0, 0, 1, 1,\n",
       "       0, 1, 1, 0, 1, 0, 0, 0, 1, 0, 0, 1, 1, 1, 1, 1, 1, 1, 0, 0, 1, 1,\n",
       "       0, 0, 1, 0, 1, 0, 1, 1, 1, 1, 0, 1, 1, 0, 0, 1, 1, 1, 0, 0, 1, 0,\n",
       "       1, 0, 1, 0, 0, 0, 1, 1, 0, 1, 1, 1, 0, 1, 0, 0, 1, 1, 1, 0, 1, 1,\n",
       "       1, 0, 1, 0, 0, 1, 1, 0, 1, 0, 1, 0, 0, 1, 1, 1, 1, 0, 0, 1, 1, 0,\n",
       "       1, 0, 1, 0, 1, 0, 1, 0, 1, 1, 0, 0, 0, 1, 0, 0, 0, 1, 0, 0, 1, 0,\n",
       "       0, 0, 0, 0, 0, 1, 1, 1, 0, 1, 1, 1, 0, 0, 0, 0, 1, 0, 0, 0, 1, 0,\n",
       "       0, 0, 1, 1, 1, 1, 0, 0, 0, 0, 0, 0, 1, 0, 0, 0, 0, 0, 0, 0, 0, 1,\n",
       "       0, 1, 1, 1, 1, 0, 1, 0, 0, 1, 1, 0, 0, 0, 0, 0, 1, 0, 0, 0, 1, 1,\n",
       "       0, 0, 0, 1, 0, 1, 1, 0, 0, 0], dtype=int64)"
      ]
     },
     "execution_count": 11,
     "metadata": {},
     "output_type": "execute_result"
    }
   ],
   "source": [
    "cluster_label=GMM.predict(data.reshape(-1,1))\n",
    "cluster_label"
   ]
  },
  {
   "cell_type": "code",
   "execution_count": 12,
   "metadata": {},
   "outputs": [
    {
     "data": {
      "text/plain": [
       "Text(0.5, 1.0, 'clustering result')"
      ]
     },
     "execution_count": 12,
     "metadata": {},
     "output_type": "execute_result"
    },
    {
     "data": {
      "image/png": "[encoded data removed]",
      "text/plain": [
       "<Figure size 432x288 with 1 Axes>"
      ]
     },
     "metadata": {},
     "output_type": "display_data"
    }
   ],
   "source": [
    "fig, ax = plt.subplots()\n",
    "ax.plot(np.linspace(0, 10, 1000), pdf)\n",
    "ax.plot(data, cluster_label, '.')\n",
    "ax.set_title('clustering result', fontsize=16)"
   ]
  },
  {
   "cell_type": "code",
   "execution_count": 13,
   "metadata": {},
   "outputs": [
    {
     "data": {
      "text/plain": [
       "Text(0.5, 1.0, 'clustering result on new_data')"
      ]
     },
     "execution_count": 13,
     "metadata": {},
     "output_type": "execute_result"
    },
    {
     "data": {
      "image/png": "[encoded data removed]",
      "text/plain": [
       "<Figure size 432x288 with 1 Axes>"
      ]
     },
     "metadata": {},
     "output_type": "display_data"
    }
   ],
   "source": [
    "new_data = np.linspace(0, 10, 100).reshape(100,1)\n",
    "new_label = GMM.predict(new_data)\n",
    "new_score = GMM.score_samples(new_data)\n",
    "pdf_value = np.exp(new_score) # pdf of the GMM\n",
    "\n",
    "fig, ax = plt.subplots()\n",
    "ax.plot(new_data, new_label, '.')\n",
    "ax.plot(new_data, pdf_value)\n",
    "ax.set_title('clustering result on new_data', fontsize=16)"
   ]
  },
  {
   "cell_type": "code",
   "execution_count": 14,
   "metadata": {},
   "outputs": [
    {
     "data": {
      "text/plain": [
       "array([[ 0.        ],\n",
       "       [ 0.1010101 ],\n",
       "       [ 0.2020202 ],\n",
       "       [ 0.3030303 ],\n",
       "       [ 0.4040404 ],\n",
       "       [ 0.50505051],\n",
       "       [ 0.60606061],\n",
       "       [ 0.70707071],\n",
       "       [ 0.80808081],\n",
       "       [ 0.90909091],\n",
       "       [ 1.01010101],\n",
       "       [ 1.11111111],\n",
       "       [ 1.21212121],\n",
       "       [ 1.31313131],\n",
       "       [ 1.41414141],\n",
       "       [ 1.51515152],\n",
       "       [ 1.61616162],\n",
       "       [ 1.71717172],\n",
       "       [ 1.81818182],\n",
       "       [ 1.91919192],\n",
       "       [ 2.02020202],\n",
       "       [ 2.12121212],\n",
       "       [ 2.22222222],\n",
       "       [ 2.32323232],\n",
       "       [ 2.42424242],\n",
       "       [ 2.52525253],\n",
       "       [ 2.62626263],\n",
       "       [ 2.72727273],\n",
       "       [ 2.82828283],\n",
       "       [ 2.92929293],\n",
       "       [ 3.03030303],\n",
       "       [ 3.13131313],\n",
       "       [ 3.23232323],\n",
       "       [ 3.33333333],\n",
       "       [ 3.43434343],\n",
       "       [ 3.53535354],\n",
       "       [ 3.63636364],\n",
       "       [ 3.73737374],\n",
       "       [ 3.83838384],\n",
       "       [ 3.93939394],\n",
       "       [ 4.04040404],\n",
       "       [ 4.14141414],\n",
       "       [ 4.24242424],\n",
       "       [ 4.34343434],\n",
       "       [ 4.44444444],\n",
       "       [ 4.54545455],\n",
       "       [ 4.64646465],\n",
       "       [ 4.74747475],\n",
       "       [ 4.84848485],\n",
       "       [ 4.94949495],\n",
       "       [ 5.05050505],\n",
       "       [ 5.15151515],\n",
       "       [ 5.25252525],\n",
       "       [ 5.35353535],\n",
       "       [ 5.45454545],\n",
       "       [ 5.55555556],\n",
       "       [ 5.65656566],\n",
       "       [ 5.75757576],\n",
       "       [ 5.85858586],\n",
       "       [ 5.95959596],\n",
       "       [ 6.06060606],\n",
       "       [ 6.16161616],\n",
       "       [ 6.26262626],\n",
       "       [ 6.36363636],\n",
       "       [ 6.46464646],\n",
       "       [ 6.56565657],\n",
       "       [ 6.66666667],\n",
       "       [ 6.76767677],\n",
       "       [ 6.86868687],\n",
       "       [ 6.96969697],\n",
       "       [ 7.07070707],\n",
       "       [ 7.17171717],\n",
       "       [ 7.27272727],\n",
       "       [ 7.37373737],\n",
       "       [ 7.47474747],\n",
       "       [ 7.57575758],\n",
       "       [ 7.67676768],\n",
       "       [ 7.77777778],\n",
       "       [ 7.87878788],\n",
       "       [ 7.97979798],\n",
       "       [ 8.08080808],\n",
       "       [ 8.18181818],\n",
       "       [ 8.28282828],\n",
       "       [ 8.38383838],\n",
       "       [ 8.48484848],\n",
       "       [ 8.58585859],\n",
       "       [ 8.68686869],\n",
       "       [ 8.78787879],\n",
       "       [ 8.88888889],\n",
       "       [ 8.98989899],\n",
       "       [ 9.09090909],\n",
       "       [ 9.19191919],\n",
       "       [ 9.29292929],\n",
       "       [ 9.39393939],\n",
       "       [ 9.49494949],\n",
       "       [ 9.5959596 ],\n",
       "       [ 9.6969697 ],\n",
       "       [ 9.7979798 ],\n",
       "       [ 9.8989899 ],\n",
       "       [10.        ]])"
      ]
     },
     "execution_count": 14,
     "metadata": {},
     "output_type": "execute_result"
    }
   ],
   "source": [
    "new_data"
   ]
  },
  {
   "cell_type": "markdown",
   "metadata": {},
   "source": [
    "Calculate posterior probability of data under each Gaussian in the model."
   ]
  },
  {
   "cell_type": "code",
   "execution_count": 15,
   "metadata": {},
   "outputs": [
    {
     "data": {
      "text/plain": [
       "Text(0.5, 1.0, 'posterior probability')"
      ]
     },
     "execution_count": 15,
     "metadata": {},
     "output_type": "execute_result"
    },
    {
     "data": {
      "image/png": "[encoded data removed]",
      "text/plain": [
       "<Figure size 432x288 with 1 Axes>"
      ]
     },
     "metadata": {},
     "output_type": "display_data"
    }
   ],
   "source": [
    "prob=GMM.predict_proba(np.linspace(0, 10, 1000).reshape(1000,1))\n",
    "fig, ax = plt.subplots()\n",
    "ax.plot(np.linspace(0, 10, 1000), prob[:,0], 'r')\n",
    "ax.plot(np.linspace(0, 10, 1000), prob[:,1], 'b')\n",
    "ax.set_title('posterior probability', fontsize=16)"
   ]
  }
 ],
 "metadata": {
  "kernelspec": {
   "display_name": "Python 3",
   "language": "python",
   "name": "python3"
  },
  "language_info": {
   "codemirror_mode": {
    "name": "ipython",
    "version": 3
   },
   "file_extension": ".py",
   "mimetype": "text/x-python",
   "name": "python",
   "nbconvert_exporter": "python",
   "pygments_lexer": "ipython3",
   "version": "3.8.5"
  }
 },
 "nbformat": 4,
 "nbformat_minor": 2
}
