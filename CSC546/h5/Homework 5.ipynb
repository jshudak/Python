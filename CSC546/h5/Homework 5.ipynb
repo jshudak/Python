{
 "cells": [
  {
   "cell_type": "markdown",
   "id": "industrial-french",
   "metadata": {},
   "source": [
    "In this task, you will build four models to classify the images in the Fashion-MNIST dataset.\n",
    "(1) logistic regression\n",
    "(2) Random Forest\n",
    "(3) MLP (do NOT use sklearn MLPClassifier)\n",
    "(4) 2D CNN\n",
    "\n",
    "Compare the performance, and find the best one.\n",
    "do hyperparameter optimization (at least one parameter for each model, except (1)). For model (1), you\n",
    "do not need to do hyperparameter optimization. You will get zero score if there is no hyperparameter\n",
    "optimization for the models (2)-(4).\n",
    "\n",
    "some suggestions:\n",
    "Random Forest hyperparameter: max_depth\n",
    "MLP hyperparameter: the number of layers\n",
    "2D CNN: the number of training epochs\n",
    "\n",
    "- Do NOT copy the existing models from Github. (if you do so, you will get zero score).\n",
    "- Do NOT use test set for hyperparameter optimization. (if you do so, you will get zero score).\n",
    "- Do NOT fit model to the test dataset (if you do so, you will get zero score).\n",
    "- Do NOT use weighted accuracy because there is no class-imbalance.\n"
   ]
  },
  {
   "cell_type": "code",
   "execution_count": 2,
   "id": "treated-voice",
   "metadata": {},
   "outputs": [
    {
     "name": "stdout",
     "output_type": "stream",
     "text": [
      "train: (54000, 28, 28) (54000,)\n",
      "test: (10000, 28, 28) (10000,)\n",
      "validation: (6000, 28, 28) (6000,)\n"
     ]
    }
   ],
   "source": [
    "import tensorflow as tf\n",
    "from sklearn.model_selection import train_test_split\n",
    "fashion_mnist = tf.keras.datasets.fashion_mnist\n",
    "\n",
    "(train_images, train_labels), (test_images, test_labels) = fashion_mnist.load_data()\n",
    "train_images, val_images, train_labels, val_labels = train_test_split(train_images, train_labels, test_size=0.1, random_state=0)\n",
    "\n",
    "print('train:', train_images.shape, train_labels.shape)\n",
    "print('test:', test_images.shape, test_labels.shape)\n",
    "print('validation:', val_images.shape, val_labels.shape)"
   ]
  },
  {
   "cell_type": "code",
   "execution_count": 3,
   "id": "facial-embassy",
   "metadata": {},
   "outputs": [
    {
     "name": "stdout",
     "output_type": "stream",
     "text": [
      "train: (54000, 784) (54000,)\n",
      "test: (10000, 784) (10000,)\n",
      "validation: (6000, 784) (6000,)\n"
     ]
    }
   ],
   "source": [
    "train_images = train_images.reshape(54000, (28*28))\n",
    "test_images = test_images.reshape(10000, (28*28))\n",
    "val_images = val_images.reshape(6000, (28*28))\n",
    "\n",
    "print('train:', train_images.shape, train_labels.shape)\n",
    "print('test:', test_images.shape, test_labels.shape)\n",
    "print('validation:', val_images.shape, val_labels.shape)\n",
    "\n",
    "\n",
    "#apply feature normalization to training, validation and test sets\n",
    "from sklearn.preprocessing import MinMaxScaler\n",
    "scaler=MinMaxScaler()\n",
    "scaler.fit(train_images) # think about why fit to X_train, not X ?\n",
    "train_images=scaler.transform(train_images)\n",
    "val_images=scaler.transform(val_images)\n",
    "test_images=scaler.transform(test_images)"
   ]
  },
  {
   "cell_type": "markdown",
   "id": "searching-friday",
   "metadata": {},
   "source": [
    "# LOGISTIC REGRESSION"
   ]
  },
  {
   "cell_type": "code",
   "execution_count": 9,
   "id": "plain-hypothetical",
   "metadata": {},
   "outputs": [
    {
     "name": "stderr",
     "output_type": "stream",
     "text": [
      "[Parallel(n_jobs=-1)]: Using backend LokyBackend with 8 concurrent workers.\n",
      "[Parallel(n_jobs=-1)]: Done   1 out of   1 | elapsed:  1.0min finished\n"
     ]
    },
    {
     "data": {
      "text/plain": [
       "LogisticRegression(class_weight='balanced', n_jobs=-1, penalty='none',\n",
       "                   random_state=0, verbose=3)"
      ]
     },
     "execution_count": 9,
     "metadata": {},
     "output_type": "execute_result"
    }
   ],
   "source": [
    "from sklearn.linear_model import LogisticRegression\n",
    "#set class_weight='balanced'\n",
    "LR=LogisticRegression(penalty='none', class_weight='balanced', random_state=0, n_jobs=-1, verbose=3)\n",
    "LR.fit(train_images, train_labels)"
   ]
  },
  {
   "cell_type": "code",
   "execution_count": 10,
   "id": "economic-circuit",
   "metadata": {},
   "outputs": [
    {
     "name": "stdout",
     "output_type": "stream",
     "text": [
      "classification accuracy on test set is  0.8454\n",
      "classification accuracy on validation set is  0.8536666666666667\n"
     ]
    }
   ],
   "source": [
    "LR_test_pred=LR.predict(test_images)\n",
    "LR_test_score = LR.score(test_images, test_labels)\n",
    "\n",
    "LR_val_pred=LR.predict(val_images)\n",
    "LR_val_score = LR.score(val_images, val_labels)\n",
    "print('classification accuracy on test set is ', LR_test_score)\n",
    "print('classification accuracy on validation set is ', LR_val_score)"
   ]
  },
  {
   "cell_type": "markdown",
   "id": "attractive-skating",
   "metadata": {},
   "source": [
    "# RANDOM FOREST"
   ]
  },
  {
   "cell_type": "code",
   "execution_count": 12,
   "id": "ranging-anniversary",
   "metadata": {},
   "outputs": [
    {
     "name": "stdout",
     "output_type": "stream",
     "text": [
      "classification accuracy on validation set is  0.8659\n",
      "classification accuracy on test set is  0.873\n"
     ]
    }
   ],
   "source": [
    "from sklearn.ensemble import RandomForestClassifier\n",
    "#set n_estimators=20, class_weight='balanced', max_depth=20, and random_state=0\n",
    "#your code here\n",
    "#-----------\n",
    "RF=RandomForestClassifier(n_estimators=20, class_weight='balanced', max_depth=20, random_state=0)\n",
    "RF.fit(train_images, train_labels)\n",
    "\n",
    "test_labels_pred=RF.predict(test_images)\n",
    "RF_test_score = RF.score(test_images, test_labels)\n",
    "\n",
    "val_labels_pred=RF.predict(val_images)\n",
    "RF_val_score = RF.score(val_images, val_labels)\n",
    "\n",
    "print('classification accuracy on validation set is ', RF_test_score)\n",
    "print('classification accuracy on test set is ', RF_val_score)"
   ]
  },
  {
   "cell_type": "code",
   "execution_count": 14,
   "id": "liked-bulletin",
   "metadata": {},
   "outputs": [
    {
     "ename": "NameError",
     "evalue": "name 'plt' is not defined",
     "output_type": "error",
     "traceback": [
      "\u001b[1;31m---------------------------------------------------------------------------\u001b[0m",
      "\u001b[1;31mNameError\u001b[0m                                 Traceback (most recent call last)",
      "\u001b[1;32m<ipython-input-14-6e4385aadfbf>\u001b[0m in \u001b[0;36m<module>\u001b[1;34m\u001b[0m\n\u001b[0;32m     32\u001b[0m \u001b[1;31m#plot max_depth vs acc_train using max_depth_list and acc_train_list\u001b[0m\u001b[1;33m\u001b[0m\u001b[1;33m\u001b[0m\u001b[1;33m\u001b[0m\u001b[0m\n\u001b[0;32m     33\u001b[0m \u001b[1;31m#plot max_depth vs acc_val using max_depth_list and acc_val_list\u001b[0m\u001b[1;33m\u001b[0m\u001b[1;33m\u001b[0m\u001b[1;33m\u001b[0m\u001b[0m\n\u001b[1;32m---> 34\u001b[1;33m \u001b[0mfig\u001b[0m\u001b[1;33m,\u001b[0m \u001b[0max\u001b[0m \u001b[1;33m=\u001b[0m \u001b[0mplt\u001b[0m\u001b[1;33m.\u001b[0m\u001b[0msubplots\u001b[0m\u001b[1;33m(\u001b[0m\u001b[1;36m1\u001b[0m\u001b[1;33m,\u001b[0m\u001b[1;36m2\u001b[0m\u001b[1;33m,\u001b[0m \u001b[0mfigsize\u001b[0m\u001b[1;33m=\u001b[0m\u001b[1;33m(\u001b[0m\u001b[1;36m10\u001b[0m\u001b[1;33m,\u001b[0m\u001b[1;36m6\u001b[0m\u001b[1;33m)\u001b[0m\u001b[1;33m)\u001b[0m\u001b[1;33m\u001b[0m\u001b[1;33m\u001b[0m\u001b[0m\n\u001b[0m\u001b[0;32m     35\u001b[0m \u001b[0max\u001b[0m\u001b[1;33m[\u001b[0m\u001b[1;36m0\u001b[0m\u001b[1;33m]\u001b[0m\u001b[1;33m.\u001b[0m\u001b[0mplot\u001b[0m\u001b[1;33m(\u001b[0m\u001b[0mmax_depth_list\u001b[0m\u001b[1;33m,\u001b[0m \u001b[0mtest_score_list\u001b[0m\u001b[1;33m,\u001b[0m \u001b[1;34m'b'\u001b[0m\u001b[1;33m)\u001b[0m\u001b[1;33m\u001b[0m\u001b[1;33m\u001b[0m\u001b[0m\n\u001b[0;32m     36\u001b[0m \u001b[0max\u001b[0m\u001b[1;33m[\u001b[0m\u001b[1;36m0\u001b[0m\u001b[1;33m]\u001b[0m\u001b[1;33m.\u001b[0m\u001b[0mset_xlabel\u001b[0m\u001b[1;33m(\u001b[0m\u001b[1;34m'max_depth'\u001b[0m\u001b[1;33m)\u001b[0m\u001b[1;33m\u001b[0m\u001b[1;33m\u001b[0m\u001b[0m\n",
      "\u001b[1;31mNameError\u001b[0m: name 'plt' is not defined"
     ]
    }
   ],
   "source": [
    "import numpy as np\n",
    "#create an array of possible max_depth\n",
    "# you may need the function np.arange\n",
    "# The minimum value of max_depth is 1, obviously.\n",
    "# assume the name of the array is max_depth_list\n",
    "\n",
    "max_depth_list = np.arange(1, 40)\n",
    "max_depth_list\n",
    "\n",
    "#train a RandomForestClassifier with max_depth in max_depth_list\n",
    "#inside a for loop: \n",
    "#   create a model with a max_depth in max_depth_list\n",
    "#   set class_weight to 'balanced', n_estimators=20\n",
    "#   set random_state=0 so that the result is reproducible\n",
    "#   train the model on the training set\n",
    "#   record the accuracy on the training set into a list acc_train_list\n",
    "#   record the accuracy on the validation set into a list acc_val_list\n",
    "test_score_list=[]\n",
    "val_score_list=[]\n",
    "\n",
    "for max_depth in max_depth_list:\n",
    "    RF=RandomForestClassifier(n_estimators=20, class_weight='balanced', max_depth=max_depth, random_state=0)\n",
    "    RF.fit(train_images, train_labels)\n",
    "\n",
    "    test_labels_pred=RF.predict(test_images)\n",
    "    test_score_list.append(RF.score(test_images, test_labels))\n",
    "    \n",
    "\n",
    "    val_labels_pred=RF.predict(val_images)\n",
    "    val_score_list.append(RF.score(val_images, val_labels))"
   ]
  },
  {
   "cell_type": "code",
   "execution_count": 16,
   "id": "saving-metro",
   "metadata": {},
   "outputs": [
    {
     "name": "stdout",
     "output_type": "stream",
     "text": [
      "[0.3581, 0.5791, 0.6701, 0.7305, 0.7561, 0.7875, 0.7992, 0.8174, 0.832, 0.8428, 0.8465, 0.8494, 0.858, 0.8578, 0.8626, 0.8621, 0.8641, 0.8625, 0.8622, 0.8659, 0.8661, 0.8631, 0.8625, 0.8654, 0.8644, 0.8644, 0.8664, 0.8634, 0.8639, 0.8629, 0.8648, 0.8644, 0.8655, 0.8671, 0.8626, 0.8677, 0.8656, 0.8628, 0.8639]\n",
      "[0.3453333333333333, 0.5728333333333333, 0.6826666666666666, 0.7383333333333333, 0.7638333333333334, 0.7983333333333333, 0.8116666666666666, 0.8295, 0.8406666666666667, 0.8531666666666666, 0.8578333333333333, 0.8601666666666666, 0.8698333333333333, 0.8733333333333333, 0.8743333333333333, 0.8811666666666667, 0.8748333333333334, 0.8748333333333334, 0.873, 0.873, 0.8761666666666666, 0.8786666666666667, 0.8796666666666667, 0.877, 0.8733333333333333, 0.8768333333333334, 0.878, 0.8773333333333333, 0.8723333333333333, 0.8748333333333334, 0.877, 0.8756666666666667, 0.8783333333333333, 0.8731666666666666, 0.8768333333333334, 0.8756666666666667, 0.8751666666666666, 0.8751666666666666, 0.8773333333333333]\n",
      "16\n",
      "classification accuracy on validation set is  0.8621\n",
      "classification accuracy on test set is  0.8811666666666667\n"
     ]
    },
    {
     "data": {
      "image/png": "[encoded data removed]",
      "text/plain": [
       "<Figure size 720x432 with 2 Axes>"
      ]
     },
     "metadata": {
      "needs_background": "light"
     },
     "output_type": "display_data"
    }
   ],
   "source": [
    "import matplotlib.pyplot as plt\n",
    "import seaborn as sns\n",
    "#plot max_depth vs acc_train using max_depth_list and acc_train_list\n",
    "#plot max_depth vs acc_val using max_depth_list and acc_val_list\n",
    "fig, ax = plt.subplots(1,2, figsize=(10,6))\n",
    "ax[0].plot(max_depth_list, test_score_list, 'b')\n",
    "ax[0].set_xlabel('max_depth')\n",
    "ax[0].set_ylabel('training accuracy')\n",
    "ax[0].set_title('max_depth v.s. training accuracy')\n",
    "ax[0].grid(True)\n",
    "ax[1].plot(max_depth_list, val_score_list, 'r')\n",
    "ax[1].set_xlabel('max_depth')\n",
    "ax[1].set_ylabel('validation accuracy')\n",
    "ax[1].set_title('max_depth v.s. validation accuracy')\n",
    "ax[1].grid(True)\n",
    "    \n",
    "print(test_score_list)\n",
    "print(val_score_list)\n",
    "max_depth_best = max_depth_list[np.argmax(val_score_list)]\n",
    "print(max_depth_best)\n",
    "\n",
    "#now, we use the best max_depth to build a RandomForestClassifier\n",
    "#train it on the training set and evaluate it on the testing set\n",
    "RF=RandomForestClassifier(n_estimators=20, class_weight='balanced', max_depth=max_depth_best, random_state=0)\n",
    "RF.fit(train_images, train_labels)\n",
    "\n",
    "test_labels_pred=RF.predict(test_images)\n",
    "RF_test_score = RF.score(test_images, test_labels)\n",
    "\n",
    "val_labels_pred=RF.predict(val_images)\n",
    "RF_val_score = RF.score(val_images, val_labels)\n",
    "print('classification accuracy on validation set is ', RF_test_score)\n",
    "print('classification accuracy on test set is ', RF_val_score)"
   ]
  },
  {
   "cell_type": "markdown",
   "id": "simple-respect",
   "metadata": {},
   "source": [
    "# MLP"
   ]
  },
  {
   "cell_type": "code",
   "execution_count": null,
   "id": "convertible-childhood",
   "metadata": {},
   "outputs": [],
   "source": [
    "from tensorflow.keras.models import Sequential\n",
    "from tensorflow.keras.layers import Dense\n",
    "from tensorflow.keras.optimizers import SGD, Adam\n",
    "\n",
    "#use binary_crossentropy\n",
    "MLPBase = Sequential()\n",
    "MLPBase.add(Dense(units=256, activation='relu', input_shape=(10,)))\n",
    "MLPBase.add(Dense(units=256, activation='relu'))\n",
    "MLPBase.add(Dense(units=256, activation='relu'))\n",
    "MLPBase.add(Dense(units=1,  activation='sigmoid'))\n",
    "MLPBase.compile(loss='binary_crossentropy', optimizer=SGD(learning_rate=0.0005, momentum=0.9),\n",
    "              metrics=['accuracy'])\n",
    "MLPBase.summary()\n",
    "\n",
    "for epoch in range(0, 10):   \n",
    "    print('epoch', epoch)\n",
    "    #set epochs=1\n",
    "    history=model.fit(X_train, Y_train, batch_size=64, epochs=1, validation_data=(X_val, Y_val))\n",
    "    loss_train_list.extend(history.history['loss'])\n",
    "    loss_val_list.extend(history.history['val_loss'])\n",
    "    acc_train_list.extend(history.history['accuracy'])\n",
    "    acc_val_list.append(test_acc(model, X_val, Y_val)[0])\n",
    "    #save the model to a a HDF5 file \n",
    "    model.save('H5_Keras_e'+str(epoch)+'.h5')"
   ]
  }
 ],
 "metadata": {
  "kernelspec": {
   "display_name": "Python 3",
   "language": "python",
   "name": "python3"
  },
  "language_info": {
   "codemirror_mode": {
    "name": "ipython",
    "version": 3
   },
   "file_extension": ".py",
   "mimetype": "text/x-python",
   "name": "python",
   "nbconvert_exporter": "python",
   "pygments_lexer": "ipython3",
   "version": "3.8.5"
  }
 },
 "nbformat": 4,
 "nbformat_minor": 5
}
