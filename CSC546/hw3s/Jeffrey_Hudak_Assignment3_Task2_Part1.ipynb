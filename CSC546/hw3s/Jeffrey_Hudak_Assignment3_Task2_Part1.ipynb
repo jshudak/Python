{
 "cells": [
  {
   "cell_type": "markdown",
   "metadata": {},
   "source": [
    "# Homework 3 Part 2 Task 1 - Classification\n",
    "The dataset is from https://www.kaggle.com/c/GiveMeSomeCredit <br>\n",
    "\"Banks play a crucial role in market economies. They decide who can get finance and on what terms and can make or break investment decisions. For markets and society to function, individuals and companies need access to credit. Credit scoring algorithms, which make a guess at the probability of default, are the method banks use to determine whether or not a loan should be granted.\"  <br>\n",
    "In this task, we will build classifiers to predict if someone will experience financial distress and therefore cannot pay off credit card (i.e. default). It is a binary classificaiton problem: default (class-1) or not default  (class-0) <br>\n",
    "Learning Objective: <br>\n",
    "1. It is almost computationally infeasible to do cross-validation for a large dataset <br>\n",
    "    So, we divide the data into three sets: training, validation and testing sets <br>\n",
    "    we do not repeat the above process. \n",
    "2. Real dataset is often imbalanced: class-i may have much more data samples than class-j. We set class_weight='balanced' if possible and use weighted classification accuracy, or do upsampling to balance data between classes. \n",
    "2. Given the model type (e.g. RandomForest), we find the best trainable-parameters on the training set  <br>\n",
    "    and find the best hyper-parameters using training-validation strategy <br>\n",
    "3. Then, we evaluate the trained model on the testing set using the best parameters <br>\n",
    "4. To simply the task, you only need to find the best max_depth of DecisionTreeClassifier/RandomForestClassifier and the best n_neighbors of KNeighborsClassifier <br>\n",
    " <br>\n",
    "This is a guided-task: <br>\n",
    "You will see the output of a code cell and then figure out the code in that cell. <br>\n",
    "In each code cell, there are instructions to help you. <br>\n",
    "This is a very efficient and effective way to learn how to program with sk-learn"
   ]
  },
  {
   "cell_type": "code",
   "execution_count": 1,
   "metadata": {},
   "outputs": [],
   "source": [
    "import numpy as np\n",
    "import pandas as pd\n",
    "import matplotlib.pyplot as plt\n",
    "import seaborn as sns"
   ]
  },
  {
   "cell_type": "code",
   "execution_count": 2,
   "metadata": {},
   "outputs": [
    {
     "data": {
      "text/html": [
       "<div>\n",
       "<style scoped>\n",
       "    .dataframe tbody tr th:only-of-type {\n",
       "        vertical-align: middle;\n",
       "    }\n",
       "\n",
       "    .dataframe tbody tr th {\n",
       "        vertical-align: top;\n",
       "    }\n",
       "\n",
       "    .dataframe thead th {\n",
       "        text-align: right;\n",
       "    }\n",
       "</style>\n",
       "<table border=\"1\" class=\"dataframe\">\n",
       "  <thead>\n",
       "    <tr style=\"text-align: right;\">\n",
       "      <th></th>\n",
       "      <th>id</th>\n",
       "      <th>SeriousDlqin2yrs</th>\n",
       "      <th>RevolvingUtilizationOfUnsecuredLines</th>\n",
       "      <th>age</th>\n",
       "      <th>NumberOfTime30-59DaysPastDueNotWorse</th>\n",
       "      <th>DebtRatio</th>\n",
       "      <th>MonthlyIncome</th>\n",
       "      <th>NumberOfOpenCreditLinesAndLoans</th>\n",
       "      <th>NumberOfTimes90DaysLate</th>\n",
       "      <th>NumberRealEstateLoansOrLines</th>\n",
       "      <th>NumberOfTime60-89DaysPastDueNotWorse</th>\n",
       "      <th>NumberOfDependents</th>\n",
       "    </tr>\n",
       "  </thead>\n",
       "  <tbody>\n",
       "    <tr>\n",
       "      <th>0</th>\n",
       "      <td>1</td>\n",
       "      <td>1</td>\n",
       "      <td>0.766127</td>\n",
       "      <td>45</td>\n",
       "      <td>2</td>\n",
       "      <td>0.802982</td>\n",
       "      <td>9120.0</td>\n",
       "      <td>13</td>\n",
       "      <td>0</td>\n",
       "      <td>6</td>\n",
       "      <td>0</td>\n",
       "      <td>2.0</td>\n",
       "    </tr>\n",
       "    <tr>\n",
       "      <th>1</th>\n",
       "      <td>2</td>\n",
       "      <td>0</td>\n",
       "      <td>0.957151</td>\n",
       "      <td>40</td>\n",
       "      <td>0</td>\n",
       "      <td>0.121876</td>\n",
       "      <td>2600.0</td>\n",
       "      <td>4</td>\n",
       "      <td>0</td>\n",
       "      <td>0</td>\n",
       "      <td>0</td>\n",
       "      <td>1.0</td>\n",
       "    </tr>\n",
       "    <tr>\n",
       "      <th>2</th>\n",
       "      <td>3</td>\n",
       "      <td>0</td>\n",
       "      <td>0.658180</td>\n",
       "      <td>38</td>\n",
       "      <td>1</td>\n",
       "      <td>0.085113</td>\n",
       "      <td>3042.0</td>\n",
       "      <td>2</td>\n",
       "      <td>1</td>\n",
       "      <td>0</td>\n",
       "      <td>0</td>\n",
       "      <td>0.0</td>\n",
       "    </tr>\n",
       "    <tr>\n",
       "      <th>3</th>\n",
       "      <td>4</td>\n",
       "      <td>0</td>\n",
       "      <td>0.233810</td>\n",
       "      <td>30</td>\n",
       "      <td>0</td>\n",
       "      <td>0.036050</td>\n",
       "      <td>3300.0</td>\n",
       "      <td>5</td>\n",
       "      <td>0</td>\n",
       "      <td>0</td>\n",
       "      <td>0</td>\n",
       "      <td>0.0</td>\n",
       "    </tr>\n",
       "    <tr>\n",
       "      <th>4</th>\n",
       "      <td>5</td>\n",
       "      <td>0</td>\n",
       "      <td>0.907239</td>\n",
       "      <td>49</td>\n",
       "      <td>1</td>\n",
       "      <td>0.024926</td>\n",
       "      <td>63588.0</td>\n",
       "      <td>7</td>\n",
       "      <td>0</td>\n",
       "      <td>1</td>\n",
       "      <td>0</td>\n",
       "      <td>0.0</td>\n",
       "    </tr>\n",
       "  </tbody>\n",
       "</table>\n",
       "</div>"
      ],
      "text/plain": [
       "   id  SeriousDlqin2yrs  RevolvingUtilizationOfUnsecuredLines  age  \\\n",
       "0   1                 1                              0.766127   45   \n",
       "1   2                 0                              0.957151   40   \n",
       "2   3                 0                              0.658180   38   \n",
       "3   4                 0                              0.233810   30   \n",
       "4   5                 0                              0.907239   49   \n",
       "\n",
       "   NumberOfTime30-59DaysPastDueNotWorse  DebtRatio  MonthlyIncome  \\\n",
       "0                                     2   0.802982         9120.0   \n",
       "1                                     0   0.121876         2600.0   \n",
       "2                                     1   0.085113         3042.0   \n",
       "3                                     0   0.036050         3300.0   \n",
       "4                                     1   0.024926        63588.0   \n",
       "\n",
       "   NumberOfOpenCreditLinesAndLoans  NumberOfTimes90DaysLate  \\\n",
       "0                               13                        0   \n",
       "1                                4                        0   \n",
       "2                                2                        1   \n",
       "3                                5                        0   \n",
       "4                                7                        0   \n",
       "\n",
       "   NumberRealEstateLoansOrLines  NumberOfTime60-89DaysPastDueNotWorse  \\\n",
       "0                             6                                     0   \n",
       "1                             0                                     0   \n",
       "2                             0                                     0   \n",
       "3                             0                                     0   \n",
       "4                             1                                     0   \n",
       "\n",
       "   NumberOfDependents  \n",
       "0                 2.0  \n",
       "1                 1.0  \n",
       "2                 0.0  \n",
       "3                 0.0  \n",
       "4                 0.0  "
      ]
     },
     "execution_count": 2,
     "metadata": {},
     "output_type": "execute_result"
    }
   ],
   "source": [
    "#every row of the table is a data sample (feature vector) from a person\n",
    "df = pd.read_csv('cs_data.csv')\n",
    "df.head()"
   ]
  },
  {
   "cell_type": "markdown",
   "metadata": {},
   "source": [
    "#### handle nan (null) in data (i.e. missing values)\n",
    "Some fields in the table are nan, which are missing values. <br>\n",
    "For example, someone may not want to reveal monthly income to whoever made the table/survey, then the table got nan."
   ]
  },
  {
   "cell_type": "code",
   "execution_count": 3,
   "metadata": {},
   "outputs": [
    {
     "data": {
      "text/plain": [
       "id                                          0\n",
       "SeriousDlqin2yrs                            0\n",
       "RevolvingUtilizationOfUnsecuredLines        0\n",
       "age                                         0\n",
       "NumberOfTime30-59DaysPastDueNotWorse        0\n",
       "DebtRatio                                   0\n",
       "MonthlyIncome                           29731\n",
       "NumberOfOpenCreditLinesAndLoans             0\n",
       "NumberOfTimes90DaysLate                     0\n",
       "NumberRealEstateLoansOrLines                0\n",
       "NumberOfTime60-89DaysPastDueNotWorse        0\n",
       "NumberOfDependents                       3924\n",
       "dtype: int64"
      ]
     },
     "execution_count": 3,
     "metadata": {},
     "output_type": "execute_result"
    }
   ],
   "source": [
    "df.isnull().sum()"
   ]
  },
  {
   "cell_type": "code",
   "execution_count": 4,
   "metadata": {},
   "outputs": [
    {
     "data": {
      "text/plain": [
       "id                                      0\n",
       "SeriousDlqin2yrs                        0\n",
       "RevolvingUtilizationOfUnsecuredLines    0\n",
       "age                                     0\n",
       "NumberOfTime30-59DaysPastDueNotWorse    0\n",
       "DebtRatio                               0\n",
       "MonthlyIncome                           0\n",
       "NumberOfOpenCreditLinesAndLoans         0\n",
       "NumberOfTimes90DaysLate                 0\n",
       "NumberRealEstateLoansOrLines            0\n",
       "NumberOfTime60-89DaysPastDueNotWorse    0\n",
       "NumberOfDependents                      0\n",
       "dtype: int64"
      ]
     },
     "execution_count": 4,
     "metadata": {},
     "output_type": "execute_result"
    }
   ],
   "source": [
    "#here, we use a simple method:\n",
    "#replace nan in each column with median value of that column\n",
    "#there are other methods in pandas and sklearn: interpolation in pandas and KNNImputer in sklearn\n",
    "from sklearn.impute import SimpleImputer\n",
    "imputer = SimpleImputer(strategy='median')\n",
    "dfv=imputer.fit_transform(df.values)\n",
    "df=pd.DataFrame(data=dfv, columns=df.columns)\n",
    "df.isnull().sum()"
   ]
  },
  {
   "cell_type": "markdown",
   "metadata": {},
   "source": [
    "### We have a highly imbalanced dataset\n",
    "139974 data samples in class-0 (normal) <br>\n",
    "10026 data samples in class-1 (financial distress)"
   ]
  },
  {
   "cell_type": "code",
   "execution_count": 5,
   "metadata": {},
   "outputs": [
    {
     "data": {
      "text/plain": [
       "<AxesSubplot:>"
      ]
     },
     "execution_count": 5,
     "metadata": {},
     "output_type": "execute_result"
    },
    {
     "data": {
      "image/png": "[encoded data removed]",
      "text/plain": [
       "<Figure size 432x288 with 1 Axes>"
      ]
     },
     "metadata": {
      "needs_background": "light"
     },
     "output_type": "display_data"
    }
   ],
   "source": [
    "df['SeriousDlqin2yrs'].hist()"
   ]
  },
  {
   "cell_type": "code",
   "execution_count": 6,
   "metadata": {},
   "outputs": [
    {
     "data": {
      "text/plain": [
       "139974"
      ]
     },
     "execution_count": 6,
     "metadata": {},
     "output_type": "execute_result"
    }
   ],
   "source": [
    "(df['SeriousDlqin2yrs']==0).sum()"
   ]
  },
  {
   "cell_type": "code",
   "execution_count": 7,
   "metadata": {},
   "outputs": [
    {
     "data": {
      "text/plain": [
       "10026"
      ]
     },
     "execution_count": 7,
     "metadata": {},
     "output_type": "execute_result"
    }
   ],
   "source": [
    "(df['SeriousDlqin2yrs']==1).sum()"
   ]
  },
  {
   "cell_type": "markdown",
   "metadata": {},
   "source": [
    "#### Classification Goal: predict 'SeriousDlqin2yrs' (Y) using the other features (X)"
   ]
  },
  {
   "cell_type": "code",
   "execution_count": 8,
   "metadata": {},
   "outputs": [
    {
     "data": {
      "text/html": [
       "<div>\n",
       "<style scoped>\n",
       "    .dataframe tbody tr th:only-of-type {\n",
       "        vertical-align: middle;\n",
       "    }\n",
       "\n",
       "    .dataframe tbody tr th {\n",
       "        vertical-align: top;\n",
       "    }\n",
       "\n",
       "    .dataframe thead th {\n",
       "        text-align: right;\n",
       "    }\n",
       "</style>\n",
       "<table border=\"1\" class=\"dataframe\">\n",
       "  <thead>\n",
       "    <tr style=\"text-align: right;\">\n",
       "      <th></th>\n",
       "      <th>RevolvingUtilizationOfUnsecuredLines</th>\n",
       "      <th>age</th>\n",
       "      <th>NumberOfTime30-59DaysPastDueNotWorse</th>\n",
       "      <th>DebtRatio</th>\n",
       "      <th>MonthlyIncome</th>\n",
       "      <th>NumberOfOpenCreditLinesAndLoans</th>\n",
       "      <th>NumberOfTimes90DaysLate</th>\n",
       "      <th>NumberRealEstateLoansOrLines</th>\n",
       "      <th>NumberOfTime60-89DaysPastDueNotWorse</th>\n",
       "      <th>NumberOfDependents</th>\n",
       "    </tr>\n",
       "  </thead>\n",
       "  <tbody>\n",
       "    <tr>\n",
       "      <th>0</th>\n",
       "      <td>0.766127</td>\n",
       "      <td>45.0</td>\n",
       "      <td>2.0</td>\n",
       "      <td>0.802982</td>\n",
       "      <td>9120.0</td>\n",
       "      <td>13.0</td>\n",
       "      <td>0.0</td>\n",
       "      <td>6.0</td>\n",
       "      <td>0.0</td>\n",
       "      <td>2.0</td>\n",
       "    </tr>\n",
       "    <tr>\n",
       "      <th>1</th>\n",
       "      <td>0.957151</td>\n",
       "      <td>40.0</td>\n",
       "      <td>0.0</td>\n",
       "      <td>0.121876</td>\n",
       "      <td>2600.0</td>\n",
       "      <td>4.0</td>\n",
       "      <td>0.0</td>\n",
       "      <td>0.0</td>\n",
       "      <td>0.0</td>\n",
       "      <td>1.0</td>\n",
       "    </tr>\n",
       "    <tr>\n",
       "      <th>2</th>\n",
       "      <td>0.658180</td>\n",
       "      <td>38.0</td>\n",
       "      <td>1.0</td>\n",
       "      <td>0.085113</td>\n",
       "      <td>3042.0</td>\n",
       "      <td>2.0</td>\n",
       "      <td>1.0</td>\n",
       "      <td>0.0</td>\n",
       "      <td>0.0</td>\n",
       "      <td>0.0</td>\n",
       "    </tr>\n",
       "    <tr>\n",
       "      <th>3</th>\n",
       "      <td>0.233810</td>\n",
       "      <td>30.0</td>\n",
       "      <td>0.0</td>\n",
       "      <td>0.036050</td>\n",
       "      <td>3300.0</td>\n",
       "      <td>5.0</td>\n",
       "      <td>0.0</td>\n",
       "      <td>0.0</td>\n",
       "      <td>0.0</td>\n",
       "      <td>0.0</td>\n",
       "    </tr>\n",
       "    <tr>\n",
       "      <th>4</th>\n",
       "      <td>0.907239</td>\n",
       "      <td>49.0</td>\n",
       "      <td>1.0</td>\n",
       "      <td>0.024926</td>\n",
       "      <td>63588.0</td>\n",
       "      <td>7.0</td>\n",
       "      <td>0.0</td>\n",
       "      <td>1.0</td>\n",
       "      <td>0.0</td>\n",
       "      <td>0.0</td>\n",
       "    </tr>\n",
       "  </tbody>\n",
       "</table>\n",
       "</div>"
      ],
      "text/plain": [
       "   RevolvingUtilizationOfUnsecuredLines   age  \\\n",
       "0                              0.766127  45.0   \n",
       "1                              0.957151  40.0   \n",
       "2                              0.658180  38.0   \n",
       "3                              0.233810  30.0   \n",
       "4                              0.907239  49.0   \n",
       "\n",
       "   NumberOfTime30-59DaysPastDueNotWorse  DebtRatio  MonthlyIncome  \\\n",
       "0                                   2.0   0.802982         9120.0   \n",
       "1                                   0.0   0.121876         2600.0   \n",
       "2                                   1.0   0.085113         3042.0   \n",
       "3                                   0.0   0.036050         3300.0   \n",
       "4                                   1.0   0.024926        63588.0   \n",
       "\n",
       "   NumberOfOpenCreditLinesAndLoans  NumberOfTimes90DaysLate  \\\n",
       "0                             13.0                      0.0   \n",
       "1                              4.0                      0.0   \n",
       "2                              2.0                      1.0   \n",
       "3                              5.0                      0.0   \n",
       "4                              7.0                      0.0   \n",
       "\n",
       "   NumberRealEstateLoansOrLines  NumberOfTime60-89DaysPastDueNotWorse  \\\n",
       "0                           6.0                                   0.0   \n",
       "1                           0.0                                   0.0   \n",
       "2                           0.0                                   0.0   \n",
       "3                           0.0                                   0.0   \n",
       "4                           1.0                                   0.0   \n",
       "\n",
       "   NumberOfDependents  \n",
       "0                 2.0  \n",
       "1                 1.0  \n",
       "2                 0.0  \n",
       "3                 0.0  \n",
       "4                 0.0  "
      ]
     },
     "execution_count": 8,
     "metadata": {},
     "output_type": "execute_result"
    }
   ],
   "source": [
    "#'SeriousDlqin2yrs' is the target/class label, so it should not be in the input feature vector X\n",
    "#'id' of a person is useless for the classification task\n",
    "#so, we remove them from the table and get the input X\n",
    "X=df.drop(['SeriousDlqin2yrs', 'id'], axis=1)\n",
    "X.head()"
   ]
  },
  {
   "cell_type": "code",
   "execution_count": 9,
   "metadata": {},
   "outputs": [
    {
     "data": {
      "text/plain": [
       "0    1.0\n",
       "1    0.0\n",
       "2    0.0\n",
       "3    0.0\n",
       "4    0.0\n",
       "Name: SeriousDlqin2yrs, dtype: float64"
      ]
     },
     "execution_count": 9,
     "metadata": {},
     "output_type": "execute_result"
    }
   ],
   "source": [
    "#Y is the target/class label\n",
    "Y=df['SeriousDlqin2yrs']\n",
    "Y.head()"
   ]
  },
  {
   "cell_type": "code",
   "execution_count": 10,
   "metadata": {},
   "outputs": [],
   "source": [
    "# convert pandas dataframe/series to numpy array\n",
    "# sklearn functions may not work well with pandas data types\n",
    "X=X.values\n",
    "Y=Y.values"
   ]
  },
  {
   "cell_type": "markdown",
   "metadata": {},
   "source": [
    "We split the data into training, validation and testing sets"
   ]
  },
  {
   "cell_type": "code",
   "execution_count": 11,
   "metadata": {},
   "outputs": [
    {
     "name": "stdout",
     "output_type": "stream",
     "text": [
      "train: (108000, 10) (108000,)\n",
      "validation: (12000, 10) (12000,)\n",
      "test: (30000, 10) (30000,)\n"
     ]
    }
   ],
   "source": [
    "from sklearn.model_selection import train_test_split\n",
    "X_train, X_test, Y_train, Y_test = train_test_split(X, Y, test_size=0.2, random_state=0)\n",
    "#split X_train and Y_train into a 'pure' training set and a validation set\n",
    "X_train, X_val, Y_train, Y_val = train_test_split(X_train, Y_train, test_size=0.1, random_state=0)\n",
    "print('train:', X_train.shape, Y_train.shape)\n",
    "print('validation:', X_val.shape, Y_val.shape)\n",
    "print('test:', X_test.shape, Y_test.shape)"
   ]
  },
  {
   "cell_type": "code",
   "execution_count": 12,
   "metadata": {},
   "outputs": [
    {
     "data": {
      "image/png": "[encoded data removed]",
      "text/plain": [
       "<Figure size 432x288 with 1 Axes>"
      ]
     },
     "metadata": {
      "needs_background": "light"
     },
     "output_type": "display_data"
    }
   ],
   "source": [
    "plt.hist(Y_train, bins=20);"
   ]
  },
  {
   "cell_type": "code",
   "execution_count": 13,
   "metadata": {},
   "outputs": [
    {
     "data": {
      "text/plain": [
       "100824"
      ]
     },
     "execution_count": 13,
     "metadata": {},
     "output_type": "execute_result"
    }
   ],
   "source": [
    "(Y_train==0).sum()"
   ]
  },
  {
   "cell_type": "code",
   "execution_count": 14,
   "metadata": {},
   "outputs": [
    {
     "data": {
      "text/plain": [
       "7176"
      ]
     },
     "execution_count": 14,
     "metadata": {},
     "output_type": "execute_result"
    }
   ],
   "source": [
    "(Y_train==1).sum()"
   ]
  },
  {
   "cell_type": "code",
   "execution_count": 15,
   "metadata": {},
   "outputs": [
    {
     "data": {
      "image/png": "[encoded data removed]",
      "text/plain": [
       "<Figure size 432x288 with 1 Axes>"
      ]
     },
     "metadata": {
      "needs_background": "light"
     },
     "output_type": "display_data"
    }
   ],
   "source": [
    "plt.hist(Y_val, bins=20);"
   ]
  },
  {
   "cell_type": "code",
   "execution_count": 16,
   "metadata": {},
   "outputs": [
    {
     "data": {
      "image/png": "[encoded data removed]",
      "text/plain": [
       "<Figure size 432x288 with 1 Axes>"
      ]
     },
     "metadata": {
      "needs_background": "light"
     },
     "output_type": "display_data"
    }
   ],
   "source": [
    "plt.hist(Y_test, bins=20);"
   ]
  },
  {
   "cell_type": "code",
   "execution_count": 17,
   "metadata": {},
   "outputs": [],
   "source": [
    "# we need to use weighted classification accuracy\n",
    "# try to understand it\n",
    "def weighted_accuracy(confusion):\n",
    "    #input: confusion is the confusion matrix\n",
    "    #output: acc is the weighted classification accuracy\n",
    "    M=confusion.copy().astype('float32')\n",
    "    for k in range(0, M.shape[0]):\n",
    "        M[k]/=M[k].sum()+1e-8    \n",
    "    acc = M.diagonal().sum()/M.sum()\n",
    "    return acc"
   ]
  },
  {
   "cell_type": "code",
   "execution_count": 18,
   "metadata": {},
   "outputs": [],
   "source": [
    "#apply feature normalization to training, validation and test sets\n",
    "from sklearn.preprocessing import MinMaxScaler\n",
    "scaler=MinMaxScaler()\n",
    "scaler.fit(X_train) # think about why fit to X_train, not X ?\n",
    "X_train=scaler.transform(X_train)\n",
    "X_val=scaler.transform(X_val)\n",
    "X_test=scaler.transform(X_test)"
   ]
  },
  {
   "cell_type": "markdown",
   "metadata": {},
   "source": [
    "#### build a LogisticRegression classifier as the baseline model"
   ]
  },
  {
   "cell_type": "code",
   "execution_count": 19,
   "metadata": {
    "scrolled": true
   },
   "outputs": [
    {
     "name": "stdout",
     "output_type": "stream",
     "text": [
      "classification accuracy on validation set is  0.7163831\n",
      "classification accuracy on test set is  0.7099812\n"
     ]
    }
   ],
   "source": [
    "from sklearn.linear_model import LogisticRegression\n",
    "from sklearn.metrics import confusion_matrix\n",
    "#set class_weight='balanced'\n",
    "LR=LogisticRegression(penalty='none', class_weight='balanced', solver='newton-cg', random_state=0)\n",
    "LR.fit(X_train, Y_train)\n",
    "Y_val_pred=LR.predict(X_val)\n",
    "confusion_val=confusion_matrix(Y_val, Y_val_pred)\n",
    "acc_val=weighted_accuracy(confusion_val)\n",
    "Y_test_pred=LR.predict(X_test)\n",
    "confusion_test=confusion_matrix(Y_test, Y_test_pred)\n",
    "acc_test=weighted_accuracy(confusion_test)\n",
    "print('classification accuracy on validation set is ', acc_val)\n",
    "print('classification accuracy on test set is ', acc_test)"
   ]
  },
  {
   "cell_type": "markdown",
   "metadata": {},
   "source": [
    "## Your task begins here"
   ]
  },
  {
   "cell_type": "markdown",
   "metadata": {},
   "source": [
    "#### Let's try DecisionTreeClassifier"
   ]
  },
  {
   "cell_type": "code",
   "execution_count": 20,
   "metadata": {},
   "outputs": [
    {
     "name": "stdout",
     "output_type": "stream",
     "text": [
      "classification accuracy on validation set is  0.6730076\n",
      "classification accuracy on test set is  0.66899014\n"
     ]
    }
   ],
   "source": [
    "from sklearn.tree import DecisionTreeClassifier\n",
    "#set class_weight='balanced', max_depth=20, and random_state=0\n",
    "#your code here, see the example in the above cell\n",
    "\n",
    "#-----------\n",
    "DT=DecisionTreeClassifier(class_weight='balanced', max_depth=20, random_state=0)\n",
    "DT.fit(X_train, Y_train)\n",
    "\n",
    "Y_val_pred=DT.predict(X_val)\n",
    "confusion_val=confusion_matrix(Y_val, Y_val_pred)\n",
    "acc_val=weighted_accuracy(confusion_val)\n",
    "\n",
    "Y_test_pred=DT.predict(X_test)\n",
    "confusion_test=confusion_matrix(Y_test, Y_test_pred)\n",
    "acc_test=weighted_accuracy(confusion_test)\n",
    "\n",
    "print('classification accuracy on validation set is ', acc_val)\n",
    "print('classification accuracy on test set is ', acc_test)"
   ]
  },
  {
   "cell_type": "markdown",
   "metadata": {},
   "source": [
    "#### Let's try randomforest"
   ]
  },
  {
   "cell_type": "code",
   "execution_count": 21,
   "metadata": {},
   "outputs": [
    {
     "name": "stdout",
     "output_type": "stream",
     "text": [
      "classification accuracy on validation set is  0.6434571\n",
      "classification accuracy on test set is  0.6361621\n"
     ]
    }
   ],
   "source": [
    "from sklearn.ensemble import RandomForestClassifier\n",
    "#set n_estimators=20, class_weight='balanced', max_depth=20, and random_state=0\n",
    "#your code here\n",
    "#-----------\n",
    "RF=RandomForestClassifier(n_estimators=20, class_weight='balanced', max_depth=20, random_state=0)\n",
    "RF.fit(X_train, Y_train)\n",
    "\n",
    "Y_val_pred=RF.predict(X_val)\n",
    "confusion_val=confusion_matrix(Y_val, Y_val_pred)\n",
    "acc_val=weighted_accuracy(confusion_val)\n",
    "\n",
    "Y_test_pred=RF.predict(X_test)\n",
    "confusion_test=confusion_matrix(Y_test, Y_test_pred)\n",
    "acc_test=weighted_accuracy(confusion_test)\n",
    "\n",
    "print('classification accuracy on validation set is ', acc_val)\n",
    "print('classification accuracy on test set is ', acc_test)"
   ]
  },
  {
   "cell_type": "markdown",
   "metadata": {},
   "source": [
    "## Model Selection (hyper-parameter optimization) \n",
    "Clearly, max_depth=20 is not optimal for DecisionTreeClassifier and RandomForestClassifier <br>\n",
    "You will do a grid search to find the best max_depth. <br>"
   ]
  },
  {
   "cell_type": "markdown",
   "metadata": {},
   "source": [
    "### 1. find the best max_depth in DecisionTreeClassifier"
   ]
  },
  {
   "cell_type": "code",
   "execution_count": 22,
   "metadata": {},
   "outputs": [
    {
     "data": {
      "text/plain": [
       "array([ 1,  2,  3,  4,  5,  6,  7,  8,  9, 10, 11, 12, 13, 14, 15, 16, 17,\n",
       "       18, 19, 20])"
      ]
     },
     "execution_count": 22,
     "metadata": {},
     "output_type": "execute_result"
    }
   ],
   "source": [
    "#create an array of possible max_depth\n",
    "# you may need the function np.arange (read the document in sklearn website)\n",
    "# The minimum value of max_depth is 1, obviously.\n",
    "# The maximum value of max_depth is 20 (you may use a larger max_depth)\n",
    "# assume the name of the array is max_depth_list\n",
    "\n",
    "max_depth_list = np.arange(1, 21)\n",
    "max_depth_list"
   ]
  },
  {
   "cell_type": "code",
   "execution_count": 23,
   "metadata": {},
   "outputs": [],
   "source": [
    "#train a DecisionTreeClassifier with max_depth in max_depth_list\n",
    "#inside a for loop:\n",
    "#   create a model with a max_depth in max_depth_list\n",
    "#   set class_weight to 'balanced'\n",
    "#   set random_state=0 so that the result is reproducible\n",
    "#   train the model on the training set\n",
    "#   record the accuracy on the training set into a list acc_train_list\n",
    "#   record the accuracy on the validation set into a list acc_val_list\n",
    "\n",
    "acc_train_list=[]\n",
    "acc_val_list=[]\n",
    "\n",
    "for max_depth in max_depth_list:\n",
    "    DT=DecisionTreeClassifier(class_weight='balanced', max_depth=max_depth, random_state=0)\n",
    "    DT.fit(X_train, Y_train)\n",
    "    \n",
    "    Y_val_pred=DT.predict(X_val)\n",
    "    confusion_val=confusion_matrix(Y_val, Y_val_pred)\n",
    "    acc_val=weighted_accuracy(confusion_val)\n",
    "    acc_val_list.append(acc_val)\n",
    "    \n",
    "    Y_train_pred=DT.predict(X_train)\n",
    "    confusion_test=confusion_matrix(Y_train, Y_train_pred)\n",
    "    acc_train=weighted_accuracy(confusion_test)\n",
    "    acc_train_list.append(acc_train)\n",
    "    \n",
    "\n"
   ]
  },
  {
   "cell_type": "code",
   "execution_count": 24,
   "metadata": {},
   "outputs": [
    {
     "data": {
      "image/png": "[encoded data removed]",
      "text/plain": [
       "<Figure size 720x432 with 2 Axes>"
      ]
     },
     "metadata": {
      "needs_background": "light"
     },
     "output_type": "display_data"
    }
   ],
   "source": [
    "#plot max_depth vs acc_train using max_depth_list and acc_train_list\n",
    "#plot max_depth vs acc_val using max_depth_list and acc_val_list\n",
    "fig, ax = plt.subplots(1,2, figsize=(10,6))\n",
    "ax[0].plot(max_depth_list, acc_train_list, 'b')\n",
    "ax[0].set_xlabel('max_depth')\n",
    "ax[0].set_ylabel('training accuracy')\n",
    "ax[0].set_title('max_depth v.s. training accuracy')\n",
    "ax[0].grid(True)\n",
    "ax[1].plot(max_depth_list, acc_val_list, 'r')\n",
    "ax[1].set_xlabel('max_depth')\n",
    "ax[1].set_ylabel('validation accuracy')\n",
    "ax[1].set_title('max_depth v.s. validation accuracy')\n",
    "ax[1].grid(True)"
   ]
  },
  {
   "cell_type": "markdown",
   "metadata": {},
   "source": [
    "From the above figure, we see that training accuracy keeps increasing as max_depth increases. <br>\n",
    "Validation accuracy reveals the ability of the model predicting y on new data samples that the model did not see during training. <br>\n",
    "This is why we use validation accuracy curve to find the best hyper-parameter"
   ]
  },
  {
   "cell_type": "code",
   "execution_count": 25,
   "metadata": {},
   "outputs": [
    {
     "data": {
      "text/plain": [
       "8"
      ]
     },
     "execution_count": 25,
     "metadata": {},
     "output_type": "execute_result"
    }
   ],
   "source": [
    "#write code to find the best max_depth using np.argmax, max_depth_list and acc_val_list\n",
    "#you may get a different number\n",
    "\n",
    "max_depth_best = np.argmax(acc_val_list)\n",
    "max_depth_best"
   ]
  },
  {
   "cell_type": "code",
   "execution_count": 26,
   "metadata": {},
   "outputs": [
    {
     "data": {
      "text/plain": [
       "0.7430857"
      ]
     },
     "execution_count": 26,
     "metadata": {},
     "output_type": "execute_result"
    }
   ],
   "source": [
    "#now, we use the max_depth_best to build a DecisionTreeClassifier\n",
    "#train it on the training set and evaluate it on the testing set\n",
    "DT=DecisionTreeClassifier(class_weight='balanced', max_depth=max_depth_best, random_state=0)\n",
    "DT.fit(X_train, Y_train)\n",
    "\n",
    "Y_test_pred=DT.predict(X_test)\n",
    "confusion_test=confusion_matrix(Y_test, Y_test_pred)\n",
    "acc_test=weighted_accuracy(confusion_test)\n",
    "acc_test"
   ]
  },
  {
   "cell_type": "code",
   "execution_count": 27,
   "metadata": {},
   "outputs": [
    {
     "data": {
      "text/plain": [
       "array([[23253,  4704],\n",
       "       [  706,  1337]], dtype=int64)"
      ]
     },
     "execution_count": 27,
     "metadata": {},
     "output_type": "execute_result"
    }
   ],
   "source": [
    "confusion_test"
   ]
  },
  {
   "cell_type": "markdown",
   "metadata": {},
   "source": [
    "### 2. find the best max_depth in RandomForestClassifier"
   ]
  },
  {
   "cell_type": "code",
   "execution_count": 28,
   "metadata": {},
   "outputs": [
    {
     "data": {
      "text/plain": [
       "array([ 1,  2,  3,  4,  5,  6,  7,  8,  9, 10, 11, 12, 13, 14, 15, 16, 17,\n",
       "       18, 19, 20])"
      ]
     },
     "execution_count": 28,
     "metadata": {},
     "output_type": "execute_result"
    }
   ],
   "source": [
    "#create an array of possible max_depth\n",
    "# you may need the function np.arange\n",
    "# The minimum value of max_depth is 1, obviously.\n",
    "# assume the name of the array is max_depth_list\n",
    "\n",
    "max_depth_list = np.arange(1, 21)\n",
    "max_depth_list"
   ]
  },
  {
   "cell_type": "code",
   "execution_count": 29,
   "metadata": {},
   "outputs": [],
   "source": [
    "#train a RandomForestClassifier with max_depth in max_depth_list\n",
    "#inside a for loop: \n",
    "#   create a model with a max_depth in max_depth_list\n",
    "#   set class_weight to 'balanced', n_estimators=20\n",
    "#   set random_state=0 so that the result is reproducible\n",
    "#   train the model on the training set\n",
    "#   record the accuracy on the training set into a list acc_train_list\n",
    "#   record the accuracy on the validation set into a list acc_val_list\n",
    "acc_train_list=[]\n",
    "acc_val_list=[]\n",
    "\n",
    "for max_depth in max_depth_list:\n",
    "    RF=RandomForestClassifier(n_estimators=20, class_weight='balanced', max_depth=max_depth, random_state=0)\n",
    "    RF.fit(X_train, Y_train)\n",
    "    \n",
    "    Y_val_pred=RF.predict(X_val)\n",
    "    confusion_val=confusion_matrix(Y_val, Y_val_pred)\n",
    "    acc_val=weighted_accuracy(confusion_val)\n",
    "    acc_val_list.append(acc_val)\n",
    "\n",
    "    Y_train_pred=RF.predict(X_train)\n",
    "    confusion_test=confusion_matrix(Y_train, Y_train_pred)\n",
    "    acc_train=weighted_accuracy(confusion_test)\n",
    "    acc_train_list.append(acc_train)\n"
   ]
  },
  {
   "cell_type": "code",
   "execution_count": 30,
   "metadata": {},
   "outputs": [
    {
     "data": {
      "image/png": "[encoded data removed]",
      "text/plain": [
       "<Figure size 720x432 with 2 Axes>"
      ]
     },
     "metadata": {
      "needs_background": "light"
     },
     "output_type": "display_data"
    }
   ],
   "source": [
    "#plot max_depth vs acc_train using max_depth_list and acc_train_list\n",
    "#plot max_depth vs acc_val using max_depth_list and acc_val_list\n",
    "fig, ax = plt.subplots(1,2, figsize=(10,6))\n",
    "ax[0].plot(max_depth_list, acc_train_list, 'b')\n",
    "ax[0].set_xlabel('max_depth')\n",
    "ax[0].set_ylabel('training accuracy')\n",
    "ax[0].set_title('max_depth v.s. training accuracy')\n",
    "ax[0].grid(True)\n",
    "ax[1].plot(max_depth_list, acc_val_list, 'r')\n",
    "ax[1].set_xlabel('max_depth')\n",
    "ax[1].set_ylabel('validation accuracy')\n",
    "ax[1].set_title('max_depth v.s. validation accuracy')\n",
    "ax[1].grid(True)"
   ]
  },
  {
   "cell_type": "code",
   "execution_count": 31,
   "metadata": {},
   "outputs": [
    {
     "data": {
      "text/plain": [
       "10"
      ]
     },
     "execution_count": 31,
     "metadata": {},
     "output_type": "execute_result"
    }
   ],
   "source": [
    "##write code to find the best max_depth using np.argmax, max_depth_list and acc_val_list\n",
    "#you may get a different number\n",
    "\n",
    "max_depth_best = max_depth_list[np.argmax(acc_val_list)]\n",
    "max_depth_best"
   ]
  },
  {
   "cell_type": "code",
   "execution_count": 32,
   "metadata": {},
   "outputs": [
    {
     "name": "stdout",
     "output_type": "stream",
     "text": [
      "classification accuracy on the testing set is 0.7430857\n"
     ]
    }
   ],
   "source": [
    "#now, we use the best max_depth to build a RandomForestClassifier\n",
    "#train it on the training set and evaluate it on the testing set\n",
    "RF=RandomForestClassifier(n_estimators=20, class_weight='balanced', max_depth=max_depth_best, random_state=0)\n",
    "RF.fit(X_train, Y_train)\n",
    "\n",
    "Y_test_pred=DT.predict(X_test)\n",
    "confusion_test=confusion_matrix(Y_test, Y_test_pred)\n",
    "acc_test=weighted_accuracy(confusion_test)\n",
    "print(\"classification accuracy on the testing set is\", acc_test)"
   ]
  },
  {
   "cell_type": "code",
   "execution_count": 33,
   "metadata": {},
   "outputs": [
    {
     "data": {
      "text/plain": [
       "array([[23253,  4704],\n",
       "       [  706,  1337]], dtype=int64)"
      ]
     },
     "execution_count": 33,
     "metadata": {},
     "output_type": "execute_result"
    }
   ],
   "source": [
    "confusion_test"
   ]
  },
  {
   "cell_type": "markdown",
   "metadata": {},
   "source": [
    "## KNeighborsClassifier and upsampling\n",
    "We need to find the best hyper-parameter n_neighbors in KNeighborsClassifier <br>\n",
    "There is no 'class_weight' parameter in KNeighborsClassifier, so we have to do upsampling to handle imbalanced data"
   ]
  },
  {
   "cell_type": "code",
   "execution_count": 34,
   "metadata": {},
   "outputs": [
    {
     "name": "stdout",
     "output_type": "stream",
     "text": [
      "classification accuracy on the testing set is  0.5528032\n"
     ]
    }
   ],
   "source": [
    "from sklearn.neighbors import KNeighborsClassifier\n",
    "# build a KNN Classifier with K=5 on the original dataset (X_train, Y_train)\n",
    "# test the Classifier on the test set\n",
    "# get confusion_matrix on the test set\n",
    "# get weighted_accuracy on the test set\n",
    "# your code:\n",
    "\n",
    "KNN = KNeighborsClassifier(n_neighbors = 5)\n",
    "KNN.fit(X_train, Y_train)\n",
    "\n",
    "Y_test_pred=KNN.predict(X_test)\n",
    "confusion_test=confusion_matrix(Y_test, Y_test_pred)\n",
    "acc_test=weighted_accuracy(confusion_test)\n",
    "\n",
    "#-----------------\n",
    "print('classification accuracy on the testing set is ', acc_test)\n",
    "#you will see a message like : classification accuracy on the testing set is  0.5528032"
   ]
  },
  {
   "cell_type": "code",
   "execution_count": 35,
   "metadata": {},
   "outputs": [
    {
     "name": "stdout",
     "output_type": "stream",
     "text": [
      "X_train_c1: (100824, 10)(100824,)\n",
      "X_train_new: (201648, 10)(201648,)\n"
     ]
    }
   ],
   "source": [
    "# now, do upsampling... to get X_train_new, Y_train_new\n",
    "# in this new training set, class-0 and clas-1 have equal number of samples (100824). \n",
    "# use sklearn.utils.resample\n",
    "#   like this: X_train_c1=resample(X_train[Y_train==1], n_samples=100824)\n",
    "# assemble X_train_new, Y_train_new using np.concatenate\n",
    "\n",
    "from sklearn.utils import resample\n",
    "X_train_c0=resample(X_train[Y_train==0], n_samples=100824)\n",
    "X_train_c1=resample(X_train[Y_train==1], n_samples=100824)\n",
    "X_train_new = np.concatenate((X_train_c0, X_train_c1))\n",
    "\n",
    "Y_train_c0=resample(Y_train[Y_train==0], n_samples=100824)\n",
    "Y_train_c1=resample(Y_train[Y_train==1], n_samples=100824)\n",
    "Y_train_new = np.concatenate((Y_train_c0, Y_train_c1))\n",
    "print(\"X_train_c1: \" + str(X_train_c1.shape) +  str(Y_train_c1.shape))\n",
    "print(\"X_train_new: \" + str(X_train_new.shape) +  str(Y_train_new.shape))"
   ]
  },
  {
   "cell_type": "code",
   "execution_count": 36,
   "metadata": {},
   "outputs": [
    {
     "data": {
      "text/plain": [
       "array([  1,  12,  23,  34,  45,  56,  67,  78,  89, 100])"
      ]
     },
     "execution_count": 36,
     "metadata": {},
     "output_type": "execute_result"
    }
   ],
   "source": [
    "# create an array of possible n_neighbors\n",
    "# name it n_neighbors_list\n",
    "\n",
    "n_neighbors_list = np.array([num for num in range(1, 101, 11)])\n",
    "n_neighbors_list"
   ]
  },
  {
   "cell_type": "code",
   "execution_count": 37,
   "metadata": {},
   "outputs": [
    {
     "name": "stdout",
     "output_type": "stream",
     "text": [
      "n_neighbors 1\n",
      "n_neighbors 12\n",
      "n_neighbors 23\n",
      "n_neighbors 34\n",
      "n_neighbors 45\n",
      "n_neighbors 56\n",
      "n_neighbors 67\n",
      "n_neighbors 78\n",
      "n_neighbors 89\n",
      "n_neighbors 100\n"
     ]
    }
   ],
   "source": [
    "#train a KNeighborsClassifier with n_neighbors in n_neighbors_list\n",
    "#      using X_train_new, Y_train_new\n",
    "#inside a for loop: \n",
    "#   create a model with a n_neighbors in n_neighbors_list\n",
    "#   train the model on the new training set (X_train_new, Y_train_new)\n",
    "#   record the accuracy on the training set into a list acc_train_list\n",
    "#   record the accuracy on the validation set into a list acc_val_list\n",
    "#this process is very time-consuming\n",
    "acc_train_list=[]\n",
    "acc_val_list=[]\n",
    "\n",
    "for n_neighbors in n_neighbors_list:\n",
    "    print(\"n_neighbors \" + str(n_neighbors))\n",
    "    KNN = KNeighborsClassifier(n_neighbors = n_neighbors)\n",
    "    KNN.fit(X_train_new, Y_train_new)\n",
    "    \n",
    "    Y_val_pred=KNN.predict(X_val)\n",
    "    confusion_test = confusion_matrix(Y_val, Y_val_pred)\n",
    "    acc_val=weighted_accuracy(confusion_test)\n",
    "    acc_val_list.append(acc_val)\n",
    "    \n",
    "    Y_train_pred=KNN.predict(X_train)\n",
    "    confusion_test=confusion_matrix(Y_train, Y_train_pred)\n",
    "    acc_train=weighted_accuracy(confusion_test)\n",
    "    acc_train_list.append(acc_train)\n",
    "    "
   ]
  },
  {
   "cell_type": "code",
   "execution_count": 38,
   "metadata": {},
   "outputs": [
    {
     "data": {
      "image/png": "[encoded data removed]",
      "text/plain": [
       "<Figure size 720x432 with 2 Axes>"
      ]
     },
     "metadata": {
      "needs_background": "light"
     },
     "output_type": "display_data"
    }
   ],
   "source": [
    "#plot n_neighbors vs acc_train using n_neighbors_list and acc_train_list\n",
    "#plot n_neighbors vs acc_val using n_neighbors_list and acc_val_list\n",
    "fig, ax = plt.subplots(1,2, figsize=(10,6))\n",
    "ax[0].plot(n_neighbors_list, acc_train_list, 'b')\n",
    "ax[0].set_xlabel('n_neighbors')\n",
    "ax[0].set_ylabel('training accuracy')\n",
    "ax[0].set_title('n_neighbors v.s. training accuracy')\n",
    "ax[0].grid(True)\n",
    "ax[1].plot(n_neighbors_list, acc_val_list, 'r')\n",
    "ax[1].set_xlabel('n_neighbors')\n",
    "ax[1].set_ylabel('validation accuracy')\n",
    "ax[1].set_title('n_neighbors v.s. validation accuracy')\n",
    "ax[1].grid(True)"
   ]
  },
  {
   "cell_type": "markdown",
   "metadata": {},
   "source": [
    "The trainig accuracy of KNN keeps decreasing as n_neighbors increases. <br>\n",
    "The validation accuracy of KNN keeps increasing as n_neighbors increases. <br>\n",
    "To determine the optimal n_neighbors, we may need to consider validation accuracy and model complexity: <br>\n",
    "select a small n_neighbors with high validation accuracy <br>\n",
    "We could use the \"upside-down\" elbow method: <br>\n",
    "starting from the best n_neighbors, the validation accuracy curve starts to become flat."
   ]
  },
  {
   "cell_type": "code",
   "execution_count": 44,
   "metadata": {},
   "outputs": [],
   "source": [
    "#find the best n_neighbors (good val_acc and small n_neighbors, it could be subjective)\n",
    "n_neighbors_best = 34\n",
    "\n",
    "# Based on the graphs, thr training accuracy starts to slightly flatten out at 34 whereas the validation accuracy\n",
    "# has a much smaller effect after 34 with an increading number of neighbors, only increasing by less than .02"
   ]
  },
  {
   "cell_type": "code",
   "execution_count": 45,
   "metadata": {},
   "outputs": [
    {
     "name": "stdout",
     "output_type": "stream",
     "text": [
      "classification accuracy on validation set is  0.6741035\n"
     ]
    }
   ],
   "source": [
    "#now, we use n_neighbors_best to build a KNeighborsClassifier\n",
    "#train it on the new training set and evaluate it on the testing set\n",
    "KNN = KNeighborsClassifier(n_neighbors = n_neighbors_best)\n",
    "KNN.fit(X_train_new, Y_train_new)\n",
    "\n",
    "Y_test_pred=KNN.predict(X_test)\n",
    "confusion_test=confusion_matrix(Y_test, Y_test_pred)\n",
    "acc_test=weighted_accuracy(confusion_test)\n",
    "\n",
    "print('classification accuracy on validation set is ', acc_test)"
   ]
  },
  {
   "cell_type": "markdown",
   "metadata": {},
   "source": [
    "### How to perform grid search if we need to optimize more than one hyper-parameter ?\n",
    "write down your ideas <br>\n",
    "\"-5\" points if you write nothing here"
   ]
  },
  {
   "cell_type": "code",
   "execution_count": null,
   "metadata": {},
   "outputs": [],
   "source": [
    "# First you should optimize both parameters in a wide range (10-20) individually.\n",
    "# Then, use a small range around both of those values (3-5 each) at the same time.\n",
    "\n",
    "# For our example, after finding that 30-40 n_neighbors produces good results,\n",
    "# we could then test for other optimizations using n_neighbors values of 30, 35, and 40."
   ]
  }
 ],
 "metadata": {
  "kernelspec": {
   "display_name": "Python 3",
   "language": "python",
   "name": "python3"
  },
  "language_info": {
   "codemirror_mode": {
    "name": "ipython",
    "version": 3
   },
   "file_extension": ".py",
   "mimetype": "text/x-python",
   "name": "python",
   "nbconvert_exporter": "python",
   "pygments_lexer": "ipython3",
   "version": "3.8.5"
  }
 },
 "nbformat": 4,
 "nbformat_minor": 4
}
