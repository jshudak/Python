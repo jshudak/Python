{
  "cells": [
    {
      "cell_type": "markdown",
      "metadata": {
        "id": "VvsL9f5ld1sR"
      },
      "source": [
        "## Multiclass Classification using a neural network (MLP) with Keras\n"
      ]
    },
    {
      "cell_type": "code",
      "execution_count": 1,
      "metadata": {
        "id": "wiyNzvkGd1sX"
      },
      "outputs": [],
      "source": [
        "#select GPU\n",
        "import os\n",
        "os.environ[\"CUDA_DEVICE_ORDER\"] = \"PCI_BUS_ID\"   # see issue #152\n",
        "os.environ[\"CUDA_VISIBLE_DEVICES\"] = \"0\""
      ]
    },
    {
      "cell_type": "code",
      "execution_count": 2,
      "metadata": {
        "id": "XU-N9hwFd1sZ"
      },
      "outputs": [],
      "source": [
        "from tensorflow.keras.models import Sequential\n",
        "from tensorflow.keras.layers import Dense\n",
        "from tensorflow.keras.optimizers import SGD\n",
        "from tensorflow.keras.datasets import mnist\n",
        "import matplotlib.pyplot as plt\n",
        "from IPython import display\n",
        "import numpy as np"
      ]
    },
    {
      "cell_type": "markdown",
      "metadata": {
        "id": "Sp0xWs5Vd1sa"
      },
      "source": [
        "### Load the data"
      ]
    },
    {
      "cell_type": "code",
      "execution_count": 3,
      "metadata": {
        "colab": {
          "base_uri": "https://localhost:8080/"
        },
        "id": "wnPvas0Gd1sa",
        "outputId": "1a0d3add-2307-47ba-f411-f1bdd71d293e"
      },
      "outputs": [
        {
          "output_type": "stream",
          "name": "stdout",
          "text": [
            "Downloading data from https://storage.googleapis.com/tensorflow/tf-keras-datasets/mnist.npz\n",
            "11493376/11490434 [==============================] - 0s 0us/step\n",
            "11501568/11490434 [==============================] - 0s 0us/step\n"
          ]
        }
      ],
      "source": [
        "(x_train, y_train), (x_test, y_test) = mnist.load_data()"
      ]
    },
    {
      "cell_type": "code",
      "execution_count": 4,
      "metadata": {
        "colab": {
          "base_uri": "https://localhost:8080/"
        },
        "id": "oCYs_n3Wd1sb",
        "outputId": "6c351075-94a2-4c2f-d96d-d6592f9d8c10"
      },
      "outputs": [
        {
          "output_type": "execute_result",
          "data": {
            "text/plain": [
              "(28, 28)"
            ]
          },
          "metadata": {},
          "execution_count": 4
        }
      ],
      "source": [
        "x_train[0].shape"
      ]
    },
    {
      "cell_type": "code",
      "execution_count": 5,
      "metadata": {
        "colab": {
          "base_uri": "https://localhost:8080/"
        },
        "id": "L2VmAqCQd1sc",
        "outputId": "5b2b37a8-51a2-4d4e-d856-d2ee110b979b"
      },
      "outputs": [
        {
          "output_type": "execute_result",
          "data": {
            "text/plain": [
              "255"
            ]
          },
          "metadata": {},
          "execution_count": 5
        }
      ],
      "source": [
        "x_train[0].max()"
      ]
    },
    {
      "cell_type": "code",
      "execution_count": 6,
      "metadata": {
        "colab": {
          "base_uri": "https://localhost:8080/"
        },
        "id": "56YEgxaHd1sd",
        "outputId": "3a33be68-b351-46a3-afd6-2c1b272a5585"
      },
      "outputs": [
        {
          "output_type": "stream",
          "name": "stdout",
          "text": [
            "60000 training samples\n",
            "10000 test samples\n"
          ]
        }
      ],
      "source": [
        "#reshape\n",
        "x_train = x_train.reshape(60000, 784)\n",
        "x_test = x_test.reshape(10000, 784)\n",
        "x_train = x_train.astype('float32')\n",
        "x_test = x_test.astype('float32')\n",
        "#normalize the value of every pixel into the range of 0 to 1\n",
        "x_train /= 255\n",
        "x_test /= 255\n",
        "print(x_train.shape[0], 'training samples')\n",
        "print(x_test.shape[0], 'test samples')"
      ]
    },
    {
      "cell_type": "markdown",
      "metadata": {
        "id": "s-N1KKQId1se"
      },
      "source": [
        "create a validation set"
      ]
    },
    {
      "cell_type": "code",
      "execution_count": 7,
      "metadata": {
        "colab": {
          "base_uri": "https://localhost:8080/"
        },
        "id": "6TRcebNdd1sf",
        "outputId": "49f1aba9-cc08-4dba-d223-2d6d0e41b520"
      },
      "outputs": [
        {
          "output_type": "stream",
          "name": "stdout",
          "text": [
            "train: (54000, 784) (54000,)\n",
            "validation: (6000, 784) (6000,)\n",
            "test: (10000, 784) (10000,)\n"
          ]
        }
      ],
      "source": [
        "from sklearn.model_selection import train_test_split\n",
        "x_train, x_val, y_train, y_val = train_test_split(x_train, y_train, test_size=0.1, random_state=0)\n",
        "print('train:', x_train.shape, y_train.shape)\n",
        "print('validation:', x_val.shape, y_val.shape)\n",
        "print('test:', x_test.shape, y_test.shape)"
      ]
    },
    {
      "cell_type": "markdown",
      "metadata": {
        "id": "kbFhibzzd1sf"
      },
      "source": [
        "### Show the digit images"
      ]
    },
    {
      "cell_type": "code",
      "execution_count": 8,
      "metadata": {
        "colab": {
          "base_uri": "https://localhost:8080/",
          "height": 229
        },
        "id": "vYw68Oxzd1sg",
        "outputId": "a0691b50-7ef4-4db6-8112-178073bbb5ff"
      },
      "outputs": [
        {
          "output_type": "display_data",
          "data": {
            "image/png": "[encoded data removed]",
            "text/plain": [
              "<Figure size 216x216 with 1 Axes>"
            ]
          },
          "metadata": {}
        },
        {
          "output_type": "display_data",
          "data": {
            "text/plain": [
              "<Figure size 432x288 with 0 Axes>"
            ]
          },
          "metadata": {}
        }
      ],
      "source": [
        "fig, ax = plt.subplots(figsize=(3, 3))\n",
        "for n in range(0, x_train.shape[0], 1000):\n",
        "    I = x_train[n,:].reshape(28,28)\n",
        "    ax.imshow(I, cmap='gray')\n",
        "    ax.set_title('label: ' + str(int(y_train[n])), fontsize=16)\n",
        "    ax.axis('off')\n",
        "    plt.draw()\n",
        "    display.clear_output(wait=True)\n",
        "    display.display(fig)\n",
        "    plt.pause(0.1) "
      ]
    },
    {
      "cell_type": "code",
      "execution_count": 9,
      "metadata": {
        "colab": {
          "base_uri": "https://localhost:8080/",
          "height": 283
        },
        "id": "LD5Tj9cNd1sg",
        "outputId": "c9d638d0-8c5f-4c81-da2b-b4812f6cefcb"
      },
      "outputs": [
        {
          "output_type": "execute_result",
          "data": {
            "text/plain": [
              "<matplotlib.image.AxesImage at 0x7fd7cf94be50>"
            ]
          },
          "metadata": {},
          "execution_count": 9
        },
        {
          "output_type": "display_data",
          "data": {
            "image/png": "[encoded data removed]",
            "text/plain": [
              "<Figure size 432x288 with 1 Axes>"
            ]
          },
          "metadata": {
            "needs_background": "light"
          }
        }
      ],
      "source": [
        "#the first image in the training set\n",
        "plt.imshow(x_train[0].reshape(28,28), cmap='gray')"
      ]
    },
    {
      "cell_type": "code",
      "execution_count": 10,
      "metadata": {
        "colab": {
          "base_uri": "https://localhost:8080/"
        },
        "id": "ImStn2xQd1sh",
        "outputId": "6ec5f404-cac2-4d93-9d7c-7894fb21d043"
      },
      "outputs": [
        {
          "output_type": "execute_result",
          "data": {
            "text/plain": [
              "7"
            ]
          },
          "metadata": {},
          "execution_count": 10
        }
      ],
      "source": [
        "#the class label of the first training sample\n",
        "y_train[0]"
      ]
    },
    {
      "cell_type": "markdown",
      "metadata": {
        "id": "ewk_2Iwld1si"
      },
      "source": [
        "### Define the MLP model"
      ]
    },
    {
      "cell_type": "code",
      "execution_count": 11,
      "metadata": {
        "colab": {
          "base_uri": "https://localhost:8080/"
        },
        "id": "UZ4oZSY3d1si",
        "outputId": "71b4254a-c93b-4090-aef9-a48a073758b1"
      },
      "outputs": [
        {
          "output_type": "stream",
          "name": "stdout",
          "text": [
            "Model: \"sequential\"\n",
            "_________________________________________________________________\n",
            " Layer (type)                Output Shape              Param #   \n",
            "=================================================================\n",
            " dense (Dense)               (None, 256)               200960    \n",
            "                                                                 \n",
            " dense_1 (Dense)             (None, 256)               65792     \n",
            "                                                                 \n",
            " dense_2 (Dense)             (None, 10)                2570      \n",
            "                                                                 \n",
            "=================================================================\n",
            "Total params: 269,322\n",
            "Trainable params: 269,322\n",
            "Non-trainable params: 0\n",
            "_________________________________________________________________\n"
          ]
        },
        {
          "output_type": "stream",
          "name": "stderr",
          "text": [
            "/usr/local/lib/python3.7/dist-packages/keras/optimizer_v2/gradient_descent.py:102: UserWarning: The `lr` argument is deprecated, use `learning_rate` instead.\n",
            "  super(SGD, self).__init__(name, **kwargs)\n"
          ]
        }
      ],
      "source": [
        "model = Sequential()\n",
        "model.add(Dense(units=256, activation='relu', input_shape=(784,)))\n",
        "model.add(Dense(units=256, activation='relu'))\n",
        "model.add(Dense(units=10,  activation='softmax'))\n",
        "model.compile(loss='sparse_categorical_crossentropy', optimizer=SGD(lr=0.01, momentum=0.9),\n",
        "              metrics=['accuracy'])\n",
        "model.summary()"
      ]
    },
    {
      "cell_type": "code",
      "execution_count": 12,
      "metadata": {
        "id": "WEc0bIzyd1si"
      },
      "outputs": [],
      "source": [
        "loss_train_list=[]\n",
        "loss_val_list=[]\n",
        "acc_train_list=[]\n",
        "acc_val_list=[]"
      ]
    },
    {
      "cell_type": "markdown",
      "metadata": {
        "id": "Gx1Zv0J5d1si"
      },
      "source": [
        "### Train the model"
      ]
    },
    {
      "cell_type": "code",
      "execution_count": 13,
      "metadata": {
        "scrolled": false,
        "colab": {
          "base_uri": "https://localhost:8080/"
        },
        "id": "V9MwS-_zd1sj",
        "outputId": "accdd443-80c0-486c-91ba-0188f640dbc6"
      },
      "outputs": [
        {
          "output_type": "stream",
          "name": "stdout",
          "text": [
            "epoch 0\n",
            "844/844 [==============================] - 6s 6ms/step - loss: 0.3637 - accuracy: 0.8967 - val_loss: 0.1797 - val_accuracy: 0.9457\n",
            "epoch 1\n",
            "844/844 [==============================] - 5s 6ms/step - loss: 0.1576 - accuracy: 0.9538 - val_loss: 0.1303 - val_accuracy: 0.9605\n",
            "epoch 2\n",
            "844/844 [==============================] - 5s 6ms/step - loss: 0.1101 - accuracy: 0.9673 - val_loss: 0.0951 - val_accuracy: 0.9728\n",
            "epoch 3\n",
            "844/844 [==============================] - 5s 6ms/step - loss: 0.0836 - accuracy: 0.9749 - val_loss: 0.0821 - val_accuracy: 0.9737\n",
            "epoch 4\n",
            "844/844 [==============================] - 5s 6ms/step - loss: 0.0654 - accuracy: 0.9809 - val_loss: 0.0772 - val_accuracy: 0.9770\n",
            "epoch 5\n",
            "844/844 [==============================] - 5s 6ms/step - loss: 0.0520 - accuracy: 0.9848 - val_loss: 0.0710 - val_accuracy: 0.9760\n",
            "epoch 6\n",
            "844/844 [==============================] - 5s 6ms/step - loss: 0.0428 - accuracy: 0.9875 - val_loss: 0.0734 - val_accuracy: 0.9775\n",
            "epoch 7\n",
            "844/844 [==============================] - 5s 6ms/step - loss: 0.0354 - accuracy: 0.9897 - val_loss: 0.0705 - val_accuracy: 0.9777\n",
            "epoch 8\n",
            "844/844 [==============================] - 5s 6ms/step - loss: 0.0291 - accuracy: 0.9919 - val_loss: 0.0635 - val_accuracy: 0.9805\n",
            "epoch 9\n",
            "844/844 [==============================] - 5s 6ms/step - loss: 0.0225 - accuracy: 0.9941 - val_loss: 0.0644 - val_accuracy: 0.9802\n",
            "epoch 10\n",
            "844/844 [==============================] - 5s 6ms/step - loss: 0.0187 - accuracy: 0.9955 - val_loss: 0.0694 - val_accuracy: 0.9772\n",
            "epoch 11\n",
            "844/844 [==============================] - 5s 6ms/step - loss: 0.0153 - accuracy: 0.9964 - val_loss: 0.0677 - val_accuracy: 0.9772\n",
            "epoch 12\n",
            "844/844 [==============================] - 5s 6ms/step - loss: 0.0124 - accuracy: 0.9974 - val_loss: 0.0653 - val_accuracy: 0.9797\n",
            "epoch 13\n",
            "844/844 [==============================] - 5s 6ms/step - loss: 0.0097 - accuracy: 0.9985 - val_loss: 0.0646 - val_accuracy: 0.9802\n",
            "epoch 14\n",
            "844/844 [==============================] - 5s 6ms/step - loss: 0.0075 - accuracy: 0.9989 - val_loss: 0.0667 - val_accuracy: 0.9802\n",
            "epoch 15\n",
            "844/844 [==============================] - 4s 5ms/step - loss: 0.0062 - accuracy: 0.9993 - val_loss: 0.0683 - val_accuracy: 0.9800\n",
            "epoch 16\n",
            "844/844 [==============================] - 5s 5ms/step - loss: 0.0050 - accuracy: 0.9995 - val_loss: 0.0700 - val_accuracy: 0.9802\n",
            "epoch 17\n",
            "844/844 [==============================] - 5s 6ms/step - loss: 0.0043 - accuracy: 0.9996 - val_loss: 0.0658 - val_accuracy: 0.9810\n",
            "epoch 18\n",
            "844/844 [==============================] - 5s 6ms/step - loss: 0.0036 - accuracy: 0.9998 - val_loss: 0.0663 - val_accuracy: 0.9813\n",
            "epoch 19\n",
            "844/844 [==============================] - 5s 6ms/step - loss: 0.0029 - accuracy: 0.9999 - val_loss: 0.0667 - val_accuracy: 0.9812\n"
          ]
        }
      ],
      "source": [
        "for epoch in range(0, 20):   \n",
        "    print('epoch', epoch)\n",
        "    #set epochs=1\n",
        "    history=model.fit(x_train, y_train, batch_size=64, epochs=1, validation_data=(x_val, y_val))\n",
        "    loss_train_list.extend(history.history['loss'])\n",
        "    loss_val_list.extend(history.history['val_loss'])\n",
        "    acc_train_list.extend(history.history['accuracy'])\n",
        "    acc_val_list.extend(history.history['val_accuracy'])\n",
        "    #save the model to a a HDF5 file \n",
        "    if (epoch+1)%10 == 0:\n",
        "        model.save('MLP_Keras_e'+str(epoch)+'.h5')"
      ]
    },
    {
      "cell_type": "markdown",
      "metadata": {
        "id": "1UOc-KdBd1sj"
      },
      "source": [
        "### Plot training histroy: loss vs epoch and accuracy vs epoch"
      ]
    },
    {
      "cell_type": "code",
      "execution_count": 14,
      "metadata": {
        "colab": {
          "base_uri": "https://localhost:8080/"
        },
        "id": "nGHh9Tnad1sk",
        "outputId": "170494cf-460a-49ac-d184-12ac8b4e2f33"
      },
      "outputs": [
        {
          "output_type": "execute_result",
          "data": {
            "text/plain": [
              "dict_keys(['loss', 'accuracy', 'val_loss', 'val_accuracy'])"
            ]
          },
          "metadata": {},
          "execution_count": 14
        }
      ],
      "source": [
        "history.history.keys()"
      ]
    },
    {
      "cell_type": "code",
      "execution_count": 15,
      "metadata": {
        "colab": {
          "base_uri": "https://localhost:8080/",
          "height": 393
        },
        "id": "HDRj2QI7d1sl",
        "outputId": "cf1bbf9b-9392-41cb-e798-051ec6e062f4"
      },
      "outputs": [
        {
          "output_type": "display_data",
          "data": {
            "image/png": "[encoded data removed]",
            "text/plain": [
              "<Figure size 864x432 with 2 Axes>"
            ]
          },
          "metadata": {
            "needs_background": "light"
          }
        }
      ],
      "source": [
        "fig, ax = plt.subplots(1, 2, figsize=(12,6))\n",
        "ax[0].plot(np.arange(0,len(loss_train_list)), loss_train_list, '-b', label='training loss')\n",
        "ax[0].plot(np.arange(0,len(loss_val_list)), loss_val_list, '-r', label='validation loss')\n",
        "ax[0].set_xlabel('epoch',fontsize=16)\n",
        "ax[0].legend(fontsize=16)\n",
        "ax[0].grid(True)\n",
        "ax[1].plot(np.arange(0,len(acc_train_list)), acc_train_list, '-b', label='training accuracy')\n",
        "ax[1].plot(np.arange(0,len(acc_val_list)), acc_val_list, '-r', label='validation accuracy')\n",
        "ax[1].set_xlabel('epoch',fontsize=16)\n",
        "ax[1].legend(fontsize=16)\n",
        "ax[1].grid(True)"
      ]
    },
    {
      "cell_type": "markdown",
      "metadata": {
        "id": "4LDAWMjyd1sm"
      },
      "source": [
        "after training, we load the best model"
      ]
    },
    {
      "cell_type": "code",
      "execution_count": 16,
      "metadata": {
        "id": "BxuJVce1d1sm"
      },
      "outputs": [],
      "source": [
        "from keras.models import load_model\n",
        "model = load_model('MLP_Keras_e9.h5')"
      ]
    },
    {
      "cell_type": "markdown",
      "metadata": {
        "id": "3XWWnyvgd1sm"
      },
      "source": [
        "### Test the model"
      ]
    },
    {
      "cell_type": "code",
      "execution_count": 17,
      "metadata": {
        "colab": {
          "base_uri": "https://localhost:8080/"
        },
        "id": "ir2pJ8fLd1sn",
        "outputId": "eabd31b4-61b9-4328-e8cb-cc20f352651a"
      },
      "outputs": [
        {
          "output_type": "execute_result",
          "data": {
            "text/plain": [
              "(10000, 784)"
            ]
          },
          "metadata": {},
          "execution_count": 17
        }
      ],
      "source": [
        "x_test.shape"
      ]
    },
    {
      "cell_type": "code",
      "execution_count": 18,
      "metadata": {
        "colab": {
          "base_uri": "https://localhost:8080/"
        },
        "id": "UhXWD53wd1sn",
        "outputId": "0a98bfb0-4d0c-4614-e9a3-a37018469660"
      },
      "outputs": [
        {
          "output_type": "execute_result",
          "data": {
            "text/plain": [
              "(10000,)"
            ]
          },
          "metadata": {},
          "execution_count": 18
        }
      ],
      "source": [
        "y_test.shape"
      ]
    },
    {
      "cell_type": "code",
      "execution_count": 19,
      "metadata": {
        "colab": {
          "base_uri": "https://localhost:8080/"
        },
        "id": "-7FtcQLBd1sn",
        "outputId": "5e480c22-0f16-460d-e324-314fb43aed3b"
      },
      "outputs": [
        {
          "output_type": "stream",
          "name": "stdout",
          "text": [
            "Test loss: 0.06664402782917023\n",
            "Test accuracy: 0.978600025177002\n"
          ]
        }
      ],
      "source": [
        "score = model.evaluate(x_test, y_test, batch_size=64, verbose=0)\n",
        "print('Test loss:', score[0])\n",
        "print('Test accuracy:', score[1])"
      ]
    },
    {
      "cell_type": "markdown",
      "metadata": {
        "id": "pdsE1iOTd1sn"
      },
      "source": [
        "### Make Prediction on the test set"
      ]
    },
    {
      "cell_type": "code",
      "execution_count": 20,
      "metadata": {
        "id": "S07EJCz_d1sn"
      },
      "outputs": [],
      "source": [
        "y_test_pred=model.predict(x_test, batch_size=64)"
      ]
    },
    {
      "cell_type": "code",
      "execution_count": 21,
      "metadata": {
        "colab": {
          "base_uri": "https://localhost:8080/",
          "height": 283
        },
        "id": "wMjjUCqQd1sn",
        "outputId": "84cab840-e5a9-4a01-d2c4-f2b1aeacedda"
      },
      "outputs": [
        {
          "output_type": "execute_result",
          "data": {
            "text/plain": [
              "<matplotlib.image.AxesImage at 0x7fd7cfaaff90>"
            ]
          },
          "metadata": {},
          "execution_count": 21
        },
        {
          "output_type": "display_data",
          "data": {
            "image/png": "[encoded data removed]",
            "text/plain": [
              "<Figure size 432x288 with 1 Axes>"
            ]
          },
          "metadata": {
            "needs_background": "light"
          }
        }
      ],
      "source": [
        "#the first image in the test set\n",
        "plt.imshow(x_test[0].reshape(28,28), cmap='gray')"
      ]
    },
    {
      "cell_type": "code",
      "execution_count": 22,
      "metadata": {
        "colab": {
          "base_uri": "https://localhost:8080/"
        },
        "id": "6x5Tx_FMd1so",
        "outputId": "0f638016-6a5a-4eba-9e7a-2e9338764302"
      },
      "outputs": [
        {
          "output_type": "execute_result",
          "data": {
            "text/plain": [
              "array([2.3877824e-08, 2.4232346e-08, 5.8057858e-06, 4.9841208e-05,\n",
              "       6.0472911e-11, 2.9817767e-07, 5.3744650e-13, 9.9994111e-01,\n",
              "       9.3856505e-07, 1.9277620e-06], dtype=float32)"
            ]
          },
          "metadata": {},
          "execution_count": 22
        }
      ],
      "source": [
        "y_test_pred[0]"
      ]
    },
    {
      "cell_type": "code",
      "execution_count": 23,
      "metadata": {
        "colab": {
          "base_uri": "https://localhost:8080/"
        },
        "id": "uNn7aSLhd1so",
        "outputId": "ad7913c1-ff69-4497-a60f-21a83645cec5"
      },
      "outputs": [
        {
          "output_type": "execute_result",
          "data": {
            "text/plain": [
              "7"
            ]
          },
          "metadata": {},
          "execution_count": 23
        }
      ],
      "source": [
        "np.argmax(y_test_pred[0])"
      ]
    },
    {
      "cell_type": "code",
      "execution_count": 24,
      "metadata": {
        "colab": {
          "base_uri": "https://localhost:8080/"
        },
        "id": "GW91eAi9d1so",
        "outputId": "f7fd8d42-1a94-4829-b2ad-c8ead90e7950"
      },
      "outputs": [
        {
          "output_type": "execute_result",
          "data": {
            "text/plain": [
              "7"
            ]
          },
          "metadata": {},
          "execution_count": 24
        }
      ],
      "source": [
        "y_test[0]"
      ]
    },
    {
      "cell_type": "code",
      "execution_count": 25,
      "metadata": {
        "colab": {
          "base_uri": "https://localhost:8080/"
        },
        "id": "igfknLNGd1so",
        "outputId": "30e62e76-1ee3-41dc-96f0-6352e3201d4a"
      },
      "outputs": [
        {
          "output_type": "execute_result",
          "data": {
            "text/plain": [
              "0"
            ]
          },
          "metadata": {},
          "execution_count": 25
        }
      ],
      "source": [
        "np.argmax(y_test[0])"
      ]
    },
    {
      "cell_type": "markdown",
      "metadata": {
        "id": "s-aafkq3d1so"
      },
      "source": [
        "## Make Prediction on an image from the user"
      ]
    },
    {
      "cell_type": "code",
      "execution_count": 26,
      "metadata": {
        "colab": {
          "base_uri": "https://localhost:8080/"
        },
        "id": "hVYTDJ6Kd1sp",
        "outputId": "5f6cb975-d6ab-4a27-b540-5f973496a293"
      },
      "outputs": [
        {
          "output_type": "execute_result",
          "data": {
            "text/plain": [
              "(30, 27)"
            ]
          },
          "metadata": {},
          "execution_count": 26
        }
      ],
      "source": [
        "# load  the image digit_a\n",
        "from skimage.io import imread\n",
        "from skimage.color import rgb2gray\n",
        "I=imread('digit_a.bmp')\n",
        "I=rgb2gray(I)\n",
        "I.shape"
      ]
    },
    {
      "cell_type": "code",
      "execution_count": 27,
      "metadata": {
        "colab": {
          "base_uri": "https://localhost:8080/",
          "height": 283
        },
        "id": "DwJgLJcvd1sp",
        "outputId": "93e87e01-9aa5-451a-e6f8-acc306816803"
      },
      "outputs": [
        {
          "output_type": "execute_result",
          "data": {
            "text/plain": [
              "<matplotlib.image.AxesImage at 0x7fd7caef53d0>"
            ]
          },
          "metadata": {},
          "execution_count": 27
        },
        {
          "output_type": "display_data",
          "data": {
            "image/png": "[encoded data removed]",
            "text/plain": [
              "<Figure size 432x288 with 1 Axes>"
            ]
          },
          "metadata": {
            "needs_background": "light"
          }
        }
      ],
      "source": [
        "plt.imshow(I, cmap='gray')"
      ]
    },
    {
      "cell_type": "code",
      "execution_count": 28,
      "metadata": {
        "colab": {
          "base_uri": "https://localhost:8080/"
        },
        "id": "90F4UXJfd1sp",
        "outputId": "4696d88e-e8a5-469b-9cd6-5eb391385f15"
      },
      "outputs": [
        {
          "output_type": "execute_result",
          "data": {
            "text/plain": [
              "(28, 28)"
            ]
          },
          "metadata": {},
          "execution_count": 28
        }
      ],
      "source": [
        "#resize the image to 28x28\n",
        "from skimage.transform import resize\n",
        "x=resize(I, [28,28])\n",
        "x.shape"
      ]
    },
    {
      "cell_type": "code",
      "execution_count": 29,
      "metadata": {
        "colab": {
          "base_uri": "https://localhost:8080/"
        },
        "id": "Jc-_et1kd1sp",
        "outputId": "766478cb-44fc-4385-ae39-3a8261eeed1e"
      },
      "outputs": [
        {
          "output_type": "execute_result",
          "data": {
            "text/plain": [
              "1.0"
            ]
          },
          "metadata": {},
          "execution_count": 29
        }
      ],
      "source": [
        "x.max()"
      ]
    },
    {
      "cell_type": "code",
      "execution_count": 30,
      "metadata": {
        "colab": {
          "base_uri": "https://localhost:8080/"
        },
        "id": "4F7hrp07d1sp",
        "outputId": "d6147f65-4c1d-43fb-a0f7-f81a0d5cff89"
      },
      "outputs": [
        {
          "output_type": "stream",
          "name": "stdout",
          "text": [
            "the predicted class label is  9\n"
          ]
        }
      ],
      "source": [
        "y_pred=model.predict(x.reshape(1,784))\n",
        "print('the predicted class label is ', np.argmax(y_pred[0]))"
      ]
    },
    {
      "cell_type": "code",
      "execution_count": 30,
      "metadata": {
        "id": "L1jt1Aaid1sp"
      },
      "outputs": [],
      "source": [
        ""
      ]
    }
  ],
  "metadata": {
    "kernelspec": {
      "display_name": "Python 3",
      "language": "python",
      "name": "python3"
    },
    "language_info": {
      "codemirror_mode": {
        "name": "ipython",
        "version": 3
      },
      "file_extension": ".py",
      "mimetype": "text/x-python",
      "name": "python",
      "nbconvert_exporter": "python",
      "pygments_lexer": "ipython3",
      "version": "3.8.3"
    },
    "colab": {
      "name": "MLP_Keras.ipynb",
      "provenance": [],
      "collapsed_sections": []
    }
  },
  "nbformat": 4,
  "nbformat_minor": 0
}